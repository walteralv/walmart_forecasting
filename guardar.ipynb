{
 "cells": [
  {
   "cell_type": "code",
   "execution_count": null,
   "metadata": {},
   "outputs": [],
   "source": [
    "from sklearn.ensemble import RandomForestClassifier\n",
    "from sklearn.datasets import load_iris\n",
    "from sklearn.model_selection import train_test_split\n",
    "import joblib\n",
    "\n",
    "# Ejemplo con un modelo de clasificación\n",
    "iris = load_iris()\n",
    "X, y = iris.data, iris.target\n",
    "X_train, X_test, y_train, y_test = train_test_split(X, y, test_size=0.3, random_state=42)\n",
    "\n",
    "# Entrenar el modelo\n",
    "model = RandomForestClassifier()\n",
    "model.fit(X_train, y_train)\n",
    "\n",
    "# Guardar el modelo\n",
    "joblib.dump(model, 'modelo_random_forest.joblib')"
   ]
  },
  {
   "cell_type": "code",
   "execution_count": null,
   "metadata": {},
   "outputs": [],
   "source": [
    "# Cargar el modelo\n",
    "modelo_cargado = joblib.load('modelo_random_forest.joblib')\n",
    "\n",
    "# Usar el modelo para hacer predicciones\n",
    "y_pred = modelo_cargado.predict(X_test)\n",
    "print(y_pred)"
   ]
  },
  {
   "cell_type": "code",
   "execution_count": null,
   "metadata": {},
   "outputs": [],
   "source": [
    "import pickle\n",
    "\n",
    "# Guardar el modelo\n",
    "with open('modelo_random_forest.pkl', 'wb') as archivo:\n",
    "    pickle.dump(model, archivo)\n",
    "\n",
    "# Cargar el modelo\n",
    "with open('modelo_random_forest.pkl', 'rb') as archivo:\n",
    "    modelo_cargado = pickle.load(archivo)\n",
    "\n",
    "# Usar el modelo para hacer predicciones\n",
    "y_pred = modelo_cargado.predict(X_test)\n",
    "print(y_pred)"
   ]
  }
 ],
 "metadata": {
  "language_info": {
   "name": "python"
  }
 },
 "nbformat": 4,
 "nbformat_minor": 2
}
