{
 "cells": [
  {
   "cell_type": "code",
   "execution_count": 2,
   "metadata": {},
   "outputs": [],
   "source": [
    "import numpy as np \n",
    "import matplotlib.pyplot as plt \n",
    "import plotly.io as pio\n",
    "import plotly.express as px\n",
    "import pandas as pd \n",
    "from tqdm import tqdm\n",
    "# sistema operativo\n",
    "import os \n",
    "from pathlib import Path\n",
    "import zipfile"
   ]
  },
  {
   "cell_type": "code",
   "execution_count": 3,
   "metadata": {},
   "outputs": [],
   "source": [
    "zip_path = \"./walmart-recruiting-store-sales-forecasting.zip\"\n",
    "extract_dir = \"./walmart_dataset\"\n",
    "\n",
    "def extract_dataset(zip_path: str, extract_dir: str):\n",
    "    if not os.path.exists(zip_path):\n",
    "        print(f\"El archivo {zip_path} no existe.\")\n",
    "        return None\n",
    "    if not os.path.exists(extract_dir):\n",
    "        print(f\"La carpeta de destino {extract_dir} no existe. Creando la carpeta... 🫡\")\n",
    "        os.makedirs(extract_dir, exist_ok=True)\n",
    "    with zipfile.ZipFile(zip_path, \"r\") as zip_ref:\n",
    "        zip_ref.extractall(extract_dir)\n",
    "    print(f\"Archivo extraído en: {extract_dir} 🫣\")"
   ]
  },
  {
   "cell_type": "code",
   "execution_count": 4,
   "metadata": {},
   "outputs": [],
   "source": [
    "# Para los archivos zip\n",
    "def download_dataset():\n",
    "    def format(df, columna_date):\n",
    "        df[columna_date] = pd.to_datetime(df[columna_date], yearfirst=True)\n",
    "        df.set_index(columna_date, inplace=True)\n",
    "        df.sort_values(columna_date, ascending=True, inplace=True)\n",
    "        return df\n",
    "\n",
    "    try:\n",
    "        zip_path = \"./walmart-recruiting-store-sales-forecasting.zip\"\n",
    "        extract_dir = \"./walmart_dataset\"\n",
    "        extract_dataset(zip_path , extract_dir)\n",
    "        zip_path = \"./walmart_dataset/features.csv.zip\"\n",
    "        extract_dir = \"./walmart_dataset\"\n",
    "        extract_dataset(zip_path , extract_dir)\n",
    "        zip_path = \"./walmart_dataset/sampleSubmission.csv.zip\"\n",
    "        extract_dir = \"./walmart_dataset\"\n",
    "        extract_dataset(zip_path , extract_dir)\n",
    "        zip_path = \"./walmart_dataset/test.csv.zip\"\n",
    "        extract_dir = \"./walmart_dataset\"\n",
    "        extract_dataset(zip_path , extract_dir)\n",
    "        zip_path = \"./walmart_dataset/train.csv.zip\"\n",
    "        extract_dir = \"./walmart_dataset\"\n",
    "        extract_dataset(zip_path , extract_dir)\n",
    "\n",
    "        #Para dataframes\n",
    "        features_df = pd.read_csv(\"./walmart_dataset/features.csv\", date_format=False)\n",
    "        stores_df = pd.read_csv(\"./walmart_dataset/stores.csv\", date_format=False)\n",
    "        test_df = pd.read_csv(\"./walmart_dataset/test.csv\", date_format=False)\n",
    "        train_df = pd.read_csv(\"./walmart_dataset/train.csv\", date_format=False)\n",
    "        print(\"dataset descargado con éxito :)\")\n",
    "        train_df = format(train_df, \"Date\")\n",
    "        test_df = format(test_df, \"Date\")\n",
    "        features_df = format(features_df, \"Date\")\n",
    "        print(\"dataset formateado :)\")\n",
    "        return features_df, stores_df, test_df, train_df\n",
    "    except Exception as e:\n",
    "        print(\"no s epudo descargar :(\")\n",
    "        return None, None, None, None\n",
    "    "
   ]
  },
  {
   "cell_type": "code",
   "execution_count": 5,
   "metadata": {},
   "outputs": [
    {
     "name": "stdout",
     "output_type": "stream",
     "text": [
      "El archivo ./walmart-recruiting-store-sales-forecasting.zip no existe.\n",
      "El archivo ./walmart_dataset/features.csv.zip no existe.\n",
      "El archivo ./walmart_dataset/sampleSubmission.csv.zip no existe.\n",
      "El archivo ./walmart_dataset/test.csv.zip no existe.\n",
      "El archivo ./walmart_dataset/train.csv.zip no existe.\n",
      "dataset descargado con éxito :)\n",
      "dataset formateado :)\n"
     ]
    }
   ],
   "source": [
    "features_df, stores_df, test_df, train_df = download_dataset()"
   ]
  },
  {
   "cell_type": "code",
   "execution_count": 6,
   "metadata": {},
   "outputs": [
    {
     "data": {
      "text/html": [
       "<div>\n",
       "<style scoped>\n",
       "    .dataframe tbody tr th:only-of-type {\n",
       "        vertical-align: middle;\n",
       "    }\n",
       "\n",
       "    .dataframe tbody tr th {\n",
       "        vertical-align: top;\n",
       "    }\n",
       "\n",
       "    .dataframe thead th {\n",
       "        text-align: right;\n",
       "    }\n",
       "</style>\n",
       "<table border=\"1\" class=\"dataframe\">\n",
       "  <thead>\n",
       "    <tr style=\"text-align: right;\">\n",
       "      <th></th>\n",
       "      <th>Store</th>\n",
       "      <th>Type</th>\n",
       "      <th>Size</th>\n",
       "    </tr>\n",
       "  </thead>\n",
       "  <tbody>\n",
       "    <tr>\n",
       "      <th>0</th>\n",
       "      <td>1</td>\n",
       "      <td>A</td>\n",
       "      <td>151315</td>\n",
       "    </tr>\n",
       "    <tr>\n",
       "      <th>1</th>\n",
       "      <td>2</td>\n",
       "      <td>A</td>\n",
       "      <td>202307</td>\n",
       "    </tr>\n",
       "    <tr>\n",
       "      <th>2</th>\n",
       "      <td>3</td>\n",
       "      <td>B</td>\n",
       "      <td>37392</td>\n",
       "    </tr>\n",
       "    <tr>\n",
       "      <th>3</th>\n",
       "      <td>4</td>\n",
       "      <td>A</td>\n",
       "      <td>205863</td>\n",
       "    </tr>\n",
       "    <tr>\n",
       "      <th>4</th>\n",
       "      <td>5</td>\n",
       "      <td>B</td>\n",
       "      <td>34875</td>\n",
       "    </tr>\n",
       "  </tbody>\n",
       "</table>\n",
       "</div>"
      ],
      "text/plain": [
       "   Store Type    Size\n",
       "0      1    A  151315\n",
       "1      2    A  202307\n",
       "2      3    B   37392\n",
       "3      4    A  205863\n",
       "4      5    B   34875"
      ]
     },
     "execution_count": 6,
     "metadata": {},
     "output_type": "execute_result"
    }
   ],
   "source": [
    "stores_df.head()"
   ]
  },
  {
   "cell_type": "code",
   "execution_count": 7,
   "metadata": {},
   "outputs": [
    {
     "data": {
      "text/html": [
       "<div>\n",
       "<style scoped>\n",
       "    .dataframe tbody tr th:only-of-type {\n",
       "        vertical-align: middle;\n",
       "    }\n",
       "\n",
       "    .dataframe tbody tr th {\n",
       "        vertical-align: top;\n",
       "    }\n",
       "\n",
       "    .dataframe thead th {\n",
       "        text-align: right;\n",
       "    }\n",
       "</style>\n",
       "<table border=\"1\" class=\"dataframe\">\n",
       "  <thead>\n",
       "    <tr style=\"text-align: right;\">\n",
       "      <th></th>\n",
       "      <th>Store</th>\n",
       "      <th>Temperature</th>\n",
       "      <th>Fuel_Price</th>\n",
       "      <th>MarkDown1</th>\n",
       "      <th>MarkDown2</th>\n",
       "      <th>MarkDown3</th>\n",
       "      <th>MarkDown4</th>\n",
       "      <th>MarkDown5</th>\n",
       "      <th>CPI</th>\n",
       "      <th>Unemployment</th>\n",
       "      <th>IsHoliday</th>\n",
       "    </tr>\n",
       "    <tr>\n",
       "      <th>Date</th>\n",
       "      <th></th>\n",
       "      <th></th>\n",
       "      <th></th>\n",
       "      <th></th>\n",
       "      <th></th>\n",
       "      <th></th>\n",
       "      <th></th>\n",
       "      <th></th>\n",
       "      <th></th>\n",
       "      <th></th>\n",
       "      <th></th>\n",
       "    </tr>\n",
       "  </thead>\n",
       "  <tbody>\n",
       "    <tr>\n",
       "      <th>2010-02-05</th>\n",
       "      <td>1</td>\n",
       "      <td>42.31</td>\n",
       "      <td>2.572</td>\n",
       "      <td>NaN</td>\n",
       "      <td>NaN</td>\n",
       "      <td>NaN</td>\n",
       "      <td>NaN</td>\n",
       "      <td>NaN</td>\n",
       "      <td>211.096358</td>\n",
       "      <td>8.106</td>\n",
       "      <td>False</td>\n",
       "    </tr>\n",
       "    <tr>\n",
       "      <th>2010-02-05</th>\n",
       "      <td>16</td>\n",
       "      <td>19.79</td>\n",
       "      <td>2.580</td>\n",
       "      <td>NaN</td>\n",
       "      <td>NaN</td>\n",
       "      <td>NaN</td>\n",
       "      <td>NaN</td>\n",
       "      <td>NaN</td>\n",
       "      <td>189.381697</td>\n",
       "      <td>7.039</td>\n",
       "      <td>False</td>\n",
       "    </tr>\n",
       "    <tr>\n",
       "      <th>2010-02-05</th>\n",
       "      <td>31</td>\n",
       "      <td>39.05</td>\n",
       "      <td>2.572</td>\n",
       "      <td>NaN</td>\n",
       "      <td>NaN</td>\n",
       "      <td>NaN</td>\n",
       "      <td>NaN</td>\n",
       "      <td>NaN</td>\n",
       "      <td>210.752605</td>\n",
       "      <td>8.324</td>\n",
       "      <td>False</td>\n",
       "    </tr>\n",
       "    <tr>\n",
       "      <th>2010-02-05</th>\n",
       "      <td>21</td>\n",
       "      <td>39.05</td>\n",
       "      <td>2.572</td>\n",
       "      <td>NaN</td>\n",
       "      <td>NaN</td>\n",
       "      <td>NaN</td>\n",
       "      <td>NaN</td>\n",
       "      <td>NaN</td>\n",
       "      <td>210.752605</td>\n",
       "      <td>8.324</td>\n",
       "      <td>False</td>\n",
       "    </tr>\n",
       "    <tr>\n",
       "      <th>2010-02-05</th>\n",
       "      <td>26</td>\n",
       "      <td>9.55</td>\n",
       "      <td>2.788</td>\n",
       "      <td>NaN</td>\n",
       "      <td>NaN</td>\n",
       "      <td>NaN</td>\n",
       "      <td>NaN</td>\n",
       "      <td>NaN</td>\n",
       "      <td>131.527903</td>\n",
       "      <td>8.488</td>\n",
       "      <td>False</td>\n",
       "    </tr>\n",
       "  </tbody>\n",
       "</table>\n",
       "</div>"
      ],
      "text/plain": [
       "            Store  Temperature  Fuel_Price  MarkDown1  MarkDown2  MarkDown3  \\\n",
       "Date                                                                          \n",
       "2010-02-05      1        42.31       2.572        NaN        NaN        NaN   \n",
       "2010-02-05     16        19.79       2.580        NaN        NaN        NaN   \n",
       "2010-02-05     31        39.05       2.572        NaN        NaN        NaN   \n",
       "2010-02-05     21        39.05       2.572        NaN        NaN        NaN   \n",
       "2010-02-05     26         9.55       2.788        NaN        NaN        NaN   \n",
       "\n",
       "            MarkDown4  MarkDown5         CPI  Unemployment  IsHoliday  \n",
       "Date                                                                   \n",
       "2010-02-05        NaN        NaN  211.096358         8.106      False  \n",
       "2010-02-05        NaN        NaN  189.381697         7.039      False  \n",
       "2010-02-05        NaN        NaN  210.752605         8.324      False  \n",
       "2010-02-05        NaN        NaN  210.752605         8.324      False  \n",
       "2010-02-05        NaN        NaN  131.527903         8.488      False  "
      ]
     },
     "execution_count": 7,
     "metadata": {},
     "output_type": "execute_result"
    }
   ],
   "source": [
    "features_df.head()"
   ]
  },
  {
   "cell_type": "code",
   "execution_count": 8,
   "metadata": {},
   "outputs": [
    {
     "data": {
      "text/html": [
       "<div>\n",
       "<style scoped>\n",
       "    .dataframe tbody tr th:only-of-type {\n",
       "        vertical-align: middle;\n",
       "    }\n",
       "\n",
       "    .dataframe tbody tr th {\n",
       "        vertical-align: top;\n",
       "    }\n",
       "\n",
       "    .dataframe thead th {\n",
       "        text-align: right;\n",
       "    }\n",
       "</style>\n",
       "<table border=\"1\" class=\"dataframe\">\n",
       "  <thead>\n",
       "    <tr style=\"text-align: right;\">\n",
       "      <th></th>\n",
       "      <th>Store</th>\n",
       "      <th>Dept</th>\n",
       "      <th>IsHoliday</th>\n",
       "    </tr>\n",
       "    <tr>\n",
       "      <th>Date</th>\n",
       "      <th></th>\n",
       "      <th></th>\n",
       "      <th></th>\n",
       "    </tr>\n",
       "  </thead>\n",
       "  <tbody>\n",
       "    <tr>\n",
       "      <th>2012-11-02</th>\n",
       "      <td>1</td>\n",
       "      <td>1</td>\n",
       "      <td>False</td>\n",
       "    </tr>\n",
       "    <tr>\n",
       "      <th>2012-11-02</th>\n",
       "      <td>19</td>\n",
       "      <td>10</td>\n",
       "      <td>False</td>\n",
       "    </tr>\n",
       "    <tr>\n",
       "      <th>2012-11-02</th>\n",
       "      <td>16</td>\n",
       "      <td>55</td>\n",
       "      <td>False</td>\n",
       "    </tr>\n",
       "    <tr>\n",
       "      <th>2012-11-02</th>\n",
       "      <td>22</td>\n",
       "      <td>18</td>\n",
       "      <td>False</td>\n",
       "    </tr>\n",
       "    <tr>\n",
       "      <th>2012-11-02</th>\n",
       "      <td>25</td>\n",
       "      <td>16</td>\n",
       "      <td>False</td>\n",
       "    </tr>\n",
       "  </tbody>\n",
       "</table>\n",
       "</div>"
      ],
      "text/plain": [
       "            Store  Dept  IsHoliday\n",
       "Date                              \n",
       "2012-11-02      1     1      False\n",
       "2012-11-02     19    10      False\n",
       "2012-11-02     16    55      False\n",
       "2012-11-02     22    18      False\n",
       "2012-11-02     25    16      False"
      ]
     },
     "execution_count": 8,
     "metadata": {},
     "output_type": "execute_result"
    }
   ],
   "source": [
    "\n",
    "\n",
    "\n",
    "\n",
    "\n",
    "test_df.head()"
   ]
  },
  {
   "cell_type": "code",
   "execution_count": 9,
   "metadata": {},
   "outputs": [
    {
     "name": "stdout",
     "output_type": "stream",
     "text": [
      "Fecha Inicio 2012-11-02 00:00:00 y fecha Fin 2013-07-26 00:00:00\n"
     ]
    }
   ],
   "source": [
    "print(f\"Fecha Inicio {test_df.index.min()} y fecha Fin {test_df.index.max()}\")"
   ]
  },
  {
   "cell_type": "code",
   "execution_count": 10,
   "metadata": {},
   "outputs": [
    {
     "data": {
      "text/html": [
       "<div>\n",
       "<style scoped>\n",
       "    .dataframe tbody tr th:only-of-type {\n",
       "        vertical-align: middle;\n",
       "    }\n",
       "\n",
       "    .dataframe tbody tr th {\n",
       "        vertical-align: top;\n",
       "    }\n",
       "\n",
       "    .dataframe thead th {\n",
       "        text-align: right;\n",
       "    }\n",
       "</style>\n",
       "<table border=\"1\" class=\"dataframe\">\n",
       "  <thead>\n",
       "    <tr style=\"text-align: right;\">\n",
       "      <th></th>\n",
       "      <th>Store</th>\n",
       "      <th>Dept</th>\n",
       "      <th>Weekly_Sales</th>\n",
       "      <th>IsHoliday</th>\n",
       "    </tr>\n",
       "    <tr>\n",
       "      <th>Date</th>\n",
       "      <th></th>\n",
       "      <th></th>\n",
       "      <th></th>\n",
       "      <th></th>\n",
       "    </tr>\n",
       "  </thead>\n",
       "  <tbody>\n",
       "    <tr>\n",
       "      <th>2010-02-05</th>\n",
       "      <td>1</td>\n",
       "      <td>1</td>\n",
       "      <td>24924.50</td>\n",
       "      <td>False</td>\n",
       "    </tr>\n",
       "    <tr>\n",
       "      <th>2010-02-05</th>\n",
       "      <td>29</td>\n",
       "      <td>5</td>\n",
       "      <td>15552.08</td>\n",
       "      <td>False</td>\n",
       "    </tr>\n",
       "    <tr>\n",
       "      <th>2010-02-05</th>\n",
       "      <td>29</td>\n",
       "      <td>6</td>\n",
       "      <td>3200.22</td>\n",
       "      <td>False</td>\n",
       "    </tr>\n",
       "    <tr>\n",
       "      <th>2010-02-05</th>\n",
       "      <td>29</td>\n",
       "      <td>7</td>\n",
       "      <td>10820.05</td>\n",
       "      <td>False</td>\n",
       "    </tr>\n",
       "    <tr>\n",
       "      <th>2010-02-05</th>\n",
       "      <td>29</td>\n",
       "      <td>8</td>\n",
       "      <td>20055.64</td>\n",
       "      <td>False</td>\n",
       "    </tr>\n",
       "  </tbody>\n",
       "</table>\n",
       "</div>"
      ],
      "text/plain": [
       "            Store  Dept  Weekly_Sales  IsHoliday\n",
       "Date                                            \n",
       "2010-02-05      1     1      24924.50      False\n",
       "2010-02-05     29     5      15552.08      False\n",
       "2010-02-05     29     6       3200.22      False\n",
       "2010-02-05     29     7      10820.05      False\n",
       "2010-02-05     29     8      20055.64      False"
      ]
     },
     "execution_count": 10,
     "metadata": {},
     "output_type": "execute_result"
    }
   ],
   "source": [
    "train_df.head()"
   ]
  },
  {
   "cell_type": "code",
   "execution_count": 11,
   "metadata": {},
   "outputs": [
    {
     "name": "stdout",
     "output_type": "stream",
     "text": [
      "Fecha Inicio 2010-02-05 00:00:00 y fecha Fin 2012-10-26 00:00:00\n"
     ]
    }
   ],
   "source": [
    "print(f\"Fecha Inicio {train_df.index.min()} y fecha Fin {train_df.index.max()}\")"
   ]
  },
  {
   "cell_type": "code",
   "execution_count": 12,
   "metadata": {},
   "outputs": [
    {
     "name": "stdout",
     "output_type": "stream",
     "text": [
      "Fecha Inicio 2012-11-02 00:00:00 y fecha Fin 2013-07-26 00:00:00\n"
     ]
    }
   ],
   "source": [
    "print(f\"Fecha Inicio {test_df.index.min()} y fecha Fin {test_df.index.max()}\")"
   ]
  },
  {
   "cell_type": "code",
   "execution_count": 13,
   "metadata": {},
   "outputs": [],
   "source": [
    "data_df = train_df"
   ]
  },
  {
   "cell_type": "code",
   "execution_count": 14,
   "metadata": {},
   "outputs": [
    {
     "name": "stdout",
     "output_type": "stream",
     "text": [
      "Fecha Inicio 2010-02-05 00:00:00 y fecha Fin 2012-10-26 00:00:00\n"
     ]
    }
   ],
   "source": [
    "print(f\"Fecha Inicio {data_df.index.min()} y fecha Fin {data_df.index.max()}\")"
   ]
  },
  {
   "cell_type": "code",
   "execution_count": 15,
   "metadata": {},
   "outputs": [],
   "source": [
    "# Este es el dataset para la tienda 1 y el departamento 1\n",
    "# aqui tengo la serie de tiempo solo para estos\n",
    "dataset = data_df[(data_df[\"Dept\"] == 1) & (data_df[\"Store\"] == 1)]\n",
    "dataset = dataset[[\"Weekly_Sales\"]]"
   ]
  },
  {
   "cell_type": "code",
   "execution_count": 16,
   "metadata": {},
   "outputs": [
    {
     "data": {
      "text/html": [
       "<div>\n",
       "<style scoped>\n",
       "    .dataframe tbody tr th:only-of-type {\n",
       "        vertical-align: middle;\n",
       "    }\n",
       "\n",
       "    .dataframe tbody tr th {\n",
       "        vertical-align: top;\n",
       "    }\n",
       "\n",
       "    .dataframe thead th {\n",
       "        text-align: right;\n",
       "    }\n",
       "</style>\n",
       "<table border=\"1\" class=\"dataframe\">\n",
       "  <thead>\n",
       "    <tr style=\"text-align: right;\">\n",
       "      <th></th>\n",
       "      <th>Weekly_Sales</th>\n",
       "    </tr>\n",
       "    <tr>\n",
       "      <th>Date</th>\n",
       "      <th></th>\n",
       "    </tr>\n",
       "  </thead>\n",
       "  <tbody>\n",
       "    <tr>\n",
       "      <th>2010-02-05</th>\n",
       "      <td>24924.50</td>\n",
       "    </tr>\n",
       "    <tr>\n",
       "      <th>2010-02-12</th>\n",
       "      <td>46039.49</td>\n",
       "    </tr>\n",
       "    <tr>\n",
       "      <th>2010-02-19</th>\n",
       "      <td>41595.55</td>\n",
       "    </tr>\n",
       "    <tr>\n",
       "      <th>2010-02-26</th>\n",
       "      <td>19403.54</td>\n",
       "    </tr>\n",
       "    <tr>\n",
       "      <th>2010-03-05</th>\n",
       "      <td>21827.90</td>\n",
       "    </tr>\n",
       "    <tr>\n",
       "      <th>...</th>\n",
       "      <td>...</td>\n",
       "    </tr>\n",
       "    <tr>\n",
       "      <th>2012-09-28</th>\n",
       "      <td>18947.81</td>\n",
       "    </tr>\n",
       "    <tr>\n",
       "      <th>2012-10-05</th>\n",
       "      <td>21904.47</td>\n",
       "    </tr>\n",
       "    <tr>\n",
       "      <th>2012-10-12</th>\n",
       "      <td>22764.01</td>\n",
       "    </tr>\n",
       "    <tr>\n",
       "      <th>2012-10-19</th>\n",
       "      <td>24185.27</td>\n",
       "    </tr>\n",
       "    <tr>\n",
       "      <th>2012-10-26</th>\n",
       "      <td>27390.81</td>\n",
       "    </tr>\n",
       "  </tbody>\n",
       "</table>\n",
       "<p>143 rows × 1 columns</p>\n",
       "</div>"
      ],
      "text/plain": [
       "            Weekly_Sales\n",
       "Date                    \n",
       "2010-02-05      24924.50\n",
       "2010-02-12      46039.49\n",
       "2010-02-19      41595.55\n",
       "2010-02-26      19403.54\n",
       "2010-03-05      21827.90\n",
       "...                  ...\n",
       "2012-09-28      18947.81\n",
       "2012-10-05      21904.47\n",
       "2012-10-12      22764.01\n",
       "2012-10-19      24185.27\n",
       "2012-10-26      27390.81\n",
       "\n",
       "[143 rows x 1 columns]"
      ]
     },
     "execution_count": 16,
     "metadata": {},
     "output_type": "execute_result"
    }
   ],
   "source": [
    "dataset"
   ]
  },
  {
   "cell_type": "code",
   "execution_count": 17,
   "metadata": {},
   "outputs": [],
   "source": [
    "# Dividir\n",
    "# train_dataset = Fecha Inicio 2010-02-05 00:00:00 y fecha Fin 2012-09-25 00:00:00 \n",
    "# test_dataset = Fecha Inicio 2012-09-26 00:00:00 y fecha Fin 2012-10-26 00:00:00 \n",
    "# summit =  Fecha Inicio 2012-11-02 00:00:00 y fecha Fin 2013-07-26 00:00:00\n",
    "\n",
    "# evaluarlos\n",
    "# hacer plots\n",
    "# ver autocorrelacion\n",
    "# aplicar un test\n",
    "# aplicar todos los modelos y pruebas\n",
    "# obtener la matriz final"
   ]
  }
 ],
 "metadata": {
  "kernelspec": {
   "display_name": "Python 3 (ipykernel)",
   "language": "python",
   "name": "python3"
  },
  "language_info": {
   "codemirror_mode": {
    "name": "ipython",
    "version": 3
   },
   "file_extension": ".py",
   "mimetype": "text/x-python",
   "name": "python",
   "nbconvert_exporter": "python",
   "pygments_lexer": "ipython3",
   "version": "3.12.1"
  }
 },
 "nbformat": 4,
 "nbformat_minor": 2
}
