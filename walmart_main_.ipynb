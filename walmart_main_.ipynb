{
 "cells": [
  {
   "cell_type": "code",
   "execution_count": 1,
   "metadata": {},
   "outputs": [],
   "source": [
    "from sklearn.preprocessing import LabelBinarizer\n",
    "from sklearn.impute import SimpleImputer\n",
    "from sklearn.preprocessing import MinMaxScaler\n",
    "from sklearn.preprocessing import OneHotEncoder"
   ]
  },
  {
   "cell_type": "code",
   "execution_count": 2,
   "metadata": {},
   "outputs": [],
   "source": [
    "import numpy as np\n",
    "import pandas as pd"
   ]
  },
  {
   "cell_type": "code",
   "execution_count": 3,
   "metadata": {},
   "outputs": [],
   "source": [
    "import matplotlib.pyplot as plt \n",
    "import plotly.io as pio\n",
    "import plotly.express as px\n",
    "import plotly.graph_objs as go\n",
    "import seaborn as sns"
   ]
  },
  {
   "cell_type": "code",
   "execution_count": 4,
   "metadata": {},
   "outputs": [],
   "source": [
    "from walmart_utils.download import download_dataset\n",
    "from walmart_utils.merge_data import merge_data, dedupe\n",
    "from walmart_utils.feature_engineering import (\n",
    "    add_calendar_features, sum_markdown, add_holiday,\n",
    "    add_memory_feature\n",
    ")\n",
    "from walmart_utils.exploratory_analysis import view_data_horizon"
   ]
  },
  {
   "cell_type": "markdown",
   "metadata": {},
   "source": [
    "## **1. Data Preprocessing**"
   ]
  },
  {
   "cell_type": "code",
   "execution_count": 5,
   "metadata": {},
   "outputs": [],
   "source": [
    "zip_path = \"./walmart-recruiting-store-sales-forecasting.zip\"\n",
    "extract_dir = \"./walmart_dataset\""
   ]
  },
  {
   "cell_type": "code",
   "execution_count": 6,
   "metadata": {},
   "outputs": [
    {
     "name": "stdout",
     "output_type": "stream",
     "text": [
      "Archivo extraído en: ./walmart_dataset 🫣\n",
      "Archivo extraído en: ./walmart_dataset 🫣\n",
      "Archivo extraído en: ./walmart_dataset 🫣\n",
      "Archivo extraído en: ./walmart_dataset 🫣\n",
      "Archivo extraído en: ./walmart_dataset 🫣\n",
      "dataset descargado con éxito :)\n",
      "dataset formateado :)\n"
     ]
    }
   ],
   "source": [
    "features_df, stores_df, test_df, train_df = download_dataset()"
   ]
  },
  {
   "cell_type": "code",
   "execution_count": 7,
   "metadata": {},
   "outputs": [
    {
     "name": "stdout",
     "output_type": "stream",
     "text": [
      "Train shape:  (421570, 5)\n",
      "Test shape:  (115064, 5)\n",
      "Feaures shape:  (8190, 12)\n",
      "Stores shape:  (45, 3)\n"
     ]
    }
   ],
   "source": [
    "print(\"Train shape: \", train_df.shape)\n",
    "print(\"Test shape: \", test_df.shape)\n",
    "print(\"Feaures shape: \", features_df.shape)\n",
    "print(\"Stores shape: \", stores_df.shape)"
   ]
  },
  {
   "cell_type": "code",
   "execution_count": 8,
   "metadata": {},
   "outputs": [],
   "source": [
    "# Create Unique ID to create indices and streamline submissions\n",
    "train_df['UID'] = (train_df.Store.astype(str)) + '_' +(train_df.Dept.astype(str)) + '_' + (train_df.Date.astype(str))\n",
    "test_df['UID'] = (test_df.Store.astype(str)) + '_' +(test_df.Dept.astype(str)) + '_' + (test_df.Date.astype(str))\n",
    "\n",
    "train_df['IsTrain'] = True\n",
    "test_df['IsTrain'] = False"
   ]
  },
  {
   "cell_type": "code",
   "execution_count": 9,
   "metadata": {},
   "outputs": [
    {
     "data": {
      "text/html": [
       "<div>\n",
       "<style scoped>\n",
       "    .dataframe tbody tr th:only-of-type {\n",
       "        vertical-align: middle;\n",
       "    }\n",
       "\n",
       "    .dataframe tbody tr th {\n",
       "        vertical-align: top;\n",
       "    }\n",
       "\n",
       "    .dataframe thead th {\n",
       "        text-align: right;\n",
       "    }\n",
       "</style>\n",
       "<table border=\"1\" class=\"dataframe\">\n",
       "  <thead>\n",
       "    <tr style=\"text-align: right;\">\n",
       "      <th></th>\n",
       "      <th>Store</th>\n",
       "      <th>Dept</th>\n",
       "      <th>Date</th>\n",
       "      <th>Weekly_Sales</th>\n",
       "      <th>IsHoliday</th>\n",
       "      <th>UID</th>\n",
       "      <th>IsTrain</th>\n",
       "    </tr>\n",
       "  </thead>\n",
       "  <tbody>\n",
       "    <tr>\n",
       "      <th>0</th>\n",
       "      <td>1</td>\n",
       "      <td>1</td>\n",
       "      <td>2010-02-05</td>\n",
       "      <td>24924.50</td>\n",
       "      <td>False</td>\n",
       "      <td>1_1_2010-02-05</td>\n",
       "      <td>True</td>\n",
       "    </tr>\n",
       "    <tr>\n",
       "      <th>1</th>\n",
       "      <td>1</td>\n",
       "      <td>1</td>\n",
       "      <td>2010-02-12</td>\n",
       "      <td>46039.49</td>\n",
       "      <td>True</td>\n",
       "      <td>1_1_2010-02-12</td>\n",
       "      <td>True</td>\n",
       "    </tr>\n",
       "    <tr>\n",
       "      <th>2</th>\n",
       "      <td>1</td>\n",
       "      <td>1</td>\n",
       "      <td>2010-02-19</td>\n",
       "      <td>41595.55</td>\n",
       "      <td>False</td>\n",
       "      <td>1_1_2010-02-19</td>\n",
       "      <td>True</td>\n",
       "    </tr>\n",
       "    <tr>\n",
       "      <th>3</th>\n",
       "      <td>1</td>\n",
       "      <td>1</td>\n",
       "      <td>2010-02-26</td>\n",
       "      <td>19403.54</td>\n",
       "      <td>False</td>\n",
       "      <td>1_1_2010-02-26</td>\n",
       "      <td>True</td>\n",
       "    </tr>\n",
       "    <tr>\n",
       "      <th>4</th>\n",
       "      <td>1</td>\n",
       "      <td>1</td>\n",
       "      <td>2010-03-05</td>\n",
       "      <td>21827.90</td>\n",
       "      <td>False</td>\n",
       "      <td>1_1_2010-03-05</td>\n",
       "      <td>True</td>\n",
       "    </tr>\n",
       "    <tr>\n",
       "      <th>...</th>\n",
       "      <td>...</td>\n",
       "      <td>...</td>\n",
       "      <td>...</td>\n",
       "      <td>...</td>\n",
       "      <td>...</td>\n",
       "      <td>...</td>\n",
       "      <td>...</td>\n",
       "    </tr>\n",
       "    <tr>\n",
       "      <th>138</th>\n",
       "      <td>1</td>\n",
       "      <td>1</td>\n",
       "      <td>2012-09-28</td>\n",
       "      <td>18947.81</td>\n",
       "      <td>False</td>\n",
       "      <td>1_1_2012-09-28</td>\n",
       "      <td>True</td>\n",
       "    </tr>\n",
       "    <tr>\n",
       "      <th>139</th>\n",
       "      <td>1</td>\n",
       "      <td>1</td>\n",
       "      <td>2012-10-05</td>\n",
       "      <td>21904.47</td>\n",
       "      <td>False</td>\n",
       "      <td>1_1_2012-10-05</td>\n",
       "      <td>True</td>\n",
       "    </tr>\n",
       "    <tr>\n",
       "      <th>140</th>\n",
       "      <td>1</td>\n",
       "      <td>1</td>\n",
       "      <td>2012-10-12</td>\n",
       "      <td>22764.01</td>\n",
       "      <td>False</td>\n",
       "      <td>1_1_2012-10-12</td>\n",
       "      <td>True</td>\n",
       "    </tr>\n",
       "    <tr>\n",
       "      <th>141</th>\n",
       "      <td>1</td>\n",
       "      <td>1</td>\n",
       "      <td>2012-10-19</td>\n",
       "      <td>24185.27</td>\n",
       "      <td>False</td>\n",
       "      <td>1_1_2012-10-19</td>\n",
       "      <td>True</td>\n",
       "    </tr>\n",
       "    <tr>\n",
       "      <th>142</th>\n",
       "      <td>1</td>\n",
       "      <td>1</td>\n",
       "      <td>2012-10-26</td>\n",
       "      <td>27390.81</td>\n",
       "      <td>False</td>\n",
       "      <td>1_1_2012-10-26</td>\n",
       "      <td>True</td>\n",
       "    </tr>\n",
       "  </tbody>\n",
       "</table>\n",
       "<p>143 rows × 7 columns</p>\n",
       "</div>"
      ],
      "text/plain": [
       "     Store  Dept       Date  Weekly_Sales  IsHoliday             UID  IsTrain\n",
       "0        1     1 2010-02-05      24924.50      False  1_1_2010-02-05     True\n",
       "1        1     1 2010-02-12      46039.49       True  1_1_2010-02-12     True\n",
       "2        1     1 2010-02-19      41595.55      False  1_1_2010-02-19     True\n",
       "3        1     1 2010-02-26      19403.54      False  1_1_2010-02-26     True\n",
       "4        1     1 2010-03-05      21827.90      False  1_1_2010-03-05     True\n",
       "..     ...   ...        ...           ...        ...             ...      ...\n",
       "138      1     1 2012-09-28      18947.81      False  1_1_2012-09-28     True\n",
       "139      1     1 2012-10-05      21904.47      False  1_1_2012-10-05     True\n",
       "140      1     1 2012-10-12      22764.01      False  1_1_2012-10-12     True\n",
       "141      1     1 2012-10-19      24185.27      False  1_1_2012-10-19     True\n",
       "142      1     1 2012-10-26      27390.81      False  1_1_2012-10-26     True\n",
       "\n",
       "[143 rows x 7 columns]"
      ]
     },
     "execution_count": 9,
     "metadata": {},
     "output_type": "execute_result"
    }
   ],
   "source": [
    "train_df[(train_df[\"Store\"]==1) & (train_df[\"Dept\"]==1)]"
   ]
  },
  {
   "cell_type": "code",
   "execution_count": 10,
   "metadata": {},
   "outputs": [],
   "source": [
    "def features_info():\n",
    "    display(\"Información de features: (^◕.◕^) 😼\")\n",
    "    display(features_df.info())\n",
    "    display(\"Información de stores: ( •̀ ω •́ )✧ 🫡\")\n",
    "    display(stores_df.info())\n",
    "    display(\"Información de train: ヾ(•ω•`)o 🥺\")\n",
    "    display(train_df.info())\n",
    "    display(\"Información de test: ╰(*°▽°*)╯ 🫣\")\n",
    "    display(test_df.info())\n",
    "    return \"all!\""
   ]
  },
  {
   "cell_type": "code",
   "execution_count": 11,
   "metadata": {},
   "outputs": [
    {
     "data": {
      "text/plain": [
       "'Información de features: (^◕.◕^) 😼'"
      ]
     },
     "metadata": {},
     "output_type": "display_data"
    },
    {
     "name": "stdout",
     "output_type": "stream",
     "text": [
      "<class 'pandas.core.frame.DataFrame'>\n",
      "Index: 8190 entries, 0 to 8189\n",
      "Data columns (total 12 columns):\n",
      " #   Column        Non-Null Count  Dtype         \n",
      "---  ------        --------------  -----         \n",
      " 0   Store         8190 non-null   int64         \n",
      " 1   Date          8190 non-null   datetime64[ns]\n",
      " 2   Temperature   8190 non-null   float64       \n",
      " 3   Fuel_Price    8190 non-null   float64       \n",
      " 4   MarkDown1     4032 non-null   float64       \n",
      " 5   MarkDown2     2921 non-null   float64       \n",
      " 6   MarkDown3     3613 non-null   float64       \n",
      " 7   MarkDown4     3464 non-null   float64       \n",
      " 8   MarkDown5     4050 non-null   float64       \n",
      " 9   CPI           7605 non-null   float64       \n",
      " 10  Unemployment  7605 non-null   float64       \n",
      " 11  IsHoliday     8190 non-null   bool          \n",
      "dtypes: bool(1), datetime64[ns](1), float64(9), int64(1)\n",
      "memory usage: 775.8 KB\n"
     ]
    },
    {
     "data": {
      "text/plain": [
       "None"
      ]
     },
     "metadata": {},
     "output_type": "display_data"
    },
    {
     "data": {
      "text/plain": [
       "'Información de stores: ( •̀ ω •́ )✧ 🫡'"
      ]
     },
     "metadata": {},
     "output_type": "display_data"
    },
    {
     "name": "stdout",
     "output_type": "stream",
     "text": [
      "<class 'pandas.core.frame.DataFrame'>\n",
      "RangeIndex: 45 entries, 0 to 44\n",
      "Data columns (total 3 columns):\n",
      " #   Column  Non-Null Count  Dtype \n",
      "---  ------  --------------  ----- \n",
      " 0   Store   45 non-null     int64 \n",
      " 1   Type    45 non-null     object\n",
      " 2   Size    45 non-null     int64 \n",
      "dtypes: int64(2), object(1)\n",
      "memory usage: 1.2+ KB\n"
     ]
    },
    {
     "data": {
      "text/plain": [
       "None"
      ]
     },
     "metadata": {},
     "output_type": "display_data"
    },
    {
     "data": {
      "text/plain": [
       "'Información de train: ヾ(•ω•`)o 🥺'"
      ]
     },
     "metadata": {},
     "output_type": "display_data"
    },
    {
     "name": "stdout",
     "output_type": "stream",
     "text": [
      "<class 'pandas.core.frame.DataFrame'>\n",
      "Index: 421570 entries, 0 to 421569\n",
      "Data columns (total 7 columns):\n",
      " #   Column        Non-Null Count   Dtype         \n",
      "---  ------        --------------   -----         \n",
      " 0   Store         421570 non-null  int64         \n",
      " 1   Dept          421570 non-null  int64         \n",
      " 2   Date          421570 non-null  datetime64[ns]\n",
      " 3   Weekly_Sales  421570 non-null  float64       \n",
      " 4   IsHoliday     421570 non-null  bool          \n",
      " 5   UID           421570 non-null  object        \n",
      " 6   IsTrain       421570 non-null  bool          \n",
      "dtypes: bool(2), datetime64[ns](1), float64(1), int64(2), object(1)\n",
      "memory usage: 20.1+ MB\n"
     ]
    },
    {
     "data": {
      "text/plain": [
       "None"
      ]
     },
     "metadata": {},
     "output_type": "display_data"
    },
    {
     "data": {
      "text/plain": [
       "'Información de test: ╰(*°▽°*)╯ 🫣'"
      ]
     },
     "metadata": {},
     "output_type": "display_data"
    },
    {
     "name": "stdout",
     "output_type": "stream",
     "text": [
      "<class 'pandas.core.frame.DataFrame'>\n",
      "Index: 115064 entries, 0 to 115063\n",
      "Data columns (total 7 columns):\n",
      " #   Column        Non-Null Count   Dtype         \n",
      "---  ------        --------------   -----         \n",
      " 0   Store         115064 non-null  int64         \n",
      " 1   Dept          115064 non-null  int64         \n",
      " 2   Date          115064 non-null  datetime64[ns]\n",
      " 3   IsHoliday     115064 non-null  bool          \n",
      " 4   Weekly_Sales  115064 non-null  int64         \n",
      " 5   UID           115064 non-null  object        \n",
      " 6   IsTrain       115064 non-null  bool          \n",
      "dtypes: bool(2), datetime64[ns](1), int64(3), object(1)\n",
      "memory usage: 5.5+ MB\n"
     ]
    },
    {
     "data": {
      "text/plain": [
       "None"
      ]
     },
     "metadata": {},
     "output_type": "display_data"
    },
    {
     "data": {
      "text/plain": [
       "'all!'"
      ]
     },
     "execution_count": 11,
     "metadata": {},
     "output_type": "execute_result"
    }
   ],
   "source": [
    "features_info()"
   ]
  },
  {
   "cell_type": "markdown",
   "metadata": {},
   "source": [
    "Merging stores and features data frames with train and test data with pandas merge."
   ]
  },
  {
   "cell_type": "code",
   "execution_count": 12,
   "metadata": {},
   "outputs": [],
   "source": [
    "data = merge_data(train_df, test_df, stores_df, features_df)"
   ]
  },
  {
   "cell_type": "code",
   "execution_count": 13,
   "metadata": {},
   "outputs": [],
   "source": [
    "data = data.drop(labels=\"IsHoliday_y\", axis=1)\n",
    "data[\"IsHoliday\"] = data[\"IsHoliday_x\"]\n",
    "data = data.drop(labels=\"IsHoliday_x\", axis=1)"
   ]
  },
  {
   "cell_type": "code",
   "execution_count": 14,
   "metadata": {},
   "outputs": [
    {
     "data": {
      "text/html": [
       "<div>\n",
       "<style scoped>\n",
       "    .dataframe tbody tr th:only-of-type {\n",
       "        vertical-align: middle;\n",
       "    }\n",
       "\n",
       "    .dataframe tbody tr th {\n",
       "        vertical-align: top;\n",
       "    }\n",
       "\n",
       "    .dataframe thead th {\n",
       "        text-align: right;\n",
       "    }\n",
       "</style>\n",
       "<table border=\"1\" class=\"dataframe\">\n",
       "  <thead>\n",
       "    <tr style=\"text-align: right;\">\n",
       "      <th></th>\n",
       "      <th>Store</th>\n",
       "      <th>Dept</th>\n",
       "      <th>Date</th>\n",
       "      <th>Weekly_Sales</th>\n",
       "      <th>UID</th>\n",
       "      <th>IsTrain</th>\n",
       "      <th>Type</th>\n",
       "      <th>Size</th>\n",
       "      <th>Temperature</th>\n",
       "      <th>Fuel_Price</th>\n",
       "      <th>MarkDown1</th>\n",
       "      <th>MarkDown2</th>\n",
       "      <th>MarkDown3</th>\n",
       "      <th>MarkDown4</th>\n",
       "      <th>MarkDown5</th>\n",
       "      <th>CPI</th>\n",
       "      <th>Unemployment</th>\n",
       "      <th>IsHoliday</th>\n",
       "    </tr>\n",
       "  </thead>\n",
       "  <tbody>\n",
       "    <tr>\n",
       "      <th>0</th>\n",
       "      <td>1</td>\n",
       "      <td>1</td>\n",
       "      <td>2010-02-05</td>\n",
       "      <td>24924.50</td>\n",
       "      <td>1_1_2010-02-05</td>\n",
       "      <td>True</td>\n",
       "      <td>A</td>\n",
       "      <td>151315</td>\n",
       "      <td>42.31</td>\n",
       "      <td>2.572</td>\n",
       "      <td>NaN</td>\n",
       "      <td>NaN</td>\n",
       "      <td>NaN</td>\n",
       "      <td>NaN</td>\n",
       "      <td>NaN</td>\n",
       "      <td>211.096358</td>\n",
       "      <td>8.106</td>\n",
       "      <td>False</td>\n",
       "    </tr>\n",
       "    <tr>\n",
       "      <th>5747</th>\n",
       "      <td>1</td>\n",
       "      <td>1</td>\n",
       "      <td>2010-02-12</td>\n",
       "      <td>46039.49</td>\n",
       "      <td>1_1_2010-02-12</td>\n",
       "      <td>True</td>\n",
       "      <td>A</td>\n",
       "      <td>151315</td>\n",
       "      <td>38.51</td>\n",
       "      <td>2.548</td>\n",
       "      <td>NaN</td>\n",
       "      <td>NaN</td>\n",
       "      <td>NaN</td>\n",
       "      <td>NaN</td>\n",
       "      <td>NaN</td>\n",
       "      <td>211.242170</td>\n",
       "      <td>8.106</td>\n",
       "      <td>True</td>\n",
       "    </tr>\n",
       "    <tr>\n",
       "      <th>6829</th>\n",
       "      <td>1</td>\n",
       "      <td>1</td>\n",
       "      <td>2010-02-19</td>\n",
       "      <td>41595.55</td>\n",
       "      <td>1_1_2010-02-19</td>\n",
       "      <td>True</td>\n",
       "      <td>A</td>\n",
       "      <td>151315</td>\n",
       "      <td>39.93</td>\n",
       "      <td>2.514</td>\n",
       "      <td>NaN</td>\n",
       "      <td>NaN</td>\n",
       "      <td>NaN</td>\n",
       "      <td>NaN</td>\n",
       "      <td>NaN</td>\n",
       "      <td>211.289143</td>\n",
       "      <td>8.106</td>\n",
       "      <td>False</td>\n",
       "    </tr>\n",
       "  </tbody>\n",
       "</table>\n",
       "</div>"
      ],
      "text/plain": [
       "      Store  Dept       Date  Weekly_Sales             UID  IsTrain Type  \\\n",
       "0         1     1 2010-02-05      24924.50  1_1_2010-02-05     True    A   \n",
       "5747      1     1 2010-02-12      46039.49  1_1_2010-02-12     True    A   \n",
       "6829      1     1 2010-02-19      41595.55  1_1_2010-02-19     True    A   \n",
       "\n",
       "        Size  Temperature  Fuel_Price  MarkDown1  MarkDown2  MarkDown3  \\\n",
       "0     151315        42.31       2.572        NaN        NaN        NaN   \n",
       "5747  151315        38.51       2.548        NaN        NaN        NaN   \n",
       "6829  151315        39.93       2.514        NaN        NaN        NaN   \n",
       "\n",
       "      MarkDown4  MarkDown5         CPI  Unemployment  IsHoliday  \n",
       "0           NaN        NaN  211.096358         8.106      False  \n",
       "5747        NaN        NaN  211.242170         8.106       True  \n",
       "6829        NaN        NaN  211.289143         8.106      False  "
      ]
     },
     "execution_count": 14,
     "metadata": {},
     "output_type": "execute_result"
    }
   ],
   "source": [
    "data.head(3)"
   ]
  },
  {
   "cell_type": "markdown",
   "metadata": {},
   "source": [
    "Converting boolean features to 0s and 1s"
   ]
  },
  {
   "cell_type": "code",
   "execution_count": 15,
   "metadata": {},
   "outputs": [],
   "source": [
    "lb_IsHoliday = LabelBinarizer()\n",
    "data[\"IsHoliday\"] = lb_IsHoliday.fit_transform(data[\"IsHoliday\"])"
   ]
  },
  {
   "cell_type": "code",
   "execution_count": 16,
   "metadata": {},
   "outputs": [
    {
     "data": {
      "text/plain": [
       "0        0\n",
       "5747     1\n",
       "6829     0\n",
       "11698    0\n",
       "12681    0\n",
       "Name: IsHoliday, dtype: int32"
      ]
     },
     "execution_count": 16,
     "metadata": {},
     "output_type": "execute_result"
    }
   ],
   "source": [
    "data[\"IsHoliday\"].head(5)"
   ]
  },
  {
   "cell_type": "markdown",
   "metadata": {},
   "source": [
    "Checking for missing/nan values"
   ]
  },
  {
   "cell_type": "code",
   "execution_count": 17,
   "metadata": {},
   "outputs": [
    {
     "name": "stdout",
     "output_type": "stream",
     "text": [
      "<class 'pandas.core.frame.DataFrame'>\n",
      "Index: 536634 entries, 0 to 536633\n",
      "Data columns (total 18 columns):\n",
      " #   Column        Non-Null Count   Dtype         \n",
      "---  ------        --------------   -----         \n",
      " 0   Store         536634 non-null  int64         \n",
      " 1   Dept          536634 non-null  int64         \n",
      " 2   Date          536634 non-null  datetime64[ns]\n",
      " 3   Weekly_Sales  536634 non-null  float64       \n",
      " 4   UID           536634 non-null  object        \n",
      " 5   IsTrain       536634 non-null  bool          \n",
      " 6   Type          536634 non-null  object        \n",
      " 7   Size          536634 non-null  int64         \n",
      " 8   Temperature   536634 non-null  float64       \n",
      " 9   Fuel_Price    536634 non-null  float64       \n",
      " 10  MarkDown1     265596 non-null  float64       \n",
      " 11  MarkDown2     197685 non-null  float64       \n",
      " 12  MarkDown3     242326 non-null  float64       \n",
      " 13  MarkDown4     237143 non-null  float64       \n",
      " 14  MarkDown5     266496 non-null  float64       \n",
      " 15  CPI           498472 non-null  float64       \n",
      " 16  Unemployment  498472 non-null  float64       \n",
      " 17  IsHoliday     536634 non-null  int32         \n",
      "dtypes: bool(1), datetime64[ns](1), float64(10), int32(1), int64(3), object(2)\n",
      "memory usage: 72.2+ MB\n"
     ]
    }
   ],
   "source": [
    "data.info()"
   ]
  },
  {
   "cell_type": "markdown",
   "metadata": {},
   "source": [
    "The only features with missing values are MarkDown(1–5) which are anonymized data related to promotional markdowns that Walmart is running. MarkDown data is only available after Nov 2011 and is not available for all stores all the time. Any missing value is marked with an NA. I have replaced the nan values in these columns with 0."
   ]
  },
  {
   "cell_type": "code",
   "execution_count": 18,
   "metadata": {},
   "outputs": [
    {
     "data": {
      "text/html": [
       "<style>#sk-container-id-1 {\n",
       "  /* Definition of color scheme common for light and dark mode */\n",
       "  --sklearn-color-text: black;\n",
       "  --sklearn-color-line: gray;\n",
       "  /* Definition of color scheme for unfitted estimators */\n",
       "  --sklearn-color-unfitted-level-0: #fff5e6;\n",
       "  --sklearn-color-unfitted-level-1: #f6e4d2;\n",
       "  --sklearn-color-unfitted-level-2: #ffe0b3;\n",
       "  --sklearn-color-unfitted-level-3: chocolate;\n",
       "  /* Definition of color scheme for fitted estimators */\n",
       "  --sklearn-color-fitted-level-0: #f0f8ff;\n",
       "  --sklearn-color-fitted-level-1: #d4ebff;\n",
       "  --sklearn-color-fitted-level-2: #b3dbfd;\n",
       "  --sklearn-color-fitted-level-3: cornflowerblue;\n",
       "\n",
       "  /* Specific color for light theme */\n",
       "  --sklearn-color-text-on-default-background: var(--sg-text-color, var(--theme-code-foreground, var(--jp-content-font-color1, black)));\n",
       "  --sklearn-color-background: var(--sg-background-color, var(--theme-background, var(--jp-layout-color0, white)));\n",
       "  --sklearn-color-border-box: var(--sg-text-color, var(--theme-code-foreground, var(--jp-content-font-color1, black)));\n",
       "  --sklearn-color-icon: #696969;\n",
       "\n",
       "  @media (prefers-color-scheme: dark) {\n",
       "    /* Redefinition of color scheme for dark theme */\n",
       "    --sklearn-color-text-on-default-background: var(--sg-text-color, var(--theme-code-foreground, var(--jp-content-font-color1, white)));\n",
       "    --sklearn-color-background: var(--sg-background-color, var(--theme-background, var(--jp-layout-color0, #111)));\n",
       "    --sklearn-color-border-box: var(--sg-text-color, var(--theme-code-foreground, var(--jp-content-font-color1, white)));\n",
       "    --sklearn-color-icon: #878787;\n",
       "  }\n",
       "}\n",
       "\n",
       "#sk-container-id-1 {\n",
       "  color: var(--sklearn-color-text);\n",
       "}\n",
       "\n",
       "#sk-container-id-1 pre {\n",
       "  padding: 0;\n",
       "}\n",
       "\n",
       "#sk-container-id-1 input.sk-hidden--visually {\n",
       "  border: 0;\n",
       "  clip: rect(1px 1px 1px 1px);\n",
       "  clip: rect(1px, 1px, 1px, 1px);\n",
       "  height: 1px;\n",
       "  margin: -1px;\n",
       "  overflow: hidden;\n",
       "  padding: 0;\n",
       "  position: absolute;\n",
       "  width: 1px;\n",
       "}\n",
       "\n",
       "#sk-container-id-1 div.sk-dashed-wrapped {\n",
       "  border: 1px dashed var(--sklearn-color-line);\n",
       "  margin: 0 0.4em 0.5em 0.4em;\n",
       "  box-sizing: border-box;\n",
       "  padding-bottom: 0.4em;\n",
       "  background-color: var(--sklearn-color-background);\n",
       "}\n",
       "\n",
       "#sk-container-id-1 div.sk-container {\n",
       "  /* jupyter's `normalize.less` sets `[hidden] { display: none; }`\n",
       "     but bootstrap.min.css set `[hidden] { display: none !important; }`\n",
       "     so we also need the `!important` here to be able to override the\n",
       "     default hidden behavior on the sphinx rendered scikit-learn.org.\n",
       "     See: https://github.com/scikit-learn/scikit-learn/issues/21755 */\n",
       "  display: inline-block !important;\n",
       "  position: relative;\n",
       "}\n",
       "\n",
       "#sk-container-id-1 div.sk-text-repr-fallback {\n",
       "  display: none;\n",
       "}\n",
       "\n",
       "div.sk-parallel-item,\n",
       "div.sk-serial,\n",
       "div.sk-item {\n",
       "  /* draw centered vertical line to link estimators */\n",
       "  background-image: linear-gradient(var(--sklearn-color-text-on-default-background), var(--sklearn-color-text-on-default-background));\n",
       "  background-size: 2px 100%;\n",
       "  background-repeat: no-repeat;\n",
       "  background-position: center center;\n",
       "}\n",
       "\n",
       "/* Parallel-specific style estimator block */\n",
       "\n",
       "#sk-container-id-1 div.sk-parallel-item::after {\n",
       "  content: \"\";\n",
       "  width: 100%;\n",
       "  border-bottom: 2px solid var(--sklearn-color-text-on-default-background);\n",
       "  flex-grow: 1;\n",
       "}\n",
       "\n",
       "#sk-container-id-1 div.sk-parallel {\n",
       "  display: flex;\n",
       "  align-items: stretch;\n",
       "  justify-content: center;\n",
       "  background-color: var(--sklearn-color-background);\n",
       "  position: relative;\n",
       "}\n",
       "\n",
       "#sk-container-id-1 div.sk-parallel-item {\n",
       "  display: flex;\n",
       "  flex-direction: column;\n",
       "}\n",
       "\n",
       "#sk-container-id-1 div.sk-parallel-item:first-child::after {\n",
       "  align-self: flex-end;\n",
       "  width: 50%;\n",
       "}\n",
       "\n",
       "#sk-container-id-1 div.sk-parallel-item:last-child::after {\n",
       "  align-self: flex-start;\n",
       "  width: 50%;\n",
       "}\n",
       "\n",
       "#sk-container-id-1 div.sk-parallel-item:only-child::after {\n",
       "  width: 0;\n",
       "}\n",
       "\n",
       "/* Serial-specific style estimator block */\n",
       "\n",
       "#sk-container-id-1 div.sk-serial {\n",
       "  display: flex;\n",
       "  flex-direction: column;\n",
       "  align-items: center;\n",
       "  background-color: var(--sklearn-color-background);\n",
       "  padding-right: 1em;\n",
       "  padding-left: 1em;\n",
       "}\n",
       "\n",
       "\n",
       "/* Toggleable style: style used for estimator/Pipeline/ColumnTransformer box that is\n",
       "clickable and can be expanded/collapsed.\n",
       "- Pipeline and ColumnTransformer use this feature and define the default style\n",
       "- Estimators will overwrite some part of the style using the `sk-estimator` class\n",
       "*/\n",
       "\n",
       "/* Pipeline and ColumnTransformer style (default) */\n",
       "\n",
       "#sk-container-id-1 div.sk-toggleable {\n",
       "  /* Default theme specific background. It is overwritten whether we have a\n",
       "  specific estimator or a Pipeline/ColumnTransformer */\n",
       "  background-color: var(--sklearn-color-background);\n",
       "}\n",
       "\n",
       "/* Toggleable label */\n",
       "#sk-container-id-1 label.sk-toggleable__label {\n",
       "  cursor: pointer;\n",
       "  display: block;\n",
       "  width: 100%;\n",
       "  margin-bottom: 0;\n",
       "  padding: 0.5em;\n",
       "  box-sizing: border-box;\n",
       "  text-align: center;\n",
       "}\n",
       "\n",
       "#sk-container-id-1 label.sk-toggleable__label-arrow:before {\n",
       "  /* Arrow on the left of the label */\n",
       "  content: \"▸\";\n",
       "  float: left;\n",
       "  margin-right: 0.25em;\n",
       "  color: var(--sklearn-color-icon);\n",
       "}\n",
       "\n",
       "#sk-container-id-1 label.sk-toggleable__label-arrow:hover:before {\n",
       "  color: var(--sklearn-color-text);\n",
       "}\n",
       "\n",
       "/* Toggleable content - dropdown */\n",
       "\n",
       "#sk-container-id-1 div.sk-toggleable__content {\n",
       "  max-height: 0;\n",
       "  max-width: 0;\n",
       "  overflow: hidden;\n",
       "  text-align: left;\n",
       "  /* unfitted */\n",
       "  background-color: var(--sklearn-color-unfitted-level-0);\n",
       "}\n",
       "\n",
       "#sk-container-id-1 div.sk-toggleable__content.fitted {\n",
       "  /* fitted */\n",
       "  background-color: var(--sklearn-color-fitted-level-0);\n",
       "}\n",
       "\n",
       "#sk-container-id-1 div.sk-toggleable__content pre {\n",
       "  margin: 0.2em;\n",
       "  border-radius: 0.25em;\n",
       "  color: var(--sklearn-color-text);\n",
       "  /* unfitted */\n",
       "  background-color: var(--sklearn-color-unfitted-level-0);\n",
       "}\n",
       "\n",
       "#sk-container-id-1 div.sk-toggleable__content.fitted pre {\n",
       "  /* unfitted */\n",
       "  background-color: var(--sklearn-color-fitted-level-0);\n",
       "}\n",
       "\n",
       "#sk-container-id-1 input.sk-toggleable__control:checked~div.sk-toggleable__content {\n",
       "  /* Expand drop-down */\n",
       "  max-height: 200px;\n",
       "  max-width: 100%;\n",
       "  overflow: auto;\n",
       "}\n",
       "\n",
       "#sk-container-id-1 input.sk-toggleable__control:checked~label.sk-toggleable__label-arrow:before {\n",
       "  content: \"▾\";\n",
       "}\n",
       "\n",
       "/* Pipeline/ColumnTransformer-specific style */\n",
       "\n",
       "#sk-container-id-1 div.sk-label input.sk-toggleable__control:checked~label.sk-toggleable__label {\n",
       "  color: var(--sklearn-color-text);\n",
       "  background-color: var(--sklearn-color-unfitted-level-2);\n",
       "}\n",
       "\n",
       "#sk-container-id-1 div.sk-label.fitted input.sk-toggleable__control:checked~label.sk-toggleable__label {\n",
       "  background-color: var(--sklearn-color-fitted-level-2);\n",
       "}\n",
       "\n",
       "/* Estimator-specific style */\n",
       "\n",
       "/* Colorize estimator box */\n",
       "#sk-container-id-1 div.sk-estimator input.sk-toggleable__control:checked~label.sk-toggleable__label {\n",
       "  /* unfitted */\n",
       "  background-color: var(--sklearn-color-unfitted-level-2);\n",
       "}\n",
       "\n",
       "#sk-container-id-1 div.sk-estimator.fitted input.sk-toggleable__control:checked~label.sk-toggleable__label {\n",
       "  /* fitted */\n",
       "  background-color: var(--sklearn-color-fitted-level-2);\n",
       "}\n",
       "\n",
       "#sk-container-id-1 div.sk-label label.sk-toggleable__label,\n",
       "#sk-container-id-1 div.sk-label label {\n",
       "  /* The background is the default theme color */\n",
       "  color: var(--sklearn-color-text-on-default-background);\n",
       "}\n",
       "\n",
       "/* On hover, darken the color of the background */\n",
       "#sk-container-id-1 div.sk-label:hover label.sk-toggleable__label {\n",
       "  color: var(--sklearn-color-text);\n",
       "  background-color: var(--sklearn-color-unfitted-level-2);\n",
       "}\n",
       "\n",
       "/* Label box, darken color on hover, fitted */\n",
       "#sk-container-id-1 div.sk-label.fitted:hover label.sk-toggleable__label.fitted {\n",
       "  color: var(--sklearn-color-text);\n",
       "  background-color: var(--sklearn-color-fitted-level-2);\n",
       "}\n",
       "\n",
       "/* Estimator label */\n",
       "\n",
       "#sk-container-id-1 div.sk-label label {\n",
       "  font-family: monospace;\n",
       "  font-weight: bold;\n",
       "  display: inline-block;\n",
       "  line-height: 1.2em;\n",
       "}\n",
       "\n",
       "#sk-container-id-1 div.sk-label-container {\n",
       "  text-align: center;\n",
       "}\n",
       "\n",
       "/* Estimator-specific */\n",
       "#sk-container-id-1 div.sk-estimator {\n",
       "  font-family: monospace;\n",
       "  border: 1px dotted var(--sklearn-color-border-box);\n",
       "  border-radius: 0.25em;\n",
       "  box-sizing: border-box;\n",
       "  margin-bottom: 0.5em;\n",
       "  /* unfitted */\n",
       "  background-color: var(--sklearn-color-unfitted-level-0);\n",
       "}\n",
       "\n",
       "#sk-container-id-1 div.sk-estimator.fitted {\n",
       "  /* fitted */\n",
       "  background-color: var(--sklearn-color-fitted-level-0);\n",
       "}\n",
       "\n",
       "/* on hover */\n",
       "#sk-container-id-1 div.sk-estimator:hover {\n",
       "  /* unfitted */\n",
       "  background-color: var(--sklearn-color-unfitted-level-2);\n",
       "}\n",
       "\n",
       "#sk-container-id-1 div.sk-estimator.fitted:hover {\n",
       "  /* fitted */\n",
       "  background-color: var(--sklearn-color-fitted-level-2);\n",
       "}\n",
       "\n",
       "/* Specification for estimator info (e.g. \"i\" and \"?\") */\n",
       "\n",
       "/* Common style for \"i\" and \"?\" */\n",
       "\n",
       ".sk-estimator-doc-link,\n",
       "a:link.sk-estimator-doc-link,\n",
       "a:visited.sk-estimator-doc-link {\n",
       "  float: right;\n",
       "  font-size: smaller;\n",
       "  line-height: 1em;\n",
       "  font-family: monospace;\n",
       "  background-color: var(--sklearn-color-background);\n",
       "  border-radius: 1em;\n",
       "  height: 1em;\n",
       "  width: 1em;\n",
       "  text-decoration: none !important;\n",
       "  margin-left: 1ex;\n",
       "  /* unfitted */\n",
       "  border: var(--sklearn-color-unfitted-level-1) 1pt solid;\n",
       "  color: var(--sklearn-color-unfitted-level-1);\n",
       "}\n",
       "\n",
       ".sk-estimator-doc-link.fitted,\n",
       "a:link.sk-estimator-doc-link.fitted,\n",
       "a:visited.sk-estimator-doc-link.fitted {\n",
       "  /* fitted */\n",
       "  border: var(--sklearn-color-fitted-level-1) 1pt solid;\n",
       "  color: var(--sklearn-color-fitted-level-1);\n",
       "}\n",
       "\n",
       "/* On hover */\n",
       "div.sk-estimator:hover .sk-estimator-doc-link:hover,\n",
       ".sk-estimator-doc-link:hover,\n",
       "div.sk-label-container:hover .sk-estimator-doc-link:hover,\n",
       ".sk-estimator-doc-link:hover {\n",
       "  /* unfitted */\n",
       "  background-color: var(--sklearn-color-unfitted-level-3);\n",
       "  color: var(--sklearn-color-background);\n",
       "  text-decoration: none;\n",
       "}\n",
       "\n",
       "div.sk-estimator.fitted:hover .sk-estimator-doc-link.fitted:hover,\n",
       ".sk-estimator-doc-link.fitted:hover,\n",
       "div.sk-label-container:hover .sk-estimator-doc-link.fitted:hover,\n",
       ".sk-estimator-doc-link.fitted:hover {\n",
       "  /* fitted */\n",
       "  background-color: var(--sklearn-color-fitted-level-3);\n",
       "  color: var(--sklearn-color-background);\n",
       "  text-decoration: none;\n",
       "}\n",
       "\n",
       "/* Span, style for the box shown on hovering the info icon */\n",
       ".sk-estimator-doc-link span {\n",
       "  display: none;\n",
       "  z-index: 9999;\n",
       "  position: relative;\n",
       "  font-weight: normal;\n",
       "  right: .2ex;\n",
       "  padding: .5ex;\n",
       "  margin: .5ex;\n",
       "  width: min-content;\n",
       "  min-width: 20ex;\n",
       "  max-width: 50ex;\n",
       "  color: var(--sklearn-color-text);\n",
       "  box-shadow: 2pt 2pt 4pt #999;\n",
       "  /* unfitted */\n",
       "  background: var(--sklearn-color-unfitted-level-0);\n",
       "  border: .5pt solid var(--sklearn-color-unfitted-level-3);\n",
       "}\n",
       "\n",
       ".sk-estimator-doc-link.fitted span {\n",
       "  /* fitted */\n",
       "  background: var(--sklearn-color-fitted-level-0);\n",
       "  border: var(--sklearn-color-fitted-level-3);\n",
       "}\n",
       "\n",
       ".sk-estimator-doc-link:hover span {\n",
       "  display: block;\n",
       "}\n",
       "\n",
       "/* \"?\"-specific style due to the `<a>` HTML tag */\n",
       "\n",
       "#sk-container-id-1 a.estimator_doc_link {\n",
       "  float: right;\n",
       "  font-size: 1rem;\n",
       "  line-height: 1em;\n",
       "  font-family: monospace;\n",
       "  background-color: var(--sklearn-color-background);\n",
       "  border-radius: 1rem;\n",
       "  height: 1rem;\n",
       "  width: 1rem;\n",
       "  text-decoration: none;\n",
       "  /* unfitted */\n",
       "  color: var(--sklearn-color-unfitted-level-1);\n",
       "  border: var(--sklearn-color-unfitted-level-1) 1pt solid;\n",
       "}\n",
       "\n",
       "#sk-container-id-1 a.estimator_doc_link.fitted {\n",
       "  /* fitted */\n",
       "  border: var(--sklearn-color-fitted-level-1) 1pt solid;\n",
       "  color: var(--sklearn-color-fitted-level-1);\n",
       "}\n",
       "\n",
       "/* On hover */\n",
       "#sk-container-id-1 a.estimator_doc_link:hover {\n",
       "  /* unfitted */\n",
       "  background-color: var(--sklearn-color-unfitted-level-3);\n",
       "  color: var(--sklearn-color-background);\n",
       "  text-decoration: none;\n",
       "}\n",
       "\n",
       "#sk-container-id-1 a.estimator_doc_link.fitted:hover {\n",
       "  /* fitted */\n",
       "  background-color: var(--sklearn-color-fitted-level-3);\n",
       "}\n",
       "</style><div id=\"sk-container-id-1\" class=\"sk-top-container\"><div class=\"sk-text-repr-fallback\"><pre>SimpleImputer(fill_value=0, strategy=&#x27;constant&#x27;)</pre><b>In a Jupyter environment, please rerun this cell to show the HTML representation or trust the notebook. <br />On GitHub, the HTML representation is unable to render, please try loading this page with nbviewer.org.</b></div><div class=\"sk-container\" hidden><div class=\"sk-item\"><div class=\"sk-estimator fitted sk-toggleable\"><input class=\"sk-toggleable__control sk-hidden--visually\" id=\"sk-estimator-id-1\" type=\"checkbox\" checked><label for=\"sk-estimator-id-1\" class=\"sk-toggleable__label fitted sk-toggleable__label-arrow fitted\">&nbsp;&nbsp;SimpleImputer<a class=\"sk-estimator-doc-link fitted\" rel=\"noreferrer\" target=\"_blank\" href=\"https://scikit-learn.org/1.4/modules/generated/sklearn.impute.SimpleImputer.html\">?<span>Documentation for SimpleImputer</span></a><span class=\"sk-estimator-doc-link fitted\">i<span>Fitted</span></span></label><div class=\"sk-toggleable__content fitted\"><pre>SimpleImputer(fill_value=0, strategy=&#x27;constant&#x27;)</pre></div> </div></div></div></div>"
      ],
      "text/plain": [
       "SimpleImputer(fill_value=0, strategy='constant')"
      ]
     },
     "execution_count": 18,
     "metadata": {},
     "output_type": "execute_result"
    }
   ],
   "source": [
    "inputer_zero = SimpleImputer(missing_values=np.nan, strategy='constant', fill_value=0)\n",
    "inputer_zero.fit(data[[\"MarkDown1\", \"MarkDown2\", \"MarkDown3\", \"MarkDown4\", \"MarkDown5\"]])\n"
   ]
  },
  {
   "cell_type": "code",
   "execution_count": 19,
   "metadata": {},
   "outputs": [],
   "source": [
    "data[[\"MarkDown1\", \"MarkDown2\", \"MarkDown3\", \"MarkDown4\", \"MarkDown5\"]] = inputer_zero.transform(data[[\"MarkDown1\", \"MarkDown2\", \"MarkDown3\", \"MarkDown4\", \"MarkDown5\"]])"
   ]
  },
  {
   "cell_type": "markdown",
   "metadata": {},
   "source": [
    "The cleaned data looks like this —"
   ]
  },
  {
   "cell_type": "code",
   "execution_count": 20,
   "metadata": {},
   "outputs": [
    {
     "data": {
      "text/html": [
       "<div>\n",
       "<style scoped>\n",
       "    .dataframe tbody tr th:only-of-type {\n",
       "        vertical-align: middle;\n",
       "    }\n",
       "\n",
       "    .dataframe tbody tr th {\n",
       "        vertical-align: top;\n",
       "    }\n",
       "\n",
       "    .dataframe thead th {\n",
       "        text-align: right;\n",
       "    }\n",
       "</style>\n",
       "<table border=\"1\" class=\"dataframe\">\n",
       "  <thead>\n",
       "    <tr style=\"text-align: right;\">\n",
       "      <th></th>\n",
       "      <th>Store</th>\n",
       "      <th>Dept</th>\n",
       "      <th>Date</th>\n",
       "      <th>Weekly_Sales</th>\n",
       "      <th>UID</th>\n",
       "      <th>IsTrain</th>\n",
       "      <th>Type</th>\n",
       "      <th>Size</th>\n",
       "      <th>Temperature</th>\n",
       "      <th>Fuel_Price</th>\n",
       "      <th>MarkDown1</th>\n",
       "      <th>MarkDown2</th>\n",
       "      <th>MarkDown3</th>\n",
       "      <th>MarkDown4</th>\n",
       "      <th>MarkDown5</th>\n",
       "      <th>CPI</th>\n",
       "      <th>Unemployment</th>\n",
       "      <th>IsHoliday</th>\n",
       "    </tr>\n",
       "  </thead>\n",
       "  <tbody>\n",
       "    <tr>\n",
       "      <th>0</th>\n",
       "      <td>1</td>\n",
       "      <td>1</td>\n",
       "      <td>2010-02-05</td>\n",
       "      <td>24924.50</td>\n",
       "      <td>1_1_2010-02-05</td>\n",
       "      <td>True</td>\n",
       "      <td>A</td>\n",
       "      <td>151315</td>\n",
       "      <td>42.31</td>\n",
       "      <td>2.572</td>\n",
       "      <td>0.00</td>\n",
       "      <td>0.00</td>\n",
       "      <td>0.00</td>\n",
       "      <td>0.00</td>\n",
       "      <td>0.00</td>\n",
       "      <td>211.096358</td>\n",
       "      <td>8.106</td>\n",
       "      <td>0</td>\n",
       "    </tr>\n",
       "    <tr>\n",
       "      <th>5747</th>\n",
       "      <td>1</td>\n",
       "      <td>1</td>\n",
       "      <td>2010-02-12</td>\n",
       "      <td>46039.49</td>\n",
       "      <td>1_1_2010-02-12</td>\n",
       "      <td>True</td>\n",
       "      <td>A</td>\n",
       "      <td>151315</td>\n",
       "      <td>38.51</td>\n",
       "      <td>2.548</td>\n",
       "      <td>0.00</td>\n",
       "      <td>0.00</td>\n",
       "      <td>0.00</td>\n",
       "      <td>0.00</td>\n",
       "      <td>0.00</td>\n",
       "      <td>211.242170</td>\n",
       "      <td>8.106</td>\n",
       "      <td>1</td>\n",
       "    </tr>\n",
       "    <tr>\n",
       "      <th>6829</th>\n",
       "      <td>1</td>\n",
       "      <td>1</td>\n",
       "      <td>2010-02-19</td>\n",
       "      <td>41595.55</td>\n",
       "      <td>1_1_2010-02-19</td>\n",
       "      <td>True</td>\n",
       "      <td>A</td>\n",
       "      <td>151315</td>\n",
       "      <td>39.93</td>\n",
       "      <td>2.514</td>\n",
       "      <td>0.00</td>\n",
       "      <td>0.00</td>\n",
       "      <td>0.00</td>\n",
       "      <td>0.00</td>\n",
       "      <td>0.00</td>\n",
       "      <td>211.289143</td>\n",
       "      <td>8.106</td>\n",
       "      <td>0</td>\n",
       "    </tr>\n",
       "    <tr>\n",
       "      <th>11698</th>\n",
       "      <td>1</td>\n",
       "      <td>1</td>\n",
       "      <td>2010-02-26</td>\n",
       "      <td>19403.54</td>\n",
       "      <td>1_1_2010-02-26</td>\n",
       "      <td>True</td>\n",
       "      <td>A</td>\n",
       "      <td>151315</td>\n",
       "      <td>46.63</td>\n",
       "      <td>2.561</td>\n",
       "      <td>0.00</td>\n",
       "      <td>0.00</td>\n",
       "      <td>0.00</td>\n",
       "      <td>0.00</td>\n",
       "      <td>0.00</td>\n",
       "      <td>211.319643</td>\n",
       "      <td>8.106</td>\n",
       "      <td>0</td>\n",
       "    </tr>\n",
       "    <tr>\n",
       "      <th>12681</th>\n",
       "      <td>1</td>\n",
       "      <td>1</td>\n",
       "      <td>2010-03-05</td>\n",
       "      <td>21827.90</td>\n",
       "      <td>1_1_2010-03-05</td>\n",
       "      <td>True</td>\n",
       "      <td>A</td>\n",
       "      <td>151315</td>\n",
       "      <td>46.50</td>\n",
       "      <td>2.625</td>\n",
       "      <td>0.00</td>\n",
       "      <td>0.00</td>\n",
       "      <td>0.00</td>\n",
       "      <td>0.00</td>\n",
       "      <td>0.00</td>\n",
       "      <td>211.350143</td>\n",
       "      <td>8.106</td>\n",
       "      <td>0</td>\n",
       "    </tr>\n",
       "    <tr>\n",
       "      <th>...</th>\n",
       "      <td>...</td>\n",
       "      <td>...</td>\n",
       "      <td>...</td>\n",
       "      <td>...</td>\n",
       "      <td>...</td>\n",
       "      <td>...</td>\n",
       "      <td>...</td>\n",
       "      <td>...</td>\n",
       "      <td>...</td>\n",
       "      <td>...</td>\n",
       "      <td>...</td>\n",
       "      <td>...</td>\n",
       "      <td>...</td>\n",
       "      <td>...</td>\n",
       "      <td>...</td>\n",
       "      <td>...</td>\n",
       "      <td>...</td>\n",
       "      <td>...</td>\n",
       "    </tr>\n",
       "    <tr>\n",
       "      <th>523896</th>\n",
       "      <td>45</td>\n",
       "      <td>98</td>\n",
       "      <td>2013-06-28</td>\n",
       "      <td>0.00</td>\n",
       "      <td>45_98_2013-06-28</td>\n",
       "      <td>False</td>\n",
       "      <td>B</td>\n",
       "      <td>118221</td>\n",
       "      <td>76.05</td>\n",
       "      <td>3.639</td>\n",
       "      <td>4842.29</td>\n",
       "      <td>975.03</td>\n",
       "      <td>3.00</td>\n",
       "      <td>2449.97</td>\n",
       "      <td>3169.69</td>\n",
       "      <td>NaN</td>\n",
       "      <td>NaN</td>\n",
       "      <td>0</td>\n",
       "    </tr>\n",
       "    <tr>\n",
       "      <th>525567</th>\n",
       "      <td>45</td>\n",
       "      <td>98</td>\n",
       "      <td>2013-07-05</td>\n",
       "      <td>0.00</td>\n",
       "      <td>45_98_2013-07-05</td>\n",
       "      <td>False</td>\n",
       "      <td>B</td>\n",
       "      <td>118221</td>\n",
       "      <td>77.50</td>\n",
       "      <td>3.614</td>\n",
       "      <td>9090.48</td>\n",
       "      <td>2268.58</td>\n",
       "      <td>582.74</td>\n",
       "      <td>5797.47</td>\n",
       "      <td>1514.93</td>\n",
       "      <td>NaN</td>\n",
       "      <td>NaN</td>\n",
       "      <td>0</td>\n",
       "    </tr>\n",
       "    <tr>\n",
       "      <th>527978</th>\n",
       "      <td>45</td>\n",
       "      <td>98</td>\n",
       "      <td>2013-07-12</td>\n",
       "      <td>0.00</td>\n",
       "      <td>45_98_2013-07-12</td>\n",
       "      <td>False</td>\n",
       "      <td>B</td>\n",
       "      <td>118221</td>\n",
       "      <td>79.37</td>\n",
       "      <td>3.614</td>\n",
       "      <td>3789.94</td>\n",
       "      <td>1827.31</td>\n",
       "      <td>85.72</td>\n",
       "      <td>744.84</td>\n",
       "      <td>2150.36</td>\n",
       "      <td>NaN</td>\n",
       "      <td>NaN</td>\n",
       "      <td>0</td>\n",
       "    </tr>\n",
       "    <tr>\n",
       "      <th>532235</th>\n",
       "      <td>45</td>\n",
       "      <td>98</td>\n",
       "      <td>2013-07-19</td>\n",
       "      <td>0.00</td>\n",
       "      <td>45_98_2013-07-19</td>\n",
       "      <td>False</td>\n",
       "      <td>B</td>\n",
       "      <td>118221</td>\n",
       "      <td>82.84</td>\n",
       "      <td>3.737</td>\n",
       "      <td>2961.49</td>\n",
       "      <td>1047.07</td>\n",
       "      <td>204.19</td>\n",
       "      <td>363.00</td>\n",
       "      <td>1059.46</td>\n",
       "      <td>NaN</td>\n",
       "      <td>NaN</td>\n",
       "      <td>0</td>\n",
       "    </tr>\n",
       "    <tr>\n",
       "      <th>536633</th>\n",
       "      <td>45</td>\n",
       "      <td>98</td>\n",
       "      <td>2013-07-26</td>\n",
       "      <td>0.00</td>\n",
       "      <td>45_98_2013-07-26</td>\n",
       "      <td>False</td>\n",
       "      <td>B</td>\n",
       "      <td>118221</td>\n",
       "      <td>76.06</td>\n",
       "      <td>3.804</td>\n",
       "      <td>212.02</td>\n",
       "      <td>851.73</td>\n",
       "      <td>2.06</td>\n",
       "      <td>10.88</td>\n",
       "      <td>1864.57</td>\n",
       "      <td>NaN</td>\n",
       "      <td>NaN</td>\n",
       "      <td>0</td>\n",
       "    </tr>\n",
       "  </tbody>\n",
       "</table>\n",
       "<p>536634 rows × 18 columns</p>\n",
       "</div>"
      ],
      "text/plain": [
       "        Store  Dept       Date  Weekly_Sales               UID  IsTrain Type  \\\n",
       "0           1     1 2010-02-05      24924.50    1_1_2010-02-05     True    A   \n",
       "5747        1     1 2010-02-12      46039.49    1_1_2010-02-12     True    A   \n",
       "6829        1     1 2010-02-19      41595.55    1_1_2010-02-19     True    A   \n",
       "11698       1     1 2010-02-26      19403.54    1_1_2010-02-26     True    A   \n",
       "12681       1     1 2010-03-05      21827.90    1_1_2010-03-05     True    A   \n",
       "...       ...   ...        ...           ...               ...      ...  ...   \n",
       "523896     45    98 2013-06-28          0.00  45_98_2013-06-28    False    B   \n",
       "525567     45    98 2013-07-05          0.00  45_98_2013-07-05    False    B   \n",
       "527978     45    98 2013-07-12          0.00  45_98_2013-07-12    False    B   \n",
       "532235     45    98 2013-07-19          0.00  45_98_2013-07-19    False    B   \n",
       "536633     45    98 2013-07-26          0.00  45_98_2013-07-26    False    B   \n",
       "\n",
       "          Size  Temperature  Fuel_Price  MarkDown1  MarkDown2  MarkDown3  \\\n",
       "0       151315        42.31       2.572       0.00       0.00       0.00   \n",
       "5747    151315        38.51       2.548       0.00       0.00       0.00   \n",
       "6829    151315        39.93       2.514       0.00       0.00       0.00   \n",
       "11698   151315        46.63       2.561       0.00       0.00       0.00   \n",
       "12681   151315        46.50       2.625       0.00       0.00       0.00   \n",
       "...        ...          ...         ...        ...        ...        ...   \n",
       "523896  118221        76.05       3.639    4842.29     975.03       3.00   \n",
       "525567  118221        77.50       3.614    9090.48    2268.58     582.74   \n",
       "527978  118221        79.37       3.614    3789.94    1827.31      85.72   \n",
       "532235  118221        82.84       3.737    2961.49    1047.07     204.19   \n",
       "536633  118221        76.06       3.804     212.02     851.73       2.06   \n",
       "\n",
       "        MarkDown4  MarkDown5         CPI  Unemployment  IsHoliday  \n",
       "0            0.00       0.00  211.096358         8.106          0  \n",
       "5747         0.00       0.00  211.242170         8.106          1  \n",
       "6829         0.00       0.00  211.289143         8.106          0  \n",
       "11698        0.00       0.00  211.319643         8.106          0  \n",
       "12681        0.00       0.00  211.350143         8.106          0  \n",
       "...           ...        ...         ...           ...        ...  \n",
       "523896    2449.97    3169.69         NaN           NaN          0  \n",
       "525567    5797.47    1514.93         NaN           NaN          0  \n",
       "527978     744.84    2150.36         NaN           NaN          0  \n",
       "532235     363.00    1059.46         NaN           NaN          0  \n",
       "536633      10.88    1864.57         NaN           NaN          0  \n",
       "\n",
       "[536634 rows x 18 columns]"
      ]
     },
     "execution_count": 20,
     "metadata": {},
     "output_type": "execute_result"
    }
   ],
   "source": [
    "data"
   ]
  },
  {
   "cell_type": "markdown",
   "metadata": {},
   "source": [
    "## **Feature Engineering**"
   ]
  },
  {
   "cell_type": "markdown",
   "metadata": {},
   "source": [
    "From the Date column, I have extracted DayOfMonth, Month, Year, DayOfWeek, WeekOfYear, and Quarter and dropped the Date column"
   ]
  },
  {
   "cell_type": "code",
   "execution_count": 21,
   "metadata": {},
   "outputs": [],
   "source": [
    "data = add_calendar_features(data)"
   ]
  },
  {
   "cell_type": "code",
   "execution_count": 22,
   "metadata": {},
   "outputs": [
    {
     "data": {
      "text/html": [
       "<div>\n",
       "<style scoped>\n",
       "    .dataframe tbody tr th:only-of-type {\n",
       "        vertical-align: middle;\n",
       "    }\n",
       "\n",
       "    .dataframe tbody tr th {\n",
       "        vertical-align: top;\n",
       "    }\n",
       "\n",
       "    .dataframe thead th {\n",
       "        text-align: right;\n",
       "    }\n",
       "</style>\n",
       "<table border=\"1\" class=\"dataframe\">\n",
       "  <thead>\n",
       "    <tr style=\"text-align: right;\">\n",
       "      <th></th>\n",
       "      <th>Store</th>\n",
       "      <th>Dept</th>\n",
       "      <th>Date</th>\n",
       "      <th>Weekly_Sales</th>\n",
       "      <th>UID</th>\n",
       "      <th>IsTrain</th>\n",
       "      <th>Type</th>\n",
       "      <th>Size</th>\n",
       "      <th>Temperature</th>\n",
       "      <th>Fuel_Price</th>\n",
       "      <th>...</th>\n",
       "      <th>MarkDown4</th>\n",
       "      <th>MarkDown5</th>\n",
       "      <th>CPI</th>\n",
       "      <th>Unemployment</th>\n",
       "      <th>IsHoliday</th>\n",
       "      <th>month</th>\n",
       "      <th>day_of_month</th>\n",
       "      <th>week_of_year</th>\n",
       "      <th>quarter</th>\n",
       "      <th>year</th>\n",
       "    </tr>\n",
       "  </thead>\n",
       "  <tbody>\n",
       "    <tr>\n",
       "      <th>0</th>\n",
       "      <td>1</td>\n",
       "      <td>1</td>\n",
       "      <td>2010-02-05</td>\n",
       "      <td>24924.50</td>\n",
       "      <td>1_1_2010-02-05</td>\n",
       "      <td>True</td>\n",
       "      <td>A</td>\n",
       "      <td>151315</td>\n",
       "      <td>42.31</td>\n",
       "      <td>2.572</td>\n",
       "      <td>...</td>\n",
       "      <td>0.0</td>\n",
       "      <td>0.0</td>\n",
       "      <td>211.096358</td>\n",
       "      <td>8.106</td>\n",
       "      <td>0</td>\n",
       "      <td>2</td>\n",
       "      <td>28</td>\n",
       "      <td>5</td>\n",
       "      <td>1</td>\n",
       "      <td>2010</td>\n",
       "    </tr>\n",
       "    <tr>\n",
       "      <th>5747</th>\n",
       "      <td>1</td>\n",
       "      <td>1</td>\n",
       "      <td>2010-02-12</td>\n",
       "      <td>46039.49</td>\n",
       "      <td>1_1_2010-02-12</td>\n",
       "      <td>True</td>\n",
       "      <td>A</td>\n",
       "      <td>151315</td>\n",
       "      <td>38.51</td>\n",
       "      <td>2.548</td>\n",
       "      <td>...</td>\n",
       "      <td>0.0</td>\n",
       "      <td>0.0</td>\n",
       "      <td>211.242170</td>\n",
       "      <td>8.106</td>\n",
       "      <td>1</td>\n",
       "      <td>2</td>\n",
       "      <td>28</td>\n",
       "      <td>6</td>\n",
       "      <td>1</td>\n",
       "      <td>2010</td>\n",
       "    </tr>\n",
       "    <tr>\n",
       "      <th>6829</th>\n",
       "      <td>1</td>\n",
       "      <td>1</td>\n",
       "      <td>2010-02-19</td>\n",
       "      <td>41595.55</td>\n",
       "      <td>1_1_2010-02-19</td>\n",
       "      <td>True</td>\n",
       "      <td>A</td>\n",
       "      <td>151315</td>\n",
       "      <td>39.93</td>\n",
       "      <td>2.514</td>\n",
       "      <td>...</td>\n",
       "      <td>0.0</td>\n",
       "      <td>0.0</td>\n",
       "      <td>211.289143</td>\n",
       "      <td>8.106</td>\n",
       "      <td>0</td>\n",
       "      <td>2</td>\n",
       "      <td>28</td>\n",
       "      <td>7</td>\n",
       "      <td>1</td>\n",
       "      <td>2010</td>\n",
       "    </tr>\n",
       "    <tr>\n",
       "      <th>11698</th>\n",
       "      <td>1</td>\n",
       "      <td>1</td>\n",
       "      <td>2010-02-26</td>\n",
       "      <td>19403.54</td>\n",
       "      <td>1_1_2010-02-26</td>\n",
       "      <td>True</td>\n",
       "      <td>A</td>\n",
       "      <td>151315</td>\n",
       "      <td>46.63</td>\n",
       "      <td>2.561</td>\n",
       "      <td>...</td>\n",
       "      <td>0.0</td>\n",
       "      <td>0.0</td>\n",
       "      <td>211.319643</td>\n",
       "      <td>8.106</td>\n",
       "      <td>0</td>\n",
       "      <td>2</td>\n",
       "      <td>28</td>\n",
       "      <td>8</td>\n",
       "      <td>1</td>\n",
       "      <td>2010</td>\n",
       "    </tr>\n",
       "    <tr>\n",
       "      <th>12681</th>\n",
       "      <td>1</td>\n",
       "      <td>1</td>\n",
       "      <td>2010-03-05</td>\n",
       "      <td>21827.90</td>\n",
       "      <td>1_1_2010-03-05</td>\n",
       "      <td>True</td>\n",
       "      <td>A</td>\n",
       "      <td>151315</td>\n",
       "      <td>46.50</td>\n",
       "      <td>2.625</td>\n",
       "      <td>...</td>\n",
       "      <td>0.0</td>\n",
       "      <td>0.0</td>\n",
       "      <td>211.350143</td>\n",
       "      <td>8.106</td>\n",
       "      <td>0</td>\n",
       "      <td>3</td>\n",
       "      <td>31</td>\n",
       "      <td>9</td>\n",
       "      <td>1</td>\n",
       "      <td>2010</td>\n",
       "    </tr>\n",
       "  </tbody>\n",
       "</table>\n",
       "<p>5 rows × 23 columns</p>\n",
       "</div>"
      ],
      "text/plain": [
       "       Store  Dept       Date  Weekly_Sales             UID  IsTrain Type  \\\n",
       "0          1     1 2010-02-05      24924.50  1_1_2010-02-05     True    A   \n",
       "5747       1     1 2010-02-12      46039.49  1_1_2010-02-12     True    A   \n",
       "6829       1     1 2010-02-19      41595.55  1_1_2010-02-19     True    A   \n",
       "11698      1     1 2010-02-26      19403.54  1_1_2010-02-26     True    A   \n",
       "12681      1     1 2010-03-05      21827.90  1_1_2010-03-05     True    A   \n",
       "\n",
       "         Size  Temperature  Fuel_Price  ...  MarkDown4  MarkDown5         CPI  \\\n",
       "0      151315        42.31       2.572  ...        0.0        0.0  211.096358   \n",
       "5747   151315        38.51       2.548  ...        0.0        0.0  211.242170   \n",
       "6829   151315        39.93       2.514  ...        0.0        0.0  211.289143   \n",
       "11698  151315        46.63       2.561  ...        0.0        0.0  211.319643   \n",
       "12681  151315        46.50       2.625  ...        0.0        0.0  211.350143   \n",
       "\n",
       "       Unemployment  IsHoliday  month  day_of_month  week_of_year  quarter  \\\n",
       "0             8.106          0      2            28             5        1   \n",
       "5747          8.106          1      2            28             6        1   \n",
       "6829          8.106          0      2            28             7        1   \n",
       "11698         8.106          0      2            28             8        1   \n",
       "12681         8.106          0      3            31             9        1   \n",
       "\n",
       "       year  \n",
       "0      2010  \n",
       "5747   2010  \n",
       "6829   2010  \n",
       "11698  2010  \n",
       "12681  2010  \n",
       "\n",
       "[5 rows x 23 columns]"
      ]
     },
     "execution_count": 22,
     "metadata": {},
     "output_type": "execute_result"
    }
   ],
   "source": [
    "data.head(5)"
   ]
  },
  {
   "cell_type": "markdown",
   "metadata": {},
   "source": [
    "Created a new column called MarkDown which is the sum of all MarkDown(1–5) columns after which those 5 columns were dropped"
   ]
  },
  {
   "cell_type": "code",
   "execution_count": 23,
   "metadata": {},
   "outputs": [],
   "source": [
    "data = sum_markdown(data=data, colums=[\"MarkDown1\", \"MarkDown2\", \"MarkDown3\", \"MarkDown4\",\"MarkDown5\"])"
   ]
  },
  {
   "cell_type": "code",
   "execution_count": 24,
   "metadata": {},
   "outputs": [
    {
     "data": {
      "text/plain": [
       "447472    67107.66\n",
       "330167    13079.21\n",
       "227097        0.00\n",
       "268504        0.00\n",
       "86677         0.00\n",
       "Name: MarkDown, dtype: float64"
      ]
     },
     "execution_count": 24,
     "metadata": {},
     "output_type": "execute_result"
    }
   ],
   "source": [
    "data[\"MarkDown\"].sample(5)"
   ]
  },
  {
   "cell_type": "markdown",
   "metadata": {},
   "source": [
    "For convenience, the four holidays fall within the following weeks in the dataset (not all holidays are in the data):"
   ]
  },
  {
   "cell_type": "code",
   "execution_count": 25,
   "metadata": {},
   "outputs": [
    {
     "data": {
      "text/plain": [
       "['12-02-10', '11-02-11', '10-02-12', '08-02-13', '10-09-10']"
      ]
     },
     "execution_count": 25,
     "metadata": {},
     "output_type": "execute_result"
    }
   ],
   "source": [
    "super_bowl = [\"12-02-10\", \"11-02-11\", \"10-02-12\", \"08-02-13\"]\n",
    "labor_day =  [\"10-09-10\", \"09-09-11\", \"07-09-12\", \"06-09-13\"]\n",
    "thanks_giving = [\"26-11-10\", \"25-11-11\", \"23-11-12\", \"29-11-13\"]\n",
    "christmas = [\"31-12-10\", \"30-12-11\", \"28-12-12\", \"27-12-13\"]\n",
    "holiday_list  = super_bowl + labor_day + thanks_giving + christmas\n",
    "holiday_list[:5]"
   ]
  },
  {
   "cell_type": "code",
   "execution_count": 26,
   "metadata": {},
   "outputs": [],
   "source": [
    "data = add_holiday(data, holiday_list )"
   ]
  },
  {
   "cell_type": "code",
   "execution_count": 27,
   "metadata": {},
   "outputs": [
    {
     "data": {
      "text/html": [
       "<div>\n",
       "<style scoped>\n",
       "    .dataframe tbody tr th:only-of-type {\n",
       "        vertical-align: middle;\n",
       "    }\n",
       "\n",
       "    .dataframe tbody tr th {\n",
       "        vertical-align: top;\n",
       "    }\n",
       "\n",
       "    .dataframe thead th {\n",
       "        text-align: right;\n",
       "    }\n",
       "</style>\n",
       "<table border=\"1\" class=\"dataframe\">\n",
       "  <thead>\n",
       "    <tr style=\"text-align: right;\">\n",
       "      <th></th>\n",
       "      <th>Store</th>\n",
       "      <th>Dept</th>\n",
       "      <th>Date</th>\n",
       "      <th>Weekly_Sales</th>\n",
       "      <th>Size</th>\n",
       "      <th>Temperature</th>\n",
       "      <th>Fuel_Price</th>\n",
       "      <th>CPI</th>\n",
       "      <th>Unemployment</th>\n",
       "      <th>IsHoliday</th>\n",
       "      <th>month</th>\n",
       "      <th>day_of_month</th>\n",
       "      <th>week_of_year</th>\n",
       "      <th>quarter</th>\n",
       "      <th>year</th>\n",
       "      <th>MarkDown</th>\n",
       "    </tr>\n",
       "  </thead>\n",
       "  <tbody>\n",
       "    <tr>\n",
       "      <th>count</th>\n",
       "      <td>536634.000000</td>\n",
       "      <td>536634.000000</td>\n",
       "      <td>536634</td>\n",
       "      <td>536634.000000</td>\n",
       "      <td>536634.00000</td>\n",
       "      <td>536634.000000</td>\n",
       "      <td>536634.000000</td>\n",
       "      <td>498472.000000</td>\n",
       "      <td>498472.000000</td>\n",
       "      <td>536634.000000</td>\n",
       "      <td>536634.000000</td>\n",
       "      <td>536634.000000</td>\n",
       "      <td>536634.0</td>\n",
       "      <td>536634.000000</td>\n",
       "      <td>536634.000000</td>\n",
       "      <td>536634.000000</td>\n",
       "    </tr>\n",
       "    <tr>\n",
       "      <th>mean</th>\n",
       "      <td>22.208621</td>\n",
       "      <td>44.277301</td>\n",
       "      <td>2011-11-01 13:33:31.458088704</td>\n",
       "      <td>12554.588392</td>\n",
       "      <td>136678.55096</td>\n",
       "      <td>58.771762</td>\n",
       "      <td>3.408310</td>\n",
       "      <td>172.090481</td>\n",
       "      <td>7.791888</td>\n",
       "      <td>0.071909</td>\n",
       "      <td>6.295203</td>\n",
       "      <td>30.422478</td>\n",
       "      <td>25.231581</td>\n",
       "      <td>2.429537</td>\n",
       "      <td>2011.354241</td>\n",
       "      <td>9450.260975</td>\n",
       "    </tr>\n",
       "    <tr>\n",
       "      <th>min</th>\n",
       "      <td>1.000000</td>\n",
       "      <td>1.000000</td>\n",
       "      <td>2010-02-05 00:00:00</td>\n",
       "      <td>-4988.940000</td>\n",
       "      <td>34875.00000</td>\n",
       "      <td>-7.290000</td>\n",
       "      <td>2.472000</td>\n",
       "      <td>126.064000</td>\n",
       "      <td>3.684000</td>\n",
       "      <td>0.000000</td>\n",
       "      <td>1.000000</td>\n",
       "      <td>28.000000</td>\n",
       "      <td>1.0</td>\n",
       "      <td>1.000000</td>\n",
       "      <td>2010.000000</td>\n",
       "      <td>-1692.480000</td>\n",
       "    </tr>\n",
       "    <tr>\n",
       "      <th>25%</th>\n",
       "      <td>11.000000</td>\n",
       "      <td>18.000000</td>\n",
       "      <td>2010-12-17 00:00:00</td>\n",
       "      <td>49.852500</td>\n",
       "      <td>93638.00000</td>\n",
       "      <td>45.250000</td>\n",
       "      <td>3.041000</td>\n",
       "      <td>132.521867</td>\n",
       "      <td>6.623000</td>\n",
       "      <td>0.000000</td>\n",
       "      <td>3.000000</td>\n",
       "      <td>30.000000</td>\n",
       "      <td>13.0</td>\n",
       "      <td>1.000000</td>\n",
       "      <td>2010.000000</td>\n",
       "      <td>0.000000</td>\n",
       "    </tr>\n",
       "    <tr>\n",
       "      <th>50%</th>\n",
       "      <td>22.000000</td>\n",
       "      <td>37.000000</td>\n",
       "      <td>2011-11-04 00:00:00</td>\n",
       "      <td>4118.755000</td>\n",
       "      <td>140167.00000</td>\n",
       "      <td>60.060000</td>\n",
       "      <td>3.523000</td>\n",
       "      <td>182.442420</td>\n",
       "      <td>7.795000</td>\n",
       "      <td>0.000000</td>\n",
       "      <td>6.000000</td>\n",
       "      <td>31.000000</td>\n",
       "      <td>24.0</td>\n",
       "      <td>2.000000</td>\n",
       "      <td>2011.000000</td>\n",
       "      <td>0.000000</td>\n",
       "    </tr>\n",
       "    <tr>\n",
       "      <th>75%</th>\n",
       "      <td>33.000000</td>\n",
       "      <td>74.000000</td>\n",
       "      <td>2012-09-14 00:00:00</td>\n",
       "      <td>15497.417500</td>\n",
       "      <td>202505.00000</td>\n",
       "      <td>73.230000</td>\n",
       "      <td>3.744000</td>\n",
       "      <td>213.748126</td>\n",
       "      <td>8.549000</td>\n",
       "      <td>0.000000</td>\n",
       "      <td>9.000000</td>\n",
       "      <td>31.000000</td>\n",
       "      <td>37.0</td>\n",
       "      <td>3.000000</td>\n",
       "      <td>2012.000000</td>\n",
       "      <td>12868.220000</td>\n",
       "    </tr>\n",
       "    <tr>\n",
       "      <th>max</th>\n",
       "      <td>45.000000</td>\n",
       "      <td>99.000000</td>\n",
       "      <td>2013-07-26 00:00:00</td>\n",
       "      <td>693099.360000</td>\n",
       "      <td>219622.00000</td>\n",
       "      <td>101.950000</td>\n",
       "      <td>4.468000</td>\n",
       "      <td>228.976456</td>\n",
       "      <td>14.313000</td>\n",
       "      <td>1.000000</td>\n",
       "      <td>12.000000</td>\n",
       "      <td>31.000000</td>\n",
       "      <td>52.0</td>\n",
       "      <td>4.000000</td>\n",
       "      <td>2013.000000</td>\n",
       "      <td>783529.450000</td>\n",
       "    </tr>\n",
       "    <tr>\n",
       "      <th>std</th>\n",
       "      <td>12.790580</td>\n",
       "      <td>30.527358</td>\n",
       "      <td>NaN</td>\n",
       "      <td>21171.249456</td>\n",
       "      <td>61007.71180</td>\n",
       "      <td>18.678716</td>\n",
       "      <td>0.430861</td>\n",
       "      <td>39.542149</td>\n",
       "      <td>1.865076</td>\n",
       "      <td>0.258338</td>\n",
       "      <td>3.333808</td>\n",
       "      <td>0.827435</td>\n",
       "      <td>14.554119</td>\n",
       "      <td>1.092347</td>\n",
       "      <td>1.040218</td>\n",
       "      <td>19696.611637</td>\n",
       "    </tr>\n",
       "  </tbody>\n",
       "</table>\n",
       "</div>"
      ],
      "text/plain": [
       "               Store           Dept                           Date  \\\n",
       "count  536634.000000  536634.000000                         536634   \n",
       "mean       22.208621      44.277301  2011-11-01 13:33:31.458088704   \n",
       "min         1.000000       1.000000            2010-02-05 00:00:00   \n",
       "25%        11.000000      18.000000            2010-12-17 00:00:00   \n",
       "50%        22.000000      37.000000            2011-11-04 00:00:00   \n",
       "75%        33.000000      74.000000            2012-09-14 00:00:00   \n",
       "max        45.000000      99.000000            2013-07-26 00:00:00   \n",
       "std        12.790580      30.527358                            NaN   \n",
       "\n",
       "        Weekly_Sales          Size    Temperature     Fuel_Price  \\\n",
       "count  536634.000000  536634.00000  536634.000000  536634.000000   \n",
       "mean    12554.588392  136678.55096      58.771762       3.408310   \n",
       "min     -4988.940000   34875.00000      -7.290000       2.472000   \n",
       "25%        49.852500   93638.00000      45.250000       3.041000   \n",
       "50%      4118.755000  140167.00000      60.060000       3.523000   \n",
       "75%     15497.417500  202505.00000      73.230000       3.744000   \n",
       "max    693099.360000  219622.00000     101.950000       4.468000   \n",
       "std     21171.249456   61007.71180      18.678716       0.430861   \n",
       "\n",
       "                 CPI   Unemployment      IsHoliday          month  \\\n",
       "count  498472.000000  498472.000000  536634.000000  536634.000000   \n",
       "mean      172.090481       7.791888       0.071909       6.295203   \n",
       "min       126.064000       3.684000       0.000000       1.000000   \n",
       "25%       132.521867       6.623000       0.000000       3.000000   \n",
       "50%       182.442420       7.795000       0.000000       6.000000   \n",
       "75%       213.748126       8.549000       0.000000       9.000000   \n",
       "max       228.976456      14.313000       1.000000      12.000000   \n",
       "std        39.542149       1.865076       0.258338       3.333808   \n",
       "\n",
       "        day_of_month  week_of_year        quarter           year  \\\n",
       "count  536634.000000      536634.0  536634.000000  536634.000000   \n",
       "mean       30.422478     25.231581       2.429537    2011.354241   \n",
       "min        28.000000           1.0       1.000000    2010.000000   \n",
       "25%        30.000000          13.0       1.000000    2010.000000   \n",
       "50%        31.000000          24.0       2.000000    2011.000000   \n",
       "75%        31.000000          37.0       3.000000    2012.000000   \n",
       "max        31.000000          52.0       4.000000    2013.000000   \n",
       "std         0.827435     14.554119       1.092347       1.040218   \n",
       "\n",
       "            MarkDown  \n",
       "count  536634.000000  \n",
       "mean     9450.260975  \n",
       "min     -1692.480000  \n",
       "25%         0.000000  \n",
       "50%         0.000000  \n",
       "75%     12868.220000  \n",
       "max    783529.450000  \n",
       "std     19696.611637  "
      ]
     },
     "execution_count": 27,
     "metadata": {},
     "output_type": "execute_result"
    }
   ],
   "source": [
    "data.describe()"
   ]
  },
  {
   "cell_type": "code",
   "execution_count": 28,
   "metadata": {},
   "outputs": [
    {
     "name": "stderr",
     "output_type": "stream",
     "text": [
      "Adding window aggregation 🫡: 100%|██████████| 3/3 [00:00<00:00,  3.33it/s]\n",
      "Adding window aggregation 🫡: 100%|██████████| 3/3 [00:00<00:00,  3.27it/s]\n",
      "Adding window aggregation 🫡: 100%|██████████| 3/3 [00:00<00:00,  3.27it/s]\n",
      "Adding window aggregation 🫡: 100%|██████████| 3/3 [00:00<00:00,  3.22it/s]\n",
      "Adding memory variable 😸: 100%|██████████| 4/4 [00:03<00:00,  1.06it/s]\n"
     ]
    }
   ],
   "source": [
    "data = add_memory_feature(data_df=data, target= \"Weekly_Sales\")"
   ]
  },
  {
   "cell_type": "code",
   "execution_count": 29,
   "metadata": {},
   "outputs": [
    {
     "data": {
      "text/html": [
       "<div>\n",
       "<style scoped>\n",
       "    .dataframe tbody tr th:only-of-type {\n",
       "        vertical-align: middle;\n",
       "    }\n",
       "\n",
       "    .dataframe tbody tr th {\n",
       "        vertical-align: top;\n",
       "    }\n",
       "\n",
       "    .dataframe thead th {\n",
       "        text-align: right;\n",
       "    }\n",
       "</style>\n",
       "<table border=\"1\" class=\"dataframe\">\n",
       "  <thead>\n",
       "    <tr style=\"text-align: right;\">\n",
       "      <th></th>\n",
       "      <th>Store</th>\n",
       "      <th>Dept</th>\n",
       "      <th>Date</th>\n",
       "      <th>Weekly_Sales</th>\n",
       "      <th>UID</th>\n",
       "      <th>IsTrain</th>\n",
       "      <th>Type</th>\n",
       "      <th>Size</th>\n",
       "      <th>Temperature</th>\n",
       "      <th>Fuel_Price</th>\n",
       "      <th>...</th>\n",
       "      <th>l_3_w_4_median_Weekly_Sales</th>\n",
       "      <th>l_3_w_4_std_Weekly_Sales</th>\n",
       "      <th>l_3_w_4_max_Weekly_Sales</th>\n",
       "      <th>l_3_w_4_min_Weekly_Sales</th>\n",
       "      <th>l_3_w_5_sum_Weekly_Sales</th>\n",
       "      <th>l_3_w_5_mean_Weekly_Sales</th>\n",
       "      <th>l_3_w_5_median_Weekly_Sales</th>\n",
       "      <th>l_3_w_5_std_Weekly_Sales</th>\n",
       "      <th>l_3_w_5_max_Weekly_Sales</th>\n",
       "      <th>l_3_w_5_min_Weekly_Sales</th>\n",
       "    </tr>\n",
       "  </thead>\n",
       "  <tbody>\n",
       "    <tr>\n",
       "      <th>0</th>\n",
       "      <td>1</td>\n",
       "      <td>1</td>\n",
       "      <td>2010-02-05</td>\n",
       "      <td>24924.50</td>\n",
       "      <td>1_1_2010-02-05</td>\n",
       "      <td>True</td>\n",
       "      <td>A</td>\n",
       "      <td>151315</td>\n",
       "      <td>42.31</td>\n",
       "      <td>2.572</td>\n",
       "      <td>...</td>\n",
       "      <td>NaN</td>\n",
       "      <td>NaN</td>\n",
       "      <td>NaN</td>\n",
       "      <td>NaN</td>\n",
       "      <td>NaN</td>\n",
       "      <td>NaN</td>\n",
       "      <td>NaN</td>\n",
       "      <td>NaN</td>\n",
       "      <td>NaN</td>\n",
       "      <td>NaN</td>\n",
       "    </tr>\n",
       "    <tr>\n",
       "      <th>5747</th>\n",
       "      <td>1</td>\n",
       "      <td>1</td>\n",
       "      <td>2010-02-12</td>\n",
       "      <td>46039.49</td>\n",
       "      <td>1_1_2010-02-12</td>\n",
       "      <td>True</td>\n",
       "      <td>A</td>\n",
       "      <td>151315</td>\n",
       "      <td>38.51</td>\n",
       "      <td>2.548</td>\n",
       "      <td>...</td>\n",
       "      <td>NaN</td>\n",
       "      <td>NaN</td>\n",
       "      <td>NaN</td>\n",
       "      <td>NaN</td>\n",
       "      <td>NaN</td>\n",
       "      <td>NaN</td>\n",
       "      <td>NaN</td>\n",
       "      <td>NaN</td>\n",
       "      <td>NaN</td>\n",
       "      <td>NaN</td>\n",
       "    </tr>\n",
       "    <tr>\n",
       "      <th>6829</th>\n",
       "      <td>1</td>\n",
       "      <td>1</td>\n",
       "      <td>2010-02-19</td>\n",
       "      <td>41595.55</td>\n",
       "      <td>1_1_2010-02-19</td>\n",
       "      <td>True</td>\n",
       "      <td>A</td>\n",
       "      <td>151315</td>\n",
       "      <td>39.93</td>\n",
       "      <td>2.514</td>\n",
       "      <td>...</td>\n",
       "      <td>NaN</td>\n",
       "      <td>NaN</td>\n",
       "      <td>NaN</td>\n",
       "      <td>NaN</td>\n",
       "      <td>NaN</td>\n",
       "      <td>NaN</td>\n",
       "      <td>NaN</td>\n",
       "      <td>NaN</td>\n",
       "      <td>NaN</td>\n",
       "      <td>NaN</td>\n",
       "    </tr>\n",
       "    <tr>\n",
       "      <th>11698</th>\n",
       "      <td>1</td>\n",
       "      <td>1</td>\n",
       "      <td>2010-02-26</td>\n",
       "      <td>19403.54</td>\n",
       "      <td>1_1_2010-02-26</td>\n",
       "      <td>True</td>\n",
       "      <td>A</td>\n",
       "      <td>151315</td>\n",
       "      <td>46.63</td>\n",
       "      <td>2.561</td>\n",
       "      <td>...</td>\n",
       "      <td>NaN</td>\n",
       "      <td>NaN</td>\n",
       "      <td>NaN</td>\n",
       "      <td>NaN</td>\n",
       "      <td>NaN</td>\n",
       "      <td>NaN</td>\n",
       "      <td>NaN</td>\n",
       "      <td>NaN</td>\n",
       "      <td>NaN</td>\n",
       "      <td>NaN</td>\n",
       "    </tr>\n",
       "    <tr>\n",
       "      <th>12681</th>\n",
       "      <td>1</td>\n",
       "      <td>1</td>\n",
       "      <td>2010-03-05</td>\n",
       "      <td>21827.90</td>\n",
       "      <td>1_1_2010-03-05</td>\n",
       "      <td>True</td>\n",
       "      <td>A</td>\n",
       "      <td>151315</td>\n",
       "      <td>46.50</td>\n",
       "      <td>2.625</td>\n",
       "      <td>...</td>\n",
       "      <td>NaN</td>\n",
       "      <td>NaN</td>\n",
       "      <td>NaN</td>\n",
       "      <td>NaN</td>\n",
       "      <td>NaN</td>\n",
       "      <td>NaN</td>\n",
       "      <td>NaN</td>\n",
       "      <td>NaN</td>\n",
       "      <td>NaN</td>\n",
       "      <td>NaN</td>\n",
       "    </tr>\n",
       "    <tr>\n",
       "      <th>...</th>\n",
       "      <td>...</td>\n",
       "      <td>...</td>\n",
       "      <td>...</td>\n",
       "      <td>...</td>\n",
       "      <td>...</td>\n",
       "      <td>...</td>\n",
       "      <td>...</td>\n",
       "      <td>...</td>\n",
       "      <td>...</td>\n",
       "      <td>...</td>\n",
       "      <td>...</td>\n",
       "      <td>...</td>\n",
       "      <td>...</td>\n",
       "      <td>...</td>\n",
       "      <td>...</td>\n",
       "      <td>...</td>\n",
       "      <td>...</td>\n",
       "      <td>...</td>\n",
       "      <td>...</td>\n",
       "      <td>...</td>\n",
       "      <td>...</td>\n",
       "    </tr>\n",
       "    <tr>\n",
       "      <th>523896</th>\n",
       "      <td>45</td>\n",
       "      <td>98</td>\n",
       "      <td>2013-06-28</td>\n",
       "      <td>0.00</td>\n",
       "      <td>45_98_2013-06-28</td>\n",
       "      <td>False</td>\n",
       "      <td>B</td>\n",
       "      <td>118221</td>\n",
       "      <td>76.05</td>\n",
       "      <td>3.639</td>\n",
       "      <td>...</td>\n",
       "      <td>770.690</td>\n",
       "      <td>70.249079</td>\n",
       "      <td>874.64</td>\n",
       "      <td>713.50</td>\n",
       "      <td>4023.12</td>\n",
       "      <td>804.624</td>\n",
       "      <td>795.94</td>\n",
       "      <td>78.582297</td>\n",
       "      <td>893.60</td>\n",
       "      <td>713.50</td>\n",
       "    </tr>\n",
       "    <tr>\n",
       "      <th>525567</th>\n",
       "      <td>45</td>\n",
       "      <td>98</td>\n",
       "      <td>2013-07-05</td>\n",
       "      <td>0.00</td>\n",
       "      <td>45_98_2013-07-05</td>\n",
       "      <td>False</td>\n",
       "      <td>B</td>\n",
       "      <td>118221</td>\n",
       "      <td>77.50</td>\n",
       "      <td>3.614</td>\n",
       "      <td>...</td>\n",
       "      <td>826.145</td>\n",
       "      <td>72.655671</td>\n",
       "      <td>874.64</td>\n",
       "      <td>713.50</td>\n",
       "      <td>3985.87</td>\n",
       "      <td>797.174</td>\n",
       "      <td>795.94</td>\n",
       "      <td>69.249635</td>\n",
       "      <td>874.64</td>\n",
       "      <td>713.50</td>\n",
       "    </tr>\n",
       "    <tr>\n",
       "      <th>527978</th>\n",
       "      <td>45</td>\n",
       "      <td>98</td>\n",
       "      <td>2013-07-12</td>\n",
       "      <td>0.00</td>\n",
       "      <td>45_98_2013-07-12</td>\n",
       "      <td>False</td>\n",
       "      <td>B</td>\n",
       "      <td>118221</td>\n",
       "      <td>79.37</td>\n",
       "      <td>3.614</td>\n",
       "      <td>...</td>\n",
       "      <td>784.925</td>\n",
       "      <td>120.107491</td>\n",
       "      <td>874.64</td>\n",
       "      <td>622.62</td>\n",
       "      <td>3863.05</td>\n",
       "      <td>772.610</td>\n",
       "      <td>795.94</td>\n",
       "      <td>104.830565</td>\n",
       "      <td>874.64</td>\n",
       "      <td>622.62</td>\n",
       "    </tr>\n",
       "    <tr>\n",
       "      <th>532235</th>\n",
       "      <td>45</td>\n",
       "      <td>98</td>\n",
       "      <td>2013-07-19</td>\n",
       "      <td>0.00</td>\n",
       "      <td>45_98_2013-07-19</td>\n",
       "      <td>False</td>\n",
       "      <td>B</td>\n",
       "      <td>118221</td>\n",
       "      <td>82.84</td>\n",
       "      <td>3.737</td>\n",
       "      <td>...</td>\n",
       "      <td>702.010</td>\n",
       "      <td>98.290848</td>\n",
       "      <td>856.35</td>\n",
       "      <td>622.62</td>\n",
       "      <td>3757.63</td>\n",
       "      <td>751.526</td>\n",
       "      <td>713.50</td>\n",
       "      <td>109.464142</td>\n",
       "      <td>874.64</td>\n",
       "      <td>622.62</td>\n",
       "    </tr>\n",
       "    <tr>\n",
       "      <th>536633</th>\n",
       "      <td>45</td>\n",
       "      <td>98</td>\n",
       "      <td>2013-07-26</td>\n",
       "      <td>0.00</td>\n",
       "      <td>45_98_2013-07-26</td>\n",
       "      <td>False</td>\n",
       "      <td>B</td>\n",
       "      <td>118221</td>\n",
       "      <td>76.06</td>\n",
       "      <td>3.804</td>\n",
       "      <td>...</td>\n",
       "      <td>675.085</td>\n",
       "      <td>103.180578</td>\n",
       "      <td>856.35</td>\n",
       "      <td>622.62</td>\n",
       "      <td>3542.64</td>\n",
       "      <td>708.528</td>\n",
       "      <td>690.52</td>\n",
       "      <td>89.400218</td>\n",
       "      <td>856.35</td>\n",
       "      <td>622.62</td>\n",
       "    </tr>\n",
       "  </tbody>\n",
       "</table>\n",
       "<p>536634 rows × 95 columns</p>\n",
       "</div>"
      ],
      "text/plain": [
       "        Store  Dept       Date  Weekly_Sales               UID  IsTrain Type  \\\n",
       "0           1     1 2010-02-05      24924.50    1_1_2010-02-05     True    A   \n",
       "5747        1     1 2010-02-12      46039.49    1_1_2010-02-12     True    A   \n",
       "6829        1     1 2010-02-19      41595.55    1_1_2010-02-19     True    A   \n",
       "11698       1     1 2010-02-26      19403.54    1_1_2010-02-26     True    A   \n",
       "12681       1     1 2010-03-05      21827.90    1_1_2010-03-05     True    A   \n",
       "...       ...   ...        ...           ...               ...      ...  ...   \n",
       "523896     45    98 2013-06-28          0.00  45_98_2013-06-28    False    B   \n",
       "525567     45    98 2013-07-05          0.00  45_98_2013-07-05    False    B   \n",
       "527978     45    98 2013-07-12          0.00  45_98_2013-07-12    False    B   \n",
       "532235     45    98 2013-07-19          0.00  45_98_2013-07-19    False    B   \n",
       "536633     45    98 2013-07-26          0.00  45_98_2013-07-26    False    B   \n",
       "\n",
       "          Size  Temperature  Fuel_Price  ...  l_3_w_4_median_Weekly_Sales  \\\n",
       "0       151315        42.31       2.572  ...                          NaN   \n",
       "5747    151315        38.51       2.548  ...                          NaN   \n",
       "6829    151315        39.93       2.514  ...                          NaN   \n",
       "11698   151315        46.63       2.561  ...                          NaN   \n",
       "12681   151315        46.50       2.625  ...                          NaN   \n",
       "...        ...          ...         ...  ...                          ...   \n",
       "523896  118221        76.05       3.639  ...                      770.690   \n",
       "525567  118221        77.50       3.614  ...                      826.145   \n",
       "527978  118221        79.37       3.614  ...                      784.925   \n",
       "532235  118221        82.84       3.737  ...                      702.010   \n",
       "536633  118221        76.06       3.804  ...                      675.085   \n",
       "\n",
       "        l_3_w_4_std_Weekly_Sales  l_3_w_4_max_Weekly_Sales  \\\n",
       "0                            NaN                       NaN   \n",
       "5747                         NaN                       NaN   \n",
       "6829                         NaN                       NaN   \n",
       "11698                        NaN                       NaN   \n",
       "12681                        NaN                       NaN   \n",
       "...                          ...                       ...   \n",
       "523896                 70.249079                    874.64   \n",
       "525567                 72.655671                    874.64   \n",
       "527978                120.107491                    874.64   \n",
       "532235                 98.290848                    856.35   \n",
       "536633                103.180578                    856.35   \n",
       "\n",
       "        l_3_w_4_min_Weekly_Sales  l_3_w_5_sum_Weekly_Sales  \\\n",
       "0                            NaN                       NaN   \n",
       "5747                         NaN                       NaN   \n",
       "6829                         NaN                       NaN   \n",
       "11698                        NaN                       NaN   \n",
       "12681                        NaN                       NaN   \n",
       "...                          ...                       ...   \n",
       "523896                    713.50                   4023.12   \n",
       "525567                    713.50                   3985.87   \n",
       "527978                    622.62                   3863.05   \n",
       "532235                    622.62                   3757.63   \n",
       "536633                    622.62                   3542.64   \n",
       "\n",
       "        l_3_w_5_mean_Weekly_Sales  l_3_w_5_median_Weekly_Sales  \\\n",
       "0                             NaN                          NaN   \n",
       "5747                          NaN                          NaN   \n",
       "6829                          NaN                          NaN   \n",
       "11698                         NaN                          NaN   \n",
       "12681                         NaN                          NaN   \n",
       "...                           ...                          ...   \n",
       "523896                    804.624                       795.94   \n",
       "525567                    797.174                       795.94   \n",
       "527978                    772.610                       795.94   \n",
       "532235                    751.526                       713.50   \n",
       "536633                    708.528                       690.52   \n",
       "\n",
       "        l_3_w_5_std_Weekly_Sales  l_3_w_5_max_Weekly_Sales  \\\n",
       "0                            NaN                       NaN   \n",
       "5747                         NaN                       NaN   \n",
       "6829                         NaN                       NaN   \n",
       "11698                        NaN                       NaN   \n",
       "12681                        NaN                       NaN   \n",
       "...                          ...                       ...   \n",
       "523896                 78.582297                    893.60   \n",
       "525567                 69.249635                    874.64   \n",
       "527978                104.830565                    874.64   \n",
       "532235                109.464142                    874.64   \n",
       "536633                 89.400218                    856.35   \n",
       "\n",
       "        l_3_w_5_min_Weekly_Sales  \n",
       "0                            NaN  \n",
       "5747                         NaN  \n",
       "6829                         NaN  \n",
       "11698                        NaN  \n",
       "12681                        NaN  \n",
       "...                          ...  \n",
       "523896                    713.50  \n",
       "525567                    713.50  \n",
       "527978                    622.62  \n",
       "532235                    622.62  \n",
       "536633                    622.62  \n",
       "\n",
       "[536634 rows x 95 columns]"
      ]
     },
     "execution_count": 29,
     "metadata": {},
     "output_type": "execute_result"
    }
   ],
   "source": [
    "data"
   ]
  },
  {
   "cell_type": "code",
   "execution_count": 36,
   "metadata": {},
   "outputs": [
    {
     "name": "stdout",
     "output_type": "stream",
     "text": [
      "<class 'pandas.core.frame.DataFrame'>\n",
      "Index: 536634 entries, 0 to 536633\n",
      "Data columns (total 95 columns):\n",
      " #   Column                       Non-Null Count   Dtype         \n",
      "---  ------                       --------------   -----         \n",
      " 0   Store                        536634 non-null  int64         \n",
      " 1   Dept                         536634 non-null  int64         \n",
      " 2   Date                         536634 non-null  datetime64[ns]\n",
      " 3   Weekly_Sales                 536634 non-null  float64       \n",
      " 4   UID                          536634 non-null  object        \n",
      " 5   IsTrain                      536634 non-null  bool          \n",
      " 6   Type                         536634 non-null  object        \n",
      " 7   Size                         536634 non-null  int64         \n",
      " 8   Temperature                  536634 non-null  float64       \n",
      " 9   Fuel_Price                   536634 non-null  float64       \n",
      " 10  CPI                          498472 non-null  float64       \n",
      " 11  Unemployment                 498472 non-null  float64       \n",
      " 12  IsHoliday                    536634 non-null  int32         \n",
      " 13  month                        536634 non-null  int32         \n",
      " 14  day_of_month                 536634 non-null  int32         \n",
      " 15  week_of_year                 536634 non-null  UInt32        \n",
      " 16  quarter                      536634 non-null  int32         \n",
      " 17  year                         536634 non-null  int32         \n",
      " 18  MarkDown                     536634 non-null  float64       \n",
      " 19  lag_0_Weekly_Sales           374801 non-null  float64       \n",
      " 20  l_0_w_3_sum_Weekly_Sales     368743 non-null  float64       \n",
      " 21  l_0_w_3_mean_Weekly_Sales    368743 non-null  float64       \n",
      " 22  l_0_w_3_median_Weekly_Sales  368743 non-null  float64       \n",
      " 23  l_0_w_3_std_Weekly_Sales     368743 non-null  float64       \n",
      " 24  l_0_w_3_max_Weekly_Sales     368743 non-null  float64       \n",
      " 25  l_0_w_3_min_Weekly_Sales     368743 non-null  float64       \n",
      " 26  l_0_w_4_sum_Weekly_Sales     365717 non-null  float64       \n",
      " 27  l_0_w_4_mean_Weekly_Sales    365717 non-null  float64       \n",
      " 28  l_0_w_4_median_Weekly_Sales  365717 non-null  float64       \n",
      " 29  l_0_w_4_std_Weekly_Sales     365717 non-null  float64       \n",
      " 30  l_0_w_4_max_Weekly_Sales     365717 non-null  float64       \n",
      " 31  l_0_w_4_min_Weekly_Sales     365717 non-null  float64       \n",
      " 32  l_0_w_5_sum_Weekly_Sales     362693 non-null  float64       \n",
      " 33  l_0_w_5_mean_Weekly_Sales    362693 non-null  float64       \n",
      " 34  l_0_w_5_median_Weekly_Sales  362693 non-null  float64       \n",
      " 35  l_0_w_5_std_Weekly_Sales     362693 non-null  float64       \n",
      " 36  l_0_w_5_max_Weekly_Sales     362693 non-null  float64       \n",
      " 37  l_0_w_5_min_Weekly_Sales     362693 non-null  float64       \n",
      " 38  lag_1_Weekly_Sales           371771 non-null  float64       \n",
      " 39  l_1_w_3_sum_Weekly_Sales     365717 non-null  float64       \n",
      " 40  l_1_w_3_mean_Weekly_Sales    365717 non-null  float64       \n",
      " 41  l_1_w_3_median_Weekly_Sales  365717 non-null  float64       \n",
      " 42  l_1_w_3_std_Weekly_Sales     365717 non-null  float64       \n",
      " 43  l_1_w_3_max_Weekly_Sales     365717 non-null  float64       \n",
      " 44  l_1_w_3_min_Weekly_Sales     365717 non-null  float64       \n",
      " 45  l_1_w_4_sum_Weekly_Sales     362693 non-null  float64       \n",
      " 46  l_1_w_4_mean_Weekly_Sales    362693 non-null  float64       \n",
      " 47  l_1_w_4_median_Weekly_Sales  362693 non-null  float64       \n",
      " 48  l_1_w_4_std_Weekly_Sales     362693 non-null  float64       \n",
      " 49  l_1_w_4_max_Weekly_Sales     362693 non-null  float64       \n",
      " 50  l_1_w_4_min_Weekly_Sales     362693 non-null  float64       \n",
      " 51  l_1_w_5_sum_Weekly_Sales     359670 non-null  float64       \n",
      " 52  l_1_w_5_mean_Weekly_Sales    359670 non-null  float64       \n",
      " 53  l_1_w_5_median_Weekly_Sales  359670 non-null  float64       \n",
      " 54  l_1_w_5_std_Weekly_Sales     359670 non-null  float64       \n",
      " 55  l_1_w_5_max_Weekly_Sales     359670 non-null  float64       \n",
      " 56  l_1_w_5_min_Weekly_Sales     359670 non-null  float64       \n",
      " 57  lag_2_Weekly_Sales           368743 non-null  float64       \n",
      " 58  l_2_w_3_sum_Weekly_Sales     362693 non-null  float64       \n",
      " 59  l_2_w_3_mean_Weekly_Sales    362693 non-null  float64       \n",
      " 60  l_2_w_3_median_Weekly_Sales  362693 non-null  float64       \n",
      " 61  l_2_w_3_std_Weekly_Sales     362693 non-null  float64       \n",
      " 62  l_2_w_3_max_Weekly_Sales     362693 non-null  float64       \n",
      " 63  l_2_w_3_min_Weekly_Sales     362693 non-null  float64       \n",
      " 64  l_2_w_4_sum_Weekly_Sales     359670 non-null  float64       \n",
      " 65  l_2_w_4_mean_Weekly_Sales    359670 non-null  float64       \n",
      " 66  l_2_w_4_median_Weekly_Sales  359670 non-null  float64       \n",
      " 67  l_2_w_4_std_Weekly_Sales     359670 non-null  float64       \n",
      " 68  l_2_w_4_max_Weekly_Sales     359670 non-null  float64       \n",
      " 69  l_2_w_4_min_Weekly_Sales     359670 non-null  float64       \n",
      " 70  l_2_w_5_sum_Weekly_Sales     356651 non-null  float64       \n",
      " 71  l_2_w_5_mean_Weekly_Sales    356651 non-null  float64       \n",
      " 72  l_2_w_5_median_Weekly_Sales  356651 non-null  float64       \n",
      " 73  l_2_w_5_std_Weekly_Sales     356651 non-null  float64       \n",
      " 74  l_2_w_5_max_Weekly_Sales     356651 non-null  float64       \n",
      " 75  l_2_w_5_min_Weekly_Sales     356651 non-null  float64       \n",
      " 76  lag_3_Weekly_Sales           365717 non-null  float64       \n",
      " 77  l_3_w_3_sum_Weekly_Sales     359670 non-null  float64       \n",
      " 78  l_3_w_3_mean_Weekly_Sales    359670 non-null  float64       \n",
      " 79  l_3_w_3_median_Weekly_Sales  359670 non-null  float64       \n",
      " 80  l_3_w_3_std_Weekly_Sales     359670 non-null  float64       \n",
      " 81  l_3_w_3_max_Weekly_Sales     359670 non-null  float64       \n",
      " 82  l_3_w_3_min_Weekly_Sales     359670 non-null  float64       \n",
      " 83  l_3_w_4_sum_Weekly_Sales     356651 non-null  float64       \n",
      " 84  l_3_w_4_mean_Weekly_Sales    356651 non-null  float64       \n",
      " 85  l_3_w_4_median_Weekly_Sales  356651 non-null  float64       \n",
      " 86  l_3_w_4_std_Weekly_Sales     356651 non-null  float64       \n",
      " 87  l_3_w_4_max_Weekly_Sales     356651 non-null  float64       \n",
      " 88  l_3_w_4_min_Weekly_Sales     356651 non-null  float64       \n",
      " 89  l_3_w_5_sum_Weekly_Sales     353634 non-null  float64       \n",
      " 90  l_3_w_5_mean_Weekly_Sales    353634 non-null  float64       \n",
      " 91  l_3_w_5_median_Weekly_Sales  353634 non-null  float64       \n",
      " 92  l_3_w_5_std_Weekly_Sales     353634 non-null  float64       \n",
      " 93  l_3_w_5_max_Weekly_Sales     353634 non-null  float64       \n",
      " 94  l_3_w_5_min_Weekly_Sales     353634 non-null  float64       \n",
      "dtypes: UInt32(1), bool(1), datetime64[ns](1), float64(82), int32(5), int64(3), object(2)\n",
      "memory usage: 377.7+ MB\n"
     ]
    }
   ],
   "source": [
    "data.info()"
   ]
  },
  {
   "cell_type": "code",
   "execution_count": 37,
   "metadata": {},
   "outputs": [
    {
     "data": {
      "application/vnd.plotly.v1+json": {
       "config": {
        "plotlyServerURL": "https://plot.ly"
       },
       "data": [
        {
         "hovertemplate": "variable=l_3_w_5_min_Weekly_Sales<br>Date=%{x}<br>value=%{y}<extra></extra>",
         "legendgroup": "l_3_w_5_min_Weekly_Sales",
         "line": {
          "color": "#636efa",
          "dash": "solid"
         },
         "marker": {
          "symbol": "circle"
         },
         "mode": "lines",
         "name": "l_3_w_5_min_Weekly_Sales",
         "orientation": "v",
         "showlegend": true,
         "type": "scatter",
         "x": [
          "2010-02-05T00:00:00",
          "2010-02-12T00:00:00",
          "2010-02-19T00:00:00",
          "2010-02-26T00:00:00",
          "2010-03-05T00:00:00",
          "2010-03-12T00:00:00",
          "2010-03-19T00:00:00",
          "2010-03-26T00:00:00",
          "2010-04-02T00:00:00",
          "2010-04-09T00:00:00",
          "2010-04-16T00:00:00",
          "2010-04-23T00:00:00",
          "2010-04-30T00:00:00",
          "2010-05-07T00:00:00",
          "2010-05-14T00:00:00",
          "2010-05-21T00:00:00",
          "2010-05-28T00:00:00",
          "2010-06-04T00:00:00",
          "2010-06-11T00:00:00",
          "2010-06-18T00:00:00",
          "2010-06-25T00:00:00",
          "2010-07-02T00:00:00",
          "2010-07-09T00:00:00",
          "2010-07-16T00:00:00",
          "2010-07-23T00:00:00",
          "2010-07-30T00:00:00",
          "2010-08-06T00:00:00",
          "2010-08-13T00:00:00",
          "2010-08-20T00:00:00",
          "2010-08-27T00:00:00",
          "2010-09-03T00:00:00",
          "2010-09-10T00:00:00",
          "2010-09-17T00:00:00",
          "2010-09-24T00:00:00",
          "2010-10-01T00:00:00",
          "2010-10-08T00:00:00",
          "2010-10-15T00:00:00",
          "2010-10-22T00:00:00",
          "2010-10-29T00:00:00",
          "2010-11-05T00:00:00",
          "2010-11-12T00:00:00",
          "2010-11-19T00:00:00",
          "2010-11-26T00:00:00",
          "2010-12-03T00:00:00",
          "2010-12-10T00:00:00",
          "2010-12-17T00:00:00",
          "2010-12-24T00:00:00",
          "2010-12-31T00:00:00",
          "2011-01-07T00:00:00",
          "2011-01-14T00:00:00",
          "2011-01-21T00:00:00",
          "2011-01-28T00:00:00",
          "2011-02-04T00:00:00",
          "2011-02-11T00:00:00",
          "2011-02-18T00:00:00",
          "2011-02-25T00:00:00",
          "2011-03-04T00:00:00",
          "2011-03-11T00:00:00",
          "2011-03-18T00:00:00",
          "2011-03-25T00:00:00",
          "2011-04-01T00:00:00",
          "2011-04-08T00:00:00",
          "2011-04-15T00:00:00",
          "2011-04-22T00:00:00",
          "2011-04-29T00:00:00",
          "2011-05-06T00:00:00",
          "2011-05-13T00:00:00",
          "2011-05-20T00:00:00",
          "2011-05-27T00:00:00",
          "2011-06-03T00:00:00",
          "2011-06-10T00:00:00",
          "2011-06-17T00:00:00",
          "2011-06-24T00:00:00",
          "2011-07-01T00:00:00",
          "2011-07-08T00:00:00",
          "2011-07-15T00:00:00",
          "2011-07-22T00:00:00",
          "2011-07-29T00:00:00",
          "2011-08-05T00:00:00",
          "2011-08-12T00:00:00",
          "2011-08-19T00:00:00",
          "2011-08-26T00:00:00",
          "2011-09-02T00:00:00",
          "2011-09-09T00:00:00",
          "2011-09-16T00:00:00",
          "2011-09-23T00:00:00",
          "2011-09-30T00:00:00",
          "2011-10-07T00:00:00",
          "2011-10-14T00:00:00",
          "2011-10-21T00:00:00",
          "2011-10-28T00:00:00",
          "2011-11-04T00:00:00",
          "2011-11-11T00:00:00",
          "2011-11-18T00:00:00",
          "2011-11-25T00:00:00",
          "2011-12-02T00:00:00",
          "2011-12-09T00:00:00",
          "2011-12-16T00:00:00",
          "2011-12-23T00:00:00",
          "2011-12-30T00:00:00",
          "2012-01-06T00:00:00",
          "2012-01-13T00:00:00",
          "2012-01-20T00:00:00",
          "2012-01-27T00:00:00",
          "2012-02-03T00:00:00",
          "2012-02-10T00:00:00",
          "2012-02-17T00:00:00",
          "2012-02-24T00:00:00",
          "2012-03-02T00:00:00",
          "2012-03-09T00:00:00",
          "2012-03-16T00:00:00",
          "2012-03-23T00:00:00",
          "2012-03-30T00:00:00",
          "2012-04-06T00:00:00",
          "2012-04-13T00:00:00",
          "2012-04-20T00:00:00",
          "2012-04-27T00:00:00",
          "2012-05-04T00:00:00",
          "2012-05-11T00:00:00",
          "2012-05-18T00:00:00",
          "2012-05-25T00:00:00",
          "2012-06-01T00:00:00",
          "2012-06-08T00:00:00",
          "2012-06-15T00:00:00",
          "2012-06-22T00:00:00",
          "2012-06-29T00:00:00",
          "2012-07-06T00:00:00",
          "2012-07-13T00:00:00",
          "2012-07-20T00:00:00",
          "2012-07-27T00:00:00",
          "2012-08-03T00:00:00",
          "2012-08-10T00:00:00",
          "2012-08-17T00:00:00",
          "2012-08-24T00:00:00",
          "2012-08-31T00:00:00",
          "2012-09-07T00:00:00",
          "2012-09-14T00:00:00",
          "2012-09-21T00:00:00",
          "2012-09-28T00:00:00",
          "2012-10-05T00:00:00",
          "2012-10-12T00:00:00",
          "2012-10-19T00:00:00",
          "2012-10-26T00:00:00",
          "2012-11-02T00:00:00",
          "2012-11-09T00:00:00",
          "2012-11-16T00:00:00",
          "2012-11-23T00:00:00",
          "2012-11-30T00:00:00",
          "2012-12-07T00:00:00",
          "2012-12-14T00:00:00",
          "2012-12-21T00:00:00",
          "2012-12-28T00:00:00",
          "2013-01-04T00:00:00",
          "2013-01-11T00:00:00",
          "2013-01-18T00:00:00",
          "2013-01-25T00:00:00",
          "2013-02-01T00:00:00",
          "2013-02-08T00:00:00",
          "2013-02-15T00:00:00",
          "2013-02-22T00:00:00",
          "2013-03-01T00:00:00",
          "2013-03-08T00:00:00",
          "2013-03-15T00:00:00",
          "2013-03-22T00:00:00",
          "2013-03-29T00:00:00",
          "2013-04-05T00:00:00",
          "2013-04-12T00:00:00",
          "2013-04-19T00:00:00",
          "2013-04-26T00:00:00",
          "2013-05-03T00:00:00",
          "2013-05-10T00:00:00",
          "2013-05-17T00:00:00",
          "2013-05-24T00:00:00",
          "2013-05-31T00:00:00",
          "2013-06-07T00:00:00",
          "2013-06-14T00:00:00",
          "2013-06-21T00:00:00",
          "2013-06-28T00:00:00",
          "2013-07-05T00:00:00",
          "2013-07-12T00:00:00",
          "2013-07-19T00:00:00",
          "2013-07-26T00:00:00"
         ],
         "xaxis": "x",
         "y": [
          null,
          null,
          null,
          null,
          null,
          null,
          null,
          null,
          null,
          null,
          null,
          null,
          null,
          null,
          null,
          null,
          null,
          null,
          null,
          null,
          null,
          null,
          null,
          null,
          null,
          null,
          null,
          null,
          null,
          null,
          null,
          null,
          null,
          null,
          null,
          null,
          null,
          null,
          null,
          null,
          null,
          null,
          null,
          null,
          null,
          null,
          null,
          null,
          null,
          null,
          null,
          null,
          null,
          null,
          null,
          null,
          null,
          null,
          null,
          19403.54,
          19403.54,
          19403.54,
          19403.54,
          21043.39,
          21043.39,
          17596.96,
          16145.35,
          16145.35,
          16145.35,
          16145.35,
          14773.04,
          14773.04,
          14773.04,
          14773.04,
          14773.04,
          15580.43,
          16216.27,
          16216.27,
          16216.27,
          15360.45,
          15360.45,
          15360.45,
          15360.45,
          15360.45,
          15381.82,
          15536.4,
          15536.4,
          15740.13,
          15793.87,
          16241.78,
          18122.52,
          18122.52,
          18122.52,
          20094.19,
          23388.03,
          19549.39,
          19549.39,
          18820.29,
          18820.29,
          18820.29,
          18820.29,
          18820.29,
          19124.58,
          15984.24,
          15984.24,
          15984.24,
          15984.24,
          15984.24,
          17341.47,
          17341.47,
          18461.18,
          19363.83,
          19363.83,
          19363.83,
          19363.83,
          20327.61,
          20334.23,
          20334.23,
          20398.09,
          20398.09,
          20138.19,
          17235.15,
          15136.78,
          15136.78,
          15136.78,
          15136.78,
          14978.09,
          14978.09,
          14978.09,
          14978.09,
          14978.09,
          15363.5,
          15363.5,
          15295.55,
          14539.79,
          14539.79,
          14537.37,
          14537.37,
          14537.37,
          14537.37,
          14537.37,
          15277.27,
          17746.68,
          17859.3,
          17859.3,
          18337.68,
          20797.58,
          18689.54,
          18689.54,
          18689.54,
          18689.54,
          18689.54,
          19050.66,
          20911.25,
          23350.88,
          16567.69,
          16567.69,
          16567.69,
          16567.69,
          16567.69,
          16894.4,
          18365.1,
          18378.16,
          20113.03,
          20113.03,
          20113.03,
          20113.03,
          20113.03,
          21140.07,
          22107.7,
          16976.19,
          16347.6,
          16347.6,
          16347.6,
          16347.6,
          16347.6,
          16065.49,
          16065.49,
          16065.49,
          16065.49,
          15722.82,
          15722.82
         ],
         "yaxis": "y"
        },
        {
         "hovertemplate": "variable=lag_52_l_3_w_5_min_Weekly_Sales<br>Date=%{x}<br>value=%{y}<extra></extra>",
         "legendgroup": "lag_52_l_3_w_5_min_Weekly_Sales",
         "line": {
          "color": "#EF553B",
          "dash": "solid"
         },
         "marker": {
          "symbol": "circle"
         },
         "mode": "lines",
         "name": "lag_52_l_3_w_5_min_Weekly_Sales",
         "orientation": "v",
         "showlegend": true,
         "type": "scatter",
         "x": [
          "2010-02-05T00:00:00",
          "2010-02-12T00:00:00",
          "2010-02-19T00:00:00",
          "2010-02-26T00:00:00",
          "2010-03-05T00:00:00",
          "2010-03-12T00:00:00",
          "2010-03-19T00:00:00",
          "2010-03-26T00:00:00",
          "2010-04-02T00:00:00",
          "2010-04-09T00:00:00",
          "2010-04-16T00:00:00",
          "2010-04-23T00:00:00",
          "2010-04-30T00:00:00",
          "2010-05-07T00:00:00",
          "2010-05-14T00:00:00",
          "2010-05-21T00:00:00",
          "2010-05-28T00:00:00",
          "2010-06-04T00:00:00",
          "2010-06-11T00:00:00",
          "2010-06-18T00:00:00",
          "2010-06-25T00:00:00",
          "2010-07-02T00:00:00",
          "2010-07-09T00:00:00",
          "2010-07-16T00:00:00",
          "2010-07-23T00:00:00",
          "2010-07-30T00:00:00",
          "2010-08-06T00:00:00",
          "2010-08-13T00:00:00",
          "2010-08-20T00:00:00",
          "2010-08-27T00:00:00",
          "2010-09-03T00:00:00",
          "2010-09-10T00:00:00",
          "2010-09-17T00:00:00",
          "2010-09-24T00:00:00",
          "2010-10-01T00:00:00",
          "2010-10-08T00:00:00",
          "2010-10-15T00:00:00",
          "2010-10-22T00:00:00",
          "2010-10-29T00:00:00",
          "2010-11-05T00:00:00",
          "2010-11-12T00:00:00",
          "2010-11-19T00:00:00",
          "2010-11-26T00:00:00",
          "2010-12-03T00:00:00",
          "2010-12-10T00:00:00",
          "2010-12-17T00:00:00",
          "2010-12-24T00:00:00",
          "2010-12-31T00:00:00",
          "2011-01-07T00:00:00",
          "2011-01-14T00:00:00",
          "2011-01-21T00:00:00",
          "2011-01-28T00:00:00",
          "2011-02-04T00:00:00",
          "2011-02-11T00:00:00",
          "2011-02-18T00:00:00",
          "2011-02-25T00:00:00",
          "2011-03-04T00:00:00",
          "2011-03-11T00:00:00",
          "2011-03-18T00:00:00",
          "2011-03-25T00:00:00",
          "2011-04-01T00:00:00",
          "2011-04-08T00:00:00",
          "2011-04-15T00:00:00",
          "2011-04-22T00:00:00",
          "2011-04-29T00:00:00",
          "2011-05-06T00:00:00",
          "2011-05-13T00:00:00",
          "2011-05-20T00:00:00",
          "2011-05-27T00:00:00",
          "2011-06-03T00:00:00",
          "2011-06-10T00:00:00",
          "2011-06-17T00:00:00",
          "2011-06-24T00:00:00",
          "2011-07-01T00:00:00",
          "2011-07-08T00:00:00",
          "2011-07-15T00:00:00",
          "2011-07-22T00:00:00",
          "2011-07-29T00:00:00",
          "2011-08-05T00:00:00",
          "2011-08-12T00:00:00",
          "2011-08-19T00:00:00",
          "2011-08-26T00:00:00",
          "2011-09-02T00:00:00",
          "2011-09-09T00:00:00",
          "2011-09-16T00:00:00",
          "2011-09-23T00:00:00",
          "2011-09-30T00:00:00",
          "2011-10-07T00:00:00",
          "2011-10-14T00:00:00",
          "2011-10-21T00:00:00",
          "2011-10-28T00:00:00",
          "2011-11-04T00:00:00",
          "2011-11-11T00:00:00",
          "2011-11-18T00:00:00",
          "2011-11-25T00:00:00",
          "2011-12-02T00:00:00",
          "2011-12-09T00:00:00",
          "2011-12-16T00:00:00",
          "2011-12-23T00:00:00",
          "2011-12-30T00:00:00",
          "2012-01-06T00:00:00",
          "2012-01-13T00:00:00",
          "2012-01-20T00:00:00",
          "2012-01-27T00:00:00",
          "2012-02-03T00:00:00",
          "2012-02-10T00:00:00",
          "2012-02-17T00:00:00",
          "2012-02-24T00:00:00",
          "2012-03-02T00:00:00",
          "2012-03-09T00:00:00",
          "2012-03-16T00:00:00",
          "2012-03-23T00:00:00",
          "2012-03-30T00:00:00",
          "2012-04-06T00:00:00",
          "2012-04-13T00:00:00",
          "2012-04-20T00:00:00",
          "2012-04-27T00:00:00",
          "2012-05-04T00:00:00",
          "2012-05-11T00:00:00",
          "2012-05-18T00:00:00",
          "2012-05-25T00:00:00",
          "2012-06-01T00:00:00",
          "2012-06-08T00:00:00",
          "2012-06-15T00:00:00",
          "2012-06-22T00:00:00",
          "2012-06-29T00:00:00",
          "2012-07-06T00:00:00",
          "2012-07-13T00:00:00",
          "2012-07-20T00:00:00",
          "2012-07-27T00:00:00",
          "2012-08-03T00:00:00",
          "2012-08-10T00:00:00",
          "2012-08-17T00:00:00",
          "2012-08-24T00:00:00",
          "2012-08-31T00:00:00",
          "2012-09-07T00:00:00",
          "2012-09-14T00:00:00",
          "2012-09-21T00:00:00",
          "2012-09-28T00:00:00",
          "2012-10-05T00:00:00",
          "2012-10-12T00:00:00",
          "2012-10-19T00:00:00",
          "2012-10-26T00:00:00",
          "2012-11-02T00:00:00",
          "2012-11-09T00:00:00",
          "2012-11-16T00:00:00",
          "2012-11-23T00:00:00",
          "2012-11-30T00:00:00",
          "2012-12-07T00:00:00",
          "2012-12-14T00:00:00",
          "2012-12-21T00:00:00",
          "2012-12-28T00:00:00",
          "2013-01-04T00:00:00",
          "2013-01-11T00:00:00",
          "2013-01-18T00:00:00",
          "2013-01-25T00:00:00",
          "2013-02-01T00:00:00",
          "2013-02-08T00:00:00",
          "2013-02-15T00:00:00",
          "2013-02-22T00:00:00",
          "2013-03-01T00:00:00",
          "2013-03-08T00:00:00",
          "2013-03-15T00:00:00",
          "2013-03-22T00:00:00",
          "2013-03-29T00:00:00",
          "2013-04-05T00:00:00",
          "2013-04-12T00:00:00",
          "2013-04-19T00:00:00",
          "2013-04-26T00:00:00",
          "2013-05-03T00:00:00",
          "2013-05-10T00:00:00",
          "2013-05-17T00:00:00",
          "2013-05-24T00:00:00",
          "2013-05-31T00:00:00",
          "2013-06-07T00:00:00",
          "2013-06-14T00:00:00",
          "2013-06-21T00:00:00",
          "2013-06-28T00:00:00",
          "2013-07-05T00:00:00",
          "2013-07-12T00:00:00",
          "2013-07-19T00:00:00",
          "2013-07-26T00:00:00"
         ],
         "xaxis": "x",
         "y": [
          null,
          null,
          null,
          null,
          null,
          null,
          null,
          null,
          null,
          null,
          null,
          null,
          null,
          null,
          null,
          null,
          null,
          null,
          null,
          null,
          null,
          null,
          null,
          null,
          null,
          null,
          null,
          null,
          null,
          null,
          null,
          null,
          null,
          null,
          null,
          null,
          null,
          null,
          null,
          null,
          null,
          null,
          null,
          null,
          null,
          null,
          null,
          null,
          null,
          null,
          null,
          null,
          null,
          null,
          null,
          null,
          null,
          null,
          null,
          null,
          null,
          null,
          null,
          null,
          null,
          null,
          null,
          null,
          null,
          null,
          null,
          null,
          null,
          null,
          null,
          null,
          null,
          null,
          null,
          null,
          null,
          null,
          null,
          null,
          null,
          null,
          null,
          null,
          null,
          null,
          null,
          null,
          null,
          null,
          null,
          null,
          null,
          null,
          null,
          null,
          null,
          null,
          null,
          null,
          null,
          null,
          null,
          null,
          null,
          null,
          null,
          19403.54,
          19403.54,
          19403.54,
          19403.54,
          21043.39,
          21043.39,
          17596.96,
          16145.35,
          16145.35,
          16145.35,
          16145.35,
          14773.04,
          14773.04,
          14773.04,
          14773.04,
          14773.04,
          15580.43,
          16216.27,
          16216.27,
          16216.27,
          15360.45,
          15360.45,
          15360.45,
          15360.45,
          15360.45,
          15381.82,
          15536.4,
          15536.4,
          15740.13,
          15793.87,
          16241.78,
          18122.52,
          18122.52,
          18122.52,
          20094.19,
          23388.03,
          19549.39,
          19549.39,
          18820.29,
          18820.29,
          18820.29,
          18820.29,
          18820.29,
          19124.58,
          15984.24,
          15984.24,
          15984.24,
          15984.24,
          15984.24,
          17341.47,
          17341.47,
          18461.18,
          19363.83,
          19363.83,
          19363.83,
          19363.83,
          20327.61,
          20334.23,
          20334.23,
          20398.09,
          20398.09,
          20138.19,
          17235.15,
          15136.78,
          15136.78,
          15136.78,
          15136.78,
          14978.09,
          14978.09,
          14978.09,
          14978.09
         ],
         "yaxis": "y"
        }
       ],
       "layout": {
        "legend": {
         "title": {
          "text": "variable"
         },
         "tracegroupgap": 0
        },
        "template": {
         "data": {
          "bar": [
           {
            "error_x": {
             "color": "#2a3f5f"
            },
            "error_y": {
             "color": "#2a3f5f"
            },
            "marker": {
             "line": {
              "color": "#E5ECF6",
              "width": 0.5
             },
             "pattern": {
              "fillmode": "overlay",
              "size": 10,
              "solidity": 0.2
             }
            },
            "type": "bar"
           }
          ],
          "barpolar": [
           {
            "marker": {
             "line": {
              "color": "#E5ECF6",
              "width": 0.5
             },
             "pattern": {
              "fillmode": "overlay",
              "size": 10,
              "solidity": 0.2
             }
            },
            "type": "barpolar"
           }
          ],
          "carpet": [
           {
            "aaxis": {
             "endlinecolor": "#2a3f5f",
             "gridcolor": "white",
             "linecolor": "white",
             "minorgridcolor": "white",
             "startlinecolor": "#2a3f5f"
            },
            "baxis": {
             "endlinecolor": "#2a3f5f",
             "gridcolor": "white",
             "linecolor": "white",
             "minorgridcolor": "white",
             "startlinecolor": "#2a3f5f"
            },
            "type": "carpet"
           }
          ],
          "choropleth": [
           {
            "colorbar": {
             "outlinewidth": 0,
             "ticks": ""
            },
            "type": "choropleth"
           }
          ],
          "contour": [
           {
            "colorbar": {
             "outlinewidth": 0,
             "ticks": ""
            },
            "colorscale": [
             [
              0,
              "#0d0887"
             ],
             [
              0.1111111111111111,
              "#46039f"
             ],
             [
              0.2222222222222222,
              "#7201a8"
             ],
             [
              0.3333333333333333,
              "#9c179e"
             ],
             [
              0.4444444444444444,
              "#bd3786"
             ],
             [
              0.5555555555555556,
              "#d8576b"
             ],
             [
              0.6666666666666666,
              "#ed7953"
             ],
             [
              0.7777777777777778,
              "#fb9f3a"
             ],
             [
              0.8888888888888888,
              "#fdca26"
             ],
             [
              1,
              "#f0f921"
             ]
            ],
            "type": "contour"
           }
          ],
          "contourcarpet": [
           {
            "colorbar": {
             "outlinewidth": 0,
             "ticks": ""
            },
            "type": "contourcarpet"
           }
          ],
          "heatmap": [
           {
            "colorbar": {
             "outlinewidth": 0,
             "ticks": ""
            },
            "colorscale": [
             [
              0,
              "#0d0887"
             ],
             [
              0.1111111111111111,
              "#46039f"
             ],
             [
              0.2222222222222222,
              "#7201a8"
             ],
             [
              0.3333333333333333,
              "#9c179e"
             ],
             [
              0.4444444444444444,
              "#bd3786"
             ],
             [
              0.5555555555555556,
              "#d8576b"
             ],
             [
              0.6666666666666666,
              "#ed7953"
             ],
             [
              0.7777777777777778,
              "#fb9f3a"
             ],
             [
              0.8888888888888888,
              "#fdca26"
             ],
             [
              1,
              "#f0f921"
             ]
            ],
            "type": "heatmap"
           }
          ],
          "heatmapgl": [
           {
            "colorbar": {
             "outlinewidth": 0,
             "ticks": ""
            },
            "colorscale": [
             [
              0,
              "#0d0887"
             ],
             [
              0.1111111111111111,
              "#46039f"
             ],
             [
              0.2222222222222222,
              "#7201a8"
             ],
             [
              0.3333333333333333,
              "#9c179e"
             ],
             [
              0.4444444444444444,
              "#bd3786"
             ],
             [
              0.5555555555555556,
              "#d8576b"
             ],
             [
              0.6666666666666666,
              "#ed7953"
             ],
             [
              0.7777777777777778,
              "#fb9f3a"
             ],
             [
              0.8888888888888888,
              "#fdca26"
             ],
             [
              1,
              "#f0f921"
             ]
            ],
            "type": "heatmapgl"
           }
          ],
          "histogram": [
           {
            "marker": {
             "pattern": {
              "fillmode": "overlay",
              "size": 10,
              "solidity": 0.2
             }
            },
            "type": "histogram"
           }
          ],
          "histogram2d": [
           {
            "colorbar": {
             "outlinewidth": 0,
             "ticks": ""
            },
            "colorscale": [
             [
              0,
              "#0d0887"
             ],
             [
              0.1111111111111111,
              "#46039f"
             ],
             [
              0.2222222222222222,
              "#7201a8"
             ],
             [
              0.3333333333333333,
              "#9c179e"
             ],
             [
              0.4444444444444444,
              "#bd3786"
             ],
             [
              0.5555555555555556,
              "#d8576b"
             ],
             [
              0.6666666666666666,
              "#ed7953"
             ],
             [
              0.7777777777777778,
              "#fb9f3a"
             ],
             [
              0.8888888888888888,
              "#fdca26"
             ],
             [
              1,
              "#f0f921"
             ]
            ],
            "type": "histogram2d"
           }
          ],
          "histogram2dcontour": [
           {
            "colorbar": {
             "outlinewidth": 0,
             "ticks": ""
            },
            "colorscale": [
             [
              0,
              "#0d0887"
             ],
             [
              0.1111111111111111,
              "#46039f"
             ],
             [
              0.2222222222222222,
              "#7201a8"
             ],
             [
              0.3333333333333333,
              "#9c179e"
             ],
             [
              0.4444444444444444,
              "#bd3786"
             ],
             [
              0.5555555555555556,
              "#d8576b"
             ],
             [
              0.6666666666666666,
              "#ed7953"
             ],
             [
              0.7777777777777778,
              "#fb9f3a"
             ],
             [
              0.8888888888888888,
              "#fdca26"
             ],
             [
              1,
              "#f0f921"
             ]
            ],
            "type": "histogram2dcontour"
           }
          ],
          "mesh3d": [
           {
            "colorbar": {
             "outlinewidth": 0,
             "ticks": ""
            },
            "type": "mesh3d"
           }
          ],
          "parcoords": [
           {
            "line": {
             "colorbar": {
              "outlinewidth": 0,
              "ticks": ""
             }
            },
            "type": "parcoords"
           }
          ],
          "pie": [
           {
            "automargin": true,
            "type": "pie"
           }
          ],
          "scatter": [
           {
            "fillpattern": {
             "fillmode": "overlay",
             "size": 10,
             "solidity": 0.2
            },
            "type": "scatter"
           }
          ],
          "scatter3d": [
           {
            "line": {
             "colorbar": {
              "outlinewidth": 0,
              "ticks": ""
             }
            },
            "marker": {
             "colorbar": {
              "outlinewidth": 0,
              "ticks": ""
             }
            },
            "type": "scatter3d"
           }
          ],
          "scattercarpet": [
           {
            "marker": {
             "colorbar": {
              "outlinewidth": 0,
              "ticks": ""
             }
            },
            "type": "scattercarpet"
           }
          ],
          "scattergeo": [
           {
            "marker": {
             "colorbar": {
              "outlinewidth": 0,
              "ticks": ""
             }
            },
            "type": "scattergeo"
           }
          ],
          "scattergl": [
           {
            "marker": {
             "colorbar": {
              "outlinewidth": 0,
              "ticks": ""
             }
            },
            "type": "scattergl"
           }
          ],
          "scattermapbox": [
           {
            "marker": {
             "colorbar": {
              "outlinewidth": 0,
              "ticks": ""
             }
            },
            "type": "scattermapbox"
           }
          ],
          "scatterpolar": [
           {
            "marker": {
             "colorbar": {
              "outlinewidth": 0,
              "ticks": ""
             }
            },
            "type": "scatterpolar"
           }
          ],
          "scatterpolargl": [
           {
            "marker": {
             "colorbar": {
              "outlinewidth": 0,
              "ticks": ""
             }
            },
            "type": "scatterpolargl"
           }
          ],
          "scatterternary": [
           {
            "marker": {
             "colorbar": {
              "outlinewidth": 0,
              "ticks": ""
             }
            },
            "type": "scatterternary"
           }
          ],
          "surface": [
           {
            "colorbar": {
             "outlinewidth": 0,
             "ticks": ""
            },
            "colorscale": [
             [
              0,
              "#0d0887"
             ],
             [
              0.1111111111111111,
              "#46039f"
             ],
             [
              0.2222222222222222,
              "#7201a8"
             ],
             [
              0.3333333333333333,
              "#9c179e"
             ],
             [
              0.4444444444444444,
              "#bd3786"
             ],
             [
              0.5555555555555556,
              "#d8576b"
             ],
             [
              0.6666666666666666,
              "#ed7953"
             ],
             [
              0.7777777777777778,
              "#fb9f3a"
             ],
             [
              0.8888888888888888,
              "#fdca26"
             ],
             [
              1,
              "#f0f921"
             ]
            ],
            "type": "surface"
           }
          ],
          "table": [
           {
            "cells": {
             "fill": {
              "color": "#EBF0F8"
             },
             "line": {
              "color": "white"
             }
            },
            "header": {
             "fill": {
              "color": "#C8D4E3"
             },
             "line": {
              "color": "white"
             }
            },
            "type": "table"
           }
          ]
         },
         "layout": {
          "annotationdefaults": {
           "arrowcolor": "#2a3f5f",
           "arrowhead": 0,
           "arrowwidth": 1
          },
          "autotypenumbers": "strict",
          "coloraxis": {
           "colorbar": {
            "outlinewidth": 0,
            "ticks": ""
           }
          },
          "colorscale": {
           "diverging": [
            [
             0,
             "#8e0152"
            ],
            [
             0.1,
             "#c51b7d"
            ],
            [
             0.2,
             "#de77ae"
            ],
            [
             0.3,
             "#f1b6da"
            ],
            [
             0.4,
             "#fde0ef"
            ],
            [
             0.5,
             "#f7f7f7"
            ],
            [
             0.6,
             "#e6f5d0"
            ],
            [
             0.7,
             "#b8e186"
            ],
            [
             0.8,
             "#7fbc41"
            ],
            [
             0.9,
             "#4d9221"
            ],
            [
             1,
             "#276419"
            ]
           ],
           "sequential": [
            [
             0,
             "#0d0887"
            ],
            [
             0.1111111111111111,
             "#46039f"
            ],
            [
             0.2222222222222222,
             "#7201a8"
            ],
            [
             0.3333333333333333,
             "#9c179e"
            ],
            [
             0.4444444444444444,
             "#bd3786"
            ],
            [
             0.5555555555555556,
             "#d8576b"
            ],
            [
             0.6666666666666666,
             "#ed7953"
            ],
            [
             0.7777777777777778,
             "#fb9f3a"
            ],
            [
             0.8888888888888888,
             "#fdca26"
            ],
            [
             1,
             "#f0f921"
            ]
           ],
           "sequentialminus": [
            [
             0,
             "#0d0887"
            ],
            [
             0.1111111111111111,
             "#46039f"
            ],
            [
             0.2222222222222222,
             "#7201a8"
            ],
            [
             0.3333333333333333,
             "#9c179e"
            ],
            [
             0.4444444444444444,
             "#bd3786"
            ],
            [
             0.5555555555555556,
             "#d8576b"
            ],
            [
             0.6666666666666666,
             "#ed7953"
            ],
            [
             0.7777777777777778,
             "#fb9f3a"
            ],
            [
             0.8888888888888888,
             "#fdca26"
            ],
            [
             1,
             "#f0f921"
            ]
           ]
          },
          "colorway": [
           "#636efa",
           "#EF553B",
           "#00cc96",
           "#ab63fa",
           "#FFA15A",
           "#19d3f3",
           "#FF6692",
           "#B6E880",
           "#FF97FF",
           "#FECB52"
          ],
          "font": {
           "color": "#2a3f5f"
          },
          "geo": {
           "bgcolor": "white",
           "lakecolor": "white",
           "landcolor": "#E5ECF6",
           "showlakes": true,
           "showland": true,
           "subunitcolor": "white"
          },
          "hoverlabel": {
           "align": "left"
          },
          "hovermode": "closest",
          "mapbox": {
           "style": "light"
          },
          "paper_bgcolor": "white",
          "plot_bgcolor": "#E5ECF6",
          "polar": {
           "angularaxis": {
            "gridcolor": "white",
            "linecolor": "white",
            "ticks": ""
           },
           "bgcolor": "#E5ECF6",
           "radialaxis": {
            "gridcolor": "white",
            "linecolor": "white",
            "ticks": ""
           }
          },
          "scene": {
           "xaxis": {
            "backgroundcolor": "#E5ECF6",
            "gridcolor": "white",
            "gridwidth": 2,
            "linecolor": "white",
            "showbackground": true,
            "ticks": "",
            "zerolinecolor": "white"
           },
           "yaxis": {
            "backgroundcolor": "#E5ECF6",
            "gridcolor": "white",
            "gridwidth": 2,
            "linecolor": "white",
            "showbackground": true,
            "ticks": "",
            "zerolinecolor": "white"
           },
           "zaxis": {
            "backgroundcolor": "#E5ECF6",
            "gridcolor": "white",
            "gridwidth": 2,
            "linecolor": "white",
            "showbackground": true,
            "ticks": "",
            "zerolinecolor": "white"
           }
          },
          "shapedefaults": {
           "line": {
            "color": "#2a3f5f"
           }
          },
          "ternary": {
           "aaxis": {
            "gridcolor": "white",
            "linecolor": "white",
            "ticks": ""
           },
           "baxis": {
            "gridcolor": "white",
            "linecolor": "white",
            "ticks": ""
           },
           "bgcolor": "#E5ECF6",
           "caxis": {
            "gridcolor": "white",
            "linecolor": "white",
            "ticks": ""
           }
          },
          "title": {
           "x": 0.05
          },
          "xaxis": {
           "automargin": true,
           "gridcolor": "white",
           "linecolor": "white",
           "ticks": "",
           "title": {
            "standoff": 15
           },
           "zerolinecolor": "white",
           "zerolinewidth": 2
          },
          "yaxis": {
           "automargin": true,
           "gridcolor": "white",
           "linecolor": "white",
           "ticks": "",
           "title": {
            "standoff": 15
           },
           "zerolinecolor": "white",
           "zerolinewidth": 2
          }
         }
        },
        "title": {
         "text": "l_3_w_5_min_Weekly_Sales and Lag 52 Weeks"
        },
        "xaxis": {
         "anchor": "y",
         "domain": [
          0,
          1
         ],
         "title": {
          "text": "Date"
         }
        },
        "yaxis": {
         "anchor": "x",
         "domain": [
          0,
          1
         ],
         "title": {
          "text": "value"
         }
        }
       }
      }
     },
     "metadata": {},
     "output_type": "display_data"
    }
   ],
   "source": [
    "view_data_horizon(data, target=\"l_3_w_5_min_Weekly_Sales\")"
   ]
  },
  {
   "cell_type": "code",
   "execution_count": 42,
   "metadata": {},
   "outputs": [
    {
     "data": {
      "application/vnd.plotly.v1+json": {
       "config": {
        "plotlyServerURL": "https://plot.ly"
       },
       "data": [
        {
         "hovertemplate": "variable=l_0_w_3_sum_Weekly_Sales<br>Date=%{x}<br>value=%{y}<extra></extra>",
         "legendgroup": "l_0_w_3_sum_Weekly_Sales",
         "line": {
          "color": "#636efa",
          "dash": "solid"
         },
         "marker": {
          "symbol": "circle"
         },
         "mode": "lines",
         "name": "l_0_w_3_sum_Weekly_Sales",
         "orientation": "v",
         "showlegend": true,
         "type": "scatter",
         "x": [
          "2011-03-25T00:00:00",
          "2011-04-01T00:00:00",
          "2011-04-08T00:00:00",
          "2011-04-15T00:00:00",
          "2011-04-22T00:00:00",
          "2011-04-29T00:00:00",
          "2011-05-06T00:00:00",
          "2011-05-13T00:00:00",
          "2011-05-20T00:00:00",
          "2011-05-27T00:00:00",
          "2011-06-03T00:00:00",
          "2011-06-10T00:00:00",
          "2011-06-17T00:00:00",
          "2011-06-24T00:00:00",
          "2011-07-01T00:00:00",
          "2011-07-08T00:00:00",
          "2011-07-15T00:00:00",
          "2011-07-22T00:00:00",
          "2011-07-29T00:00:00",
          "2011-08-05T00:00:00",
          "2011-08-12T00:00:00",
          "2011-08-19T00:00:00",
          "2011-08-26T00:00:00",
          "2011-09-02T00:00:00",
          "2011-09-09T00:00:00",
          "2011-09-16T00:00:00",
          "2011-09-23T00:00:00",
          "2011-09-30T00:00:00",
          "2011-10-07T00:00:00",
          "2011-10-14T00:00:00",
          "2011-10-21T00:00:00",
          "2011-10-28T00:00:00",
          "2011-11-04T00:00:00",
          "2011-11-11T00:00:00",
          "2011-11-18T00:00:00",
          "2011-11-25T00:00:00",
          "2011-12-02T00:00:00",
          "2011-12-09T00:00:00",
          "2011-12-16T00:00:00",
          "2011-12-23T00:00:00",
          "2011-12-30T00:00:00",
          "2012-01-06T00:00:00",
          "2012-01-13T00:00:00",
          "2012-01-20T00:00:00",
          "2012-01-27T00:00:00",
          "2012-02-03T00:00:00",
          "2012-02-10T00:00:00",
          "2012-02-17T00:00:00",
          "2012-02-24T00:00:00",
          "2012-03-02T00:00:00",
          "2012-03-09T00:00:00",
          "2012-03-16T00:00:00",
          "2012-03-23T00:00:00",
          "2012-03-30T00:00:00",
          "2012-04-06T00:00:00",
          "2012-04-13T00:00:00",
          "2012-04-20T00:00:00",
          "2012-04-27T00:00:00",
          "2012-05-04T00:00:00",
          "2012-05-11T00:00:00",
          "2012-05-18T00:00:00",
          "2012-05-25T00:00:00",
          "2012-06-01T00:00:00",
          "2012-06-08T00:00:00",
          "2012-06-15T00:00:00",
          "2012-06-22T00:00:00",
          "2012-06-29T00:00:00",
          "2012-07-06T00:00:00",
          "2012-07-13T00:00:00",
          "2012-07-20T00:00:00",
          "2012-07-27T00:00:00",
          "2012-08-03T00:00:00",
          "2012-08-10T00:00:00",
          "2012-08-17T00:00:00",
          "2012-08-24T00:00:00",
          "2012-08-31T00:00:00",
          "2012-09-07T00:00:00",
          "2012-09-14T00:00:00",
          "2012-09-21T00:00:00",
          "2012-09-28T00:00:00",
          "2012-10-05T00:00:00",
          "2012-10-12T00:00:00",
          "2012-10-19T00:00:00",
          "2012-10-26T00:00:00",
          "2012-11-02T00:00:00",
          "2012-11-09T00:00:00",
          "2012-11-16T00:00:00",
          "2012-11-23T00:00:00",
          "2012-11-30T00:00:00",
          "2012-12-07T00:00:00",
          "2012-12-14T00:00:00",
          "2012-12-21T00:00:00",
          "2012-12-28T00:00:00",
          "2013-01-04T00:00:00",
          "2013-01-11T00:00:00",
          "2013-01-18T00:00:00",
          "2013-01-25T00:00:00",
          "2013-02-01T00:00:00",
          "2013-02-08T00:00:00",
          "2013-02-15T00:00:00",
          "2013-02-22T00:00:00",
          "2013-03-01T00:00:00",
          "2013-03-08T00:00:00",
          "2013-03-15T00:00:00",
          "2013-03-22T00:00:00",
          "2013-03-29T00:00:00",
          "2013-04-05T00:00:00",
          "2013-04-12T00:00:00",
          "2013-04-19T00:00:00",
          "2013-04-26T00:00:00",
          "2013-05-03T00:00:00",
          "2013-05-10T00:00:00",
          "2013-05-17T00:00:00",
          "2013-05-24T00:00:00",
          "2013-05-31T00:00:00",
          "2013-06-07T00:00:00",
          "2013-06-14T00:00:00",
          "2013-06-21T00:00:00",
          "2013-06-28T00:00:00",
          "2013-07-05T00:00:00",
          "2013-07-12T00:00:00",
          "2013-07-19T00:00:00",
          "2013-07-26T00:00:00"
         ],
         "xaxis": "x",
         "y": [
          69409.23999999999,
          105624.28,
          126448.55,
          117816.29999999999,
          76703.22,
          50297.42,
          50114.399999999994,
          52895.79,
          51113.72,
          49280.21,
          47911.56,
          49776.14,
          50411.979999999996,
          49182.61,
          48878.13,
          50350.619999999995,
          51172.74,
          50200.05,
          47893.11,
          48250.68000000001,
          48426.630000000005,
          48784.94,
          47070.4,
          47775.78,
          50230.39000000001,
          53790.75,
          55671.490000000005,
          57570.94,
          61604.740000000005,
          70460.56,
          75909.41,
          91162.31,
          98422.85,
          92429.2,
          73341.11,
          57922.520000000004,
          60890.69000000001,
          72835.5,
          98928.07,
          132341.74000000002,
          119968.67000000001,
          91040.05000000002,
          52468.52000000001,
          50685.41000000001,
          53162.35000000001,
          57468.41,
          78014.11,
          106398.8,
          104096.87000000001,
          86537.31000000001,
          60971.84000000001,
          61942.240000000005,
          62495.73000000001,
          61613.420000000006,
          65152.98,
          73034.25,
          103146.47,
          120785.06999999999,
          112160.89,
          78885.73,
          52510.12,
          48113.53,
          47312.53,
          48059.270000000004,
          47295.76,
          46544.42,
          46024.4,
          47195.18,
          47167.22,
          47570.32000000001,
          47343.86,
          46984.56,
          45757.75,
          44524.58,
          43766.4,
          44503.880000000005,
          47561.32000000001,
          51559.43,
          54141.46000000001,
          54732.45999999999,
          56994.56,
          62212.81,
          67226.93000000001,
          78009.25,
          94817.76,
          90155.5,
          77626.26,
          58651.45,
          65255.4,
          79510.66,
          104372.44,
          125867.7,
          115912.66,
          86707.32,
          56812.97,
          51827.189999999995,
          53637.66,
          60253.75,
          78877.14,
          114559.07999999999,
          111172.81,
          94297.35,
          61377.32,
          63619.979999999996,
          65614.65,
          73427.44,
          108652.68,
          121229.19,
          109252.52,
          68008,
          50471.229999999996,
          51659.23999999999,
          53829.42999999999,
          53645.54,
          51546.829999999994,
          50695.03999999999,
          51290.31,
          51858.229999999996,
          49915.05,
          50179.6,
          50112.37,
          50737.61,
          48645.42
         ],
         "yaxis": "y"
        },
        {
         "hovertemplate": "variable=lag_52_l_0_w_3_sum_Weekly_Sales<br>Date=%{x}<br>value=%{y}<extra></extra>",
         "legendgroup": "lag_52_l_0_w_3_sum_Weekly_Sales",
         "line": {
          "color": "#EF553B",
          "dash": "solid"
         },
         "marker": {
          "symbol": "circle"
         },
         "mode": "lines",
         "name": "lag_52_l_0_w_3_sum_Weekly_Sales",
         "orientation": "v",
         "showlegend": true,
         "type": "scatter",
         "x": [
          "2011-03-25T00:00:00",
          "2011-04-01T00:00:00",
          "2011-04-08T00:00:00",
          "2011-04-15T00:00:00",
          "2011-04-22T00:00:00",
          "2011-04-29T00:00:00",
          "2011-05-06T00:00:00",
          "2011-05-13T00:00:00",
          "2011-05-20T00:00:00",
          "2011-05-27T00:00:00",
          "2011-06-03T00:00:00",
          "2011-06-10T00:00:00",
          "2011-06-17T00:00:00",
          "2011-06-24T00:00:00",
          "2011-07-01T00:00:00",
          "2011-07-08T00:00:00",
          "2011-07-15T00:00:00",
          "2011-07-22T00:00:00",
          "2011-07-29T00:00:00",
          "2011-08-05T00:00:00",
          "2011-08-12T00:00:00",
          "2011-08-19T00:00:00",
          "2011-08-26T00:00:00",
          "2011-09-02T00:00:00",
          "2011-09-09T00:00:00",
          "2011-09-16T00:00:00",
          "2011-09-23T00:00:00",
          "2011-09-30T00:00:00",
          "2011-10-07T00:00:00",
          "2011-10-14T00:00:00",
          "2011-10-21T00:00:00",
          "2011-10-28T00:00:00",
          "2011-11-04T00:00:00",
          "2011-11-11T00:00:00",
          "2011-11-18T00:00:00",
          "2011-11-25T00:00:00",
          "2011-12-02T00:00:00",
          "2011-12-09T00:00:00",
          "2011-12-16T00:00:00",
          "2011-12-23T00:00:00",
          "2011-12-30T00:00:00",
          "2012-01-06T00:00:00",
          "2012-01-13T00:00:00",
          "2012-01-20T00:00:00",
          "2012-01-27T00:00:00",
          "2012-02-03T00:00:00",
          "2012-02-10T00:00:00",
          "2012-02-17T00:00:00",
          "2012-02-24T00:00:00",
          "2012-03-02T00:00:00",
          "2012-03-09T00:00:00",
          "2012-03-16T00:00:00",
          "2012-03-23T00:00:00",
          "2012-03-30T00:00:00",
          "2012-04-06T00:00:00",
          "2012-04-13T00:00:00",
          "2012-04-20T00:00:00",
          "2012-04-27T00:00:00",
          "2012-05-04T00:00:00",
          "2012-05-11T00:00:00",
          "2012-05-18T00:00:00",
          "2012-05-25T00:00:00",
          "2012-06-01T00:00:00",
          "2012-06-08T00:00:00",
          "2012-06-15T00:00:00",
          "2012-06-22T00:00:00",
          "2012-06-29T00:00:00",
          "2012-07-06T00:00:00",
          "2012-07-13T00:00:00",
          "2012-07-20T00:00:00",
          "2012-07-27T00:00:00",
          "2012-08-03T00:00:00",
          "2012-08-10T00:00:00",
          "2012-08-17T00:00:00",
          "2012-08-24T00:00:00",
          "2012-08-31T00:00:00",
          "2012-09-07T00:00:00",
          "2012-09-14T00:00:00",
          "2012-09-21T00:00:00",
          "2012-09-28T00:00:00",
          "2012-10-05T00:00:00",
          "2012-10-12T00:00:00",
          "2012-10-19T00:00:00",
          "2012-10-26T00:00:00",
          "2012-11-02T00:00:00",
          "2012-11-09T00:00:00",
          "2012-11-16T00:00:00",
          "2012-11-23T00:00:00",
          "2012-11-30T00:00:00",
          "2012-12-07T00:00:00",
          "2012-12-14T00:00:00",
          "2012-12-21T00:00:00",
          "2012-12-28T00:00:00",
          "2013-01-04T00:00:00",
          "2013-01-11T00:00:00",
          "2013-01-18T00:00:00",
          "2013-01-25T00:00:00",
          "2013-02-01T00:00:00",
          "2013-02-08T00:00:00",
          "2013-02-15T00:00:00",
          "2013-02-22T00:00:00",
          "2013-03-01T00:00:00",
          "2013-03-08T00:00:00",
          "2013-03-15T00:00:00",
          "2013-03-22T00:00:00",
          "2013-03-29T00:00:00",
          "2013-04-05T00:00:00",
          "2013-04-12T00:00:00",
          "2013-04-19T00:00:00",
          "2013-04-26T00:00:00",
          "2013-05-03T00:00:00",
          "2013-05-10T00:00:00",
          "2013-05-17T00:00:00",
          "2013-05-24T00:00:00",
          "2013-05-31T00:00:00",
          "2013-06-07T00:00:00",
          "2013-06-14T00:00:00",
          "2013-06-21T00:00:00",
          "2013-06-28T00:00:00",
          "2013-07-05T00:00:00",
          "2013-07-12T00:00:00",
          "2013-07-19T00:00:00",
          "2013-07-26T00:00:00"
         ],
         "xaxis": "x",
         "y": [
          null,
          null,
          null,
          null,
          null,
          null,
          null,
          null,
          null,
          null,
          null,
          null,
          null,
          null,
          null,
          null,
          null,
          null,
          null,
          null,
          null,
          null,
          null,
          null,
          null,
          null,
          null,
          null,
          null,
          null,
          null,
          null,
          null,
          null,
          null,
          null,
          null,
          null,
          null,
          null,
          null,
          null,
          null,
          null,
          null,
          null,
          null,
          null,
          null,
          null,
          null,
          null,
          69409.23999999999,
          105624.28,
          126448.55,
          117816.29999999999,
          76703.22,
          50297.42,
          50114.399999999994,
          52895.79,
          51113.72,
          49280.21,
          47911.56,
          49776.14,
          50411.979999999996,
          49182.61,
          48878.13,
          50350.619999999995,
          51172.74,
          50200.05,
          47893.11,
          48250.68000000001,
          48426.630000000005,
          48784.94,
          47070.4,
          47775.78,
          50230.39000000001,
          53790.75,
          55671.490000000005,
          57570.94,
          61604.740000000005,
          70460.56,
          75909.41,
          91162.31,
          98422.85,
          92429.2,
          73341.11,
          57922.520000000004,
          60890.69000000001,
          72835.5,
          98928.07,
          132341.74000000002,
          119968.67000000001,
          91040.05000000002,
          52468.52000000001,
          50685.41000000001,
          53162.35000000001,
          57468.41,
          78014.11,
          106398.8,
          104096.87000000001,
          86537.31000000001,
          60971.84000000001,
          61942.240000000005,
          62495.73000000001,
          61613.420000000006,
          65152.98,
          73034.25,
          103146.47,
          120785.06999999999,
          112160.89,
          78885.73,
          52510.12,
          48113.53,
          47312.53,
          48059.270000000004,
          47295.76,
          46544.42,
          46024.4,
          47195.18,
          47167.22,
          47570.32000000001,
          47343.86
         ],
         "yaxis": "y"
        }
       ],
       "layout": {
        "legend": {
         "title": {
          "text": "variable"
         },
         "tracegroupgap": 0
        },
        "template": {
         "data": {
          "bar": [
           {
            "error_x": {
             "color": "#2a3f5f"
            },
            "error_y": {
             "color": "#2a3f5f"
            },
            "marker": {
             "line": {
              "color": "#E5ECF6",
              "width": 0.5
             },
             "pattern": {
              "fillmode": "overlay",
              "size": 10,
              "solidity": 0.2
             }
            },
            "type": "bar"
           }
          ],
          "barpolar": [
           {
            "marker": {
             "line": {
              "color": "#E5ECF6",
              "width": 0.5
             },
             "pattern": {
              "fillmode": "overlay",
              "size": 10,
              "solidity": 0.2
             }
            },
            "type": "barpolar"
           }
          ],
          "carpet": [
           {
            "aaxis": {
             "endlinecolor": "#2a3f5f",
             "gridcolor": "white",
             "linecolor": "white",
             "minorgridcolor": "white",
             "startlinecolor": "#2a3f5f"
            },
            "baxis": {
             "endlinecolor": "#2a3f5f",
             "gridcolor": "white",
             "linecolor": "white",
             "minorgridcolor": "white",
             "startlinecolor": "#2a3f5f"
            },
            "type": "carpet"
           }
          ],
          "choropleth": [
           {
            "colorbar": {
             "outlinewidth": 0,
             "ticks": ""
            },
            "type": "choropleth"
           }
          ],
          "contour": [
           {
            "colorbar": {
             "outlinewidth": 0,
             "ticks": ""
            },
            "colorscale": [
             [
              0,
              "#0d0887"
             ],
             [
              0.1111111111111111,
              "#46039f"
             ],
             [
              0.2222222222222222,
              "#7201a8"
             ],
             [
              0.3333333333333333,
              "#9c179e"
             ],
             [
              0.4444444444444444,
              "#bd3786"
             ],
             [
              0.5555555555555556,
              "#d8576b"
             ],
             [
              0.6666666666666666,
              "#ed7953"
             ],
             [
              0.7777777777777778,
              "#fb9f3a"
             ],
             [
              0.8888888888888888,
              "#fdca26"
             ],
             [
              1,
              "#f0f921"
             ]
            ],
            "type": "contour"
           }
          ],
          "contourcarpet": [
           {
            "colorbar": {
             "outlinewidth": 0,
             "ticks": ""
            },
            "type": "contourcarpet"
           }
          ],
          "heatmap": [
           {
            "colorbar": {
             "outlinewidth": 0,
             "ticks": ""
            },
            "colorscale": [
             [
              0,
              "#0d0887"
             ],
             [
              0.1111111111111111,
              "#46039f"
             ],
             [
              0.2222222222222222,
              "#7201a8"
             ],
             [
              0.3333333333333333,
              "#9c179e"
             ],
             [
              0.4444444444444444,
              "#bd3786"
             ],
             [
              0.5555555555555556,
              "#d8576b"
             ],
             [
              0.6666666666666666,
              "#ed7953"
             ],
             [
              0.7777777777777778,
              "#fb9f3a"
             ],
             [
              0.8888888888888888,
              "#fdca26"
             ],
             [
              1,
              "#f0f921"
             ]
            ],
            "type": "heatmap"
           }
          ],
          "heatmapgl": [
           {
            "colorbar": {
             "outlinewidth": 0,
             "ticks": ""
            },
            "colorscale": [
             [
              0,
              "#0d0887"
             ],
             [
              0.1111111111111111,
              "#46039f"
             ],
             [
              0.2222222222222222,
              "#7201a8"
             ],
             [
              0.3333333333333333,
              "#9c179e"
             ],
             [
              0.4444444444444444,
              "#bd3786"
             ],
             [
              0.5555555555555556,
              "#d8576b"
             ],
             [
              0.6666666666666666,
              "#ed7953"
             ],
             [
              0.7777777777777778,
              "#fb9f3a"
             ],
             [
              0.8888888888888888,
              "#fdca26"
             ],
             [
              1,
              "#f0f921"
             ]
            ],
            "type": "heatmapgl"
           }
          ],
          "histogram": [
           {
            "marker": {
             "pattern": {
              "fillmode": "overlay",
              "size": 10,
              "solidity": 0.2
             }
            },
            "type": "histogram"
           }
          ],
          "histogram2d": [
           {
            "colorbar": {
             "outlinewidth": 0,
             "ticks": ""
            },
            "colorscale": [
             [
              0,
              "#0d0887"
             ],
             [
              0.1111111111111111,
              "#46039f"
             ],
             [
              0.2222222222222222,
              "#7201a8"
             ],
             [
              0.3333333333333333,
              "#9c179e"
             ],
             [
              0.4444444444444444,
              "#bd3786"
             ],
             [
              0.5555555555555556,
              "#d8576b"
             ],
             [
              0.6666666666666666,
              "#ed7953"
             ],
             [
              0.7777777777777778,
              "#fb9f3a"
             ],
             [
              0.8888888888888888,
              "#fdca26"
             ],
             [
              1,
              "#f0f921"
             ]
            ],
            "type": "histogram2d"
           }
          ],
          "histogram2dcontour": [
           {
            "colorbar": {
             "outlinewidth": 0,
             "ticks": ""
            },
            "colorscale": [
             [
              0,
              "#0d0887"
             ],
             [
              0.1111111111111111,
              "#46039f"
             ],
             [
              0.2222222222222222,
              "#7201a8"
             ],
             [
              0.3333333333333333,
              "#9c179e"
             ],
             [
              0.4444444444444444,
              "#bd3786"
             ],
             [
              0.5555555555555556,
              "#d8576b"
             ],
             [
              0.6666666666666666,
              "#ed7953"
             ],
             [
              0.7777777777777778,
              "#fb9f3a"
             ],
             [
              0.8888888888888888,
              "#fdca26"
             ],
             [
              1,
              "#f0f921"
             ]
            ],
            "type": "histogram2dcontour"
           }
          ],
          "mesh3d": [
           {
            "colorbar": {
             "outlinewidth": 0,
             "ticks": ""
            },
            "type": "mesh3d"
           }
          ],
          "parcoords": [
           {
            "line": {
             "colorbar": {
              "outlinewidth": 0,
              "ticks": ""
             }
            },
            "type": "parcoords"
           }
          ],
          "pie": [
           {
            "automargin": true,
            "type": "pie"
           }
          ],
          "scatter": [
           {
            "fillpattern": {
             "fillmode": "overlay",
             "size": 10,
             "solidity": 0.2
            },
            "type": "scatter"
           }
          ],
          "scatter3d": [
           {
            "line": {
             "colorbar": {
              "outlinewidth": 0,
              "ticks": ""
             }
            },
            "marker": {
             "colorbar": {
              "outlinewidth": 0,
              "ticks": ""
             }
            },
            "type": "scatter3d"
           }
          ],
          "scattercarpet": [
           {
            "marker": {
             "colorbar": {
              "outlinewidth": 0,
              "ticks": ""
             }
            },
            "type": "scattercarpet"
           }
          ],
          "scattergeo": [
           {
            "marker": {
             "colorbar": {
              "outlinewidth": 0,
              "ticks": ""
             }
            },
            "type": "scattergeo"
           }
          ],
          "scattergl": [
           {
            "marker": {
             "colorbar": {
              "outlinewidth": 0,
              "ticks": ""
             }
            },
            "type": "scattergl"
           }
          ],
          "scattermapbox": [
           {
            "marker": {
             "colorbar": {
              "outlinewidth": 0,
              "ticks": ""
             }
            },
            "type": "scattermapbox"
           }
          ],
          "scatterpolar": [
           {
            "marker": {
             "colorbar": {
              "outlinewidth": 0,
              "ticks": ""
             }
            },
            "type": "scatterpolar"
           }
          ],
          "scatterpolargl": [
           {
            "marker": {
             "colorbar": {
              "outlinewidth": 0,
              "ticks": ""
             }
            },
            "type": "scatterpolargl"
           }
          ],
          "scatterternary": [
           {
            "marker": {
             "colorbar": {
              "outlinewidth": 0,
              "ticks": ""
             }
            },
            "type": "scatterternary"
           }
          ],
          "surface": [
           {
            "colorbar": {
             "outlinewidth": 0,
             "ticks": ""
            },
            "colorscale": [
             [
              0,
              "#0d0887"
             ],
             [
              0.1111111111111111,
              "#46039f"
             ],
             [
              0.2222222222222222,
              "#7201a8"
             ],
             [
              0.3333333333333333,
              "#9c179e"
             ],
             [
              0.4444444444444444,
              "#bd3786"
             ],
             [
              0.5555555555555556,
              "#d8576b"
             ],
             [
              0.6666666666666666,
              "#ed7953"
             ],
             [
              0.7777777777777778,
              "#fb9f3a"
             ],
             [
              0.8888888888888888,
              "#fdca26"
             ],
             [
              1,
              "#f0f921"
             ]
            ],
            "type": "surface"
           }
          ],
          "table": [
           {
            "cells": {
             "fill": {
              "color": "#EBF0F8"
             },
             "line": {
              "color": "white"
             }
            },
            "header": {
             "fill": {
              "color": "#C8D4E3"
             },
             "line": {
              "color": "white"
             }
            },
            "type": "table"
           }
          ]
         },
         "layout": {
          "annotationdefaults": {
           "arrowcolor": "#2a3f5f",
           "arrowhead": 0,
           "arrowwidth": 1
          },
          "autotypenumbers": "strict",
          "coloraxis": {
           "colorbar": {
            "outlinewidth": 0,
            "ticks": ""
           }
          },
          "colorscale": {
           "diverging": [
            [
             0,
             "#8e0152"
            ],
            [
             0.1,
             "#c51b7d"
            ],
            [
             0.2,
             "#de77ae"
            ],
            [
             0.3,
             "#f1b6da"
            ],
            [
             0.4,
             "#fde0ef"
            ],
            [
             0.5,
             "#f7f7f7"
            ],
            [
             0.6,
             "#e6f5d0"
            ],
            [
             0.7,
             "#b8e186"
            ],
            [
             0.8,
             "#7fbc41"
            ],
            [
             0.9,
             "#4d9221"
            ],
            [
             1,
             "#276419"
            ]
           ],
           "sequential": [
            [
             0,
             "#0d0887"
            ],
            [
             0.1111111111111111,
             "#46039f"
            ],
            [
             0.2222222222222222,
             "#7201a8"
            ],
            [
             0.3333333333333333,
             "#9c179e"
            ],
            [
             0.4444444444444444,
             "#bd3786"
            ],
            [
             0.5555555555555556,
             "#d8576b"
            ],
            [
             0.6666666666666666,
             "#ed7953"
            ],
            [
             0.7777777777777778,
             "#fb9f3a"
            ],
            [
             0.8888888888888888,
             "#fdca26"
            ],
            [
             1,
             "#f0f921"
            ]
           ],
           "sequentialminus": [
            [
             0,
             "#0d0887"
            ],
            [
             0.1111111111111111,
             "#46039f"
            ],
            [
             0.2222222222222222,
             "#7201a8"
            ],
            [
             0.3333333333333333,
             "#9c179e"
            ],
            [
             0.4444444444444444,
             "#bd3786"
            ],
            [
             0.5555555555555556,
             "#d8576b"
            ],
            [
             0.6666666666666666,
             "#ed7953"
            ],
            [
             0.7777777777777778,
             "#fb9f3a"
            ],
            [
             0.8888888888888888,
             "#fdca26"
            ],
            [
             1,
             "#f0f921"
            ]
           ]
          },
          "colorway": [
           "#636efa",
           "#EF553B",
           "#00cc96",
           "#ab63fa",
           "#FFA15A",
           "#19d3f3",
           "#FF6692",
           "#B6E880",
           "#FF97FF",
           "#FECB52"
          ],
          "font": {
           "color": "#2a3f5f"
          },
          "geo": {
           "bgcolor": "white",
           "lakecolor": "white",
           "landcolor": "#E5ECF6",
           "showlakes": true,
           "showland": true,
           "subunitcolor": "white"
          },
          "hoverlabel": {
           "align": "left"
          },
          "hovermode": "closest",
          "mapbox": {
           "style": "light"
          },
          "paper_bgcolor": "white",
          "plot_bgcolor": "#E5ECF6",
          "polar": {
           "angularaxis": {
            "gridcolor": "white",
            "linecolor": "white",
            "ticks": ""
           },
           "bgcolor": "#E5ECF6",
           "radialaxis": {
            "gridcolor": "white",
            "linecolor": "white",
            "ticks": ""
           }
          },
          "scene": {
           "xaxis": {
            "backgroundcolor": "#E5ECF6",
            "gridcolor": "white",
            "gridwidth": 2,
            "linecolor": "white",
            "showbackground": true,
            "ticks": "",
            "zerolinecolor": "white"
           },
           "yaxis": {
            "backgroundcolor": "#E5ECF6",
            "gridcolor": "white",
            "gridwidth": 2,
            "linecolor": "white",
            "showbackground": true,
            "ticks": "",
            "zerolinecolor": "white"
           },
           "zaxis": {
            "backgroundcolor": "#E5ECF6",
            "gridcolor": "white",
            "gridwidth": 2,
            "linecolor": "white",
            "showbackground": true,
            "ticks": "",
            "zerolinecolor": "white"
           }
          },
          "shapedefaults": {
           "line": {
            "color": "#2a3f5f"
           }
          },
          "ternary": {
           "aaxis": {
            "gridcolor": "white",
            "linecolor": "white",
            "ticks": ""
           },
           "baxis": {
            "gridcolor": "white",
            "linecolor": "white",
            "ticks": ""
           },
           "bgcolor": "#E5ECF6",
           "caxis": {
            "gridcolor": "white",
            "linecolor": "white",
            "ticks": ""
           }
          },
          "title": {
           "x": 0.05
          },
          "xaxis": {
           "automargin": true,
           "gridcolor": "white",
           "linecolor": "white",
           "ticks": "",
           "title": {
            "standoff": 15
           },
           "zerolinecolor": "white",
           "zerolinewidth": 2
          },
          "yaxis": {
           "automargin": true,
           "gridcolor": "white",
           "linecolor": "white",
           "ticks": "",
           "title": {
            "standoff": 15
           },
           "zerolinecolor": "white",
           "zerolinewidth": 2
          }
         }
        },
        "title": {
         "text": "l_0_w_3_sum_Weekly_Sales and Lag 52 Weeks"
        },
        "xaxis": {
         "anchor": "y",
         "domain": [
          0,
          1
         ],
         "title": {
          "text": "Date"
         }
        },
        "yaxis": {
         "anchor": "x",
         "domain": [
          0,
          1
         ],
         "title": {
          "text": "value"
         }
        }
       }
      }
     },
     "metadata": {},
     "output_type": "display_data"
    }
   ],
   "source": [
    "view_data_horizon(data, target=\"l_0_w_3_sum_Weekly_Sales\")"
   ]
  },
  {
   "cell_type": "code",
   "execution_count": 43,
   "metadata": {},
   "outputs": [
    {
     "data": {
      "application/vnd.plotly.v1+json": {
       "config": {
        "plotlyServerURL": "https://plot.ly"
       },
       "data": [
        {
         "hovertemplate": "variable=Weekly_Sales<br>Date=%{x}<br>value=%{y}<extra></extra>",
         "legendgroup": "Weekly_Sales",
         "line": {
          "color": "#636efa",
          "dash": "solid"
         },
         "marker": {
          "symbol": "circle"
         },
         "mode": "lines",
         "name": "Weekly_Sales",
         "orientation": "v",
         "showlegend": true,
         "type": "scatter",
         "x": [
          "2011-03-25T00:00:00",
          "2011-04-01T00:00:00",
          "2011-04-08T00:00:00",
          "2011-04-15T00:00:00",
          "2011-04-22T00:00:00",
          "2011-04-29T00:00:00",
          "2011-05-06T00:00:00",
          "2011-05-13T00:00:00",
          "2011-05-20T00:00:00",
          "2011-05-27T00:00:00",
          "2011-06-03T00:00:00",
          "2011-06-10T00:00:00",
          "2011-06-17T00:00:00",
          "2011-06-24T00:00:00",
          "2011-07-01T00:00:00",
          "2011-07-08T00:00:00",
          "2011-07-15T00:00:00",
          "2011-07-22T00:00:00",
          "2011-07-29T00:00:00",
          "2011-08-05T00:00:00",
          "2011-08-12T00:00:00",
          "2011-08-19T00:00:00",
          "2011-08-26T00:00:00",
          "2011-09-02T00:00:00",
          "2011-09-09T00:00:00",
          "2011-09-16T00:00:00",
          "2011-09-23T00:00:00",
          "2011-09-30T00:00:00",
          "2011-10-07T00:00:00",
          "2011-10-14T00:00:00",
          "2011-10-21T00:00:00",
          "2011-10-28T00:00:00",
          "2011-11-04T00:00:00",
          "2011-11-11T00:00:00",
          "2011-11-18T00:00:00",
          "2011-11-25T00:00:00",
          "2011-12-02T00:00:00",
          "2011-12-09T00:00:00",
          "2011-12-16T00:00:00",
          "2011-12-23T00:00:00",
          "2011-12-30T00:00:00",
          "2012-01-06T00:00:00",
          "2012-01-13T00:00:00",
          "2012-01-20T00:00:00",
          "2012-01-27T00:00:00",
          "2012-02-03T00:00:00",
          "2012-02-10T00:00:00",
          "2012-02-17T00:00:00",
          "2012-02-24T00:00:00",
          "2012-03-02T00:00:00",
          "2012-03-09T00:00:00",
          "2012-03-16T00:00:00",
          "2012-03-23T00:00:00",
          "2012-03-30T00:00:00",
          "2012-04-06T00:00:00",
          "2012-04-13T00:00:00",
          "2012-04-20T00:00:00",
          "2012-04-27T00:00:00",
          "2012-05-04T00:00:00",
          "2012-05-11T00:00:00",
          "2012-05-18T00:00:00",
          "2012-05-25T00:00:00",
          "2012-06-01T00:00:00",
          "2012-06-08T00:00:00",
          "2012-06-15T00:00:00",
          "2012-06-22T00:00:00",
          "2012-06-29T00:00:00",
          "2012-07-06T00:00:00",
          "2012-07-13T00:00:00",
          "2012-07-20T00:00:00",
          "2012-07-27T00:00:00",
          "2012-08-03T00:00:00",
          "2012-08-10T00:00:00",
          "2012-08-17T00:00:00",
          "2012-08-24T00:00:00",
          "2012-08-31T00:00:00",
          "2012-09-07T00:00:00",
          "2012-09-14T00:00:00",
          "2012-09-21T00:00:00",
          "2012-09-28T00:00:00",
          "2012-10-05T00:00:00",
          "2012-10-12T00:00:00",
          "2012-10-19T00:00:00",
          "2012-10-26T00:00:00",
          "2012-11-02T00:00:00",
          "2012-11-09T00:00:00",
          "2012-11-16T00:00:00",
          "2012-11-23T00:00:00",
          "2012-11-30T00:00:00",
          "2012-12-07T00:00:00",
          "2012-12-14T00:00:00",
          "2012-12-21T00:00:00",
          "2012-12-28T00:00:00",
          "2013-01-04T00:00:00",
          "2013-01-11T00:00:00",
          "2013-01-18T00:00:00",
          "2013-01-25T00:00:00",
          "2013-02-01T00:00:00",
          "2013-02-08T00:00:00",
          "2013-02-15T00:00:00",
          "2013-02-22T00:00:00",
          "2013-03-01T00:00:00",
          "2013-03-08T00:00:00",
          "2013-03-15T00:00:00",
          "2013-03-22T00:00:00",
          "2013-03-29T00:00:00",
          "2013-04-05T00:00:00",
          "2013-04-12T00:00:00",
          "2013-04-19T00:00:00",
          "2013-04-26T00:00:00",
          "2013-05-03T00:00:00",
          "2013-05-10T00:00:00",
          "2013-05-17T00:00:00",
          "2013-05-24T00:00:00",
          "2013-05-31T00:00:00",
          "2013-06-07T00:00:00",
          "2013-06-14T00:00:00",
          "2013-06-21T00:00:00",
          "2013-06-28T00:00:00",
          "2013-07-05T00:00:00",
          "2013-07-12T00:00:00",
          "2013-07-19T00:00:00",
          "2013-07-26T00:00:00"
         ],
         "xaxis": "x",
         "y": [
          20881.1,
          20398.09,
          23873.79,
          28762.37,
          50510.31,
          41512.39,
          20138.19,
          17235.15,
          15136.78,
          15741.6,
          16434.15,
          15883.52,
          14978.09,
          15682.81,
          15363.5,
          16148.87,
          15654.85,
          15766.6,
          15922.41,
          15295.55,
          14539.79,
          14689.24,
          14537.37,
          15277.27,
          17746.68,
          18535.48,
          17859.3,
          18337.68,
          20797.58,
          23077.55,
          23351.8,
          31579.9,
          39886.06,
          18689.54,
          19050.66,
          20911.25,
          25293.49,
          33305.92,
          45773.03,
          46788.75,
          23350.88,
          16567.69,
          16894.4,
          18365.1,
          18378.16,
          23510.49,
          36988.49,
          54060.1,
          20124.22,
          20113.03,
          21140.07,
          22366.88,
          22107.7,
          28952.86,
          57592.12,
          34684.21,
          16976.19,
          16347.6,
          17147.44,
          18164.2,
          18517.79,
          16963.55,
          16065.49,
          17666,
          17558.82,
          16633.41,
          15722.82,
          17823.37,
          16566.18,
          16348.06,
          15731.18,
          16628.31,
          16119.92,
          17330.7,
          16286.4,
          16680.24,
          18322.37,
          19616.22,
          19251.5,
          18947.81,
          21904.47,
          22764.01,
          24185.27,
          27390.81,
          0,
          0,
          0,
          0,
          0,
          0,
          0,
          0,
          0,
          0,
          0,
          0,
          0,
          0,
          0,
          0,
          0,
          0,
          0,
          0,
          0,
          0,
          0,
          0,
          0,
          0,
          0,
          0,
          0,
          0,
          0,
          0,
          0,
          0,
          0,
          0,
          0,
          0,
          0
         ],
         "yaxis": "y"
        },
        {
         "hovertemplate": "variable=lag_52_Weekly_Sales<br>Date=%{x}<br>value=%{y}<extra></extra>",
         "legendgroup": "lag_52_Weekly_Sales",
         "line": {
          "color": "#EF553B",
          "dash": "solid"
         },
         "marker": {
          "symbol": "circle"
         },
         "mode": "lines",
         "name": "lag_52_Weekly_Sales",
         "orientation": "v",
         "showlegend": true,
         "type": "scatter",
         "x": [
          "2011-03-25T00:00:00",
          "2011-04-01T00:00:00",
          "2011-04-08T00:00:00",
          "2011-04-15T00:00:00",
          "2011-04-22T00:00:00",
          "2011-04-29T00:00:00",
          "2011-05-06T00:00:00",
          "2011-05-13T00:00:00",
          "2011-05-20T00:00:00",
          "2011-05-27T00:00:00",
          "2011-06-03T00:00:00",
          "2011-06-10T00:00:00",
          "2011-06-17T00:00:00",
          "2011-06-24T00:00:00",
          "2011-07-01T00:00:00",
          "2011-07-08T00:00:00",
          "2011-07-15T00:00:00",
          "2011-07-22T00:00:00",
          "2011-07-29T00:00:00",
          "2011-08-05T00:00:00",
          "2011-08-12T00:00:00",
          "2011-08-19T00:00:00",
          "2011-08-26T00:00:00",
          "2011-09-02T00:00:00",
          "2011-09-09T00:00:00",
          "2011-09-16T00:00:00",
          "2011-09-23T00:00:00",
          "2011-09-30T00:00:00",
          "2011-10-07T00:00:00",
          "2011-10-14T00:00:00",
          "2011-10-21T00:00:00",
          "2011-10-28T00:00:00",
          "2011-11-04T00:00:00",
          "2011-11-11T00:00:00",
          "2011-11-18T00:00:00",
          "2011-11-25T00:00:00",
          "2011-12-02T00:00:00",
          "2011-12-09T00:00:00",
          "2011-12-16T00:00:00",
          "2011-12-23T00:00:00",
          "2011-12-30T00:00:00",
          "2012-01-06T00:00:00",
          "2012-01-13T00:00:00",
          "2012-01-20T00:00:00",
          "2012-01-27T00:00:00",
          "2012-02-03T00:00:00",
          "2012-02-10T00:00:00",
          "2012-02-17T00:00:00",
          "2012-02-24T00:00:00",
          "2012-03-02T00:00:00",
          "2012-03-09T00:00:00",
          "2012-03-16T00:00:00",
          "2012-03-23T00:00:00",
          "2012-03-30T00:00:00",
          "2012-04-06T00:00:00",
          "2012-04-13T00:00:00",
          "2012-04-20T00:00:00",
          "2012-04-27T00:00:00",
          "2012-05-04T00:00:00",
          "2012-05-11T00:00:00",
          "2012-05-18T00:00:00",
          "2012-05-25T00:00:00",
          "2012-06-01T00:00:00",
          "2012-06-08T00:00:00",
          "2012-06-15T00:00:00",
          "2012-06-22T00:00:00",
          "2012-06-29T00:00:00",
          "2012-07-06T00:00:00",
          "2012-07-13T00:00:00",
          "2012-07-20T00:00:00",
          "2012-07-27T00:00:00",
          "2012-08-03T00:00:00",
          "2012-08-10T00:00:00",
          "2012-08-17T00:00:00",
          "2012-08-24T00:00:00",
          "2012-08-31T00:00:00",
          "2012-09-07T00:00:00",
          "2012-09-14T00:00:00",
          "2012-09-21T00:00:00",
          "2012-09-28T00:00:00",
          "2012-10-05T00:00:00",
          "2012-10-12T00:00:00",
          "2012-10-19T00:00:00",
          "2012-10-26T00:00:00",
          "2012-11-02T00:00:00",
          "2012-11-09T00:00:00",
          "2012-11-16T00:00:00",
          "2012-11-23T00:00:00",
          "2012-11-30T00:00:00",
          "2012-12-07T00:00:00",
          "2012-12-14T00:00:00",
          "2012-12-21T00:00:00",
          "2012-12-28T00:00:00",
          "2013-01-04T00:00:00",
          "2013-01-11T00:00:00",
          "2013-01-18T00:00:00",
          "2013-01-25T00:00:00",
          "2013-02-01T00:00:00",
          "2013-02-08T00:00:00",
          "2013-02-15T00:00:00",
          "2013-02-22T00:00:00",
          "2013-03-01T00:00:00",
          "2013-03-08T00:00:00",
          "2013-03-15T00:00:00",
          "2013-03-22T00:00:00",
          "2013-03-29T00:00:00",
          "2013-04-05T00:00:00",
          "2013-04-12T00:00:00",
          "2013-04-19T00:00:00",
          "2013-04-26T00:00:00",
          "2013-05-03T00:00:00",
          "2013-05-10T00:00:00",
          "2013-05-17T00:00:00",
          "2013-05-24T00:00:00",
          "2013-05-31T00:00:00",
          "2013-06-07T00:00:00",
          "2013-06-14T00:00:00",
          "2013-06-21T00:00:00",
          "2013-06-28T00:00:00",
          "2013-07-05T00:00:00",
          "2013-07-12T00:00:00",
          "2013-07-19T00:00:00",
          "2013-07-26T00:00:00"
         ],
         "xaxis": "x",
         "y": [
          null,
          null,
          null,
          null,
          null,
          null,
          null,
          null,
          null,
          null,
          null,
          null,
          null,
          null,
          null,
          null,
          null,
          null,
          null,
          null,
          null,
          null,
          null,
          null,
          null,
          null,
          null,
          null,
          null,
          null,
          null,
          null,
          null,
          null,
          null,
          null,
          null,
          null,
          null,
          null,
          null,
          null,
          null,
          null,
          null,
          null,
          null,
          null,
          null,
          null,
          null,
          null,
          20881.1,
          20398.09,
          23873.79,
          28762.37,
          50510.31,
          41512.39,
          20138.19,
          17235.15,
          15136.78,
          15741.6,
          16434.15,
          15883.52,
          14978.09,
          15682.81,
          15363.5,
          16148.87,
          15654.85,
          15766.6,
          15922.41,
          15295.55,
          14539.79,
          14689.24,
          14537.37,
          15277.27,
          17746.68,
          18535.48,
          17859.3,
          18337.68,
          20797.58,
          23077.55,
          23351.8,
          31579.9,
          39886.06,
          18689.54,
          19050.66,
          20911.25,
          25293.49,
          33305.92,
          45773.03,
          46788.75,
          23350.88,
          16567.69,
          16894.4,
          18365.1,
          18378.16,
          23510.49,
          36988.49,
          54060.1,
          20124.22,
          20113.03,
          21140.07,
          22366.88,
          22107.7,
          28952.86,
          57592.12,
          34684.21,
          16976.19,
          16347.6,
          17147.44,
          18164.2,
          18517.79,
          16963.55,
          16065.49,
          17666,
          17558.82,
          16633.41,
          15722.82,
          17823.37,
          16566.18,
          16348.06,
          15731.18
         ],
         "yaxis": "y"
        }
       ],
       "layout": {
        "legend": {
         "title": {
          "text": "variable"
         },
         "tracegroupgap": 0
        },
        "template": {
         "data": {
          "bar": [
           {
            "error_x": {
             "color": "#2a3f5f"
            },
            "error_y": {
             "color": "#2a3f5f"
            },
            "marker": {
             "line": {
              "color": "#E5ECF6",
              "width": 0.5
             },
             "pattern": {
              "fillmode": "overlay",
              "size": 10,
              "solidity": 0.2
             }
            },
            "type": "bar"
           }
          ],
          "barpolar": [
           {
            "marker": {
             "line": {
              "color": "#E5ECF6",
              "width": 0.5
             },
             "pattern": {
              "fillmode": "overlay",
              "size": 10,
              "solidity": 0.2
             }
            },
            "type": "barpolar"
           }
          ],
          "carpet": [
           {
            "aaxis": {
             "endlinecolor": "#2a3f5f",
             "gridcolor": "white",
             "linecolor": "white",
             "minorgridcolor": "white",
             "startlinecolor": "#2a3f5f"
            },
            "baxis": {
             "endlinecolor": "#2a3f5f",
             "gridcolor": "white",
             "linecolor": "white",
             "minorgridcolor": "white",
             "startlinecolor": "#2a3f5f"
            },
            "type": "carpet"
           }
          ],
          "choropleth": [
           {
            "colorbar": {
             "outlinewidth": 0,
             "ticks": ""
            },
            "type": "choropleth"
           }
          ],
          "contour": [
           {
            "colorbar": {
             "outlinewidth": 0,
             "ticks": ""
            },
            "colorscale": [
             [
              0,
              "#0d0887"
             ],
             [
              0.1111111111111111,
              "#46039f"
             ],
             [
              0.2222222222222222,
              "#7201a8"
             ],
             [
              0.3333333333333333,
              "#9c179e"
             ],
             [
              0.4444444444444444,
              "#bd3786"
             ],
             [
              0.5555555555555556,
              "#d8576b"
             ],
             [
              0.6666666666666666,
              "#ed7953"
             ],
             [
              0.7777777777777778,
              "#fb9f3a"
             ],
             [
              0.8888888888888888,
              "#fdca26"
             ],
             [
              1,
              "#f0f921"
             ]
            ],
            "type": "contour"
           }
          ],
          "contourcarpet": [
           {
            "colorbar": {
             "outlinewidth": 0,
             "ticks": ""
            },
            "type": "contourcarpet"
           }
          ],
          "heatmap": [
           {
            "colorbar": {
             "outlinewidth": 0,
             "ticks": ""
            },
            "colorscale": [
             [
              0,
              "#0d0887"
             ],
             [
              0.1111111111111111,
              "#46039f"
             ],
             [
              0.2222222222222222,
              "#7201a8"
             ],
             [
              0.3333333333333333,
              "#9c179e"
             ],
             [
              0.4444444444444444,
              "#bd3786"
             ],
             [
              0.5555555555555556,
              "#d8576b"
             ],
             [
              0.6666666666666666,
              "#ed7953"
             ],
             [
              0.7777777777777778,
              "#fb9f3a"
             ],
             [
              0.8888888888888888,
              "#fdca26"
             ],
             [
              1,
              "#f0f921"
             ]
            ],
            "type": "heatmap"
           }
          ],
          "heatmapgl": [
           {
            "colorbar": {
             "outlinewidth": 0,
             "ticks": ""
            },
            "colorscale": [
             [
              0,
              "#0d0887"
             ],
             [
              0.1111111111111111,
              "#46039f"
             ],
             [
              0.2222222222222222,
              "#7201a8"
             ],
             [
              0.3333333333333333,
              "#9c179e"
             ],
             [
              0.4444444444444444,
              "#bd3786"
             ],
             [
              0.5555555555555556,
              "#d8576b"
             ],
             [
              0.6666666666666666,
              "#ed7953"
             ],
             [
              0.7777777777777778,
              "#fb9f3a"
             ],
             [
              0.8888888888888888,
              "#fdca26"
             ],
             [
              1,
              "#f0f921"
             ]
            ],
            "type": "heatmapgl"
           }
          ],
          "histogram": [
           {
            "marker": {
             "pattern": {
              "fillmode": "overlay",
              "size": 10,
              "solidity": 0.2
             }
            },
            "type": "histogram"
           }
          ],
          "histogram2d": [
           {
            "colorbar": {
             "outlinewidth": 0,
             "ticks": ""
            },
            "colorscale": [
             [
              0,
              "#0d0887"
             ],
             [
              0.1111111111111111,
              "#46039f"
             ],
             [
              0.2222222222222222,
              "#7201a8"
             ],
             [
              0.3333333333333333,
              "#9c179e"
             ],
             [
              0.4444444444444444,
              "#bd3786"
             ],
             [
              0.5555555555555556,
              "#d8576b"
             ],
             [
              0.6666666666666666,
              "#ed7953"
             ],
             [
              0.7777777777777778,
              "#fb9f3a"
             ],
             [
              0.8888888888888888,
              "#fdca26"
             ],
             [
              1,
              "#f0f921"
             ]
            ],
            "type": "histogram2d"
           }
          ],
          "histogram2dcontour": [
           {
            "colorbar": {
             "outlinewidth": 0,
             "ticks": ""
            },
            "colorscale": [
             [
              0,
              "#0d0887"
             ],
             [
              0.1111111111111111,
              "#46039f"
             ],
             [
              0.2222222222222222,
              "#7201a8"
             ],
             [
              0.3333333333333333,
              "#9c179e"
             ],
             [
              0.4444444444444444,
              "#bd3786"
             ],
             [
              0.5555555555555556,
              "#d8576b"
             ],
             [
              0.6666666666666666,
              "#ed7953"
             ],
             [
              0.7777777777777778,
              "#fb9f3a"
             ],
             [
              0.8888888888888888,
              "#fdca26"
             ],
             [
              1,
              "#f0f921"
             ]
            ],
            "type": "histogram2dcontour"
           }
          ],
          "mesh3d": [
           {
            "colorbar": {
             "outlinewidth": 0,
             "ticks": ""
            },
            "type": "mesh3d"
           }
          ],
          "parcoords": [
           {
            "line": {
             "colorbar": {
              "outlinewidth": 0,
              "ticks": ""
             }
            },
            "type": "parcoords"
           }
          ],
          "pie": [
           {
            "automargin": true,
            "type": "pie"
           }
          ],
          "scatter": [
           {
            "fillpattern": {
             "fillmode": "overlay",
             "size": 10,
             "solidity": 0.2
            },
            "type": "scatter"
           }
          ],
          "scatter3d": [
           {
            "line": {
             "colorbar": {
              "outlinewidth": 0,
              "ticks": ""
             }
            },
            "marker": {
             "colorbar": {
              "outlinewidth": 0,
              "ticks": ""
             }
            },
            "type": "scatter3d"
           }
          ],
          "scattercarpet": [
           {
            "marker": {
             "colorbar": {
              "outlinewidth": 0,
              "ticks": ""
             }
            },
            "type": "scattercarpet"
           }
          ],
          "scattergeo": [
           {
            "marker": {
             "colorbar": {
              "outlinewidth": 0,
              "ticks": ""
             }
            },
            "type": "scattergeo"
           }
          ],
          "scattergl": [
           {
            "marker": {
             "colorbar": {
              "outlinewidth": 0,
              "ticks": ""
             }
            },
            "type": "scattergl"
           }
          ],
          "scattermapbox": [
           {
            "marker": {
             "colorbar": {
              "outlinewidth": 0,
              "ticks": ""
             }
            },
            "type": "scattermapbox"
           }
          ],
          "scatterpolar": [
           {
            "marker": {
             "colorbar": {
              "outlinewidth": 0,
              "ticks": ""
             }
            },
            "type": "scatterpolar"
           }
          ],
          "scatterpolargl": [
           {
            "marker": {
             "colorbar": {
              "outlinewidth": 0,
              "ticks": ""
             }
            },
            "type": "scatterpolargl"
           }
          ],
          "scatterternary": [
           {
            "marker": {
             "colorbar": {
              "outlinewidth": 0,
              "ticks": ""
             }
            },
            "type": "scatterternary"
           }
          ],
          "surface": [
           {
            "colorbar": {
             "outlinewidth": 0,
             "ticks": ""
            },
            "colorscale": [
             [
              0,
              "#0d0887"
             ],
             [
              0.1111111111111111,
              "#46039f"
             ],
             [
              0.2222222222222222,
              "#7201a8"
             ],
             [
              0.3333333333333333,
              "#9c179e"
             ],
             [
              0.4444444444444444,
              "#bd3786"
             ],
             [
              0.5555555555555556,
              "#d8576b"
             ],
             [
              0.6666666666666666,
              "#ed7953"
             ],
             [
              0.7777777777777778,
              "#fb9f3a"
             ],
             [
              0.8888888888888888,
              "#fdca26"
             ],
             [
              1,
              "#f0f921"
             ]
            ],
            "type": "surface"
           }
          ],
          "table": [
           {
            "cells": {
             "fill": {
              "color": "#EBF0F8"
             },
             "line": {
              "color": "white"
             }
            },
            "header": {
             "fill": {
              "color": "#C8D4E3"
             },
             "line": {
              "color": "white"
             }
            },
            "type": "table"
           }
          ]
         },
         "layout": {
          "annotationdefaults": {
           "arrowcolor": "#2a3f5f",
           "arrowhead": 0,
           "arrowwidth": 1
          },
          "autotypenumbers": "strict",
          "coloraxis": {
           "colorbar": {
            "outlinewidth": 0,
            "ticks": ""
           }
          },
          "colorscale": {
           "diverging": [
            [
             0,
             "#8e0152"
            ],
            [
             0.1,
             "#c51b7d"
            ],
            [
             0.2,
             "#de77ae"
            ],
            [
             0.3,
             "#f1b6da"
            ],
            [
             0.4,
             "#fde0ef"
            ],
            [
             0.5,
             "#f7f7f7"
            ],
            [
             0.6,
             "#e6f5d0"
            ],
            [
             0.7,
             "#b8e186"
            ],
            [
             0.8,
             "#7fbc41"
            ],
            [
             0.9,
             "#4d9221"
            ],
            [
             1,
             "#276419"
            ]
           ],
           "sequential": [
            [
             0,
             "#0d0887"
            ],
            [
             0.1111111111111111,
             "#46039f"
            ],
            [
             0.2222222222222222,
             "#7201a8"
            ],
            [
             0.3333333333333333,
             "#9c179e"
            ],
            [
             0.4444444444444444,
             "#bd3786"
            ],
            [
             0.5555555555555556,
             "#d8576b"
            ],
            [
             0.6666666666666666,
             "#ed7953"
            ],
            [
             0.7777777777777778,
             "#fb9f3a"
            ],
            [
             0.8888888888888888,
             "#fdca26"
            ],
            [
             1,
             "#f0f921"
            ]
           ],
           "sequentialminus": [
            [
             0,
             "#0d0887"
            ],
            [
             0.1111111111111111,
             "#46039f"
            ],
            [
             0.2222222222222222,
             "#7201a8"
            ],
            [
             0.3333333333333333,
             "#9c179e"
            ],
            [
             0.4444444444444444,
             "#bd3786"
            ],
            [
             0.5555555555555556,
             "#d8576b"
            ],
            [
             0.6666666666666666,
             "#ed7953"
            ],
            [
             0.7777777777777778,
             "#fb9f3a"
            ],
            [
             0.8888888888888888,
             "#fdca26"
            ],
            [
             1,
             "#f0f921"
            ]
           ]
          },
          "colorway": [
           "#636efa",
           "#EF553B",
           "#00cc96",
           "#ab63fa",
           "#FFA15A",
           "#19d3f3",
           "#FF6692",
           "#B6E880",
           "#FF97FF",
           "#FECB52"
          ],
          "font": {
           "color": "#2a3f5f"
          },
          "geo": {
           "bgcolor": "white",
           "lakecolor": "white",
           "landcolor": "#E5ECF6",
           "showlakes": true,
           "showland": true,
           "subunitcolor": "white"
          },
          "hoverlabel": {
           "align": "left"
          },
          "hovermode": "closest",
          "mapbox": {
           "style": "light"
          },
          "paper_bgcolor": "white",
          "plot_bgcolor": "#E5ECF6",
          "polar": {
           "angularaxis": {
            "gridcolor": "white",
            "linecolor": "white",
            "ticks": ""
           },
           "bgcolor": "#E5ECF6",
           "radialaxis": {
            "gridcolor": "white",
            "linecolor": "white",
            "ticks": ""
           }
          },
          "scene": {
           "xaxis": {
            "backgroundcolor": "#E5ECF6",
            "gridcolor": "white",
            "gridwidth": 2,
            "linecolor": "white",
            "showbackground": true,
            "ticks": "",
            "zerolinecolor": "white"
           },
           "yaxis": {
            "backgroundcolor": "#E5ECF6",
            "gridcolor": "white",
            "gridwidth": 2,
            "linecolor": "white",
            "showbackground": true,
            "ticks": "",
            "zerolinecolor": "white"
           },
           "zaxis": {
            "backgroundcolor": "#E5ECF6",
            "gridcolor": "white",
            "gridwidth": 2,
            "linecolor": "white",
            "showbackground": true,
            "ticks": "",
            "zerolinecolor": "white"
           }
          },
          "shapedefaults": {
           "line": {
            "color": "#2a3f5f"
           }
          },
          "ternary": {
           "aaxis": {
            "gridcolor": "white",
            "linecolor": "white",
            "ticks": ""
           },
           "baxis": {
            "gridcolor": "white",
            "linecolor": "white",
            "ticks": ""
           },
           "bgcolor": "#E5ECF6",
           "caxis": {
            "gridcolor": "white",
            "linecolor": "white",
            "ticks": ""
           }
          },
          "title": {
           "x": 0.05
          },
          "xaxis": {
           "automargin": true,
           "gridcolor": "white",
           "linecolor": "white",
           "ticks": "",
           "title": {
            "standoff": 15
           },
           "zerolinecolor": "white",
           "zerolinewidth": 2
          },
          "yaxis": {
           "automargin": true,
           "gridcolor": "white",
           "linecolor": "white",
           "ticks": "",
           "title": {
            "standoff": 15
           },
           "zerolinecolor": "white",
           "zerolinewidth": 2
          }
         }
        },
        "title": {
         "text": "Weekly_Sales and Lag 52 Weeks"
        },
        "xaxis": {
         "anchor": "y",
         "domain": [
          0,
          1
         ],
         "title": {
          "text": "Date"
         }
        },
        "yaxis": {
         "anchor": "x",
         "domain": [
          0,
          1
         ],
         "title": {
          "text": "value"
         }
        }
       }
      }
     },
     "metadata": {},
     "output_type": "display_data"
    }
   ],
   "source": [
    "view_data_horizon(data, target=\"Weekly_Sales\")"
   ]
  },
  {
   "cell_type": "code",
   "execution_count": 39,
   "metadata": {},
   "outputs": [],
   "source": [
    "data = data[data[\"Date\"] >= \"2011-03-25\"]"
   ]
  },
  {
   "cell_type": "code",
   "execution_count": 40,
   "metadata": {},
   "outputs": [
    {
     "data": {
      "text/plain": [
       "Timestamp('2011-03-25 00:00:00')"
      ]
     },
     "execution_count": 40,
     "metadata": {},
     "output_type": "execute_result"
    }
   ],
   "source": [
    "data[\"Date\"].min()"
   ]
  },
  {
   "cell_type": "code",
   "execution_count": 41,
   "metadata": {},
   "outputs": [
    {
     "name": "stdout",
     "output_type": "stream",
     "text": [
      "<class 'pandas.core.frame.DataFrame'>\n",
      "Index: 363648 entries, 173464 to 536633\n",
      "Data columns (total 95 columns):\n",
      " #   Column                       Non-Null Count   Dtype         \n",
      "---  ------                       --------------   -----         \n",
      " 0   Store                        363648 non-null  int64         \n",
      " 1   Dept                         363648 non-null  int64         \n",
      " 2   Date                         363648 non-null  datetime64[ns]\n",
      " 3   Weekly_Sales                 363648 non-null  float64       \n",
      " 4   UID                          363648 non-null  object        \n",
      " 5   IsTrain                      363648 non-null  bool          \n",
      " 6   Type                         363648 non-null  object        \n",
      " 7   Size                         363648 non-null  int64         \n",
      " 8   Temperature                  363648 non-null  float64       \n",
      " 9   Fuel_Price                   363648 non-null  float64       \n",
      " 10  CPI                          325486 non-null  float64       \n",
      " 11  Unemployment                 325486 non-null  float64       \n",
      " 12  IsHoliday                    363648 non-null  int32         \n",
      " 13  month                        363648 non-null  int32         \n",
      " 14  day_of_month                 363648 non-null  int32         \n",
      " 15  week_of_year                 363648 non-null  UInt32        \n",
      " 16  quarter                      363648 non-null  int32         \n",
      " 17  year                         363648 non-null  int32         \n",
      " 18  MarkDown                     363648 non-null  float64       \n",
      " 19  lag_0_Weekly_Sales           355475 non-null  float64       \n",
      " 20  l_0_w_3_sum_Weekly_Sales     354990 non-null  float64       \n",
      " 21  l_0_w_3_mean_Weekly_Sales    354990 non-null  float64       \n",
      " 22  l_0_w_3_median_Weekly_Sales  354990 non-null  float64       \n",
      " 23  l_0_w_3_std_Weekly_Sales     354990 non-null  float64       \n",
      " 24  l_0_w_3_max_Weekly_Sales     354990 non-null  float64       \n",
      " 25  l_0_w_3_min_Weekly_Sales     354990 non-null  float64       \n",
      " 26  l_0_w_4_sum_Weekly_Sales     354738 non-null  float64       \n",
      " 27  l_0_w_4_mean_Weekly_Sales    354738 non-null  float64       \n",
      " 28  l_0_w_4_median_Weekly_Sales  354738 non-null  float64       \n",
      " 29  l_0_w_4_std_Weekly_Sales     354738 non-null  float64       \n",
      " 30  l_0_w_4_max_Weekly_Sales     354738 non-null  float64       \n",
      " 31  l_0_w_4_min_Weekly_Sales     354738 non-null  float64       \n",
      " 32  l_0_w_5_sum_Weekly_Sales     354479 non-null  float64       \n",
      " 33  l_0_w_5_mean_Weekly_Sales    354479 non-null  float64       \n",
      " 34  l_0_w_5_median_Weekly_Sales  354479 non-null  float64       \n",
      " 35  l_0_w_5_std_Weekly_Sales     354479 non-null  float64       \n",
      " 36  l_0_w_5_max_Weekly_Sales     354479 non-null  float64       \n",
      " 37  l_0_w_5_min_Weekly_Sales     354479 non-null  float64       \n",
      " 38  lag_1_Weekly_Sales           355235 non-null  float64       \n",
      " 39  l_1_w_3_sum_Weekly_Sales     354738 non-null  float64       \n",
      " 40  l_1_w_3_mean_Weekly_Sales    354738 non-null  float64       \n",
      " 41  l_1_w_3_median_Weekly_Sales  354738 non-null  float64       \n",
      " 42  l_1_w_3_std_Weekly_Sales     354738 non-null  float64       \n",
      " 43  l_1_w_3_max_Weekly_Sales     354738 non-null  float64       \n",
      " 44  l_1_w_3_min_Weekly_Sales     354738 non-null  float64       \n",
      " 45  l_1_w_4_sum_Weekly_Sales     354479 non-null  float64       \n",
      " 46  l_1_w_4_mean_Weekly_Sales    354479 non-null  float64       \n",
      " 47  l_1_w_4_median_Weekly_Sales  354479 non-null  float64       \n",
      " 48  l_1_w_4_std_Weekly_Sales     354479 non-null  float64       \n",
      " 49  l_1_w_4_max_Weekly_Sales     354479 non-null  float64       \n",
      " 50  l_1_w_4_min_Weekly_Sales     354479 non-null  float64       \n",
      " 51  l_1_w_5_sum_Weekly_Sales     354214 non-null  float64       \n",
      " 52  l_1_w_5_mean_Weekly_Sales    354214 non-null  float64       \n",
      " 53  l_1_w_5_median_Weekly_Sales  354214 non-null  float64       \n",
      " 54  l_1_w_5_std_Weekly_Sales     354214 non-null  float64       \n",
      " 55  l_1_w_5_max_Weekly_Sales     354214 non-null  float64       \n",
      " 56  l_1_w_5_min_Weekly_Sales     354214 non-null  float64       \n",
      " 57  lag_2_Weekly_Sales           354990 non-null  float64       \n",
      " 58  l_2_w_3_sum_Weekly_Sales     354479 non-null  float64       \n",
      " 59  l_2_w_3_mean_Weekly_Sales    354479 non-null  float64       \n",
      " 60  l_2_w_3_median_Weekly_Sales  354479 non-null  float64       \n",
      " 61  l_2_w_3_std_Weekly_Sales     354479 non-null  float64       \n",
      " 62  l_2_w_3_max_Weekly_Sales     354479 non-null  float64       \n",
      " 63  l_2_w_3_min_Weekly_Sales     354479 non-null  float64       \n",
      " 64  l_2_w_4_sum_Weekly_Sales     354214 non-null  float64       \n",
      " 65  l_2_w_4_mean_Weekly_Sales    354214 non-null  float64       \n",
      " 66  l_2_w_4_median_Weekly_Sales  354214 non-null  float64       \n",
      " 67  l_2_w_4_std_Weekly_Sales     354214 non-null  float64       \n",
      " 68  l_2_w_4_max_Weekly_Sales     354214 non-null  float64       \n",
      " 69  l_2_w_4_min_Weekly_Sales     354214 non-null  float64       \n",
      " 70  l_2_w_5_sum_Weekly_Sales     353934 non-null  float64       \n",
      " 71  l_2_w_5_mean_Weekly_Sales    353934 non-null  float64       \n",
      " 72  l_2_w_5_median_Weekly_Sales  353934 non-null  float64       \n",
      " 73  l_2_w_5_std_Weekly_Sales     353934 non-null  float64       \n",
      " 74  l_2_w_5_max_Weekly_Sales     353934 non-null  float64       \n",
      " 75  l_2_w_5_min_Weekly_Sales     353934 non-null  float64       \n",
      " 76  lag_3_Weekly_Sales           354738 non-null  float64       \n",
      " 77  l_3_w_3_sum_Weekly_Sales     354214 non-null  float64       \n",
      " 78  l_3_w_3_mean_Weekly_Sales    354214 non-null  float64       \n",
      " 79  l_3_w_3_median_Weekly_Sales  354214 non-null  float64       \n",
      " 80  l_3_w_3_std_Weekly_Sales     354214 non-null  float64       \n",
      " 81  l_3_w_3_max_Weekly_Sales     354214 non-null  float64       \n",
      " 82  l_3_w_3_min_Weekly_Sales     354214 non-null  float64       \n",
      " 83  l_3_w_4_sum_Weekly_Sales     353934 non-null  float64       \n",
      " 84  l_3_w_4_mean_Weekly_Sales    353934 non-null  float64       \n",
      " 85  l_3_w_4_median_Weekly_Sales  353934 non-null  float64       \n",
      " 86  l_3_w_4_std_Weekly_Sales     353934 non-null  float64       \n",
      " 87  l_3_w_4_max_Weekly_Sales     353934 non-null  float64       \n",
      " 88  l_3_w_4_min_Weekly_Sales     353934 non-null  float64       \n",
      " 89  l_3_w_5_sum_Weekly_Sales     353634 non-null  float64       \n",
      " 90  l_3_w_5_mean_Weekly_Sales    353634 non-null  float64       \n",
      " 91  l_3_w_5_median_Weekly_Sales  353634 non-null  float64       \n",
      " 92  l_3_w_5_std_Weekly_Sales     353634 non-null  float64       \n",
      " 93  l_3_w_5_max_Weekly_Sales     353634 non-null  float64       \n",
      " 94  l_3_w_5_min_Weekly_Sales     353634 non-null  float64       \n",
      "dtypes: UInt32(1), bool(1), datetime64[ns](1), float64(82), int32(5), int64(3), object(2)\n",
      "memory usage: 255.9+ MB\n"
     ]
    }
   ],
   "source": [
    "data.info()"
   ]
  },
  {
   "cell_type": "code",
   "execution_count": 47,
   "metadata": {},
   "outputs": [
    {
     "name": "stdout",
     "output_type": "stream",
     "text": [
      "<class 'pandas.core.frame.DataFrame'>\n",
      "Index: 123 entries, 173814 to 534505\n",
      "Data columns (total 95 columns):\n",
      " #   Column                       Non-Null Count  Dtype         \n",
      "---  ------                       --------------  -----         \n",
      " 0   Store                        123 non-null    int64         \n",
      " 1   Dept                         123 non-null    int64         \n",
      " 2   Date                         123 non-null    datetime64[ns]\n",
      " 3   Weekly_Sales                 123 non-null    float64       \n",
      " 4   UID                          123 non-null    object        \n",
      " 5   IsTrain                      123 non-null    bool          \n",
      " 6   Type                         123 non-null    object        \n",
      " 7   Size                         123 non-null    int64         \n",
      " 8   Temperature                  123 non-null    float64       \n",
      " 9   Fuel_Price                   123 non-null    float64       \n",
      " 10  CPI                          110 non-null    float64       \n",
      " 11  Unemployment                 110 non-null    float64       \n",
      " 12  IsHoliday                    123 non-null    int32         \n",
      " 13  month                        123 non-null    int32         \n",
      " 14  day_of_month                 123 non-null    int32         \n",
      " 15  week_of_year                 123 non-null    UInt32        \n",
      " 16  quarter                      123 non-null    int32         \n",
      " 17  year                         123 non-null    int32         \n",
      " 18  MarkDown                     123 non-null    float64       \n",
      " 19  lag_0_Weekly_Sales           123 non-null    float64       \n",
      " 20  l_0_w_3_sum_Weekly_Sales     123 non-null    float64       \n",
      " 21  l_0_w_3_mean_Weekly_Sales    123 non-null    float64       \n",
      " 22  l_0_w_3_median_Weekly_Sales  123 non-null    float64       \n",
      " 23  l_0_w_3_std_Weekly_Sales     123 non-null    float64       \n",
      " 24  l_0_w_3_max_Weekly_Sales     123 non-null    float64       \n",
      " 25  l_0_w_3_min_Weekly_Sales     123 non-null    float64       \n",
      " 26  l_0_w_4_sum_Weekly_Sales     123 non-null    float64       \n",
      " 27  l_0_w_4_mean_Weekly_Sales    123 non-null    float64       \n",
      " 28  l_0_w_4_median_Weekly_Sales  123 non-null    float64       \n",
      " 29  l_0_w_4_std_Weekly_Sales     123 non-null    float64       \n",
      " 30  l_0_w_4_max_Weekly_Sales     123 non-null    float64       \n",
      " 31  l_0_w_4_min_Weekly_Sales     123 non-null    float64       \n",
      " 32  l_0_w_5_sum_Weekly_Sales     123 non-null    float64       \n",
      " 33  l_0_w_5_mean_Weekly_Sales    123 non-null    float64       \n",
      " 34  l_0_w_5_median_Weekly_Sales  123 non-null    float64       \n",
      " 35  l_0_w_5_std_Weekly_Sales     123 non-null    float64       \n",
      " 36  l_0_w_5_max_Weekly_Sales     123 non-null    float64       \n",
      " 37  l_0_w_5_min_Weekly_Sales     123 non-null    float64       \n",
      " 38  lag_1_Weekly_Sales           123 non-null    float64       \n",
      " 39  l_1_w_3_sum_Weekly_Sales     123 non-null    float64       \n",
      " 40  l_1_w_3_mean_Weekly_Sales    123 non-null    float64       \n",
      " 41  l_1_w_3_median_Weekly_Sales  123 non-null    float64       \n",
      " 42  l_1_w_3_std_Weekly_Sales     123 non-null    float64       \n",
      " 43  l_1_w_3_max_Weekly_Sales     123 non-null    float64       \n",
      " 44  l_1_w_3_min_Weekly_Sales     123 non-null    float64       \n",
      " 45  l_1_w_4_sum_Weekly_Sales     123 non-null    float64       \n",
      " 46  l_1_w_4_mean_Weekly_Sales    123 non-null    float64       \n",
      " 47  l_1_w_4_median_Weekly_Sales  123 non-null    float64       \n",
      " 48  l_1_w_4_std_Weekly_Sales     123 non-null    float64       \n",
      " 49  l_1_w_4_max_Weekly_Sales     123 non-null    float64       \n",
      " 50  l_1_w_4_min_Weekly_Sales     123 non-null    float64       \n",
      " 51  l_1_w_5_sum_Weekly_Sales     123 non-null    float64       \n",
      " 52  l_1_w_5_mean_Weekly_Sales    123 non-null    float64       \n",
      " 53  l_1_w_5_median_Weekly_Sales  123 non-null    float64       \n",
      " 54  l_1_w_5_std_Weekly_Sales     123 non-null    float64       \n",
      " 55  l_1_w_5_max_Weekly_Sales     123 non-null    float64       \n",
      " 56  l_1_w_5_min_Weekly_Sales     123 non-null    float64       \n",
      " 57  lag_2_Weekly_Sales           123 non-null    float64       \n",
      " 58  l_2_w_3_sum_Weekly_Sales     123 non-null    float64       \n",
      " 59  l_2_w_3_mean_Weekly_Sales    123 non-null    float64       \n",
      " 60  l_2_w_3_median_Weekly_Sales  123 non-null    float64       \n",
      " 61  l_2_w_3_std_Weekly_Sales     123 non-null    float64       \n",
      " 62  l_2_w_3_max_Weekly_Sales     123 non-null    float64       \n",
      " 63  l_2_w_3_min_Weekly_Sales     123 non-null    float64       \n",
      " 64  l_2_w_4_sum_Weekly_Sales     123 non-null    float64       \n",
      " 65  l_2_w_4_mean_Weekly_Sales    123 non-null    float64       \n",
      " 66  l_2_w_4_median_Weekly_Sales  123 non-null    float64       \n",
      " 67  l_2_w_4_std_Weekly_Sales     123 non-null    float64       \n",
      " 68  l_2_w_4_max_Weekly_Sales     123 non-null    float64       \n",
      " 69  l_2_w_4_min_Weekly_Sales     123 non-null    float64       \n",
      " 70  l_2_w_5_sum_Weekly_Sales     123 non-null    float64       \n",
      " 71  l_2_w_5_mean_Weekly_Sales    123 non-null    float64       \n",
      " 72  l_2_w_5_median_Weekly_Sales  123 non-null    float64       \n",
      " 73  l_2_w_5_std_Weekly_Sales     123 non-null    float64       \n",
      " 74  l_2_w_5_max_Weekly_Sales     123 non-null    float64       \n",
      " 75  l_2_w_5_min_Weekly_Sales     123 non-null    float64       \n",
      " 76  lag_3_Weekly_Sales           123 non-null    float64       \n",
      " 77  l_3_w_3_sum_Weekly_Sales     123 non-null    float64       \n",
      " 78  l_3_w_3_mean_Weekly_Sales    123 non-null    float64       \n",
      " 79  l_3_w_3_median_Weekly_Sales  123 non-null    float64       \n",
      " 80  l_3_w_3_std_Weekly_Sales     123 non-null    float64       \n",
      " 81  l_3_w_3_max_Weekly_Sales     123 non-null    float64       \n",
      " 82  l_3_w_3_min_Weekly_Sales     123 non-null    float64       \n",
      " 83  l_3_w_4_sum_Weekly_Sales     123 non-null    float64       \n",
      " 84  l_3_w_4_mean_Weekly_Sales    123 non-null    float64       \n",
      " 85  l_3_w_4_median_Weekly_Sales  123 non-null    float64       \n",
      " 86  l_3_w_4_std_Weekly_Sales     123 non-null    float64       \n",
      " 87  l_3_w_4_max_Weekly_Sales     123 non-null    float64       \n",
      " 88  l_3_w_4_min_Weekly_Sales     123 non-null    float64       \n",
      " 89  l_3_w_5_sum_Weekly_Sales     123 non-null    float64       \n",
      " 90  l_3_w_5_mean_Weekly_Sales    123 non-null    float64       \n",
      " 91  l_3_w_5_median_Weekly_Sales  123 non-null    float64       \n",
      " 92  l_3_w_5_std_Weekly_Sales     123 non-null    float64       \n",
      " 93  l_3_w_5_max_Weekly_Sales     123 non-null    float64       \n",
      " 94  l_3_w_5_min_Weekly_Sales     123 non-null    float64       \n",
      "dtypes: UInt32(1), bool(1), datetime64[ns](1), float64(82), int32(5), int64(3), object(2)\n",
      "memory usage: 88.6+ KB\n"
     ]
    }
   ],
   "source": [
    "data[(data[\"Store\"]==12) & (data[\"Dept\"]==1)].info()"
   ]
  },
  {
   "cell_type": "markdown",
   "metadata": {},
   "source": [
    "## **Exploratory data analysis**"
   ]
  },
  {
   "cell_type": "markdown",
   "metadata": {},
   "source": [
    "Mapa de calor de la matriz de correlación"
   ]
  },
  {
   "cell_type": "code",
   "execution_count": 28,
   "metadata": {},
   "outputs": [
    {
     "name": "stdout",
     "output_type": "stream",
     "text": [
      "<class 'pandas.core.frame.DataFrame'>\n",
      "Index: 536634 entries, 0 to 536633\n",
      "Data columns (total 15 columns):\n",
      " #   Column        Non-Null Count   Dtype  \n",
      "---  ------        --------------   -----  \n",
      " 0   Store         536634 non-null  int64  \n",
      " 1   Dept          536634 non-null  int64  \n",
      " 2   Weekly_Sales  536634 non-null  float64\n",
      " 3   Size          536634 non-null  int64  \n",
      " 4   Temperature   536634 non-null  float64\n",
      " 5   Fuel_Price    536634 non-null  float64\n",
      " 6   CPI           498472 non-null  float64\n",
      " 7   Unemployment  498472 non-null  float64\n",
      " 8   IsHoliday     536634 non-null  int32  \n",
      " 9   month         536634 non-null  int32  \n",
      " 10  day_of_month  536634 non-null  int32  \n",
      " 11  week_of_year  536634 non-null  UInt32 \n",
      " 12  quarter       536634 non-null  int32  \n",
      " 13  year          536634 non-null  int32  \n",
      " 14  MarkDown      536634 non-null  float64\n",
      "dtypes: UInt32(1), float64(6), int32(5), int64(3)\n",
      "memory usage: 53.7 MB\n"
     ]
    }
   ],
   "source": [
    "numeric_columns = [\n",
    "    'Store', 'Dept', 'Weekly_Sales', 'Size', 'Temperature',\n",
    "    'Fuel_Price', 'CPI', 'Unemployment', 'IsHoliday', 'month',\n",
    "    'day_of_month', 'week_of_year', 'quarter', 'year', 'MarkDown'\n",
    "]\n",
    "data[numeric_columns].info()"
   ]
  },
  {
   "cell_type": "code",
   "execution_count": 29,
   "metadata": {},
   "outputs": [
    {
     "name": "stdout",
     "output_type": "stream",
     "text": [
      "Fecha de inicio de train 2010-02-05 00:00:00\n",
      "Fecha de fin de train 2012-10-26 00:00:00\n",
      "Fecha de inicio de test 2012-11-02 00:00:00\n",
      "Fecha de fin de test 2013-07-26 00:00:00\n"
     ]
    }
   ],
   "source": [
    "print(\"Fecha de inicio de train\", train_df[\"Date\"].min())\n",
    "print(\"Fecha de fin de train\",train_df[\"Date\"].max())\n",
    "\n",
    "print(\"Fecha de inicio de test\", test_df[\"Date\"].min())\n",
    "print(\"Fecha de fin de test\",test_df[\"Date\"].max())"
   ]
  },
  {
   "cell_type": "code",
   "execution_count": 30,
   "metadata": {},
   "outputs": [],
   "source": [
    "missing_data = data[data['CPI'].isna() | data['Unemployment'].isna()]"
   ]
  },
  {
   "cell_type": "code",
   "execution_count": 31,
   "metadata": {},
   "outputs": [
    {
     "data": {
      "application/vnd.plotly.v1+json": {
       "config": {
        "plotlyServerURL": "https://plot.ly"
       },
       "data": [
        {
         "hovertemplate": "variable=CPI<br>Date=%{x}<br>value=%{y}<extra></extra>",
         "legendgroup": "CPI",
         "line": {
          "color": "#636efa",
          "dash": "solid"
         },
         "marker": {
          "symbol": "circle"
         },
         "mode": "lines",
         "name": "CPI",
         "orientation": "v",
         "showlegend": true,
         "type": "scatter",
         "x": [
          "2010-02-05T00:00:00",
          "2010-02-12T00:00:00",
          "2010-02-19T00:00:00",
          "2010-02-26T00:00:00",
          "2010-03-05T00:00:00",
          "2010-03-12T00:00:00",
          "2010-03-19T00:00:00",
          "2010-03-26T00:00:00",
          "2010-04-02T00:00:00",
          "2010-04-09T00:00:00",
          "2010-04-16T00:00:00",
          "2010-04-23T00:00:00",
          "2010-04-30T00:00:00",
          "2010-05-07T00:00:00",
          "2010-05-14T00:00:00",
          "2010-05-21T00:00:00",
          "2010-05-28T00:00:00",
          "2010-06-04T00:00:00",
          "2010-06-11T00:00:00",
          "2010-06-18T00:00:00",
          "2010-06-25T00:00:00",
          "2010-07-02T00:00:00",
          "2010-07-09T00:00:00",
          "2010-07-16T00:00:00",
          "2010-07-23T00:00:00",
          "2010-07-30T00:00:00",
          "2010-08-06T00:00:00",
          "2010-08-13T00:00:00",
          "2010-08-20T00:00:00",
          "2010-08-27T00:00:00",
          "2010-09-03T00:00:00",
          "2010-09-10T00:00:00",
          "2010-09-17T00:00:00",
          "2010-09-24T00:00:00",
          "2010-10-01T00:00:00",
          "2010-10-08T00:00:00",
          "2010-10-15T00:00:00",
          "2010-10-22T00:00:00",
          "2010-10-29T00:00:00",
          "2010-11-05T00:00:00",
          "2010-11-12T00:00:00",
          "2010-11-19T00:00:00",
          "2010-11-26T00:00:00",
          "2010-12-03T00:00:00",
          "2010-12-10T00:00:00",
          "2010-12-17T00:00:00",
          "2010-12-24T00:00:00",
          "2010-12-31T00:00:00",
          "2011-01-07T00:00:00",
          "2011-01-14T00:00:00",
          "2011-01-21T00:00:00",
          "2011-01-28T00:00:00",
          "2011-02-04T00:00:00",
          "2011-02-11T00:00:00",
          "2011-02-18T00:00:00",
          "2011-02-25T00:00:00",
          "2011-03-04T00:00:00",
          "2011-03-11T00:00:00",
          "2011-03-18T00:00:00",
          "2011-03-25T00:00:00",
          "2011-04-01T00:00:00",
          "2011-04-08T00:00:00",
          "2011-04-15T00:00:00",
          "2011-04-22T00:00:00",
          "2011-04-29T00:00:00",
          "2011-05-06T00:00:00",
          "2011-05-13T00:00:00",
          "2011-05-20T00:00:00",
          "2011-05-27T00:00:00",
          "2011-06-03T00:00:00",
          "2011-06-10T00:00:00",
          "2011-06-17T00:00:00",
          "2011-06-24T00:00:00",
          "2011-07-01T00:00:00",
          "2011-07-08T00:00:00",
          "2011-07-15T00:00:00",
          "2011-07-22T00:00:00",
          "2011-07-29T00:00:00",
          "2011-08-05T00:00:00",
          "2011-08-12T00:00:00",
          "2011-08-19T00:00:00",
          "2011-08-26T00:00:00",
          "2011-09-02T00:00:00",
          "2011-09-09T00:00:00",
          "2011-09-16T00:00:00",
          "2011-09-23T00:00:00",
          "2011-09-30T00:00:00",
          "2011-10-07T00:00:00",
          "2011-10-14T00:00:00",
          "2011-10-21T00:00:00",
          "2011-10-28T00:00:00",
          "2011-11-04T00:00:00",
          "2011-11-11T00:00:00",
          "2011-11-18T00:00:00",
          "2011-11-25T00:00:00",
          "2011-12-02T00:00:00",
          "2011-12-09T00:00:00",
          "2011-12-16T00:00:00",
          "2011-12-23T00:00:00",
          "2011-12-30T00:00:00",
          "2012-01-06T00:00:00",
          "2012-01-13T00:00:00",
          "2012-01-20T00:00:00",
          "2012-01-27T00:00:00",
          "2012-02-03T00:00:00",
          "2012-02-10T00:00:00",
          "2012-02-17T00:00:00",
          "2012-02-24T00:00:00",
          "2012-03-02T00:00:00",
          "2012-03-09T00:00:00",
          "2012-03-16T00:00:00",
          "2012-03-23T00:00:00",
          "2012-03-30T00:00:00",
          "2012-04-06T00:00:00",
          "2012-04-13T00:00:00",
          "2012-04-20T00:00:00",
          "2012-04-27T00:00:00",
          "2012-05-04T00:00:00",
          "2012-05-11T00:00:00",
          "2012-05-18T00:00:00",
          "2012-05-25T00:00:00",
          "2012-06-01T00:00:00",
          "2012-06-08T00:00:00",
          "2012-06-15T00:00:00",
          "2012-06-22T00:00:00",
          "2012-06-29T00:00:00",
          "2012-07-06T00:00:00",
          "2012-07-13T00:00:00",
          "2012-07-20T00:00:00",
          "2012-07-27T00:00:00",
          "2012-08-03T00:00:00",
          "2012-08-10T00:00:00",
          "2012-08-17T00:00:00",
          "2012-08-24T00:00:00",
          "2012-08-31T00:00:00",
          "2012-09-07T00:00:00",
          "2012-09-14T00:00:00",
          "2012-09-21T00:00:00",
          "2012-09-28T00:00:00",
          "2012-10-05T00:00:00",
          "2012-10-12T00:00:00",
          "2012-10-19T00:00:00",
          "2012-10-26T00:00:00",
          "2012-11-02T00:00:00",
          "2012-11-09T00:00:00",
          "2012-11-16T00:00:00",
          "2012-11-23T00:00:00",
          "2012-11-30T00:00:00",
          "2012-12-07T00:00:00",
          "2012-12-14T00:00:00",
          "2012-12-21T00:00:00",
          "2012-12-28T00:00:00",
          "2013-01-04T00:00:00",
          "2013-01-11T00:00:00",
          "2013-01-18T00:00:00",
          "2013-01-25T00:00:00",
          "2013-02-01T00:00:00",
          "2013-02-08T00:00:00",
          "2013-02-15T00:00:00",
          "2013-02-22T00:00:00",
          "2013-03-01T00:00:00",
          "2013-03-08T00:00:00",
          "2013-03-15T00:00:00",
          "2013-03-22T00:00:00",
          "2013-03-29T00:00:00",
          "2013-04-05T00:00:00",
          "2013-04-12T00:00:00",
          "2013-04-19T00:00:00",
          "2013-04-26T00:00:00",
          "2013-05-03T00:00:00",
          "2013-05-10T00:00:00",
          "2013-05-17T00:00:00",
          "2013-05-24T00:00:00",
          "2013-05-31T00:00:00",
          "2013-06-07T00:00:00",
          "2013-06-14T00:00:00",
          "2013-06-21T00:00:00",
          "2013-06-28T00:00:00",
          "2013-07-05T00:00:00",
          "2013-07-12T00:00:00",
          "2013-07-19T00:00:00",
          "2013-07-26T00:00:00"
         ],
         "xaxis": "x",
         "y": [
          211.0963582,
          211.2421698,
          211.2891429,
          211.3196429,
          211.3501429,
          211.3806429,
          211.215635,
          211.0180424,
          210.8204499,
          210.6228574,
          210.4887,
          210.4391228,
          210.3895456,
          210.3399684,
          210.3374261,
          210.6170934,
          210.8967606,
          211.1764278,
          211.4560951,
          211.4537719,
          211.3386526,
          211.2235333,
          211.108414,
          211.1003854,
          211.2351443,
          211.3699032,
          211.5046621,
          211.6394211,
          211.6033633,
          211.5673056,
          211.5312479,
          211.4951902,
          211.5224596,
          211.5972246,
          211.6719895,
          211.7467544,
          211.8137436,
          211.8612937,
          211.9088438,
          211.9563939,
          212.003944,
          211.8896737,
          211.7484333,
          211.607193,
          211.4659526,
          211.4053124,
          211.4051222,
          211.4049321,
          211.4047419,
          211.4574109,
          211.8272343,
          212.1970577,
          212.5668812,
          212.9367046,
          213.2478853,
          213.535609,
          213.8233327,
          214.1110564,
          214.3627114,
          214.5999389,
          214.8371664,
          215.0743939,
          215.2918561,
          215.4599053,
          215.6279544,
          215.7960035,
          215.9640526,
          215.7339202,
          215.5037878,
          215.2736553,
          215.0435229,
          214.9980596,
          215.0910982,
          215.1841368,
          215.2771754,
          215.3611087,
          215.4222784,
          215.4834482,
          215.544618,
          215.6057878,
          215.6693107,
          215.7332258,
          215.7971409,
          215.861056,
          216.0410526,
          216.3758246,
          216.7105965,
          217.0453684,
          217.3552733,
          217.5159762,
          217.6766791,
          217.837382,
          217.9980849,
          218.2205088,
          218.4676211,
          218.7147333,
          218.9618456,
          219.1794533,
          219.3577216,
          219.5359898,
          219.7142581,
          219.8925263,
          219.9856893,
          220.0788523,
          220.1720153,
          220.2651783,
          220.4257586,
          220.636902,
          220.8480454,
          221.0591887,
          221.2118132,
          221.2864126,
          221.3610119,
          221.4356112,
          221.5102105,
          221.5640737,
          221.6179368,
          221.6718,
          221.7256632,
          221.742674,
          221.744944,
          221.7472139,
          221.7494839,
          221.7626421,
          221.8030211,
          221.8434,
          221.8837789,
          221.9241579,
          221.9327267,
          221.9412954,
          221.9498642,
          221.9584329,
          222.0384109,
          222.1719457,
          222.3054805,
          222.4390153,
          222.5820193,
          222.7818386,
          222.9816579,
          223.1814772,
          223.3812965,
          223.4257233,
          223.4442513,
          223.4627793,
          223.4813073,
          223.5129105,
          223.5619474,
          223.6109842,
          223.6600211,
          223.7192767,
          223.8398455,
          223.9604143,
          224.080983,
          224.2015518,
          224.2358132,
          224.2355518,
          224.2352903,
          224.2350289,
          224.2760526,
          224.4202895,
          224.5645263,
          224.7087632,
          224.8356808,
          224.9193005,
          225.0029202,
          225.0865399,
          225.1701596,
          225.1701596,
          225.1701596,
          null,
          null,
          null,
          null,
          null,
          null,
          null,
          null,
          null,
          null,
          null,
          null,
          null
         ],
         "yaxis": "y"
        },
        {
         "hovertemplate": "variable=lag_52_CPI<br>Date=%{x}<br>value=%{y}<extra></extra>",
         "legendgroup": "lag_52_CPI",
         "line": {
          "color": "#EF553B",
          "dash": "solid"
         },
         "marker": {
          "symbol": "circle"
         },
         "mode": "lines",
         "name": "lag_52_CPI",
         "orientation": "v",
         "showlegend": true,
         "type": "scatter",
         "x": [
          "2010-02-05T00:00:00",
          "2010-02-12T00:00:00",
          "2010-02-19T00:00:00",
          "2010-02-26T00:00:00",
          "2010-03-05T00:00:00",
          "2010-03-12T00:00:00",
          "2010-03-19T00:00:00",
          "2010-03-26T00:00:00",
          "2010-04-02T00:00:00",
          "2010-04-09T00:00:00",
          "2010-04-16T00:00:00",
          "2010-04-23T00:00:00",
          "2010-04-30T00:00:00",
          "2010-05-07T00:00:00",
          "2010-05-14T00:00:00",
          "2010-05-21T00:00:00",
          "2010-05-28T00:00:00",
          "2010-06-04T00:00:00",
          "2010-06-11T00:00:00",
          "2010-06-18T00:00:00",
          "2010-06-25T00:00:00",
          "2010-07-02T00:00:00",
          "2010-07-09T00:00:00",
          "2010-07-16T00:00:00",
          "2010-07-23T00:00:00",
          "2010-07-30T00:00:00",
          "2010-08-06T00:00:00",
          "2010-08-13T00:00:00",
          "2010-08-20T00:00:00",
          "2010-08-27T00:00:00",
          "2010-09-03T00:00:00",
          "2010-09-10T00:00:00",
          "2010-09-17T00:00:00",
          "2010-09-24T00:00:00",
          "2010-10-01T00:00:00",
          "2010-10-08T00:00:00",
          "2010-10-15T00:00:00",
          "2010-10-22T00:00:00",
          "2010-10-29T00:00:00",
          "2010-11-05T00:00:00",
          "2010-11-12T00:00:00",
          "2010-11-19T00:00:00",
          "2010-11-26T00:00:00",
          "2010-12-03T00:00:00",
          "2010-12-10T00:00:00",
          "2010-12-17T00:00:00",
          "2010-12-24T00:00:00",
          "2010-12-31T00:00:00",
          "2011-01-07T00:00:00",
          "2011-01-14T00:00:00",
          "2011-01-21T00:00:00",
          "2011-01-28T00:00:00",
          "2011-02-04T00:00:00",
          "2011-02-11T00:00:00",
          "2011-02-18T00:00:00",
          "2011-02-25T00:00:00",
          "2011-03-04T00:00:00",
          "2011-03-11T00:00:00",
          "2011-03-18T00:00:00",
          "2011-03-25T00:00:00",
          "2011-04-01T00:00:00",
          "2011-04-08T00:00:00",
          "2011-04-15T00:00:00",
          "2011-04-22T00:00:00",
          "2011-04-29T00:00:00",
          "2011-05-06T00:00:00",
          "2011-05-13T00:00:00",
          "2011-05-20T00:00:00",
          "2011-05-27T00:00:00",
          "2011-06-03T00:00:00",
          "2011-06-10T00:00:00",
          "2011-06-17T00:00:00",
          "2011-06-24T00:00:00",
          "2011-07-01T00:00:00",
          "2011-07-08T00:00:00",
          "2011-07-15T00:00:00",
          "2011-07-22T00:00:00",
          "2011-07-29T00:00:00",
          "2011-08-05T00:00:00",
          "2011-08-12T00:00:00",
          "2011-08-19T00:00:00",
          "2011-08-26T00:00:00",
          "2011-09-02T00:00:00",
          "2011-09-09T00:00:00",
          "2011-09-16T00:00:00",
          "2011-09-23T00:00:00",
          "2011-09-30T00:00:00",
          "2011-10-07T00:00:00",
          "2011-10-14T00:00:00",
          "2011-10-21T00:00:00",
          "2011-10-28T00:00:00",
          "2011-11-04T00:00:00",
          "2011-11-11T00:00:00",
          "2011-11-18T00:00:00",
          "2011-11-25T00:00:00",
          "2011-12-02T00:00:00",
          "2011-12-09T00:00:00",
          "2011-12-16T00:00:00",
          "2011-12-23T00:00:00",
          "2011-12-30T00:00:00",
          "2012-01-06T00:00:00",
          "2012-01-13T00:00:00",
          "2012-01-20T00:00:00",
          "2012-01-27T00:00:00",
          "2012-02-03T00:00:00",
          "2012-02-10T00:00:00",
          "2012-02-17T00:00:00",
          "2012-02-24T00:00:00",
          "2012-03-02T00:00:00",
          "2012-03-09T00:00:00",
          "2012-03-16T00:00:00",
          "2012-03-23T00:00:00",
          "2012-03-30T00:00:00",
          "2012-04-06T00:00:00",
          "2012-04-13T00:00:00",
          "2012-04-20T00:00:00",
          "2012-04-27T00:00:00",
          "2012-05-04T00:00:00",
          "2012-05-11T00:00:00",
          "2012-05-18T00:00:00",
          "2012-05-25T00:00:00",
          "2012-06-01T00:00:00",
          "2012-06-08T00:00:00",
          "2012-06-15T00:00:00",
          "2012-06-22T00:00:00",
          "2012-06-29T00:00:00",
          "2012-07-06T00:00:00",
          "2012-07-13T00:00:00",
          "2012-07-20T00:00:00",
          "2012-07-27T00:00:00",
          "2012-08-03T00:00:00",
          "2012-08-10T00:00:00",
          "2012-08-17T00:00:00",
          "2012-08-24T00:00:00",
          "2012-08-31T00:00:00",
          "2012-09-07T00:00:00",
          "2012-09-14T00:00:00",
          "2012-09-21T00:00:00",
          "2012-09-28T00:00:00",
          "2012-10-05T00:00:00",
          "2012-10-12T00:00:00",
          "2012-10-19T00:00:00",
          "2012-10-26T00:00:00",
          "2012-11-02T00:00:00",
          "2012-11-09T00:00:00",
          "2012-11-16T00:00:00",
          "2012-11-23T00:00:00",
          "2012-11-30T00:00:00",
          "2012-12-07T00:00:00",
          "2012-12-14T00:00:00",
          "2012-12-21T00:00:00",
          "2012-12-28T00:00:00",
          "2013-01-04T00:00:00",
          "2013-01-11T00:00:00",
          "2013-01-18T00:00:00",
          "2013-01-25T00:00:00",
          "2013-02-01T00:00:00",
          "2013-02-08T00:00:00",
          "2013-02-15T00:00:00",
          "2013-02-22T00:00:00",
          "2013-03-01T00:00:00",
          "2013-03-08T00:00:00",
          "2013-03-15T00:00:00",
          "2013-03-22T00:00:00",
          "2013-03-29T00:00:00",
          "2013-04-05T00:00:00",
          "2013-04-12T00:00:00",
          "2013-04-19T00:00:00",
          "2013-04-26T00:00:00",
          "2013-05-03T00:00:00",
          "2013-05-10T00:00:00",
          "2013-05-17T00:00:00",
          "2013-05-24T00:00:00",
          "2013-05-31T00:00:00",
          "2013-06-07T00:00:00",
          "2013-06-14T00:00:00",
          "2013-06-21T00:00:00",
          "2013-06-28T00:00:00",
          "2013-07-05T00:00:00",
          "2013-07-12T00:00:00",
          "2013-07-19T00:00:00",
          "2013-07-26T00:00:00"
         ],
         "xaxis": "x",
         "y": [
          null,
          null,
          null,
          null,
          null,
          null,
          null,
          null,
          null,
          null,
          null,
          null,
          null,
          null,
          null,
          null,
          null,
          null,
          null,
          null,
          null,
          null,
          null,
          null,
          null,
          null,
          null,
          null,
          null,
          null,
          null,
          null,
          null,
          null,
          null,
          null,
          null,
          null,
          null,
          null,
          null,
          null,
          null,
          null,
          null,
          null,
          null,
          null,
          null,
          null,
          null,
          null,
          211.0963582,
          211.2421698,
          211.2891429,
          211.3196429,
          211.3501429,
          211.3806429,
          211.215635,
          211.0180424,
          210.8204499,
          210.6228574,
          210.4887,
          210.4391228,
          210.3895456,
          210.3399684,
          210.3374261,
          210.6170934,
          210.8967606,
          211.1764278,
          211.4560951,
          211.4537719,
          211.3386526,
          211.2235333,
          211.108414,
          211.1003854,
          211.2351443,
          211.3699032,
          211.5046621,
          211.6394211,
          211.6033633,
          211.5673056,
          211.5312479,
          211.4951902,
          211.5224596,
          211.5972246,
          211.6719895,
          211.7467544,
          211.8137436,
          211.8612937,
          211.9088438,
          211.9563939,
          212.003944,
          211.8896737,
          211.7484333,
          211.607193,
          211.4659526,
          211.4053124,
          211.4051222,
          211.4049321,
          211.4047419,
          211.4574109,
          211.8272343,
          212.1970577,
          212.5668812,
          212.9367046,
          213.2478853,
          213.535609,
          213.8233327,
          214.1110564,
          214.3627114,
          214.5999389,
          214.8371664,
          215.0743939,
          215.2918561,
          215.4599053,
          215.6279544,
          215.7960035,
          215.9640526,
          215.7339202,
          215.5037878,
          215.2736553,
          215.0435229,
          214.9980596,
          215.0910982,
          215.1841368,
          215.2771754,
          215.3611087,
          215.4222784,
          215.4834482,
          215.544618,
          215.6057878,
          215.6693107,
          215.7332258,
          215.7971409,
          215.861056,
          216.0410526,
          216.3758246,
          216.7105965,
          217.0453684,
          217.3552733,
          217.5159762,
          217.6766791,
          217.837382,
          217.9980849,
          218.2205088,
          218.4676211,
          218.7147333,
          218.9618456,
          219.1794533,
          219.3577216,
          219.5359898,
          219.7142581,
          219.8925263,
          219.9856893,
          220.0788523,
          220.1720153,
          220.2651783,
          220.4257586,
          220.636902,
          220.8480454,
          221.0591887,
          221.2118132,
          221.2864126,
          221.3610119,
          221.4356112,
          221.5102105,
          221.5640737,
          221.6179368,
          221.6718,
          221.7256632,
          221.742674,
          221.744944,
          221.7472139,
          221.7494839,
          221.7626421,
          221.8030211,
          221.8434,
          221.8837789,
          221.9241579,
          221.9327267,
          221.9412954
         ],
         "yaxis": "y"
        }
       ],
       "layout": {
        "legend": {
         "title": {
          "text": "variable"
         },
         "tracegroupgap": 0
        },
        "template": {
         "data": {
          "bar": [
           {
            "error_x": {
             "color": "#2a3f5f"
            },
            "error_y": {
             "color": "#2a3f5f"
            },
            "marker": {
             "line": {
              "color": "#E5ECF6",
              "width": 0.5
             },
             "pattern": {
              "fillmode": "overlay",
              "size": 10,
              "solidity": 0.2
             }
            },
            "type": "bar"
           }
          ],
          "barpolar": [
           {
            "marker": {
             "line": {
              "color": "#E5ECF6",
              "width": 0.5
             },
             "pattern": {
              "fillmode": "overlay",
              "size": 10,
              "solidity": 0.2
             }
            },
            "type": "barpolar"
           }
          ],
          "carpet": [
           {
            "aaxis": {
             "endlinecolor": "#2a3f5f",
             "gridcolor": "white",
             "linecolor": "white",
             "minorgridcolor": "white",
             "startlinecolor": "#2a3f5f"
            },
            "baxis": {
             "endlinecolor": "#2a3f5f",
             "gridcolor": "white",
             "linecolor": "white",
             "minorgridcolor": "white",
             "startlinecolor": "#2a3f5f"
            },
            "type": "carpet"
           }
          ],
          "choropleth": [
           {
            "colorbar": {
             "outlinewidth": 0,
             "ticks": ""
            },
            "type": "choropleth"
           }
          ],
          "contour": [
           {
            "colorbar": {
             "outlinewidth": 0,
             "ticks": ""
            },
            "colorscale": [
             [
              0,
              "#0d0887"
             ],
             [
              0.1111111111111111,
              "#46039f"
             ],
             [
              0.2222222222222222,
              "#7201a8"
             ],
             [
              0.3333333333333333,
              "#9c179e"
             ],
             [
              0.4444444444444444,
              "#bd3786"
             ],
             [
              0.5555555555555556,
              "#d8576b"
             ],
             [
              0.6666666666666666,
              "#ed7953"
             ],
             [
              0.7777777777777778,
              "#fb9f3a"
             ],
             [
              0.8888888888888888,
              "#fdca26"
             ],
             [
              1,
              "#f0f921"
             ]
            ],
            "type": "contour"
           }
          ],
          "contourcarpet": [
           {
            "colorbar": {
             "outlinewidth": 0,
             "ticks": ""
            },
            "type": "contourcarpet"
           }
          ],
          "heatmap": [
           {
            "colorbar": {
             "outlinewidth": 0,
             "ticks": ""
            },
            "colorscale": [
             [
              0,
              "#0d0887"
             ],
             [
              0.1111111111111111,
              "#46039f"
             ],
             [
              0.2222222222222222,
              "#7201a8"
             ],
             [
              0.3333333333333333,
              "#9c179e"
             ],
             [
              0.4444444444444444,
              "#bd3786"
             ],
             [
              0.5555555555555556,
              "#d8576b"
             ],
             [
              0.6666666666666666,
              "#ed7953"
             ],
             [
              0.7777777777777778,
              "#fb9f3a"
             ],
             [
              0.8888888888888888,
              "#fdca26"
             ],
             [
              1,
              "#f0f921"
             ]
            ],
            "type": "heatmap"
           }
          ],
          "heatmapgl": [
           {
            "colorbar": {
             "outlinewidth": 0,
             "ticks": ""
            },
            "colorscale": [
             [
              0,
              "#0d0887"
             ],
             [
              0.1111111111111111,
              "#46039f"
             ],
             [
              0.2222222222222222,
              "#7201a8"
             ],
             [
              0.3333333333333333,
              "#9c179e"
             ],
             [
              0.4444444444444444,
              "#bd3786"
             ],
             [
              0.5555555555555556,
              "#d8576b"
             ],
             [
              0.6666666666666666,
              "#ed7953"
             ],
             [
              0.7777777777777778,
              "#fb9f3a"
             ],
             [
              0.8888888888888888,
              "#fdca26"
             ],
             [
              1,
              "#f0f921"
             ]
            ],
            "type": "heatmapgl"
           }
          ],
          "histogram": [
           {
            "marker": {
             "pattern": {
              "fillmode": "overlay",
              "size": 10,
              "solidity": 0.2
             }
            },
            "type": "histogram"
           }
          ],
          "histogram2d": [
           {
            "colorbar": {
             "outlinewidth": 0,
             "ticks": ""
            },
            "colorscale": [
             [
              0,
              "#0d0887"
             ],
             [
              0.1111111111111111,
              "#46039f"
             ],
             [
              0.2222222222222222,
              "#7201a8"
             ],
             [
              0.3333333333333333,
              "#9c179e"
             ],
             [
              0.4444444444444444,
              "#bd3786"
             ],
             [
              0.5555555555555556,
              "#d8576b"
             ],
             [
              0.6666666666666666,
              "#ed7953"
             ],
             [
              0.7777777777777778,
              "#fb9f3a"
             ],
             [
              0.8888888888888888,
              "#fdca26"
             ],
             [
              1,
              "#f0f921"
             ]
            ],
            "type": "histogram2d"
           }
          ],
          "histogram2dcontour": [
           {
            "colorbar": {
             "outlinewidth": 0,
             "ticks": ""
            },
            "colorscale": [
             [
              0,
              "#0d0887"
             ],
             [
              0.1111111111111111,
              "#46039f"
             ],
             [
              0.2222222222222222,
              "#7201a8"
             ],
             [
              0.3333333333333333,
              "#9c179e"
             ],
             [
              0.4444444444444444,
              "#bd3786"
             ],
             [
              0.5555555555555556,
              "#d8576b"
             ],
             [
              0.6666666666666666,
              "#ed7953"
             ],
             [
              0.7777777777777778,
              "#fb9f3a"
             ],
             [
              0.8888888888888888,
              "#fdca26"
             ],
             [
              1,
              "#f0f921"
             ]
            ],
            "type": "histogram2dcontour"
           }
          ],
          "mesh3d": [
           {
            "colorbar": {
             "outlinewidth": 0,
             "ticks": ""
            },
            "type": "mesh3d"
           }
          ],
          "parcoords": [
           {
            "line": {
             "colorbar": {
              "outlinewidth": 0,
              "ticks": ""
             }
            },
            "type": "parcoords"
           }
          ],
          "pie": [
           {
            "automargin": true,
            "type": "pie"
           }
          ],
          "scatter": [
           {
            "fillpattern": {
             "fillmode": "overlay",
             "size": 10,
             "solidity": 0.2
            },
            "type": "scatter"
           }
          ],
          "scatter3d": [
           {
            "line": {
             "colorbar": {
              "outlinewidth": 0,
              "ticks": ""
             }
            },
            "marker": {
             "colorbar": {
              "outlinewidth": 0,
              "ticks": ""
             }
            },
            "type": "scatter3d"
           }
          ],
          "scattercarpet": [
           {
            "marker": {
             "colorbar": {
              "outlinewidth": 0,
              "ticks": ""
             }
            },
            "type": "scattercarpet"
           }
          ],
          "scattergeo": [
           {
            "marker": {
             "colorbar": {
              "outlinewidth": 0,
              "ticks": ""
             }
            },
            "type": "scattergeo"
           }
          ],
          "scattergl": [
           {
            "marker": {
             "colorbar": {
              "outlinewidth": 0,
              "ticks": ""
             }
            },
            "type": "scattergl"
           }
          ],
          "scattermapbox": [
           {
            "marker": {
             "colorbar": {
              "outlinewidth": 0,
              "ticks": ""
             }
            },
            "type": "scattermapbox"
           }
          ],
          "scatterpolar": [
           {
            "marker": {
             "colorbar": {
              "outlinewidth": 0,
              "ticks": ""
             }
            },
            "type": "scatterpolar"
           }
          ],
          "scatterpolargl": [
           {
            "marker": {
             "colorbar": {
              "outlinewidth": 0,
              "ticks": ""
             }
            },
            "type": "scatterpolargl"
           }
          ],
          "scatterternary": [
           {
            "marker": {
             "colorbar": {
              "outlinewidth": 0,
              "ticks": ""
             }
            },
            "type": "scatterternary"
           }
          ],
          "surface": [
           {
            "colorbar": {
             "outlinewidth": 0,
             "ticks": ""
            },
            "colorscale": [
             [
              0,
              "#0d0887"
             ],
             [
              0.1111111111111111,
              "#46039f"
             ],
             [
              0.2222222222222222,
              "#7201a8"
             ],
             [
              0.3333333333333333,
              "#9c179e"
             ],
             [
              0.4444444444444444,
              "#bd3786"
             ],
             [
              0.5555555555555556,
              "#d8576b"
             ],
             [
              0.6666666666666666,
              "#ed7953"
             ],
             [
              0.7777777777777778,
              "#fb9f3a"
             ],
             [
              0.8888888888888888,
              "#fdca26"
             ],
             [
              1,
              "#f0f921"
             ]
            ],
            "type": "surface"
           }
          ],
          "table": [
           {
            "cells": {
             "fill": {
              "color": "#EBF0F8"
             },
             "line": {
              "color": "white"
             }
            },
            "header": {
             "fill": {
              "color": "#C8D4E3"
             },
             "line": {
              "color": "white"
             }
            },
            "type": "table"
           }
          ]
         },
         "layout": {
          "annotationdefaults": {
           "arrowcolor": "#2a3f5f",
           "arrowhead": 0,
           "arrowwidth": 1
          },
          "autotypenumbers": "strict",
          "coloraxis": {
           "colorbar": {
            "outlinewidth": 0,
            "ticks": ""
           }
          },
          "colorscale": {
           "diverging": [
            [
             0,
             "#8e0152"
            ],
            [
             0.1,
             "#c51b7d"
            ],
            [
             0.2,
             "#de77ae"
            ],
            [
             0.3,
             "#f1b6da"
            ],
            [
             0.4,
             "#fde0ef"
            ],
            [
             0.5,
             "#f7f7f7"
            ],
            [
             0.6,
             "#e6f5d0"
            ],
            [
             0.7,
             "#b8e186"
            ],
            [
             0.8,
             "#7fbc41"
            ],
            [
             0.9,
             "#4d9221"
            ],
            [
             1,
             "#276419"
            ]
           ],
           "sequential": [
            [
             0,
             "#0d0887"
            ],
            [
             0.1111111111111111,
             "#46039f"
            ],
            [
             0.2222222222222222,
             "#7201a8"
            ],
            [
             0.3333333333333333,
             "#9c179e"
            ],
            [
             0.4444444444444444,
             "#bd3786"
            ],
            [
             0.5555555555555556,
             "#d8576b"
            ],
            [
             0.6666666666666666,
             "#ed7953"
            ],
            [
             0.7777777777777778,
             "#fb9f3a"
            ],
            [
             0.8888888888888888,
             "#fdca26"
            ],
            [
             1,
             "#f0f921"
            ]
           ],
           "sequentialminus": [
            [
             0,
             "#0d0887"
            ],
            [
             0.1111111111111111,
             "#46039f"
            ],
            [
             0.2222222222222222,
             "#7201a8"
            ],
            [
             0.3333333333333333,
             "#9c179e"
            ],
            [
             0.4444444444444444,
             "#bd3786"
            ],
            [
             0.5555555555555556,
             "#d8576b"
            ],
            [
             0.6666666666666666,
             "#ed7953"
            ],
            [
             0.7777777777777778,
             "#fb9f3a"
            ],
            [
             0.8888888888888888,
             "#fdca26"
            ],
            [
             1,
             "#f0f921"
            ]
           ]
          },
          "colorway": [
           "#636efa",
           "#EF553B",
           "#00cc96",
           "#ab63fa",
           "#FFA15A",
           "#19d3f3",
           "#FF6692",
           "#B6E880",
           "#FF97FF",
           "#FECB52"
          ],
          "font": {
           "color": "#2a3f5f"
          },
          "geo": {
           "bgcolor": "white",
           "lakecolor": "white",
           "landcolor": "#E5ECF6",
           "showlakes": true,
           "showland": true,
           "subunitcolor": "white"
          },
          "hoverlabel": {
           "align": "left"
          },
          "hovermode": "closest",
          "mapbox": {
           "style": "light"
          },
          "paper_bgcolor": "white",
          "plot_bgcolor": "#E5ECF6",
          "polar": {
           "angularaxis": {
            "gridcolor": "white",
            "linecolor": "white",
            "ticks": ""
           },
           "bgcolor": "#E5ECF6",
           "radialaxis": {
            "gridcolor": "white",
            "linecolor": "white",
            "ticks": ""
           }
          },
          "scene": {
           "xaxis": {
            "backgroundcolor": "#E5ECF6",
            "gridcolor": "white",
            "gridwidth": 2,
            "linecolor": "white",
            "showbackground": true,
            "ticks": "",
            "zerolinecolor": "white"
           },
           "yaxis": {
            "backgroundcolor": "#E5ECF6",
            "gridcolor": "white",
            "gridwidth": 2,
            "linecolor": "white",
            "showbackground": true,
            "ticks": "",
            "zerolinecolor": "white"
           },
           "zaxis": {
            "backgroundcolor": "#E5ECF6",
            "gridcolor": "white",
            "gridwidth": 2,
            "linecolor": "white",
            "showbackground": true,
            "ticks": "",
            "zerolinecolor": "white"
           }
          },
          "shapedefaults": {
           "line": {
            "color": "#2a3f5f"
           }
          },
          "ternary": {
           "aaxis": {
            "gridcolor": "white",
            "linecolor": "white",
            "ticks": ""
           },
           "baxis": {
            "gridcolor": "white",
            "linecolor": "white",
            "ticks": ""
           },
           "bgcolor": "#E5ECF6",
           "caxis": {
            "gridcolor": "white",
            "linecolor": "white",
            "ticks": ""
           }
          },
          "title": {
           "x": 0.05
          },
          "xaxis": {
           "automargin": true,
           "gridcolor": "white",
           "linecolor": "white",
           "ticks": "",
           "title": {
            "standoff": 15
           },
           "zerolinecolor": "white",
           "zerolinewidth": 2
          },
          "yaxis": {
           "automargin": true,
           "gridcolor": "white",
           "linecolor": "white",
           "ticks": "",
           "title": {
            "standoff": 15
           },
           "zerolinecolor": "white",
           "zerolinewidth": 2
          }
         }
        },
        "title": {
         "text": "CPI and Lag 52 Weeks"
        },
        "xaxis": {
         "anchor": "y",
         "domain": [
          0,
          1
         ],
         "title": {
          "text": "Date"
         }
        },
        "yaxis": {
         "anchor": "x",
         "domain": [
          0,
          1
         ],
         "title": {
          "text": "value"
         }
        }
       }
      }
     },
     "metadata": {},
     "output_type": "display_data"
    }
   ],
   "source": [
    "view_data_horizon(data, target=\"CPI\")"
   ]
  },
  {
   "cell_type": "code",
   "execution_count": 32,
   "metadata": {},
   "outputs": [
    {
     "data": {
      "application/vnd.plotly.v1+json": {
       "config": {
        "plotlyServerURL": "https://plot.ly"
       },
       "data": [
        {
         "hovertemplate": "variable=Unemployment<br>Date=%{x}<br>value=%{y}<extra></extra>",
         "legendgroup": "Unemployment",
         "line": {
          "color": "#636efa",
          "dash": "solid"
         },
         "marker": {
          "symbol": "circle"
         },
         "mode": "lines",
         "name": "Unemployment",
         "orientation": "v",
         "showlegend": true,
         "type": "scatter",
         "x": [
          "2010-02-05T00:00:00",
          "2010-02-12T00:00:00",
          "2010-02-19T00:00:00",
          "2010-02-26T00:00:00",
          "2010-03-05T00:00:00",
          "2010-03-12T00:00:00",
          "2010-03-19T00:00:00",
          "2010-03-26T00:00:00",
          "2010-04-02T00:00:00",
          "2010-04-09T00:00:00",
          "2010-04-16T00:00:00",
          "2010-04-23T00:00:00",
          "2010-04-30T00:00:00",
          "2010-05-07T00:00:00",
          "2010-05-14T00:00:00",
          "2010-05-21T00:00:00",
          "2010-05-28T00:00:00",
          "2010-06-04T00:00:00",
          "2010-06-11T00:00:00",
          "2010-06-18T00:00:00",
          "2010-06-25T00:00:00",
          "2010-07-02T00:00:00",
          "2010-07-09T00:00:00",
          "2010-07-16T00:00:00",
          "2010-07-23T00:00:00",
          "2010-07-30T00:00:00",
          "2010-08-06T00:00:00",
          "2010-08-13T00:00:00",
          "2010-08-20T00:00:00",
          "2010-08-27T00:00:00",
          "2010-09-03T00:00:00",
          "2010-09-10T00:00:00",
          "2010-09-17T00:00:00",
          "2010-09-24T00:00:00",
          "2010-10-01T00:00:00",
          "2010-10-08T00:00:00",
          "2010-10-15T00:00:00",
          "2010-10-22T00:00:00",
          "2010-10-29T00:00:00",
          "2010-11-05T00:00:00",
          "2010-11-12T00:00:00",
          "2010-11-19T00:00:00",
          "2010-11-26T00:00:00",
          "2010-12-03T00:00:00",
          "2010-12-10T00:00:00",
          "2010-12-17T00:00:00",
          "2010-12-24T00:00:00",
          "2010-12-31T00:00:00",
          "2011-01-07T00:00:00",
          "2011-01-14T00:00:00",
          "2011-01-21T00:00:00",
          "2011-01-28T00:00:00",
          "2011-02-04T00:00:00",
          "2011-02-11T00:00:00",
          "2011-02-18T00:00:00",
          "2011-02-25T00:00:00",
          "2011-03-04T00:00:00",
          "2011-03-11T00:00:00",
          "2011-03-18T00:00:00",
          "2011-03-25T00:00:00",
          "2011-04-01T00:00:00",
          "2011-04-08T00:00:00",
          "2011-04-15T00:00:00",
          "2011-04-22T00:00:00",
          "2011-04-29T00:00:00",
          "2011-05-06T00:00:00",
          "2011-05-13T00:00:00",
          "2011-05-20T00:00:00",
          "2011-05-27T00:00:00",
          "2011-06-03T00:00:00",
          "2011-06-10T00:00:00",
          "2011-06-17T00:00:00",
          "2011-06-24T00:00:00",
          "2011-07-01T00:00:00",
          "2011-07-08T00:00:00",
          "2011-07-15T00:00:00",
          "2011-07-22T00:00:00",
          "2011-07-29T00:00:00",
          "2011-08-05T00:00:00",
          "2011-08-12T00:00:00",
          "2011-08-19T00:00:00",
          "2011-08-26T00:00:00",
          "2011-09-02T00:00:00",
          "2011-09-09T00:00:00",
          "2011-09-16T00:00:00",
          "2011-09-23T00:00:00",
          "2011-09-30T00:00:00",
          "2011-10-07T00:00:00",
          "2011-10-14T00:00:00",
          "2011-10-21T00:00:00",
          "2011-10-28T00:00:00",
          "2011-11-04T00:00:00",
          "2011-11-11T00:00:00",
          "2011-11-18T00:00:00",
          "2011-11-25T00:00:00",
          "2011-12-02T00:00:00",
          "2011-12-09T00:00:00",
          "2011-12-16T00:00:00",
          "2011-12-23T00:00:00",
          "2011-12-30T00:00:00",
          "2012-01-06T00:00:00",
          "2012-01-13T00:00:00",
          "2012-01-20T00:00:00",
          "2012-01-27T00:00:00",
          "2012-02-03T00:00:00",
          "2012-02-10T00:00:00",
          "2012-02-17T00:00:00",
          "2012-02-24T00:00:00",
          "2012-03-02T00:00:00",
          "2012-03-09T00:00:00",
          "2012-03-16T00:00:00",
          "2012-03-23T00:00:00",
          "2012-03-30T00:00:00",
          "2012-04-06T00:00:00",
          "2012-04-13T00:00:00",
          "2012-04-20T00:00:00",
          "2012-04-27T00:00:00",
          "2012-05-04T00:00:00",
          "2012-05-11T00:00:00",
          "2012-05-18T00:00:00",
          "2012-05-25T00:00:00",
          "2012-06-01T00:00:00",
          "2012-06-08T00:00:00",
          "2012-06-15T00:00:00",
          "2012-06-22T00:00:00",
          "2012-06-29T00:00:00",
          "2012-07-06T00:00:00",
          "2012-07-13T00:00:00",
          "2012-07-20T00:00:00",
          "2012-07-27T00:00:00",
          "2012-08-03T00:00:00",
          "2012-08-10T00:00:00",
          "2012-08-17T00:00:00",
          "2012-08-24T00:00:00",
          "2012-08-31T00:00:00",
          "2012-09-07T00:00:00",
          "2012-09-14T00:00:00",
          "2012-09-21T00:00:00",
          "2012-09-28T00:00:00",
          "2012-10-05T00:00:00",
          "2012-10-12T00:00:00",
          "2012-10-19T00:00:00",
          "2012-10-26T00:00:00",
          "2012-11-02T00:00:00",
          "2012-11-09T00:00:00",
          "2012-11-16T00:00:00",
          "2012-11-23T00:00:00",
          "2012-11-30T00:00:00",
          "2012-12-07T00:00:00",
          "2012-12-14T00:00:00",
          "2012-12-21T00:00:00",
          "2012-12-28T00:00:00",
          "2013-01-04T00:00:00",
          "2013-01-11T00:00:00",
          "2013-01-18T00:00:00",
          "2013-01-25T00:00:00",
          "2013-02-01T00:00:00",
          "2013-02-08T00:00:00",
          "2013-02-15T00:00:00",
          "2013-02-22T00:00:00",
          "2013-03-01T00:00:00",
          "2013-03-08T00:00:00",
          "2013-03-15T00:00:00",
          "2013-03-22T00:00:00",
          "2013-03-29T00:00:00",
          "2013-04-05T00:00:00",
          "2013-04-12T00:00:00",
          "2013-04-19T00:00:00",
          "2013-04-26T00:00:00",
          "2013-05-03T00:00:00",
          "2013-05-10T00:00:00",
          "2013-05-17T00:00:00",
          "2013-05-24T00:00:00",
          "2013-05-31T00:00:00",
          "2013-06-07T00:00:00",
          "2013-06-14T00:00:00",
          "2013-06-21T00:00:00",
          "2013-06-28T00:00:00",
          "2013-07-05T00:00:00",
          "2013-07-12T00:00:00",
          "2013-07-19T00:00:00",
          "2013-07-26T00:00:00"
         ],
         "xaxis": "x",
         "y": [
          8.106,
          8.106,
          8.106,
          8.106,
          8.106,
          8.106,
          8.106,
          8.106,
          7.808,
          7.808,
          7.808,
          7.808,
          7.808,
          7.808,
          7.808,
          7.808,
          7.808,
          7.808,
          7.808,
          7.808,
          7.808,
          7.787,
          7.787,
          7.787,
          7.787,
          7.787,
          7.787,
          7.787,
          7.787,
          7.787,
          7.787,
          7.787,
          7.787,
          7.787,
          7.838,
          7.838,
          7.838,
          7.838,
          7.838,
          7.838,
          7.838,
          7.838,
          7.838,
          7.838,
          7.838,
          7.838,
          7.838,
          7.838,
          7.742,
          7.742,
          7.742,
          7.742,
          7.742,
          7.742,
          7.742,
          7.742,
          7.742,
          7.742,
          7.742,
          7.742,
          7.682,
          7.682,
          7.682,
          7.682,
          7.682,
          7.682,
          7.682,
          7.682,
          7.682,
          7.682,
          7.682,
          7.682,
          7.682,
          7.962,
          7.962,
          7.962,
          7.962,
          7.962,
          7.962,
          7.962,
          7.962,
          7.962,
          7.962,
          7.962,
          7.962,
          7.962,
          7.962,
          7.866,
          7.866,
          7.866,
          7.866,
          7.866,
          7.866,
          7.866,
          7.866,
          7.866,
          7.866,
          7.866,
          7.866,
          7.866,
          7.348,
          7.348,
          7.348,
          7.348,
          7.348,
          7.348,
          7.348,
          7.348,
          7.348,
          7.348,
          7.348,
          7.348,
          7.348,
          7.143,
          7.143,
          7.143,
          7.143,
          7.143,
          7.143,
          7.143,
          7.143,
          7.143,
          7.143,
          7.143,
          7.143,
          7.143,
          6.908,
          6.908,
          6.908,
          6.908,
          6.908,
          6.908,
          6.908,
          6.908,
          6.908,
          6.908,
          6.908,
          6.908,
          6.908,
          6.573,
          6.573,
          6.573,
          6.573,
          6.573,
          6.573,
          6.573,
          6.573,
          6.573,
          6.573,
          6.573,
          6.573,
          6.573,
          6.525,
          6.525,
          6.525,
          6.525,
          6.525,
          6.525,
          6.525,
          6.525,
          6.525,
          6.525,
          6.525,
          6.525,
          6.525,
          6.314,
          6.314,
          6.314,
          6.314,
          null,
          null,
          null,
          null,
          null,
          null,
          null,
          null,
          null,
          null,
          null,
          null,
          null
         ],
         "yaxis": "y"
        },
        {
         "hovertemplate": "variable=lag_52_Unemployment<br>Date=%{x}<br>value=%{y}<extra></extra>",
         "legendgroup": "lag_52_Unemployment",
         "line": {
          "color": "#EF553B",
          "dash": "solid"
         },
         "marker": {
          "symbol": "circle"
         },
         "mode": "lines",
         "name": "lag_52_Unemployment",
         "orientation": "v",
         "showlegend": true,
         "type": "scatter",
         "x": [
          "2010-02-05T00:00:00",
          "2010-02-12T00:00:00",
          "2010-02-19T00:00:00",
          "2010-02-26T00:00:00",
          "2010-03-05T00:00:00",
          "2010-03-12T00:00:00",
          "2010-03-19T00:00:00",
          "2010-03-26T00:00:00",
          "2010-04-02T00:00:00",
          "2010-04-09T00:00:00",
          "2010-04-16T00:00:00",
          "2010-04-23T00:00:00",
          "2010-04-30T00:00:00",
          "2010-05-07T00:00:00",
          "2010-05-14T00:00:00",
          "2010-05-21T00:00:00",
          "2010-05-28T00:00:00",
          "2010-06-04T00:00:00",
          "2010-06-11T00:00:00",
          "2010-06-18T00:00:00",
          "2010-06-25T00:00:00",
          "2010-07-02T00:00:00",
          "2010-07-09T00:00:00",
          "2010-07-16T00:00:00",
          "2010-07-23T00:00:00",
          "2010-07-30T00:00:00",
          "2010-08-06T00:00:00",
          "2010-08-13T00:00:00",
          "2010-08-20T00:00:00",
          "2010-08-27T00:00:00",
          "2010-09-03T00:00:00",
          "2010-09-10T00:00:00",
          "2010-09-17T00:00:00",
          "2010-09-24T00:00:00",
          "2010-10-01T00:00:00",
          "2010-10-08T00:00:00",
          "2010-10-15T00:00:00",
          "2010-10-22T00:00:00",
          "2010-10-29T00:00:00",
          "2010-11-05T00:00:00",
          "2010-11-12T00:00:00",
          "2010-11-19T00:00:00",
          "2010-11-26T00:00:00",
          "2010-12-03T00:00:00",
          "2010-12-10T00:00:00",
          "2010-12-17T00:00:00",
          "2010-12-24T00:00:00",
          "2010-12-31T00:00:00",
          "2011-01-07T00:00:00",
          "2011-01-14T00:00:00",
          "2011-01-21T00:00:00",
          "2011-01-28T00:00:00",
          "2011-02-04T00:00:00",
          "2011-02-11T00:00:00",
          "2011-02-18T00:00:00",
          "2011-02-25T00:00:00",
          "2011-03-04T00:00:00",
          "2011-03-11T00:00:00",
          "2011-03-18T00:00:00",
          "2011-03-25T00:00:00",
          "2011-04-01T00:00:00",
          "2011-04-08T00:00:00",
          "2011-04-15T00:00:00",
          "2011-04-22T00:00:00",
          "2011-04-29T00:00:00",
          "2011-05-06T00:00:00",
          "2011-05-13T00:00:00",
          "2011-05-20T00:00:00",
          "2011-05-27T00:00:00",
          "2011-06-03T00:00:00",
          "2011-06-10T00:00:00",
          "2011-06-17T00:00:00",
          "2011-06-24T00:00:00",
          "2011-07-01T00:00:00",
          "2011-07-08T00:00:00",
          "2011-07-15T00:00:00",
          "2011-07-22T00:00:00",
          "2011-07-29T00:00:00",
          "2011-08-05T00:00:00",
          "2011-08-12T00:00:00",
          "2011-08-19T00:00:00",
          "2011-08-26T00:00:00",
          "2011-09-02T00:00:00",
          "2011-09-09T00:00:00",
          "2011-09-16T00:00:00",
          "2011-09-23T00:00:00",
          "2011-09-30T00:00:00",
          "2011-10-07T00:00:00",
          "2011-10-14T00:00:00",
          "2011-10-21T00:00:00",
          "2011-10-28T00:00:00",
          "2011-11-04T00:00:00",
          "2011-11-11T00:00:00",
          "2011-11-18T00:00:00",
          "2011-11-25T00:00:00",
          "2011-12-02T00:00:00",
          "2011-12-09T00:00:00",
          "2011-12-16T00:00:00",
          "2011-12-23T00:00:00",
          "2011-12-30T00:00:00",
          "2012-01-06T00:00:00",
          "2012-01-13T00:00:00",
          "2012-01-20T00:00:00",
          "2012-01-27T00:00:00",
          "2012-02-03T00:00:00",
          "2012-02-10T00:00:00",
          "2012-02-17T00:00:00",
          "2012-02-24T00:00:00",
          "2012-03-02T00:00:00",
          "2012-03-09T00:00:00",
          "2012-03-16T00:00:00",
          "2012-03-23T00:00:00",
          "2012-03-30T00:00:00",
          "2012-04-06T00:00:00",
          "2012-04-13T00:00:00",
          "2012-04-20T00:00:00",
          "2012-04-27T00:00:00",
          "2012-05-04T00:00:00",
          "2012-05-11T00:00:00",
          "2012-05-18T00:00:00",
          "2012-05-25T00:00:00",
          "2012-06-01T00:00:00",
          "2012-06-08T00:00:00",
          "2012-06-15T00:00:00",
          "2012-06-22T00:00:00",
          "2012-06-29T00:00:00",
          "2012-07-06T00:00:00",
          "2012-07-13T00:00:00",
          "2012-07-20T00:00:00",
          "2012-07-27T00:00:00",
          "2012-08-03T00:00:00",
          "2012-08-10T00:00:00",
          "2012-08-17T00:00:00",
          "2012-08-24T00:00:00",
          "2012-08-31T00:00:00",
          "2012-09-07T00:00:00",
          "2012-09-14T00:00:00",
          "2012-09-21T00:00:00",
          "2012-09-28T00:00:00",
          "2012-10-05T00:00:00",
          "2012-10-12T00:00:00",
          "2012-10-19T00:00:00",
          "2012-10-26T00:00:00",
          "2012-11-02T00:00:00",
          "2012-11-09T00:00:00",
          "2012-11-16T00:00:00",
          "2012-11-23T00:00:00",
          "2012-11-30T00:00:00",
          "2012-12-07T00:00:00",
          "2012-12-14T00:00:00",
          "2012-12-21T00:00:00",
          "2012-12-28T00:00:00",
          "2013-01-04T00:00:00",
          "2013-01-11T00:00:00",
          "2013-01-18T00:00:00",
          "2013-01-25T00:00:00",
          "2013-02-01T00:00:00",
          "2013-02-08T00:00:00",
          "2013-02-15T00:00:00",
          "2013-02-22T00:00:00",
          "2013-03-01T00:00:00",
          "2013-03-08T00:00:00",
          "2013-03-15T00:00:00",
          "2013-03-22T00:00:00",
          "2013-03-29T00:00:00",
          "2013-04-05T00:00:00",
          "2013-04-12T00:00:00",
          "2013-04-19T00:00:00",
          "2013-04-26T00:00:00",
          "2013-05-03T00:00:00",
          "2013-05-10T00:00:00",
          "2013-05-17T00:00:00",
          "2013-05-24T00:00:00",
          "2013-05-31T00:00:00",
          "2013-06-07T00:00:00",
          "2013-06-14T00:00:00",
          "2013-06-21T00:00:00",
          "2013-06-28T00:00:00",
          "2013-07-05T00:00:00",
          "2013-07-12T00:00:00",
          "2013-07-19T00:00:00",
          "2013-07-26T00:00:00"
         ],
         "xaxis": "x",
         "y": [
          null,
          null,
          null,
          null,
          null,
          null,
          null,
          null,
          null,
          null,
          null,
          null,
          null,
          null,
          null,
          null,
          null,
          null,
          null,
          null,
          null,
          null,
          null,
          null,
          null,
          null,
          null,
          null,
          null,
          null,
          null,
          null,
          null,
          null,
          null,
          null,
          null,
          null,
          null,
          null,
          null,
          null,
          null,
          null,
          null,
          null,
          null,
          null,
          null,
          null,
          null,
          null,
          8.106,
          8.106,
          8.106,
          8.106,
          8.106,
          8.106,
          8.106,
          8.106,
          7.808,
          7.808,
          7.808,
          7.808,
          7.808,
          7.808,
          7.808,
          7.808,
          7.808,
          7.808,
          7.808,
          7.808,
          7.808,
          7.787,
          7.787,
          7.787,
          7.787,
          7.787,
          7.787,
          7.787,
          7.787,
          7.787,
          7.787,
          7.787,
          7.787,
          7.787,
          7.838,
          7.838,
          7.838,
          7.838,
          7.838,
          7.838,
          7.838,
          7.838,
          7.838,
          7.838,
          7.838,
          7.838,
          7.838,
          7.838,
          7.742,
          7.742,
          7.742,
          7.742,
          7.742,
          7.742,
          7.742,
          7.742,
          7.742,
          7.742,
          7.742,
          7.742,
          7.682,
          7.682,
          7.682,
          7.682,
          7.682,
          7.682,
          7.682,
          7.682,
          7.682,
          7.682,
          7.682,
          7.682,
          7.682,
          7.962,
          7.962,
          7.962,
          7.962,
          7.962,
          7.962,
          7.962,
          7.962,
          7.962,
          7.962,
          7.962,
          7.962,
          7.962,
          7.962,
          7.866,
          7.866,
          7.866,
          7.866,
          7.866,
          7.866,
          7.866,
          7.866,
          7.866,
          7.866,
          7.866,
          7.866,
          7.866,
          7.348,
          7.348,
          7.348,
          7.348,
          7.348,
          7.348,
          7.348,
          7.348,
          7.348,
          7.348,
          7.348,
          7.348,
          7.348,
          7.143,
          7.143,
          7.143,
          7.143,
          7.143,
          7.143,
          7.143,
          7.143,
          7.143,
          7.143,
          7.143,
          7.143,
          7.143,
          6.908,
          6.908,
          6.908,
          6.908
         ],
         "yaxis": "y"
        }
       ],
       "layout": {
        "legend": {
         "title": {
          "text": "variable"
         },
         "tracegroupgap": 0
        },
        "template": {
         "data": {
          "bar": [
           {
            "error_x": {
             "color": "#2a3f5f"
            },
            "error_y": {
             "color": "#2a3f5f"
            },
            "marker": {
             "line": {
              "color": "#E5ECF6",
              "width": 0.5
             },
             "pattern": {
              "fillmode": "overlay",
              "size": 10,
              "solidity": 0.2
             }
            },
            "type": "bar"
           }
          ],
          "barpolar": [
           {
            "marker": {
             "line": {
              "color": "#E5ECF6",
              "width": 0.5
             },
             "pattern": {
              "fillmode": "overlay",
              "size": 10,
              "solidity": 0.2
             }
            },
            "type": "barpolar"
           }
          ],
          "carpet": [
           {
            "aaxis": {
             "endlinecolor": "#2a3f5f",
             "gridcolor": "white",
             "linecolor": "white",
             "minorgridcolor": "white",
             "startlinecolor": "#2a3f5f"
            },
            "baxis": {
             "endlinecolor": "#2a3f5f",
             "gridcolor": "white",
             "linecolor": "white",
             "minorgridcolor": "white",
             "startlinecolor": "#2a3f5f"
            },
            "type": "carpet"
           }
          ],
          "choropleth": [
           {
            "colorbar": {
             "outlinewidth": 0,
             "ticks": ""
            },
            "type": "choropleth"
           }
          ],
          "contour": [
           {
            "colorbar": {
             "outlinewidth": 0,
             "ticks": ""
            },
            "colorscale": [
             [
              0,
              "#0d0887"
             ],
             [
              0.1111111111111111,
              "#46039f"
             ],
             [
              0.2222222222222222,
              "#7201a8"
             ],
             [
              0.3333333333333333,
              "#9c179e"
             ],
             [
              0.4444444444444444,
              "#bd3786"
             ],
             [
              0.5555555555555556,
              "#d8576b"
             ],
             [
              0.6666666666666666,
              "#ed7953"
             ],
             [
              0.7777777777777778,
              "#fb9f3a"
             ],
             [
              0.8888888888888888,
              "#fdca26"
             ],
             [
              1,
              "#f0f921"
             ]
            ],
            "type": "contour"
           }
          ],
          "contourcarpet": [
           {
            "colorbar": {
             "outlinewidth": 0,
             "ticks": ""
            },
            "type": "contourcarpet"
           }
          ],
          "heatmap": [
           {
            "colorbar": {
             "outlinewidth": 0,
             "ticks": ""
            },
            "colorscale": [
             [
              0,
              "#0d0887"
             ],
             [
              0.1111111111111111,
              "#46039f"
             ],
             [
              0.2222222222222222,
              "#7201a8"
             ],
             [
              0.3333333333333333,
              "#9c179e"
             ],
             [
              0.4444444444444444,
              "#bd3786"
             ],
             [
              0.5555555555555556,
              "#d8576b"
             ],
             [
              0.6666666666666666,
              "#ed7953"
             ],
             [
              0.7777777777777778,
              "#fb9f3a"
             ],
             [
              0.8888888888888888,
              "#fdca26"
             ],
             [
              1,
              "#f0f921"
             ]
            ],
            "type": "heatmap"
           }
          ],
          "heatmapgl": [
           {
            "colorbar": {
             "outlinewidth": 0,
             "ticks": ""
            },
            "colorscale": [
             [
              0,
              "#0d0887"
             ],
             [
              0.1111111111111111,
              "#46039f"
             ],
             [
              0.2222222222222222,
              "#7201a8"
             ],
             [
              0.3333333333333333,
              "#9c179e"
             ],
             [
              0.4444444444444444,
              "#bd3786"
             ],
             [
              0.5555555555555556,
              "#d8576b"
             ],
             [
              0.6666666666666666,
              "#ed7953"
             ],
             [
              0.7777777777777778,
              "#fb9f3a"
             ],
             [
              0.8888888888888888,
              "#fdca26"
             ],
             [
              1,
              "#f0f921"
             ]
            ],
            "type": "heatmapgl"
           }
          ],
          "histogram": [
           {
            "marker": {
             "pattern": {
              "fillmode": "overlay",
              "size": 10,
              "solidity": 0.2
             }
            },
            "type": "histogram"
           }
          ],
          "histogram2d": [
           {
            "colorbar": {
             "outlinewidth": 0,
             "ticks": ""
            },
            "colorscale": [
             [
              0,
              "#0d0887"
             ],
             [
              0.1111111111111111,
              "#46039f"
             ],
             [
              0.2222222222222222,
              "#7201a8"
             ],
             [
              0.3333333333333333,
              "#9c179e"
             ],
             [
              0.4444444444444444,
              "#bd3786"
             ],
             [
              0.5555555555555556,
              "#d8576b"
             ],
             [
              0.6666666666666666,
              "#ed7953"
             ],
             [
              0.7777777777777778,
              "#fb9f3a"
             ],
             [
              0.8888888888888888,
              "#fdca26"
             ],
             [
              1,
              "#f0f921"
             ]
            ],
            "type": "histogram2d"
           }
          ],
          "histogram2dcontour": [
           {
            "colorbar": {
             "outlinewidth": 0,
             "ticks": ""
            },
            "colorscale": [
             [
              0,
              "#0d0887"
             ],
             [
              0.1111111111111111,
              "#46039f"
             ],
             [
              0.2222222222222222,
              "#7201a8"
             ],
             [
              0.3333333333333333,
              "#9c179e"
             ],
             [
              0.4444444444444444,
              "#bd3786"
             ],
             [
              0.5555555555555556,
              "#d8576b"
             ],
             [
              0.6666666666666666,
              "#ed7953"
             ],
             [
              0.7777777777777778,
              "#fb9f3a"
             ],
             [
              0.8888888888888888,
              "#fdca26"
             ],
             [
              1,
              "#f0f921"
             ]
            ],
            "type": "histogram2dcontour"
           }
          ],
          "mesh3d": [
           {
            "colorbar": {
             "outlinewidth": 0,
             "ticks": ""
            },
            "type": "mesh3d"
           }
          ],
          "parcoords": [
           {
            "line": {
             "colorbar": {
              "outlinewidth": 0,
              "ticks": ""
             }
            },
            "type": "parcoords"
           }
          ],
          "pie": [
           {
            "automargin": true,
            "type": "pie"
           }
          ],
          "scatter": [
           {
            "fillpattern": {
             "fillmode": "overlay",
             "size": 10,
             "solidity": 0.2
            },
            "type": "scatter"
           }
          ],
          "scatter3d": [
           {
            "line": {
             "colorbar": {
              "outlinewidth": 0,
              "ticks": ""
             }
            },
            "marker": {
             "colorbar": {
              "outlinewidth": 0,
              "ticks": ""
             }
            },
            "type": "scatter3d"
           }
          ],
          "scattercarpet": [
           {
            "marker": {
             "colorbar": {
              "outlinewidth": 0,
              "ticks": ""
             }
            },
            "type": "scattercarpet"
           }
          ],
          "scattergeo": [
           {
            "marker": {
             "colorbar": {
              "outlinewidth": 0,
              "ticks": ""
             }
            },
            "type": "scattergeo"
           }
          ],
          "scattergl": [
           {
            "marker": {
             "colorbar": {
              "outlinewidth": 0,
              "ticks": ""
             }
            },
            "type": "scattergl"
           }
          ],
          "scattermapbox": [
           {
            "marker": {
             "colorbar": {
              "outlinewidth": 0,
              "ticks": ""
             }
            },
            "type": "scattermapbox"
           }
          ],
          "scatterpolar": [
           {
            "marker": {
             "colorbar": {
              "outlinewidth": 0,
              "ticks": ""
             }
            },
            "type": "scatterpolar"
           }
          ],
          "scatterpolargl": [
           {
            "marker": {
             "colorbar": {
              "outlinewidth": 0,
              "ticks": ""
             }
            },
            "type": "scatterpolargl"
           }
          ],
          "scatterternary": [
           {
            "marker": {
             "colorbar": {
              "outlinewidth": 0,
              "ticks": ""
             }
            },
            "type": "scatterternary"
           }
          ],
          "surface": [
           {
            "colorbar": {
             "outlinewidth": 0,
             "ticks": ""
            },
            "colorscale": [
             [
              0,
              "#0d0887"
             ],
             [
              0.1111111111111111,
              "#46039f"
             ],
             [
              0.2222222222222222,
              "#7201a8"
             ],
             [
              0.3333333333333333,
              "#9c179e"
             ],
             [
              0.4444444444444444,
              "#bd3786"
             ],
             [
              0.5555555555555556,
              "#d8576b"
             ],
             [
              0.6666666666666666,
              "#ed7953"
             ],
             [
              0.7777777777777778,
              "#fb9f3a"
             ],
             [
              0.8888888888888888,
              "#fdca26"
             ],
             [
              1,
              "#f0f921"
             ]
            ],
            "type": "surface"
           }
          ],
          "table": [
           {
            "cells": {
             "fill": {
              "color": "#EBF0F8"
             },
             "line": {
              "color": "white"
             }
            },
            "header": {
             "fill": {
              "color": "#C8D4E3"
             },
             "line": {
              "color": "white"
             }
            },
            "type": "table"
           }
          ]
         },
         "layout": {
          "annotationdefaults": {
           "arrowcolor": "#2a3f5f",
           "arrowhead": 0,
           "arrowwidth": 1
          },
          "autotypenumbers": "strict",
          "coloraxis": {
           "colorbar": {
            "outlinewidth": 0,
            "ticks": ""
           }
          },
          "colorscale": {
           "diverging": [
            [
             0,
             "#8e0152"
            ],
            [
             0.1,
             "#c51b7d"
            ],
            [
             0.2,
             "#de77ae"
            ],
            [
             0.3,
             "#f1b6da"
            ],
            [
             0.4,
             "#fde0ef"
            ],
            [
             0.5,
             "#f7f7f7"
            ],
            [
             0.6,
             "#e6f5d0"
            ],
            [
             0.7,
             "#b8e186"
            ],
            [
             0.8,
             "#7fbc41"
            ],
            [
             0.9,
             "#4d9221"
            ],
            [
             1,
             "#276419"
            ]
           ],
           "sequential": [
            [
             0,
             "#0d0887"
            ],
            [
             0.1111111111111111,
             "#46039f"
            ],
            [
             0.2222222222222222,
             "#7201a8"
            ],
            [
             0.3333333333333333,
             "#9c179e"
            ],
            [
             0.4444444444444444,
             "#bd3786"
            ],
            [
             0.5555555555555556,
             "#d8576b"
            ],
            [
             0.6666666666666666,
             "#ed7953"
            ],
            [
             0.7777777777777778,
             "#fb9f3a"
            ],
            [
             0.8888888888888888,
             "#fdca26"
            ],
            [
             1,
             "#f0f921"
            ]
           ],
           "sequentialminus": [
            [
             0,
             "#0d0887"
            ],
            [
             0.1111111111111111,
             "#46039f"
            ],
            [
             0.2222222222222222,
             "#7201a8"
            ],
            [
             0.3333333333333333,
             "#9c179e"
            ],
            [
             0.4444444444444444,
             "#bd3786"
            ],
            [
             0.5555555555555556,
             "#d8576b"
            ],
            [
             0.6666666666666666,
             "#ed7953"
            ],
            [
             0.7777777777777778,
             "#fb9f3a"
            ],
            [
             0.8888888888888888,
             "#fdca26"
            ],
            [
             1,
             "#f0f921"
            ]
           ]
          },
          "colorway": [
           "#636efa",
           "#EF553B",
           "#00cc96",
           "#ab63fa",
           "#FFA15A",
           "#19d3f3",
           "#FF6692",
           "#B6E880",
           "#FF97FF",
           "#FECB52"
          ],
          "font": {
           "color": "#2a3f5f"
          },
          "geo": {
           "bgcolor": "white",
           "lakecolor": "white",
           "landcolor": "#E5ECF6",
           "showlakes": true,
           "showland": true,
           "subunitcolor": "white"
          },
          "hoverlabel": {
           "align": "left"
          },
          "hovermode": "closest",
          "mapbox": {
           "style": "light"
          },
          "paper_bgcolor": "white",
          "plot_bgcolor": "#E5ECF6",
          "polar": {
           "angularaxis": {
            "gridcolor": "white",
            "linecolor": "white",
            "ticks": ""
           },
           "bgcolor": "#E5ECF6",
           "radialaxis": {
            "gridcolor": "white",
            "linecolor": "white",
            "ticks": ""
           }
          },
          "scene": {
           "xaxis": {
            "backgroundcolor": "#E5ECF6",
            "gridcolor": "white",
            "gridwidth": 2,
            "linecolor": "white",
            "showbackground": true,
            "ticks": "",
            "zerolinecolor": "white"
           },
           "yaxis": {
            "backgroundcolor": "#E5ECF6",
            "gridcolor": "white",
            "gridwidth": 2,
            "linecolor": "white",
            "showbackground": true,
            "ticks": "",
            "zerolinecolor": "white"
           },
           "zaxis": {
            "backgroundcolor": "#E5ECF6",
            "gridcolor": "white",
            "gridwidth": 2,
            "linecolor": "white",
            "showbackground": true,
            "ticks": "",
            "zerolinecolor": "white"
           }
          },
          "shapedefaults": {
           "line": {
            "color": "#2a3f5f"
           }
          },
          "ternary": {
           "aaxis": {
            "gridcolor": "white",
            "linecolor": "white",
            "ticks": ""
           },
           "baxis": {
            "gridcolor": "white",
            "linecolor": "white",
            "ticks": ""
           },
           "bgcolor": "#E5ECF6",
           "caxis": {
            "gridcolor": "white",
            "linecolor": "white",
            "ticks": ""
           }
          },
          "title": {
           "x": 0.05
          },
          "xaxis": {
           "automargin": true,
           "gridcolor": "white",
           "linecolor": "white",
           "ticks": "",
           "title": {
            "standoff": 15
           },
           "zerolinecolor": "white",
           "zerolinewidth": 2
          },
          "yaxis": {
           "automargin": true,
           "gridcolor": "white",
           "linecolor": "white",
           "ticks": "",
           "title": {
            "standoff": 15
           },
           "zerolinecolor": "white",
           "zerolinewidth": 2
          }
         }
        },
        "title": {
         "text": "Unemployment and Lag 52 Weeks"
        },
        "xaxis": {
         "anchor": "y",
         "domain": [
          0,
          1
         ],
         "title": {
          "text": "Date"
         }
        },
        "yaxis": {
         "anchor": "x",
         "domain": [
          0,
          1
         ],
         "title": {
          "text": "value"
         }
        }
       }
      }
     },
     "metadata": {},
     "output_type": "display_data"
    }
   ],
   "source": [
    "view_data_horizon(data, target=\"Unemployment\")"
   ]
  },
  {
   "cell_type": "code",
   "execution_count": 37,
   "metadata": {},
   "outputs": [
    {
     "data": {
      "application/vnd.plotly.v1+json": {
       "config": {
        "plotlyServerURL": "https://plot.ly"
       },
       "data": [
        {
         "hovertemplate": "variable=Temperature<br>Date=%{x}<br>value=%{y}<extra></extra>",
         "legendgroup": "Temperature",
         "line": {
          "color": "#636efa",
          "dash": "solid"
         },
         "marker": {
          "symbol": "circle"
         },
         "mode": "lines",
         "name": "Temperature",
         "orientation": "v",
         "showlegend": true,
         "type": "scatter",
         "x": [
          "2010-02-05T00:00:00",
          "2010-02-12T00:00:00",
          "2010-02-19T00:00:00",
          "2010-02-26T00:00:00",
          "2010-03-05T00:00:00",
          "2010-03-12T00:00:00",
          "2010-03-19T00:00:00",
          "2010-03-26T00:00:00",
          "2010-04-02T00:00:00",
          "2010-04-09T00:00:00",
          "2010-04-16T00:00:00",
          "2010-04-23T00:00:00",
          "2010-04-30T00:00:00",
          "2010-05-07T00:00:00",
          "2010-05-14T00:00:00",
          "2010-05-21T00:00:00",
          "2010-05-28T00:00:00",
          "2010-06-04T00:00:00",
          "2010-06-11T00:00:00",
          "2010-06-18T00:00:00",
          "2010-06-25T00:00:00",
          "2010-07-02T00:00:00",
          "2010-07-09T00:00:00",
          "2010-07-16T00:00:00",
          "2010-07-23T00:00:00",
          "2010-07-30T00:00:00",
          "2010-08-06T00:00:00",
          "2010-08-13T00:00:00",
          "2010-08-20T00:00:00",
          "2010-08-27T00:00:00",
          "2010-09-03T00:00:00",
          "2010-09-10T00:00:00",
          "2010-09-17T00:00:00",
          "2010-09-24T00:00:00",
          "2010-10-01T00:00:00",
          "2010-10-08T00:00:00",
          "2010-10-15T00:00:00",
          "2010-10-22T00:00:00",
          "2010-10-29T00:00:00",
          "2010-11-05T00:00:00",
          "2010-11-12T00:00:00",
          "2010-11-19T00:00:00",
          "2010-11-26T00:00:00",
          "2010-12-03T00:00:00",
          "2010-12-10T00:00:00",
          "2010-12-17T00:00:00",
          "2010-12-24T00:00:00",
          "2010-12-31T00:00:00",
          "2011-01-07T00:00:00",
          "2011-01-14T00:00:00",
          "2011-01-21T00:00:00",
          "2011-01-28T00:00:00",
          "2011-02-04T00:00:00",
          "2011-02-11T00:00:00",
          "2011-02-18T00:00:00",
          "2011-02-25T00:00:00",
          "2011-03-04T00:00:00",
          "2011-03-11T00:00:00",
          "2011-03-18T00:00:00",
          "2011-03-25T00:00:00",
          "2011-04-01T00:00:00",
          "2011-04-08T00:00:00",
          "2011-04-15T00:00:00",
          "2011-04-22T00:00:00",
          "2011-04-29T00:00:00",
          "2011-05-06T00:00:00",
          "2011-05-13T00:00:00",
          "2011-05-20T00:00:00",
          "2011-05-27T00:00:00",
          "2011-06-03T00:00:00",
          "2011-06-10T00:00:00",
          "2011-06-17T00:00:00",
          "2011-06-24T00:00:00",
          "2011-07-01T00:00:00",
          "2011-07-08T00:00:00",
          "2011-07-15T00:00:00",
          "2011-07-22T00:00:00",
          "2011-07-29T00:00:00",
          "2011-08-05T00:00:00",
          "2011-08-12T00:00:00",
          "2011-08-19T00:00:00",
          "2011-08-26T00:00:00",
          "2011-09-02T00:00:00",
          "2011-09-09T00:00:00",
          "2011-09-16T00:00:00",
          "2011-09-23T00:00:00",
          "2011-09-30T00:00:00",
          "2011-10-07T00:00:00",
          "2011-10-14T00:00:00",
          "2011-10-21T00:00:00",
          "2011-10-28T00:00:00",
          "2011-11-04T00:00:00",
          "2011-11-11T00:00:00",
          "2011-11-18T00:00:00",
          "2011-11-25T00:00:00",
          "2011-12-02T00:00:00",
          "2011-12-09T00:00:00",
          "2011-12-16T00:00:00",
          "2011-12-23T00:00:00",
          "2011-12-30T00:00:00",
          "2012-01-06T00:00:00",
          "2012-01-13T00:00:00",
          "2012-01-20T00:00:00",
          "2012-01-27T00:00:00",
          "2012-02-03T00:00:00",
          "2012-02-10T00:00:00",
          "2012-02-17T00:00:00",
          "2012-02-24T00:00:00",
          "2012-03-02T00:00:00",
          "2012-03-09T00:00:00",
          "2012-03-16T00:00:00",
          "2012-03-23T00:00:00",
          "2012-03-30T00:00:00",
          "2012-04-06T00:00:00",
          "2012-04-13T00:00:00",
          "2012-04-20T00:00:00",
          "2012-04-27T00:00:00",
          "2012-05-04T00:00:00",
          "2012-05-11T00:00:00",
          "2012-05-18T00:00:00",
          "2012-05-25T00:00:00",
          "2012-06-01T00:00:00",
          "2012-06-08T00:00:00",
          "2012-06-15T00:00:00",
          "2012-06-22T00:00:00",
          "2012-06-29T00:00:00",
          "2012-07-06T00:00:00",
          "2012-07-13T00:00:00",
          "2012-07-20T00:00:00",
          "2012-07-27T00:00:00",
          "2012-08-03T00:00:00",
          "2012-08-10T00:00:00",
          "2012-08-17T00:00:00",
          "2012-08-24T00:00:00",
          "2012-08-31T00:00:00",
          "2012-09-07T00:00:00",
          "2012-09-14T00:00:00",
          "2012-09-21T00:00:00",
          "2012-09-28T00:00:00",
          "2012-10-05T00:00:00",
          "2012-10-12T00:00:00",
          "2012-10-19T00:00:00",
          "2012-10-26T00:00:00",
          "2012-11-02T00:00:00",
          "2012-11-09T00:00:00",
          "2012-11-16T00:00:00",
          "2012-11-23T00:00:00",
          "2012-11-30T00:00:00",
          "2012-12-07T00:00:00",
          "2012-12-14T00:00:00",
          "2012-12-21T00:00:00",
          "2012-12-28T00:00:00",
          "2013-01-04T00:00:00",
          "2013-01-11T00:00:00",
          "2013-01-18T00:00:00",
          "2013-01-25T00:00:00",
          "2013-02-01T00:00:00",
          "2013-02-08T00:00:00",
          "2013-02-15T00:00:00",
          "2013-02-22T00:00:00",
          "2013-03-01T00:00:00",
          "2013-03-08T00:00:00",
          "2013-03-15T00:00:00",
          "2013-03-22T00:00:00",
          "2013-03-29T00:00:00",
          "2013-04-05T00:00:00",
          "2013-04-12T00:00:00",
          "2013-04-19T00:00:00",
          "2013-04-26T00:00:00",
          "2013-05-03T00:00:00",
          "2013-05-10T00:00:00",
          "2013-05-17T00:00:00",
          "2013-05-24T00:00:00",
          "2013-05-31T00:00:00",
          "2013-06-07T00:00:00",
          "2013-06-14T00:00:00",
          "2013-06-21T00:00:00",
          "2013-06-28T00:00:00",
          "2013-07-05T00:00:00",
          "2013-07-12T00:00:00",
          "2013-07-19T00:00:00",
          "2013-07-26T00:00:00"
         ],
         "xaxis": "x",
         "y": [
          42.31,
          38.51,
          39.93,
          46.63,
          46.5,
          57.79,
          54.58,
          51.45,
          62.27,
          65.86,
          66.32,
          64.84,
          67.41,
          72.55,
          74.78,
          76.44,
          80.44,
          80.69,
          80.43,
          84.11,
          84.34,
          80.91,
          80.48,
          83.15,
          83.36,
          81.84,
          87.16,
          87,
          86.65,
          85.22,
          81.21,
          78.69,
          82.11,
          80.94,
          71.89,
          63.93,
          67.18,
          69.86,
          69.64,
          58.74,
          59.61,
          51.41,
          64.52,
          49.27,
          46.33,
          49.84,
          52.33,
          48.43,
          48.27,
          35.4,
          44.04,
          43.83,
          42.27,
          36.39,
          57.36,
          62.9,
          59.58,
          53.56,
          62.76,
          69.97,
          59.17,
          67.84,
          71.27,
          72.99,
          72.03,
          64.61,
          75.64,
          67.63,
          77.72,
          83,
          83.13,
          86.41,
          83.58,
          85.55,
          85.83,
          88.54,
          85.77,
          86.83,
          91.65,
          90.76,
          89.94,
          87.96,
          87.83,
          76,
          79.94,
          75.8,
          79.69,
          69.31,
          71.74,
          63.71,
          66.57,
          54.98,
          59.11,
          62.25,
          60.14,
          48.91,
          43.93,
          51.63,
          47.96,
          44.55,
          49.01,
          48.53,
          54.11,
          54.26,
          56.55,
          48.02,
          45.32,
          57.25,
          60.96,
          58.76,
          64.74,
          65.93,
          67.61,
          70.43,
          69.07,
          66.76,
          67.23,
          75.55,
          73.77,
          70.33,
          77.22,
          77.95,
          78.3,
          79.35,
          78.39,
          84.88,
          81.57,
          77.12,
          80.42,
          82.66,
          86.11,
          85.05,
          84.85,
          77.66,
          80.49,
          83.96,
          74.97,
          69.87,
          76.08,
          68.55,
          62.99,
          67.97,
          69.16,
          55.32,
          61.24,
          52.92,
          56.23,
          52.34,
          64.12,
          48.89,
          56.02,
          44.79,
          41.73,
          50.32,
          42.92,
          53.37,
          56.46,
          56.67,
          49.66,
          50.25,
          48.01,
          50.81,
          55.33,
          63.42,
          51,
          58.59,
          62.72,
          67.1,
          59.23,
          66.66,
          63.9,
          69.53,
          77.19,
          78.02,
          76.44,
          79.86,
          81.35,
          83.94,
          79.85,
          83.12,
          79.26,
          81.54
         ],
         "yaxis": "y"
        },
        {
         "hovertemplate": "variable=lag_52_Temperature<br>Date=%{x}<br>value=%{y}<extra></extra>",
         "legendgroup": "lag_52_Temperature",
         "line": {
          "color": "#EF553B",
          "dash": "solid"
         },
         "marker": {
          "symbol": "circle"
         },
         "mode": "lines",
         "name": "lag_52_Temperature",
         "orientation": "v",
         "showlegend": true,
         "type": "scatter",
         "x": [
          "2010-02-05T00:00:00",
          "2010-02-12T00:00:00",
          "2010-02-19T00:00:00",
          "2010-02-26T00:00:00",
          "2010-03-05T00:00:00",
          "2010-03-12T00:00:00",
          "2010-03-19T00:00:00",
          "2010-03-26T00:00:00",
          "2010-04-02T00:00:00",
          "2010-04-09T00:00:00",
          "2010-04-16T00:00:00",
          "2010-04-23T00:00:00",
          "2010-04-30T00:00:00",
          "2010-05-07T00:00:00",
          "2010-05-14T00:00:00",
          "2010-05-21T00:00:00",
          "2010-05-28T00:00:00",
          "2010-06-04T00:00:00",
          "2010-06-11T00:00:00",
          "2010-06-18T00:00:00",
          "2010-06-25T00:00:00",
          "2010-07-02T00:00:00",
          "2010-07-09T00:00:00",
          "2010-07-16T00:00:00",
          "2010-07-23T00:00:00",
          "2010-07-30T00:00:00",
          "2010-08-06T00:00:00",
          "2010-08-13T00:00:00",
          "2010-08-20T00:00:00",
          "2010-08-27T00:00:00",
          "2010-09-03T00:00:00",
          "2010-09-10T00:00:00",
          "2010-09-17T00:00:00",
          "2010-09-24T00:00:00",
          "2010-10-01T00:00:00",
          "2010-10-08T00:00:00",
          "2010-10-15T00:00:00",
          "2010-10-22T00:00:00",
          "2010-10-29T00:00:00",
          "2010-11-05T00:00:00",
          "2010-11-12T00:00:00",
          "2010-11-19T00:00:00",
          "2010-11-26T00:00:00",
          "2010-12-03T00:00:00",
          "2010-12-10T00:00:00",
          "2010-12-17T00:00:00",
          "2010-12-24T00:00:00",
          "2010-12-31T00:00:00",
          "2011-01-07T00:00:00",
          "2011-01-14T00:00:00",
          "2011-01-21T00:00:00",
          "2011-01-28T00:00:00",
          "2011-02-04T00:00:00",
          "2011-02-11T00:00:00",
          "2011-02-18T00:00:00",
          "2011-02-25T00:00:00",
          "2011-03-04T00:00:00",
          "2011-03-11T00:00:00",
          "2011-03-18T00:00:00",
          "2011-03-25T00:00:00",
          "2011-04-01T00:00:00",
          "2011-04-08T00:00:00",
          "2011-04-15T00:00:00",
          "2011-04-22T00:00:00",
          "2011-04-29T00:00:00",
          "2011-05-06T00:00:00",
          "2011-05-13T00:00:00",
          "2011-05-20T00:00:00",
          "2011-05-27T00:00:00",
          "2011-06-03T00:00:00",
          "2011-06-10T00:00:00",
          "2011-06-17T00:00:00",
          "2011-06-24T00:00:00",
          "2011-07-01T00:00:00",
          "2011-07-08T00:00:00",
          "2011-07-15T00:00:00",
          "2011-07-22T00:00:00",
          "2011-07-29T00:00:00",
          "2011-08-05T00:00:00",
          "2011-08-12T00:00:00",
          "2011-08-19T00:00:00",
          "2011-08-26T00:00:00",
          "2011-09-02T00:00:00",
          "2011-09-09T00:00:00",
          "2011-09-16T00:00:00",
          "2011-09-23T00:00:00",
          "2011-09-30T00:00:00",
          "2011-10-07T00:00:00",
          "2011-10-14T00:00:00",
          "2011-10-21T00:00:00",
          "2011-10-28T00:00:00",
          "2011-11-04T00:00:00",
          "2011-11-11T00:00:00",
          "2011-11-18T00:00:00",
          "2011-11-25T00:00:00",
          "2011-12-02T00:00:00",
          "2011-12-09T00:00:00",
          "2011-12-16T00:00:00",
          "2011-12-23T00:00:00",
          "2011-12-30T00:00:00",
          "2012-01-06T00:00:00",
          "2012-01-13T00:00:00",
          "2012-01-20T00:00:00",
          "2012-01-27T00:00:00",
          "2012-02-03T00:00:00",
          "2012-02-10T00:00:00",
          "2012-02-17T00:00:00",
          "2012-02-24T00:00:00",
          "2012-03-02T00:00:00",
          "2012-03-09T00:00:00",
          "2012-03-16T00:00:00",
          "2012-03-23T00:00:00",
          "2012-03-30T00:00:00",
          "2012-04-06T00:00:00",
          "2012-04-13T00:00:00",
          "2012-04-20T00:00:00",
          "2012-04-27T00:00:00",
          "2012-05-04T00:00:00",
          "2012-05-11T00:00:00",
          "2012-05-18T00:00:00",
          "2012-05-25T00:00:00",
          "2012-06-01T00:00:00",
          "2012-06-08T00:00:00",
          "2012-06-15T00:00:00",
          "2012-06-22T00:00:00",
          "2012-06-29T00:00:00",
          "2012-07-06T00:00:00",
          "2012-07-13T00:00:00",
          "2012-07-20T00:00:00",
          "2012-07-27T00:00:00",
          "2012-08-03T00:00:00",
          "2012-08-10T00:00:00",
          "2012-08-17T00:00:00",
          "2012-08-24T00:00:00",
          "2012-08-31T00:00:00",
          "2012-09-07T00:00:00",
          "2012-09-14T00:00:00",
          "2012-09-21T00:00:00",
          "2012-09-28T00:00:00",
          "2012-10-05T00:00:00",
          "2012-10-12T00:00:00",
          "2012-10-19T00:00:00",
          "2012-10-26T00:00:00",
          "2012-11-02T00:00:00",
          "2012-11-09T00:00:00",
          "2012-11-16T00:00:00",
          "2012-11-23T00:00:00",
          "2012-11-30T00:00:00",
          "2012-12-07T00:00:00",
          "2012-12-14T00:00:00",
          "2012-12-21T00:00:00",
          "2012-12-28T00:00:00",
          "2013-01-04T00:00:00",
          "2013-01-11T00:00:00",
          "2013-01-18T00:00:00",
          "2013-01-25T00:00:00",
          "2013-02-01T00:00:00",
          "2013-02-08T00:00:00",
          "2013-02-15T00:00:00",
          "2013-02-22T00:00:00",
          "2013-03-01T00:00:00",
          "2013-03-08T00:00:00",
          "2013-03-15T00:00:00",
          "2013-03-22T00:00:00",
          "2013-03-29T00:00:00",
          "2013-04-05T00:00:00",
          "2013-04-12T00:00:00",
          "2013-04-19T00:00:00",
          "2013-04-26T00:00:00",
          "2013-05-03T00:00:00",
          "2013-05-10T00:00:00",
          "2013-05-17T00:00:00",
          "2013-05-24T00:00:00",
          "2013-05-31T00:00:00",
          "2013-06-07T00:00:00",
          "2013-06-14T00:00:00",
          "2013-06-21T00:00:00",
          "2013-06-28T00:00:00",
          "2013-07-05T00:00:00",
          "2013-07-12T00:00:00",
          "2013-07-19T00:00:00",
          "2013-07-26T00:00:00"
         ],
         "xaxis": "x",
         "y": [
          null,
          null,
          null,
          null,
          null,
          null,
          null,
          null,
          null,
          null,
          null,
          null,
          null,
          null,
          null,
          null,
          null,
          null,
          null,
          null,
          null,
          null,
          null,
          null,
          null,
          null,
          null,
          null,
          null,
          null,
          null,
          null,
          null,
          null,
          null,
          null,
          null,
          null,
          null,
          null,
          null,
          null,
          null,
          null,
          null,
          null,
          null,
          null,
          null,
          null,
          null,
          null,
          42.31,
          38.51,
          39.93,
          46.63,
          46.5,
          57.79,
          54.58,
          51.45,
          62.27,
          65.86,
          66.32,
          64.84,
          67.41,
          72.55,
          74.78,
          76.44,
          80.44,
          80.69,
          80.43,
          84.11,
          84.34,
          80.91,
          80.48,
          83.15,
          83.36,
          81.84,
          87.16,
          87,
          86.65,
          85.22,
          81.21,
          78.69,
          82.11,
          80.94,
          71.89,
          63.93,
          67.18,
          69.86,
          69.64,
          58.74,
          59.61,
          51.41,
          64.52,
          49.27,
          46.33,
          49.84,
          52.33,
          48.43,
          48.27,
          35.4,
          44.04,
          43.83,
          42.27,
          36.39,
          57.36,
          62.9,
          59.58,
          53.56,
          62.76,
          69.97,
          59.17,
          67.84,
          71.27,
          72.99,
          72.03,
          64.61,
          75.64,
          67.63,
          77.72,
          83,
          83.13,
          86.41,
          83.58,
          85.55,
          85.83,
          88.54,
          85.77,
          86.83,
          91.65,
          90.76,
          89.94,
          87.96,
          87.83,
          76,
          79.94,
          75.8,
          79.69,
          69.31,
          71.74,
          63.71,
          66.57,
          54.98,
          59.11,
          62.25,
          60.14,
          48.91,
          43.93,
          51.63,
          47.96,
          44.55,
          49.01,
          48.53,
          54.11,
          54.26,
          56.55,
          48.02,
          45.32,
          57.25,
          60.96,
          58.76,
          64.74,
          65.93,
          67.61,
          70.43,
          69.07,
          66.76,
          67.23,
          75.55,
          73.77,
          70.33,
          77.22,
          77.95,
          78.3,
          79.35,
          78.39,
          84.88,
          81.57,
          77.12,
          80.42,
          82.66
         ],
         "yaxis": "y"
        }
       ],
       "layout": {
        "legend": {
         "title": {
          "text": "variable"
         },
         "tracegroupgap": 0
        },
        "template": {
         "data": {
          "bar": [
           {
            "error_x": {
             "color": "#2a3f5f"
            },
            "error_y": {
             "color": "#2a3f5f"
            },
            "marker": {
             "line": {
              "color": "#E5ECF6",
              "width": 0.5
             },
             "pattern": {
              "fillmode": "overlay",
              "size": 10,
              "solidity": 0.2
             }
            },
            "type": "bar"
           }
          ],
          "barpolar": [
           {
            "marker": {
             "line": {
              "color": "#E5ECF6",
              "width": 0.5
             },
             "pattern": {
              "fillmode": "overlay",
              "size": 10,
              "solidity": 0.2
             }
            },
            "type": "barpolar"
           }
          ],
          "carpet": [
           {
            "aaxis": {
             "endlinecolor": "#2a3f5f",
             "gridcolor": "white",
             "linecolor": "white",
             "minorgridcolor": "white",
             "startlinecolor": "#2a3f5f"
            },
            "baxis": {
             "endlinecolor": "#2a3f5f",
             "gridcolor": "white",
             "linecolor": "white",
             "minorgridcolor": "white",
             "startlinecolor": "#2a3f5f"
            },
            "type": "carpet"
           }
          ],
          "choropleth": [
           {
            "colorbar": {
             "outlinewidth": 0,
             "ticks": ""
            },
            "type": "choropleth"
           }
          ],
          "contour": [
           {
            "colorbar": {
             "outlinewidth": 0,
             "ticks": ""
            },
            "colorscale": [
             [
              0,
              "#0d0887"
             ],
             [
              0.1111111111111111,
              "#46039f"
             ],
             [
              0.2222222222222222,
              "#7201a8"
             ],
             [
              0.3333333333333333,
              "#9c179e"
             ],
             [
              0.4444444444444444,
              "#bd3786"
             ],
             [
              0.5555555555555556,
              "#d8576b"
             ],
             [
              0.6666666666666666,
              "#ed7953"
             ],
             [
              0.7777777777777778,
              "#fb9f3a"
             ],
             [
              0.8888888888888888,
              "#fdca26"
             ],
             [
              1,
              "#f0f921"
             ]
            ],
            "type": "contour"
           }
          ],
          "contourcarpet": [
           {
            "colorbar": {
             "outlinewidth": 0,
             "ticks": ""
            },
            "type": "contourcarpet"
           }
          ],
          "heatmap": [
           {
            "colorbar": {
             "outlinewidth": 0,
             "ticks": ""
            },
            "colorscale": [
             [
              0,
              "#0d0887"
             ],
             [
              0.1111111111111111,
              "#46039f"
             ],
             [
              0.2222222222222222,
              "#7201a8"
             ],
             [
              0.3333333333333333,
              "#9c179e"
             ],
             [
              0.4444444444444444,
              "#bd3786"
             ],
             [
              0.5555555555555556,
              "#d8576b"
             ],
             [
              0.6666666666666666,
              "#ed7953"
             ],
             [
              0.7777777777777778,
              "#fb9f3a"
             ],
             [
              0.8888888888888888,
              "#fdca26"
             ],
             [
              1,
              "#f0f921"
             ]
            ],
            "type": "heatmap"
           }
          ],
          "heatmapgl": [
           {
            "colorbar": {
             "outlinewidth": 0,
             "ticks": ""
            },
            "colorscale": [
             [
              0,
              "#0d0887"
             ],
             [
              0.1111111111111111,
              "#46039f"
             ],
             [
              0.2222222222222222,
              "#7201a8"
             ],
             [
              0.3333333333333333,
              "#9c179e"
             ],
             [
              0.4444444444444444,
              "#bd3786"
             ],
             [
              0.5555555555555556,
              "#d8576b"
             ],
             [
              0.6666666666666666,
              "#ed7953"
             ],
             [
              0.7777777777777778,
              "#fb9f3a"
             ],
             [
              0.8888888888888888,
              "#fdca26"
             ],
             [
              1,
              "#f0f921"
             ]
            ],
            "type": "heatmapgl"
           }
          ],
          "histogram": [
           {
            "marker": {
             "pattern": {
              "fillmode": "overlay",
              "size": 10,
              "solidity": 0.2
             }
            },
            "type": "histogram"
           }
          ],
          "histogram2d": [
           {
            "colorbar": {
             "outlinewidth": 0,
             "ticks": ""
            },
            "colorscale": [
             [
              0,
              "#0d0887"
             ],
             [
              0.1111111111111111,
              "#46039f"
             ],
             [
              0.2222222222222222,
              "#7201a8"
             ],
             [
              0.3333333333333333,
              "#9c179e"
             ],
             [
              0.4444444444444444,
              "#bd3786"
             ],
             [
              0.5555555555555556,
              "#d8576b"
             ],
             [
              0.6666666666666666,
              "#ed7953"
             ],
             [
              0.7777777777777778,
              "#fb9f3a"
             ],
             [
              0.8888888888888888,
              "#fdca26"
             ],
             [
              1,
              "#f0f921"
             ]
            ],
            "type": "histogram2d"
           }
          ],
          "histogram2dcontour": [
           {
            "colorbar": {
             "outlinewidth": 0,
             "ticks": ""
            },
            "colorscale": [
             [
              0,
              "#0d0887"
             ],
             [
              0.1111111111111111,
              "#46039f"
             ],
             [
              0.2222222222222222,
              "#7201a8"
             ],
             [
              0.3333333333333333,
              "#9c179e"
             ],
             [
              0.4444444444444444,
              "#bd3786"
             ],
             [
              0.5555555555555556,
              "#d8576b"
             ],
             [
              0.6666666666666666,
              "#ed7953"
             ],
             [
              0.7777777777777778,
              "#fb9f3a"
             ],
             [
              0.8888888888888888,
              "#fdca26"
             ],
             [
              1,
              "#f0f921"
             ]
            ],
            "type": "histogram2dcontour"
           }
          ],
          "mesh3d": [
           {
            "colorbar": {
             "outlinewidth": 0,
             "ticks": ""
            },
            "type": "mesh3d"
           }
          ],
          "parcoords": [
           {
            "line": {
             "colorbar": {
              "outlinewidth": 0,
              "ticks": ""
             }
            },
            "type": "parcoords"
           }
          ],
          "pie": [
           {
            "automargin": true,
            "type": "pie"
           }
          ],
          "scatter": [
           {
            "fillpattern": {
             "fillmode": "overlay",
             "size": 10,
             "solidity": 0.2
            },
            "type": "scatter"
           }
          ],
          "scatter3d": [
           {
            "line": {
             "colorbar": {
              "outlinewidth": 0,
              "ticks": ""
             }
            },
            "marker": {
             "colorbar": {
              "outlinewidth": 0,
              "ticks": ""
             }
            },
            "type": "scatter3d"
           }
          ],
          "scattercarpet": [
           {
            "marker": {
             "colorbar": {
              "outlinewidth": 0,
              "ticks": ""
             }
            },
            "type": "scattercarpet"
           }
          ],
          "scattergeo": [
           {
            "marker": {
             "colorbar": {
              "outlinewidth": 0,
              "ticks": ""
             }
            },
            "type": "scattergeo"
           }
          ],
          "scattergl": [
           {
            "marker": {
             "colorbar": {
              "outlinewidth": 0,
              "ticks": ""
             }
            },
            "type": "scattergl"
           }
          ],
          "scattermapbox": [
           {
            "marker": {
             "colorbar": {
              "outlinewidth": 0,
              "ticks": ""
             }
            },
            "type": "scattermapbox"
           }
          ],
          "scatterpolar": [
           {
            "marker": {
             "colorbar": {
              "outlinewidth": 0,
              "ticks": ""
             }
            },
            "type": "scatterpolar"
           }
          ],
          "scatterpolargl": [
           {
            "marker": {
             "colorbar": {
              "outlinewidth": 0,
              "ticks": ""
             }
            },
            "type": "scatterpolargl"
           }
          ],
          "scatterternary": [
           {
            "marker": {
             "colorbar": {
              "outlinewidth": 0,
              "ticks": ""
             }
            },
            "type": "scatterternary"
           }
          ],
          "surface": [
           {
            "colorbar": {
             "outlinewidth": 0,
             "ticks": ""
            },
            "colorscale": [
             [
              0,
              "#0d0887"
             ],
             [
              0.1111111111111111,
              "#46039f"
             ],
             [
              0.2222222222222222,
              "#7201a8"
             ],
             [
              0.3333333333333333,
              "#9c179e"
             ],
             [
              0.4444444444444444,
              "#bd3786"
             ],
             [
              0.5555555555555556,
              "#d8576b"
             ],
             [
              0.6666666666666666,
              "#ed7953"
             ],
             [
              0.7777777777777778,
              "#fb9f3a"
             ],
             [
              0.8888888888888888,
              "#fdca26"
             ],
             [
              1,
              "#f0f921"
             ]
            ],
            "type": "surface"
           }
          ],
          "table": [
           {
            "cells": {
             "fill": {
              "color": "#EBF0F8"
             },
             "line": {
              "color": "white"
             }
            },
            "header": {
             "fill": {
              "color": "#C8D4E3"
             },
             "line": {
              "color": "white"
             }
            },
            "type": "table"
           }
          ]
         },
         "layout": {
          "annotationdefaults": {
           "arrowcolor": "#2a3f5f",
           "arrowhead": 0,
           "arrowwidth": 1
          },
          "autotypenumbers": "strict",
          "coloraxis": {
           "colorbar": {
            "outlinewidth": 0,
            "ticks": ""
           }
          },
          "colorscale": {
           "diverging": [
            [
             0,
             "#8e0152"
            ],
            [
             0.1,
             "#c51b7d"
            ],
            [
             0.2,
             "#de77ae"
            ],
            [
             0.3,
             "#f1b6da"
            ],
            [
             0.4,
             "#fde0ef"
            ],
            [
             0.5,
             "#f7f7f7"
            ],
            [
             0.6,
             "#e6f5d0"
            ],
            [
             0.7,
             "#b8e186"
            ],
            [
             0.8,
             "#7fbc41"
            ],
            [
             0.9,
             "#4d9221"
            ],
            [
             1,
             "#276419"
            ]
           ],
           "sequential": [
            [
             0,
             "#0d0887"
            ],
            [
             0.1111111111111111,
             "#46039f"
            ],
            [
             0.2222222222222222,
             "#7201a8"
            ],
            [
             0.3333333333333333,
             "#9c179e"
            ],
            [
             0.4444444444444444,
             "#bd3786"
            ],
            [
             0.5555555555555556,
             "#d8576b"
            ],
            [
             0.6666666666666666,
             "#ed7953"
            ],
            [
             0.7777777777777778,
             "#fb9f3a"
            ],
            [
             0.8888888888888888,
             "#fdca26"
            ],
            [
             1,
             "#f0f921"
            ]
           ],
           "sequentialminus": [
            [
             0,
             "#0d0887"
            ],
            [
             0.1111111111111111,
             "#46039f"
            ],
            [
             0.2222222222222222,
             "#7201a8"
            ],
            [
             0.3333333333333333,
             "#9c179e"
            ],
            [
             0.4444444444444444,
             "#bd3786"
            ],
            [
             0.5555555555555556,
             "#d8576b"
            ],
            [
             0.6666666666666666,
             "#ed7953"
            ],
            [
             0.7777777777777778,
             "#fb9f3a"
            ],
            [
             0.8888888888888888,
             "#fdca26"
            ],
            [
             1,
             "#f0f921"
            ]
           ]
          },
          "colorway": [
           "#636efa",
           "#EF553B",
           "#00cc96",
           "#ab63fa",
           "#FFA15A",
           "#19d3f3",
           "#FF6692",
           "#B6E880",
           "#FF97FF",
           "#FECB52"
          ],
          "font": {
           "color": "#2a3f5f"
          },
          "geo": {
           "bgcolor": "white",
           "lakecolor": "white",
           "landcolor": "#E5ECF6",
           "showlakes": true,
           "showland": true,
           "subunitcolor": "white"
          },
          "hoverlabel": {
           "align": "left"
          },
          "hovermode": "closest",
          "mapbox": {
           "style": "light"
          },
          "paper_bgcolor": "white",
          "plot_bgcolor": "#E5ECF6",
          "polar": {
           "angularaxis": {
            "gridcolor": "white",
            "linecolor": "white",
            "ticks": ""
           },
           "bgcolor": "#E5ECF6",
           "radialaxis": {
            "gridcolor": "white",
            "linecolor": "white",
            "ticks": ""
           }
          },
          "scene": {
           "xaxis": {
            "backgroundcolor": "#E5ECF6",
            "gridcolor": "white",
            "gridwidth": 2,
            "linecolor": "white",
            "showbackground": true,
            "ticks": "",
            "zerolinecolor": "white"
           },
           "yaxis": {
            "backgroundcolor": "#E5ECF6",
            "gridcolor": "white",
            "gridwidth": 2,
            "linecolor": "white",
            "showbackground": true,
            "ticks": "",
            "zerolinecolor": "white"
           },
           "zaxis": {
            "backgroundcolor": "#E5ECF6",
            "gridcolor": "white",
            "gridwidth": 2,
            "linecolor": "white",
            "showbackground": true,
            "ticks": "",
            "zerolinecolor": "white"
           }
          },
          "shapedefaults": {
           "line": {
            "color": "#2a3f5f"
           }
          },
          "ternary": {
           "aaxis": {
            "gridcolor": "white",
            "linecolor": "white",
            "ticks": ""
           },
           "baxis": {
            "gridcolor": "white",
            "linecolor": "white",
            "ticks": ""
           },
           "bgcolor": "#E5ECF6",
           "caxis": {
            "gridcolor": "white",
            "linecolor": "white",
            "ticks": ""
           }
          },
          "title": {
           "x": 0.05
          },
          "xaxis": {
           "automargin": true,
           "gridcolor": "white",
           "linecolor": "white",
           "ticks": "",
           "title": {
            "standoff": 15
           },
           "zerolinecolor": "white",
           "zerolinewidth": 2
          },
          "yaxis": {
           "automargin": true,
           "gridcolor": "white",
           "linecolor": "white",
           "ticks": "",
           "title": {
            "standoff": 15
           },
           "zerolinecolor": "white",
           "zerolinewidth": 2
          }
         }
        },
        "title": {
         "text": "Temperature and Lag 52 Weeks"
        },
        "xaxis": {
         "anchor": "y",
         "domain": [
          0,
          1
         ],
         "title": {
          "text": "Date"
         }
        },
        "yaxis": {
         "anchor": "x",
         "domain": [
          0,
          1
         ],
         "title": {
          "text": "value"
         }
        }
       }
      }
     },
     "metadata": {},
     "output_type": "display_data"
    }
   ],
   "source": [
    "view_data_horizon(data, target=\"Temperature\")"
   ]
  },
  {
   "cell_type": "code",
   "execution_count": 38,
   "metadata": {},
   "outputs": [
    {
     "data": {
      "application/vnd.plotly.v1+json": {
       "config": {
        "plotlyServerURL": "https://plot.ly"
       },
       "data": [
        {
         "hovertemplate": "variable=Weekly_Sales<br>Date=%{x}<br>value=%{y}<extra></extra>",
         "legendgroup": "Weekly_Sales",
         "line": {
          "color": "#636efa",
          "dash": "solid"
         },
         "marker": {
          "symbol": "circle"
         },
         "mode": "lines",
         "name": "Weekly_Sales",
         "orientation": "v",
         "showlegend": true,
         "type": "scatter",
         "x": [
          "2010-02-05T00:00:00",
          "2010-02-12T00:00:00",
          "2010-02-19T00:00:00",
          "2010-02-26T00:00:00",
          "2010-03-05T00:00:00",
          "2010-03-12T00:00:00",
          "2010-03-19T00:00:00",
          "2010-03-26T00:00:00",
          "2010-04-02T00:00:00",
          "2010-04-09T00:00:00",
          "2010-04-16T00:00:00",
          "2010-04-23T00:00:00",
          "2010-04-30T00:00:00",
          "2010-05-07T00:00:00",
          "2010-05-14T00:00:00",
          "2010-05-21T00:00:00",
          "2010-05-28T00:00:00",
          "2010-06-04T00:00:00",
          "2010-06-11T00:00:00",
          "2010-06-18T00:00:00",
          "2010-06-25T00:00:00",
          "2010-07-02T00:00:00",
          "2010-07-09T00:00:00",
          "2010-07-16T00:00:00",
          "2010-07-23T00:00:00",
          "2010-07-30T00:00:00",
          "2010-08-06T00:00:00",
          "2010-08-13T00:00:00",
          "2010-08-20T00:00:00",
          "2010-08-27T00:00:00",
          "2010-09-03T00:00:00",
          "2010-09-10T00:00:00",
          "2010-09-17T00:00:00",
          "2010-09-24T00:00:00",
          "2010-10-01T00:00:00",
          "2010-10-08T00:00:00",
          "2010-10-15T00:00:00",
          "2010-10-22T00:00:00",
          "2010-10-29T00:00:00",
          "2010-11-05T00:00:00",
          "2010-11-12T00:00:00",
          "2010-11-19T00:00:00",
          "2010-11-26T00:00:00",
          "2010-12-03T00:00:00",
          "2010-12-10T00:00:00",
          "2010-12-17T00:00:00",
          "2010-12-24T00:00:00",
          "2010-12-31T00:00:00",
          "2011-01-07T00:00:00",
          "2011-01-14T00:00:00",
          "2011-01-21T00:00:00",
          "2011-01-28T00:00:00",
          "2011-02-04T00:00:00",
          "2011-02-11T00:00:00",
          "2011-02-18T00:00:00",
          "2011-02-25T00:00:00",
          "2011-03-04T00:00:00",
          "2011-03-11T00:00:00",
          "2011-03-18T00:00:00",
          "2011-03-25T00:00:00",
          "2011-04-01T00:00:00",
          "2011-04-08T00:00:00",
          "2011-04-15T00:00:00",
          "2011-04-22T00:00:00",
          "2011-04-29T00:00:00",
          "2011-05-06T00:00:00",
          "2011-05-13T00:00:00",
          "2011-05-20T00:00:00",
          "2011-05-27T00:00:00",
          "2011-06-03T00:00:00",
          "2011-06-10T00:00:00",
          "2011-06-17T00:00:00",
          "2011-06-24T00:00:00",
          "2011-07-01T00:00:00",
          "2011-07-08T00:00:00",
          "2011-07-15T00:00:00",
          "2011-07-22T00:00:00",
          "2011-07-29T00:00:00",
          "2011-08-05T00:00:00",
          "2011-08-12T00:00:00",
          "2011-08-19T00:00:00",
          "2011-08-26T00:00:00",
          "2011-09-02T00:00:00",
          "2011-09-09T00:00:00",
          "2011-09-16T00:00:00",
          "2011-09-23T00:00:00",
          "2011-09-30T00:00:00",
          "2011-10-07T00:00:00",
          "2011-10-14T00:00:00",
          "2011-10-21T00:00:00",
          "2011-10-28T00:00:00",
          "2011-11-04T00:00:00",
          "2011-11-11T00:00:00",
          "2011-11-18T00:00:00",
          "2011-11-25T00:00:00",
          "2011-12-02T00:00:00",
          "2011-12-09T00:00:00",
          "2011-12-16T00:00:00",
          "2011-12-23T00:00:00",
          "2011-12-30T00:00:00",
          "2012-01-06T00:00:00",
          "2012-01-13T00:00:00",
          "2012-01-20T00:00:00",
          "2012-01-27T00:00:00",
          "2012-02-03T00:00:00",
          "2012-02-10T00:00:00",
          "2012-02-17T00:00:00",
          "2012-02-24T00:00:00",
          "2012-03-02T00:00:00",
          "2012-03-09T00:00:00",
          "2012-03-16T00:00:00",
          "2012-03-23T00:00:00",
          "2012-03-30T00:00:00",
          "2012-04-06T00:00:00",
          "2012-04-13T00:00:00",
          "2012-04-20T00:00:00",
          "2012-04-27T00:00:00",
          "2012-05-04T00:00:00",
          "2012-05-11T00:00:00",
          "2012-05-18T00:00:00",
          "2012-05-25T00:00:00",
          "2012-06-01T00:00:00",
          "2012-06-08T00:00:00",
          "2012-06-15T00:00:00",
          "2012-06-22T00:00:00",
          "2012-06-29T00:00:00",
          "2012-07-06T00:00:00",
          "2012-07-13T00:00:00",
          "2012-07-20T00:00:00",
          "2012-07-27T00:00:00",
          "2012-08-03T00:00:00",
          "2012-08-10T00:00:00",
          "2012-08-17T00:00:00",
          "2012-08-24T00:00:00",
          "2012-08-31T00:00:00",
          "2012-09-07T00:00:00",
          "2012-09-14T00:00:00",
          "2012-09-21T00:00:00",
          "2012-09-28T00:00:00",
          "2012-10-05T00:00:00",
          "2012-10-12T00:00:00",
          "2012-10-19T00:00:00",
          "2012-10-26T00:00:00",
          "2012-11-02T00:00:00",
          "2012-11-09T00:00:00",
          "2012-11-16T00:00:00",
          "2012-11-23T00:00:00",
          "2012-11-30T00:00:00",
          "2012-12-07T00:00:00",
          "2012-12-14T00:00:00",
          "2012-12-21T00:00:00",
          "2012-12-28T00:00:00",
          "2013-01-04T00:00:00",
          "2013-01-11T00:00:00",
          "2013-01-18T00:00:00",
          "2013-01-25T00:00:00",
          "2013-02-01T00:00:00",
          "2013-02-08T00:00:00",
          "2013-02-15T00:00:00",
          "2013-02-22T00:00:00",
          "2013-03-01T00:00:00",
          "2013-03-08T00:00:00",
          "2013-03-15T00:00:00",
          "2013-03-22T00:00:00",
          "2013-03-29T00:00:00",
          "2013-04-05T00:00:00",
          "2013-04-12T00:00:00",
          "2013-04-19T00:00:00",
          "2013-04-26T00:00:00",
          "2013-05-03T00:00:00",
          "2013-05-10T00:00:00",
          "2013-05-17T00:00:00",
          "2013-05-24T00:00:00",
          "2013-05-31T00:00:00",
          "2013-06-07T00:00:00",
          "2013-06-14T00:00:00",
          "2013-06-21T00:00:00",
          "2013-06-28T00:00:00",
          "2013-07-05T00:00:00",
          "2013-07-12T00:00:00",
          "2013-07-19T00:00:00",
          "2013-07-26T00:00:00"
         ],
         "xaxis": "x",
         "y": [
          24924.5,
          46039.49,
          41595.55,
          19403.54,
          21827.9,
          21043.39,
          22136.64,
          26229.21,
          57258.43,
          42960.91,
          17596.96,
          16145.35,
          16555.11,
          17413.94,
          18926.74,
          14773.04,
          15580.43,
          17558.09,
          16637.62,
          16216.27,
          16328.72,
          16333.14,
          17688.76,
          17150.84,
          15360.45,
          15381.82,
          17508.41,
          15536.4,
          15740.13,
          15793.87,
          16241.78,
          18194.74,
          19354.23,
          18122.52,
          20094.19,
          23388.03,
          26978.34,
          25543.04,
          38640.93,
          34238.88,
          19549.39,
          19552.84,
          18820.29,
          22517.56,
          31497.65,
          44912.86,
          55931.23,
          19124.58,
          15984.24,
          17359.7,
          17341.47,
          18461.18,
          21665.76,
          37887.17,
          46845.87,
          19363.83,
          20327.61,
          21280.4,
          20334.23,
          20881.1,
          20398.09,
          23873.79,
          28762.37,
          50510.31,
          41512.39,
          20138.19,
          17235.15,
          15136.78,
          15741.6,
          16434.15,
          15883.52,
          14978.09,
          15682.81,
          15363.5,
          16148.87,
          15654.85,
          15766.6,
          15922.41,
          15295.55,
          14539.79,
          14689.24,
          14537.37,
          15277.27,
          17746.68,
          18535.48,
          17859.3,
          18337.68,
          20797.58,
          23077.55,
          23351.8,
          31579.9,
          39886.06,
          18689.54,
          19050.66,
          20911.25,
          25293.49,
          33305.92,
          45773.03,
          46788.75,
          23350.88,
          16567.69,
          16894.4,
          18365.1,
          18378.16,
          23510.49,
          36988.49,
          54060.1,
          20124.22,
          20113.03,
          21140.07,
          22366.88,
          22107.7,
          28952.86,
          57592.12,
          34684.21,
          16976.19,
          16347.6,
          17147.44,
          18164.2,
          18517.79,
          16963.55,
          16065.49,
          17666,
          17558.82,
          16633.41,
          15722.82,
          17823.37,
          16566.18,
          16348.06,
          15731.18,
          16628.31,
          16119.92,
          17330.7,
          16286.4,
          16680.24,
          18322.37,
          19616.22,
          19251.5,
          18947.81,
          21904.47,
          22764.01,
          24185.27,
          27390.81,
          0,
          0,
          0,
          0,
          0,
          0,
          0,
          0,
          0,
          0,
          0,
          0,
          0,
          0,
          0,
          0,
          0,
          0,
          0,
          0,
          0,
          0,
          0,
          0,
          0,
          0,
          0,
          0,
          0,
          0,
          0,
          0,
          0,
          0,
          0,
          0,
          0,
          0,
          0
         ],
         "yaxis": "y"
        },
        {
         "hovertemplate": "variable=lag_52_Weekly_Sales<br>Date=%{x}<br>value=%{y}<extra></extra>",
         "legendgroup": "lag_52_Weekly_Sales",
         "line": {
          "color": "#EF553B",
          "dash": "solid"
         },
         "marker": {
          "symbol": "circle"
         },
         "mode": "lines",
         "name": "lag_52_Weekly_Sales",
         "orientation": "v",
         "showlegend": true,
         "type": "scatter",
         "x": [
          "2010-02-05T00:00:00",
          "2010-02-12T00:00:00",
          "2010-02-19T00:00:00",
          "2010-02-26T00:00:00",
          "2010-03-05T00:00:00",
          "2010-03-12T00:00:00",
          "2010-03-19T00:00:00",
          "2010-03-26T00:00:00",
          "2010-04-02T00:00:00",
          "2010-04-09T00:00:00",
          "2010-04-16T00:00:00",
          "2010-04-23T00:00:00",
          "2010-04-30T00:00:00",
          "2010-05-07T00:00:00",
          "2010-05-14T00:00:00",
          "2010-05-21T00:00:00",
          "2010-05-28T00:00:00",
          "2010-06-04T00:00:00",
          "2010-06-11T00:00:00",
          "2010-06-18T00:00:00",
          "2010-06-25T00:00:00",
          "2010-07-02T00:00:00",
          "2010-07-09T00:00:00",
          "2010-07-16T00:00:00",
          "2010-07-23T00:00:00",
          "2010-07-30T00:00:00",
          "2010-08-06T00:00:00",
          "2010-08-13T00:00:00",
          "2010-08-20T00:00:00",
          "2010-08-27T00:00:00",
          "2010-09-03T00:00:00",
          "2010-09-10T00:00:00",
          "2010-09-17T00:00:00",
          "2010-09-24T00:00:00",
          "2010-10-01T00:00:00",
          "2010-10-08T00:00:00",
          "2010-10-15T00:00:00",
          "2010-10-22T00:00:00",
          "2010-10-29T00:00:00",
          "2010-11-05T00:00:00",
          "2010-11-12T00:00:00",
          "2010-11-19T00:00:00",
          "2010-11-26T00:00:00",
          "2010-12-03T00:00:00",
          "2010-12-10T00:00:00",
          "2010-12-17T00:00:00",
          "2010-12-24T00:00:00",
          "2010-12-31T00:00:00",
          "2011-01-07T00:00:00",
          "2011-01-14T00:00:00",
          "2011-01-21T00:00:00",
          "2011-01-28T00:00:00",
          "2011-02-04T00:00:00",
          "2011-02-11T00:00:00",
          "2011-02-18T00:00:00",
          "2011-02-25T00:00:00",
          "2011-03-04T00:00:00",
          "2011-03-11T00:00:00",
          "2011-03-18T00:00:00",
          "2011-03-25T00:00:00",
          "2011-04-01T00:00:00",
          "2011-04-08T00:00:00",
          "2011-04-15T00:00:00",
          "2011-04-22T00:00:00",
          "2011-04-29T00:00:00",
          "2011-05-06T00:00:00",
          "2011-05-13T00:00:00",
          "2011-05-20T00:00:00",
          "2011-05-27T00:00:00",
          "2011-06-03T00:00:00",
          "2011-06-10T00:00:00",
          "2011-06-17T00:00:00",
          "2011-06-24T00:00:00",
          "2011-07-01T00:00:00",
          "2011-07-08T00:00:00",
          "2011-07-15T00:00:00",
          "2011-07-22T00:00:00",
          "2011-07-29T00:00:00",
          "2011-08-05T00:00:00",
          "2011-08-12T00:00:00",
          "2011-08-19T00:00:00",
          "2011-08-26T00:00:00",
          "2011-09-02T00:00:00",
          "2011-09-09T00:00:00",
          "2011-09-16T00:00:00",
          "2011-09-23T00:00:00",
          "2011-09-30T00:00:00",
          "2011-10-07T00:00:00",
          "2011-10-14T00:00:00",
          "2011-10-21T00:00:00",
          "2011-10-28T00:00:00",
          "2011-11-04T00:00:00",
          "2011-11-11T00:00:00",
          "2011-11-18T00:00:00",
          "2011-11-25T00:00:00",
          "2011-12-02T00:00:00",
          "2011-12-09T00:00:00",
          "2011-12-16T00:00:00",
          "2011-12-23T00:00:00",
          "2011-12-30T00:00:00",
          "2012-01-06T00:00:00",
          "2012-01-13T00:00:00",
          "2012-01-20T00:00:00",
          "2012-01-27T00:00:00",
          "2012-02-03T00:00:00",
          "2012-02-10T00:00:00",
          "2012-02-17T00:00:00",
          "2012-02-24T00:00:00",
          "2012-03-02T00:00:00",
          "2012-03-09T00:00:00",
          "2012-03-16T00:00:00",
          "2012-03-23T00:00:00",
          "2012-03-30T00:00:00",
          "2012-04-06T00:00:00",
          "2012-04-13T00:00:00",
          "2012-04-20T00:00:00",
          "2012-04-27T00:00:00",
          "2012-05-04T00:00:00",
          "2012-05-11T00:00:00",
          "2012-05-18T00:00:00",
          "2012-05-25T00:00:00",
          "2012-06-01T00:00:00",
          "2012-06-08T00:00:00",
          "2012-06-15T00:00:00",
          "2012-06-22T00:00:00",
          "2012-06-29T00:00:00",
          "2012-07-06T00:00:00",
          "2012-07-13T00:00:00",
          "2012-07-20T00:00:00",
          "2012-07-27T00:00:00",
          "2012-08-03T00:00:00",
          "2012-08-10T00:00:00",
          "2012-08-17T00:00:00",
          "2012-08-24T00:00:00",
          "2012-08-31T00:00:00",
          "2012-09-07T00:00:00",
          "2012-09-14T00:00:00",
          "2012-09-21T00:00:00",
          "2012-09-28T00:00:00",
          "2012-10-05T00:00:00",
          "2012-10-12T00:00:00",
          "2012-10-19T00:00:00",
          "2012-10-26T00:00:00",
          "2012-11-02T00:00:00",
          "2012-11-09T00:00:00",
          "2012-11-16T00:00:00",
          "2012-11-23T00:00:00",
          "2012-11-30T00:00:00",
          "2012-12-07T00:00:00",
          "2012-12-14T00:00:00",
          "2012-12-21T00:00:00",
          "2012-12-28T00:00:00",
          "2013-01-04T00:00:00",
          "2013-01-11T00:00:00",
          "2013-01-18T00:00:00",
          "2013-01-25T00:00:00",
          "2013-02-01T00:00:00",
          "2013-02-08T00:00:00",
          "2013-02-15T00:00:00",
          "2013-02-22T00:00:00",
          "2013-03-01T00:00:00",
          "2013-03-08T00:00:00",
          "2013-03-15T00:00:00",
          "2013-03-22T00:00:00",
          "2013-03-29T00:00:00",
          "2013-04-05T00:00:00",
          "2013-04-12T00:00:00",
          "2013-04-19T00:00:00",
          "2013-04-26T00:00:00",
          "2013-05-03T00:00:00",
          "2013-05-10T00:00:00",
          "2013-05-17T00:00:00",
          "2013-05-24T00:00:00",
          "2013-05-31T00:00:00",
          "2013-06-07T00:00:00",
          "2013-06-14T00:00:00",
          "2013-06-21T00:00:00",
          "2013-06-28T00:00:00",
          "2013-07-05T00:00:00",
          "2013-07-12T00:00:00",
          "2013-07-19T00:00:00",
          "2013-07-26T00:00:00"
         ],
         "xaxis": "x",
         "y": [
          null,
          null,
          null,
          null,
          null,
          null,
          null,
          null,
          null,
          null,
          null,
          null,
          null,
          null,
          null,
          null,
          null,
          null,
          null,
          null,
          null,
          null,
          null,
          null,
          null,
          null,
          null,
          null,
          null,
          null,
          null,
          null,
          null,
          null,
          null,
          null,
          null,
          null,
          null,
          null,
          null,
          null,
          null,
          null,
          null,
          null,
          null,
          null,
          null,
          null,
          null,
          null,
          24924.5,
          46039.49,
          41595.55,
          19403.54,
          21827.9,
          21043.39,
          22136.64,
          26229.21,
          57258.43,
          42960.91,
          17596.96,
          16145.35,
          16555.11,
          17413.94,
          18926.74,
          14773.04,
          15580.43,
          17558.09,
          16637.62,
          16216.27,
          16328.72,
          16333.14,
          17688.76,
          17150.84,
          15360.45,
          15381.82,
          17508.41,
          15536.4,
          15740.13,
          15793.87,
          16241.78,
          18194.74,
          19354.23,
          18122.52,
          20094.19,
          23388.03,
          26978.34,
          25543.04,
          38640.93,
          34238.88,
          19549.39,
          19552.84,
          18820.29,
          22517.56,
          31497.65,
          44912.86,
          55931.23,
          19124.58,
          15984.24,
          17359.7,
          17341.47,
          18461.18,
          21665.76,
          37887.17,
          46845.87,
          19363.83,
          20327.61,
          21280.4,
          20334.23,
          20881.1,
          20398.09,
          23873.79,
          28762.37,
          50510.31,
          41512.39,
          20138.19,
          17235.15,
          15136.78,
          15741.6,
          16434.15,
          15883.52,
          14978.09,
          15682.81,
          15363.5,
          16148.87,
          15654.85,
          15766.6,
          15922.41,
          15295.55,
          14539.79,
          14689.24,
          14537.37,
          15277.27,
          17746.68,
          18535.48,
          17859.3,
          18337.68,
          20797.58,
          23077.55,
          23351.8,
          31579.9,
          39886.06,
          18689.54,
          19050.66,
          20911.25,
          25293.49,
          33305.92,
          45773.03,
          46788.75,
          23350.88,
          16567.69,
          16894.4,
          18365.1,
          18378.16,
          23510.49,
          36988.49,
          54060.1,
          20124.22,
          20113.03,
          21140.07,
          22366.88,
          22107.7,
          28952.86,
          57592.12,
          34684.21,
          16976.19,
          16347.6,
          17147.44,
          18164.2,
          18517.79,
          16963.55,
          16065.49,
          17666,
          17558.82,
          16633.41,
          15722.82,
          17823.37,
          16566.18,
          16348.06,
          15731.18
         ],
         "yaxis": "y"
        }
       ],
       "layout": {
        "legend": {
         "title": {
          "text": "variable"
         },
         "tracegroupgap": 0
        },
        "template": {
         "data": {
          "bar": [
           {
            "error_x": {
             "color": "#2a3f5f"
            },
            "error_y": {
             "color": "#2a3f5f"
            },
            "marker": {
             "line": {
              "color": "#E5ECF6",
              "width": 0.5
             },
             "pattern": {
              "fillmode": "overlay",
              "size": 10,
              "solidity": 0.2
             }
            },
            "type": "bar"
           }
          ],
          "barpolar": [
           {
            "marker": {
             "line": {
              "color": "#E5ECF6",
              "width": 0.5
             },
             "pattern": {
              "fillmode": "overlay",
              "size": 10,
              "solidity": 0.2
             }
            },
            "type": "barpolar"
           }
          ],
          "carpet": [
           {
            "aaxis": {
             "endlinecolor": "#2a3f5f",
             "gridcolor": "white",
             "linecolor": "white",
             "minorgridcolor": "white",
             "startlinecolor": "#2a3f5f"
            },
            "baxis": {
             "endlinecolor": "#2a3f5f",
             "gridcolor": "white",
             "linecolor": "white",
             "minorgridcolor": "white",
             "startlinecolor": "#2a3f5f"
            },
            "type": "carpet"
           }
          ],
          "choropleth": [
           {
            "colorbar": {
             "outlinewidth": 0,
             "ticks": ""
            },
            "type": "choropleth"
           }
          ],
          "contour": [
           {
            "colorbar": {
             "outlinewidth": 0,
             "ticks": ""
            },
            "colorscale": [
             [
              0,
              "#0d0887"
             ],
             [
              0.1111111111111111,
              "#46039f"
             ],
             [
              0.2222222222222222,
              "#7201a8"
             ],
             [
              0.3333333333333333,
              "#9c179e"
             ],
             [
              0.4444444444444444,
              "#bd3786"
             ],
             [
              0.5555555555555556,
              "#d8576b"
             ],
             [
              0.6666666666666666,
              "#ed7953"
             ],
             [
              0.7777777777777778,
              "#fb9f3a"
             ],
             [
              0.8888888888888888,
              "#fdca26"
             ],
             [
              1,
              "#f0f921"
             ]
            ],
            "type": "contour"
           }
          ],
          "contourcarpet": [
           {
            "colorbar": {
             "outlinewidth": 0,
             "ticks": ""
            },
            "type": "contourcarpet"
           }
          ],
          "heatmap": [
           {
            "colorbar": {
             "outlinewidth": 0,
             "ticks": ""
            },
            "colorscale": [
             [
              0,
              "#0d0887"
             ],
             [
              0.1111111111111111,
              "#46039f"
             ],
             [
              0.2222222222222222,
              "#7201a8"
             ],
             [
              0.3333333333333333,
              "#9c179e"
             ],
             [
              0.4444444444444444,
              "#bd3786"
             ],
             [
              0.5555555555555556,
              "#d8576b"
             ],
             [
              0.6666666666666666,
              "#ed7953"
             ],
             [
              0.7777777777777778,
              "#fb9f3a"
             ],
             [
              0.8888888888888888,
              "#fdca26"
             ],
             [
              1,
              "#f0f921"
             ]
            ],
            "type": "heatmap"
           }
          ],
          "heatmapgl": [
           {
            "colorbar": {
             "outlinewidth": 0,
             "ticks": ""
            },
            "colorscale": [
             [
              0,
              "#0d0887"
             ],
             [
              0.1111111111111111,
              "#46039f"
             ],
             [
              0.2222222222222222,
              "#7201a8"
             ],
             [
              0.3333333333333333,
              "#9c179e"
             ],
             [
              0.4444444444444444,
              "#bd3786"
             ],
             [
              0.5555555555555556,
              "#d8576b"
             ],
             [
              0.6666666666666666,
              "#ed7953"
             ],
             [
              0.7777777777777778,
              "#fb9f3a"
             ],
             [
              0.8888888888888888,
              "#fdca26"
             ],
             [
              1,
              "#f0f921"
             ]
            ],
            "type": "heatmapgl"
           }
          ],
          "histogram": [
           {
            "marker": {
             "pattern": {
              "fillmode": "overlay",
              "size": 10,
              "solidity": 0.2
             }
            },
            "type": "histogram"
           }
          ],
          "histogram2d": [
           {
            "colorbar": {
             "outlinewidth": 0,
             "ticks": ""
            },
            "colorscale": [
             [
              0,
              "#0d0887"
             ],
             [
              0.1111111111111111,
              "#46039f"
             ],
             [
              0.2222222222222222,
              "#7201a8"
             ],
             [
              0.3333333333333333,
              "#9c179e"
             ],
             [
              0.4444444444444444,
              "#bd3786"
             ],
             [
              0.5555555555555556,
              "#d8576b"
             ],
             [
              0.6666666666666666,
              "#ed7953"
             ],
             [
              0.7777777777777778,
              "#fb9f3a"
             ],
             [
              0.8888888888888888,
              "#fdca26"
             ],
             [
              1,
              "#f0f921"
             ]
            ],
            "type": "histogram2d"
           }
          ],
          "histogram2dcontour": [
           {
            "colorbar": {
             "outlinewidth": 0,
             "ticks": ""
            },
            "colorscale": [
             [
              0,
              "#0d0887"
             ],
             [
              0.1111111111111111,
              "#46039f"
             ],
             [
              0.2222222222222222,
              "#7201a8"
             ],
             [
              0.3333333333333333,
              "#9c179e"
             ],
             [
              0.4444444444444444,
              "#bd3786"
             ],
             [
              0.5555555555555556,
              "#d8576b"
             ],
             [
              0.6666666666666666,
              "#ed7953"
             ],
             [
              0.7777777777777778,
              "#fb9f3a"
             ],
             [
              0.8888888888888888,
              "#fdca26"
             ],
             [
              1,
              "#f0f921"
             ]
            ],
            "type": "histogram2dcontour"
           }
          ],
          "mesh3d": [
           {
            "colorbar": {
             "outlinewidth": 0,
             "ticks": ""
            },
            "type": "mesh3d"
           }
          ],
          "parcoords": [
           {
            "line": {
             "colorbar": {
              "outlinewidth": 0,
              "ticks": ""
             }
            },
            "type": "parcoords"
           }
          ],
          "pie": [
           {
            "automargin": true,
            "type": "pie"
           }
          ],
          "scatter": [
           {
            "fillpattern": {
             "fillmode": "overlay",
             "size": 10,
             "solidity": 0.2
            },
            "type": "scatter"
           }
          ],
          "scatter3d": [
           {
            "line": {
             "colorbar": {
              "outlinewidth": 0,
              "ticks": ""
             }
            },
            "marker": {
             "colorbar": {
              "outlinewidth": 0,
              "ticks": ""
             }
            },
            "type": "scatter3d"
           }
          ],
          "scattercarpet": [
           {
            "marker": {
             "colorbar": {
              "outlinewidth": 0,
              "ticks": ""
             }
            },
            "type": "scattercarpet"
           }
          ],
          "scattergeo": [
           {
            "marker": {
             "colorbar": {
              "outlinewidth": 0,
              "ticks": ""
             }
            },
            "type": "scattergeo"
           }
          ],
          "scattergl": [
           {
            "marker": {
             "colorbar": {
              "outlinewidth": 0,
              "ticks": ""
             }
            },
            "type": "scattergl"
           }
          ],
          "scattermapbox": [
           {
            "marker": {
             "colorbar": {
              "outlinewidth": 0,
              "ticks": ""
             }
            },
            "type": "scattermapbox"
           }
          ],
          "scatterpolar": [
           {
            "marker": {
             "colorbar": {
              "outlinewidth": 0,
              "ticks": ""
             }
            },
            "type": "scatterpolar"
           }
          ],
          "scatterpolargl": [
           {
            "marker": {
             "colorbar": {
              "outlinewidth": 0,
              "ticks": ""
             }
            },
            "type": "scatterpolargl"
           }
          ],
          "scatterternary": [
           {
            "marker": {
             "colorbar": {
              "outlinewidth": 0,
              "ticks": ""
             }
            },
            "type": "scatterternary"
           }
          ],
          "surface": [
           {
            "colorbar": {
             "outlinewidth": 0,
             "ticks": ""
            },
            "colorscale": [
             [
              0,
              "#0d0887"
             ],
             [
              0.1111111111111111,
              "#46039f"
             ],
             [
              0.2222222222222222,
              "#7201a8"
             ],
             [
              0.3333333333333333,
              "#9c179e"
             ],
             [
              0.4444444444444444,
              "#bd3786"
             ],
             [
              0.5555555555555556,
              "#d8576b"
             ],
             [
              0.6666666666666666,
              "#ed7953"
             ],
             [
              0.7777777777777778,
              "#fb9f3a"
             ],
             [
              0.8888888888888888,
              "#fdca26"
             ],
             [
              1,
              "#f0f921"
             ]
            ],
            "type": "surface"
           }
          ],
          "table": [
           {
            "cells": {
             "fill": {
              "color": "#EBF0F8"
             },
             "line": {
              "color": "white"
             }
            },
            "header": {
             "fill": {
              "color": "#C8D4E3"
             },
             "line": {
              "color": "white"
             }
            },
            "type": "table"
           }
          ]
         },
         "layout": {
          "annotationdefaults": {
           "arrowcolor": "#2a3f5f",
           "arrowhead": 0,
           "arrowwidth": 1
          },
          "autotypenumbers": "strict",
          "coloraxis": {
           "colorbar": {
            "outlinewidth": 0,
            "ticks": ""
           }
          },
          "colorscale": {
           "diverging": [
            [
             0,
             "#8e0152"
            ],
            [
             0.1,
             "#c51b7d"
            ],
            [
             0.2,
             "#de77ae"
            ],
            [
             0.3,
             "#f1b6da"
            ],
            [
             0.4,
             "#fde0ef"
            ],
            [
             0.5,
             "#f7f7f7"
            ],
            [
             0.6,
             "#e6f5d0"
            ],
            [
             0.7,
             "#b8e186"
            ],
            [
             0.8,
             "#7fbc41"
            ],
            [
             0.9,
             "#4d9221"
            ],
            [
             1,
             "#276419"
            ]
           ],
           "sequential": [
            [
             0,
             "#0d0887"
            ],
            [
             0.1111111111111111,
             "#46039f"
            ],
            [
             0.2222222222222222,
             "#7201a8"
            ],
            [
             0.3333333333333333,
             "#9c179e"
            ],
            [
             0.4444444444444444,
             "#bd3786"
            ],
            [
             0.5555555555555556,
             "#d8576b"
            ],
            [
             0.6666666666666666,
             "#ed7953"
            ],
            [
             0.7777777777777778,
             "#fb9f3a"
            ],
            [
             0.8888888888888888,
             "#fdca26"
            ],
            [
             1,
             "#f0f921"
            ]
           ],
           "sequentialminus": [
            [
             0,
             "#0d0887"
            ],
            [
             0.1111111111111111,
             "#46039f"
            ],
            [
             0.2222222222222222,
             "#7201a8"
            ],
            [
             0.3333333333333333,
             "#9c179e"
            ],
            [
             0.4444444444444444,
             "#bd3786"
            ],
            [
             0.5555555555555556,
             "#d8576b"
            ],
            [
             0.6666666666666666,
             "#ed7953"
            ],
            [
             0.7777777777777778,
             "#fb9f3a"
            ],
            [
             0.8888888888888888,
             "#fdca26"
            ],
            [
             1,
             "#f0f921"
            ]
           ]
          },
          "colorway": [
           "#636efa",
           "#EF553B",
           "#00cc96",
           "#ab63fa",
           "#FFA15A",
           "#19d3f3",
           "#FF6692",
           "#B6E880",
           "#FF97FF",
           "#FECB52"
          ],
          "font": {
           "color": "#2a3f5f"
          },
          "geo": {
           "bgcolor": "white",
           "lakecolor": "white",
           "landcolor": "#E5ECF6",
           "showlakes": true,
           "showland": true,
           "subunitcolor": "white"
          },
          "hoverlabel": {
           "align": "left"
          },
          "hovermode": "closest",
          "mapbox": {
           "style": "light"
          },
          "paper_bgcolor": "white",
          "plot_bgcolor": "#E5ECF6",
          "polar": {
           "angularaxis": {
            "gridcolor": "white",
            "linecolor": "white",
            "ticks": ""
           },
           "bgcolor": "#E5ECF6",
           "radialaxis": {
            "gridcolor": "white",
            "linecolor": "white",
            "ticks": ""
           }
          },
          "scene": {
           "xaxis": {
            "backgroundcolor": "#E5ECF6",
            "gridcolor": "white",
            "gridwidth": 2,
            "linecolor": "white",
            "showbackground": true,
            "ticks": "",
            "zerolinecolor": "white"
           },
           "yaxis": {
            "backgroundcolor": "#E5ECF6",
            "gridcolor": "white",
            "gridwidth": 2,
            "linecolor": "white",
            "showbackground": true,
            "ticks": "",
            "zerolinecolor": "white"
           },
           "zaxis": {
            "backgroundcolor": "#E5ECF6",
            "gridcolor": "white",
            "gridwidth": 2,
            "linecolor": "white",
            "showbackground": true,
            "ticks": "",
            "zerolinecolor": "white"
           }
          },
          "shapedefaults": {
           "line": {
            "color": "#2a3f5f"
           }
          },
          "ternary": {
           "aaxis": {
            "gridcolor": "white",
            "linecolor": "white",
            "ticks": ""
           },
           "baxis": {
            "gridcolor": "white",
            "linecolor": "white",
            "ticks": ""
           },
           "bgcolor": "#E5ECF6",
           "caxis": {
            "gridcolor": "white",
            "linecolor": "white",
            "ticks": ""
           }
          },
          "title": {
           "x": 0.05
          },
          "xaxis": {
           "automargin": true,
           "gridcolor": "white",
           "linecolor": "white",
           "ticks": "",
           "title": {
            "standoff": 15
           },
           "zerolinecolor": "white",
           "zerolinewidth": 2
          },
          "yaxis": {
           "automargin": true,
           "gridcolor": "white",
           "linecolor": "white",
           "ticks": "",
           "title": {
            "standoff": 15
           },
           "zerolinecolor": "white",
           "zerolinewidth": 2
          }
         }
        },
        "title": {
         "text": "Weekly_Sales and Lag 52 Weeks"
        },
        "xaxis": {
         "anchor": "y",
         "domain": [
          0,
          1
         ],
         "title": {
          "text": "Date"
         }
        },
        "yaxis": {
         "anchor": "x",
         "domain": [
          0,
          1
         ],
         "title": {
          "text": "value"
         }
        }
       }
      }
     },
     "metadata": {},
     "output_type": "display_data"
    }
   ],
   "source": [
    "view_data_horizon(data, target=\"Weekly_Sales\")"
   ]
  },
  {
   "cell_type": "code",
   "execution_count": 39,
   "metadata": {},
   "outputs": [
    {
     "data": {
      "image/png": "[encoded data removed]",
      "text/plain": [
       "<Figure size 2000x800 with 1 Axes>"
      ]
     },
     "metadata": {},
     "output_type": "display_data"
    }
   ],
   "source": [
    "weekly_sales_2010 = data[data.year==2010]['Weekly_Sales'].groupby(data['week_of_year']).mean()\n",
    "weekly_sales_2011 = data[data.year==2011]['Weekly_Sales'].groupby(data['week_of_year']).mean()\n",
    "weekly_sales_2012 = data[data.year==2012]['Weekly_Sales'].groupby(data['week_of_year']).mean()\n",
    "\n",
    "plt.figure(figsize=(20,8))\n",
    "\n",
    "sns.lineplot(x=weekly_sales_2010.index, y=weekly_sales_2010.values)\n",
    "sns.lineplot(x=weekly_sales_2011.index, y=weekly_sales_2011.values)\n",
    "sns.lineplot(x=weekly_sales_2012.index, y=weekly_sales_2012.values)\n",
    "\n",
    "plt.grid()\n",
    "plt.xticks(np.arange(1, 53, step=1))\n",
    "plt.legend(['2010', '2011', '2012'], loc='best', fontsize=16)\n",
    "plt.title('Average Weekly Sales - Per Year', fontsize=18)\n",
    "plt.ylabel('Sales', fontsize=16)\n",
    "plt.xlabel('Week', fontsize=16)\n",
    "plt.show()\n"
   ]
  },
  {
   "cell_type": "code",
   "execution_count": 40,
   "metadata": {},
   "outputs": [
    {
     "data": {
      "application/vnd.plotly.v1+json": {
       "config": {
        "plotlyServerURL": "https://plot.ly"
       },
       "data": [
        {
         "coloraxis": "coloraxis",
         "hovertemplate": "x: %{x}<br>y: %{y}<br>color: %{z}<extra></extra>",
         "name": "0",
         "type": "heatmap",
         "x": [
          "Store",
          "Dept",
          "Weekly_Sales",
          "Size",
          "Temperature",
          "Fuel_Price",
          "CPI",
          "Unemployment",
          "IsHoliday",
          "month",
          "day_of_month",
          "week_of_year",
          "quarter",
          "year",
          "MarkDown"
         ],
         "xaxis": "x",
         "y": [
          "Store",
          "Dept",
          "Weekly_Sales",
          "Size",
          "Temperature",
          "Fuel_Price",
          "CPI",
          "Unemployment",
          "IsHoliday",
          "month",
          "day_of_month",
          "week_of_year",
          "quarter",
          "year",
          "MarkDown"
         ],
         "yaxis": "y",
         "z": [
          [
           1,
           0.02306113213850371,
           -0.07214046476717666,
           -0.18373557848311078,
           -0.04837908209501577,
           0.07312340440956587,
           -0.21133310322378118,
           0.20884738376341258,
           -0.0006713692820350547,
           0.0005203540555639187,
           0.0012167383461957196,
           0.000554308149009158,
           0.0005532464880917961,
           0.0027824784554061122,
           -0.05671800365651566
          ],
          [
           0.02306113213850371,
           1,
           0.12427576518774772,
           -0.002004476300417277,
           0.004151364859676201,
           0.0032727607129054716,
           -0.007262410249573688,
           0.007077270045009882,
           0.0010023988982781908,
           0.0014436142307778358,
           0.0005710413868123142,
           0.0014326650075570035,
           0.0013454777953480575,
           0.0027974382684322683,
           0.0015904821797223512
          ],
          [
           -0.07214046476717666,
           0.12427576518774772,
           1,
           0.20586778654282797,
           0.03992797312464066,
           -0.06518498177347118,
           -0.03238081807217787,
           0.033414378019737234,
           0.007097222023634746,
           0.050738165041681285,
           0.012287046630187247,
           0.04692696158988324,
           0.04859935903672591,
           -0.22637753566454308,
           -0.04211000691539525
          ],
          [
           -0.18373557848311078,
           -0.002004476300417277,
           0.20586778654282797,
           1,
           -0.05820177678539087,
           0.009058180357580362,
           -0.0033410347360389547,
           -0.057508998960794984,
           0.00034472547918974744,
           -0.0006736549419392756,
           -0.0009191357190216757,
           -0.0007622839986215557,
           -0.0006881952275264026,
           -0.004051374226725661,
           0.20732969303883841
          ],
          [
           -0.04837908209501577,
           0.004151364859676201,
           0.03992797312464066,
           -0.05820177678539087,
           1,
           0.09923480824255443,
           0.16906962158665723,
           0.14572506779074276,
           -0.16305576119237516,
           0.22554145662377728,
           0.2213448909161326,
           0.22517515404091706,
           0.2374428440845907,
           -0.037864902366024134,
           -0.15655052433968714
          ],
          [
           0.07312340440956587,
           0.0032727607129054716,
           -0.06518498177347118,
           0.009058180357580362,
           0.09923480824255443,
           1,
           -0.18044467624723218,
           -0.03097572971416269,
           -0.0779764893184326,
           -0.06418720761562403,
           0.08340850823042488,
           -0.05419421539280216,
           -0.06907829264675233,
           0.6578526174644745,
           0.21138408146033902
          ],
          [
           -0.21133310322378118,
           -0.007262410249573688,
           -0.03238081807217787,
           -0.0033410347360389547,
           0.16906962158665723,
           -0.18044467624723218,
           1,
           -0.30169634287558417,
           0.0014102204334059685,
           -0.002026556302297549,
           0.001984714772917731,
           -0.0007796005266682281,
           -0.0024304016575450197,
           0.08498833461299629,
           0.010598424977621205
          ],
          [
           0.20884738376341258,
           0.007077270045009882,
           0.033414378019737234,
           -0.057508998960794984,
           0.14572506779074276,
           -0.03097572971416269,
           -0.30169634287558417,
           1,
           -0.0029962215344088994,
           0.012980831115333085,
           -0.005289008831083855,
           0.00897521732220935,
           0.009223843769481405,
           -0.2992579884272426,
           -0.1223402307263962
          ],
          [
           -0.0006713692820350547,
           0.0010023988982781908,
           0.007097222023634746,
           0.00034472547918974744,
           -0.16305576119237516,
           -0.0779764893184326,
           0.0014102204334059685,
           -0.0029962215344088994,
           1,
           0.14287757251828034,
           -0.24484435214222516,
           0.14918224574750485,
           0.10674289621712323,
           -0.05259633736769634,
           0.2564344026726356
          ],
          [
           0.0005203540555639187,
           0.0014436142307778358,
           0.050738165041681285,
           -0.0006736549419392756,
           0.22554145662377728,
           -0.06418720761562403,
           -0.002026556302297549,
           0.012980831115333085,
           0.14287757251828034,
           1,
           0.27781565080836057,
           0.9961845876427324,
           0.9692242815261581,
           -0.25891084739523057,
           -0.020546711361454834
          ],
          [
           0.0012167383461957196,
           0.0005710413868123142,
           0.012287046630187247,
           -0.0009191357190216757,
           0.2213448909161326,
           0.08340850823042488,
           0.001984714772917731,
           -0.005289008831083855,
           -0.24484435214222516,
           0.27781565080836057,
           1,
           0.2784759603266224,
           0.30531920841445975,
           -0.00042694835449049194,
           -0.13853898621174177
          ],
          [
           0.000554308149009158,
           0.0014326650075570035,
           0.04692696158988324,
           -0.0007622839986215557,
           0.22517515404091706,
           -0.05419421539280216,
           -0.0007796005266682281,
           0.00897521732220935,
           0.14918224574750485,
           0.9961845876427324,
           0.2784759603266224,
           1,
           0.9658752984763567,
           -0.24423144316306133,
           -0.020385183190833378
          ],
          [
           0.0005532464880917961,
           0.0013454777953480575,
           0.04859935903672591,
           -0.0006881952275264026,
           0.2374428440845907,
           -0.06907829264675233,
           -0.0024304016575450197,
           0.009223843769481405,
           0.10674289621712323,
           0.9692242815261581,
           0.30531920841445975,
           0.9658752984763567,
           1,
           -0.25294362140673493,
           -0.03352966001622803
          ],
          [
           0.0027824784554061122,
           0.0027974382684322683,
           -0.22637753566454308,
           -0.004051374226725661,
           -0.037864902366024134,
           0.6578526174644745,
           0.08498833461299629,
           -0.2992579884272426,
           -0.05259633736769634,
           -0.25891084739523057,
           -0.00042694835449049194,
           -0.24423144316306133,
           -0.25294362140673493,
           1,
           0.37933708348296946
          ],
          [
           -0.05671800365651566,
           0.0015904821797223512,
           -0.04211000691539525,
           0.20732969303883841,
           -0.15655052433968714,
           0.21138408146033902,
           0.010598424977621205,
           -0.1223402307263962,
           0.2564344026726356,
           -0.020546711361454834,
           -0.13853898621174177,
           -0.020385183190833378,
           -0.03352966001622803,
           0.37933708348296946,
           1
          ]
         ]
        }
       ],
       "layout": {
        "coloraxis": {
         "colorscale": [
          [
           0,
           "#0d0887"
          ],
          [
           0.1111111111111111,
           "#46039f"
          ],
          [
           0.2222222222222222,
           "#7201a8"
          ],
          [
           0.3333333333333333,
           "#9c179e"
          ],
          [
           0.4444444444444444,
           "#bd3786"
          ],
          [
           0.5555555555555556,
           "#d8576b"
          ],
          [
           0.6666666666666666,
           "#ed7953"
          ],
          [
           0.7777777777777778,
           "#fb9f3a"
          ],
          [
           0.8888888888888888,
           "#fdca26"
          ],
          [
           1,
           "#f0f921"
          ]
         ]
        },
        "margin": {
         "t": 60
        },
        "template": {
         "data": {
          "bar": [
           {
            "error_x": {
             "color": "#2a3f5f"
            },
            "error_y": {
             "color": "#2a3f5f"
            },
            "marker": {
             "line": {
              "color": "#E5ECF6",
              "width": 0.5
             },
             "pattern": {
              "fillmode": "overlay",
              "size": 10,
              "solidity": 0.2
             }
            },
            "type": "bar"
           }
          ],
          "barpolar": [
           {
            "marker": {
             "line": {
              "color": "#E5ECF6",
              "width": 0.5
             },
             "pattern": {
              "fillmode": "overlay",
              "size": 10,
              "solidity": 0.2
             }
            },
            "type": "barpolar"
           }
          ],
          "carpet": [
           {
            "aaxis": {
             "endlinecolor": "#2a3f5f",
             "gridcolor": "white",
             "linecolor": "white",
             "minorgridcolor": "white",
             "startlinecolor": "#2a3f5f"
            },
            "baxis": {
             "endlinecolor": "#2a3f5f",
             "gridcolor": "white",
             "linecolor": "white",
             "minorgridcolor": "white",
             "startlinecolor": "#2a3f5f"
            },
            "type": "carpet"
           }
          ],
          "choropleth": [
           {
            "colorbar": {
             "outlinewidth": 0,
             "ticks": ""
            },
            "type": "choropleth"
           }
          ],
          "contour": [
           {
            "colorbar": {
             "outlinewidth": 0,
             "ticks": ""
            },
            "colorscale": [
             [
              0,
              "#0d0887"
             ],
             [
              0.1111111111111111,
              "#46039f"
             ],
             [
              0.2222222222222222,
              "#7201a8"
             ],
             [
              0.3333333333333333,
              "#9c179e"
             ],
             [
              0.4444444444444444,
              "#bd3786"
             ],
             [
              0.5555555555555556,
              "#d8576b"
             ],
             [
              0.6666666666666666,
              "#ed7953"
             ],
             [
              0.7777777777777778,
              "#fb9f3a"
             ],
             [
              0.8888888888888888,
              "#fdca26"
             ],
             [
              1,
              "#f0f921"
             ]
            ],
            "type": "contour"
           }
          ],
          "contourcarpet": [
           {
            "colorbar": {
             "outlinewidth": 0,
             "ticks": ""
            },
            "type": "contourcarpet"
           }
          ],
          "heatmap": [
           {
            "colorbar": {
             "outlinewidth": 0,
             "ticks": ""
            },
            "colorscale": [
             [
              0,
              "#0d0887"
             ],
             [
              0.1111111111111111,
              "#46039f"
             ],
             [
              0.2222222222222222,
              "#7201a8"
             ],
             [
              0.3333333333333333,
              "#9c179e"
             ],
             [
              0.4444444444444444,
              "#bd3786"
             ],
             [
              0.5555555555555556,
              "#d8576b"
             ],
             [
              0.6666666666666666,
              "#ed7953"
             ],
             [
              0.7777777777777778,
              "#fb9f3a"
             ],
             [
              0.8888888888888888,
              "#fdca26"
             ],
             [
              1,
              "#f0f921"
             ]
            ],
            "type": "heatmap"
           }
          ],
          "heatmapgl": [
           {
            "colorbar": {
             "outlinewidth": 0,
             "ticks": ""
            },
            "colorscale": [
             [
              0,
              "#0d0887"
             ],
             [
              0.1111111111111111,
              "#46039f"
             ],
             [
              0.2222222222222222,
              "#7201a8"
             ],
             [
              0.3333333333333333,
              "#9c179e"
             ],
             [
              0.4444444444444444,
              "#bd3786"
             ],
             [
              0.5555555555555556,
              "#d8576b"
             ],
             [
              0.6666666666666666,
              "#ed7953"
             ],
             [
              0.7777777777777778,
              "#fb9f3a"
             ],
             [
              0.8888888888888888,
              "#fdca26"
             ],
             [
              1,
              "#f0f921"
             ]
            ],
            "type": "heatmapgl"
           }
          ],
          "histogram": [
           {
            "marker": {
             "pattern": {
              "fillmode": "overlay",
              "size": 10,
              "solidity": 0.2
             }
            },
            "type": "histogram"
           }
          ],
          "histogram2d": [
           {
            "colorbar": {
             "outlinewidth": 0,
             "ticks": ""
            },
            "colorscale": [
             [
              0,
              "#0d0887"
             ],
             [
              0.1111111111111111,
              "#46039f"
             ],
             [
              0.2222222222222222,
              "#7201a8"
             ],
             [
              0.3333333333333333,
              "#9c179e"
             ],
             [
              0.4444444444444444,
              "#bd3786"
             ],
             [
              0.5555555555555556,
              "#d8576b"
             ],
             [
              0.6666666666666666,
              "#ed7953"
             ],
             [
              0.7777777777777778,
              "#fb9f3a"
             ],
             [
              0.8888888888888888,
              "#fdca26"
             ],
             [
              1,
              "#f0f921"
             ]
            ],
            "type": "histogram2d"
           }
          ],
          "histogram2dcontour": [
           {
            "colorbar": {
             "outlinewidth": 0,
             "ticks": ""
            },
            "colorscale": [
             [
              0,
              "#0d0887"
             ],
             [
              0.1111111111111111,
              "#46039f"
             ],
             [
              0.2222222222222222,
              "#7201a8"
             ],
             [
              0.3333333333333333,
              "#9c179e"
             ],
             [
              0.4444444444444444,
              "#bd3786"
             ],
             [
              0.5555555555555556,
              "#d8576b"
             ],
             [
              0.6666666666666666,
              "#ed7953"
             ],
             [
              0.7777777777777778,
              "#fb9f3a"
             ],
             [
              0.8888888888888888,
              "#fdca26"
             ],
             [
              1,
              "#f0f921"
             ]
            ],
            "type": "histogram2dcontour"
           }
          ],
          "mesh3d": [
           {
            "colorbar": {
             "outlinewidth": 0,
             "ticks": ""
            },
            "type": "mesh3d"
           }
          ],
          "parcoords": [
           {
            "line": {
             "colorbar": {
              "outlinewidth": 0,
              "ticks": ""
             }
            },
            "type": "parcoords"
           }
          ],
          "pie": [
           {
            "automargin": true,
            "type": "pie"
           }
          ],
          "scatter": [
           {
            "fillpattern": {
             "fillmode": "overlay",
             "size": 10,
             "solidity": 0.2
            },
            "type": "scatter"
           }
          ],
          "scatter3d": [
           {
            "line": {
             "colorbar": {
              "outlinewidth": 0,
              "ticks": ""
             }
            },
            "marker": {
             "colorbar": {
              "outlinewidth": 0,
              "ticks": ""
             }
            },
            "type": "scatter3d"
           }
          ],
          "scattercarpet": [
           {
            "marker": {
             "colorbar": {
              "outlinewidth": 0,
              "ticks": ""
             }
            },
            "type": "scattercarpet"
           }
          ],
          "scattergeo": [
           {
            "marker": {
             "colorbar": {
              "outlinewidth": 0,
              "ticks": ""
             }
            },
            "type": "scattergeo"
           }
          ],
          "scattergl": [
           {
            "marker": {
             "colorbar": {
              "outlinewidth": 0,
              "ticks": ""
             }
            },
            "type": "scattergl"
           }
          ],
          "scattermapbox": [
           {
            "marker": {
             "colorbar": {
              "outlinewidth": 0,
              "ticks": ""
             }
            },
            "type": "scattermapbox"
           }
          ],
          "scatterpolar": [
           {
            "marker": {
             "colorbar": {
              "outlinewidth": 0,
              "ticks": ""
             }
            },
            "type": "scatterpolar"
           }
          ],
          "scatterpolargl": [
           {
            "marker": {
             "colorbar": {
              "outlinewidth": 0,
              "ticks": ""
             }
            },
            "type": "scatterpolargl"
           }
          ],
          "scatterternary": [
           {
            "marker": {
             "colorbar": {
              "outlinewidth": 0,
              "ticks": ""
             }
            },
            "type": "scatterternary"
           }
          ],
          "surface": [
           {
            "colorbar": {
             "outlinewidth": 0,
             "ticks": ""
            },
            "colorscale": [
             [
              0,
              "#0d0887"
             ],
             [
              0.1111111111111111,
              "#46039f"
             ],
             [
              0.2222222222222222,
              "#7201a8"
             ],
             [
              0.3333333333333333,
              "#9c179e"
             ],
             [
              0.4444444444444444,
              "#bd3786"
             ],
             [
              0.5555555555555556,
              "#d8576b"
             ],
             [
              0.6666666666666666,
              "#ed7953"
             ],
             [
              0.7777777777777778,
              "#fb9f3a"
             ],
             [
              0.8888888888888888,
              "#fdca26"
             ],
             [
              1,
              "#f0f921"
             ]
            ],
            "type": "surface"
           }
          ],
          "table": [
           {
            "cells": {
             "fill": {
              "color": "#EBF0F8"
             },
             "line": {
              "color": "white"
             }
            },
            "header": {
             "fill": {
              "color": "#C8D4E3"
             },
             "line": {
              "color": "white"
             }
            },
            "type": "table"
           }
          ]
         },
         "layout": {
          "annotationdefaults": {
           "arrowcolor": "#2a3f5f",
           "arrowhead": 0,
           "arrowwidth": 1
          },
          "autotypenumbers": "strict",
          "coloraxis": {
           "colorbar": {
            "outlinewidth": 0,
            "ticks": ""
           }
          },
          "colorscale": {
           "diverging": [
            [
             0,
             "#8e0152"
            ],
            [
             0.1,
             "#c51b7d"
            ],
            [
             0.2,
             "#de77ae"
            ],
            [
             0.3,
             "#f1b6da"
            ],
            [
             0.4,
             "#fde0ef"
            ],
            [
             0.5,
             "#f7f7f7"
            ],
            [
             0.6,
             "#e6f5d0"
            ],
            [
             0.7,
             "#b8e186"
            ],
            [
             0.8,
             "#7fbc41"
            ],
            [
             0.9,
             "#4d9221"
            ],
            [
             1,
             "#276419"
            ]
           ],
           "sequential": [
            [
             0,
             "#0d0887"
            ],
            [
             0.1111111111111111,
             "#46039f"
            ],
            [
             0.2222222222222222,
             "#7201a8"
            ],
            [
             0.3333333333333333,
             "#9c179e"
            ],
            [
             0.4444444444444444,
             "#bd3786"
            ],
            [
             0.5555555555555556,
             "#d8576b"
            ],
            [
             0.6666666666666666,
             "#ed7953"
            ],
            [
             0.7777777777777778,
             "#fb9f3a"
            ],
            [
             0.8888888888888888,
             "#fdca26"
            ],
            [
             1,
             "#f0f921"
            ]
           ],
           "sequentialminus": [
            [
             0,
             "#0d0887"
            ],
            [
             0.1111111111111111,
             "#46039f"
            ],
            [
             0.2222222222222222,
             "#7201a8"
            ],
            [
             0.3333333333333333,
             "#9c179e"
            ],
            [
             0.4444444444444444,
             "#bd3786"
            ],
            [
             0.5555555555555556,
             "#d8576b"
            ],
            [
             0.6666666666666666,
             "#ed7953"
            ],
            [
             0.7777777777777778,
             "#fb9f3a"
            ],
            [
             0.8888888888888888,
             "#fdca26"
            ],
            [
             1,
             "#f0f921"
            ]
           ]
          },
          "colorway": [
           "#636efa",
           "#EF553B",
           "#00cc96",
           "#ab63fa",
           "#FFA15A",
           "#19d3f3",
           "#FF6692",
           "#B6E880",
           "#FF97FF",
           "#FECB52"
          ],
          "font": {
           "color": "#2a3f5f"
          },
          "geo": {
           "bgcolor": "white",
           "lakecolor": "white",
           "landcolor": "#E5ECF6",
           "showlakes": true,
           "showland": true,
           "subunitcolor": "white"
          },
          "hoverlabel": {
           "align": "left"
          },
          "hovermode": "closest",
          "mapbox": {
           "style": "light"
          },
          "paper_bgcolor": "white",
          "plot_bgcolor": "#E5ECF6",
          "polar": {
           "angularaxis": {
            "gridcolor": "white",
            "linecolor": "white",
            "ticks": ""
           },
           "bgcolor": "#E5ECF6",
           "radialaxis": {
            "gridcolor": "white",
            "linecolor": "white",
            "ticks": ""
           }
          },
          "scene": {
           "xaxis": {
            "backgroundcolor": "#E5ECF6",
            "gridcolor": "white",
            "gridwidth": 2,
            "linecolor": "white",
            "showbackground": true,
            "ticks": "",
            "zerolinecolor": "white"
           },
           "yaxis": {
            "backgroundcolor": "#E5ECF6",
            "gridcolor": "white",
            "gridwidth": 2,
            "linecolor": "white",
            "showbackground": true,
            "ticks": "",
            "zerolinecolor": "white"
           },
           "zaxis": {
            "backgroundcolor": "#E5ECF6",
            "gridcolor": "white",
            "gridwidth": 2,
            "linecolor": "white",
            "showbackground": true,
            "ticks": "",
            "zerolinecolor": "white"
           }
          },
          "shapedefaults": {
           "line": {
            "color": "#2a3f5f"
           }
          },
          "ternary": {
           "aaxis": {
            "gridcolor": "white",
            "linecolor": "white",
            "ticks": ""
           },
           "baxis": {
            "gridcolor": "white",
            "linecolor": "white",
            "ticks": ""
           },
           "bgcolor": "#E5ECF6",
           "caxis": {
            "gridcolor": "white",
            "linecolor": "white",
            "ticks": ""
           }
          },
          "title": {
           "x": 0.05
          },
          "xaxis": {
           "automargin": true,
           "gridcolor": "white",
           "linecolor": "white",
           "ticks": "",
           "title": {
            "standoff": 15
           },
           "zerolinecolor": "white",
           "zerolinewidth": 2
          },
          "yaxis": {
           "automargin": true,
           "gridcolor": "white",
           "linecolor": "white",
           "ticks": "",
           "title": {
            "standoff": 15
           },
           "zerolinecolor": "white",
           "zerolinewidth": 2
          }
         }
        },
        "xaxis": {
         "anchor": "y",
         "constrain": "domain",
         "domain": [
          0,
          1
         ],
         "scaleanchor": "y",
         "side": "top"
        },
        "yaxis": {
         "anchor": "x",
         "autorange": "reversed",
         "constrain": "domain",
         "domain": [
          0,
          1
         ]
        }
       }
      }
     },
     "metadata": {},
     "output_type": "display_data"
    }
   ],
   "source": [
    "corr_df = data[numeric_columns].corr(method=\"pearson\")\n",
    "\n",
    "fig = px.imshow(\n",
    "    corr_df.values,\n",
    "    x=numeric_columns,\n",
    "    y=numeric_columns,\n",
    ")\n",
    "fig.update_xaxes(side=\"top\")\n",
    "fig.show()"
   ]
  },
  {
   "cell_type": "code",
   "execution_count": null,
   "metadata": {},
   "outputs": [],
   "source": []
  },
  {
   "cell_type": "code",
   "execution_count": null,
   "metadata": {},
   "outputs": [],
   "source": []
  },
  {
   "cell_type": "code",
   "execution_count": null,
   "metadata": {},
   "outputs": [],
   "source": []
  },
  {
   "cell_type": "code",
   "execution_count": null,
   "metadata": {},
   "outputs": [],
   "source": []
  },
  {
   "cell_type": "markdown",
   "metadata": {},
   "source": [
    "## **3. Preparing to Train Models**"
   ]
  },
  {
   "cell_type": "markdown",
   "metadata": {},
   "source": [
    "Splitting into train and validation sets (75–25 split)"
   ]
  },
  {
   "cell_type": "code",
   "execution_count": 37,
   "metadata": {},
   "outputs": [
    {
     "name": "stdout",
     "output_type": "stream",
     "text": [
      "Fecha de inicio de train 2010-02-05 00:00:00\n",
      "Fecha de fin de train 2012-10-26 00:00:00\n"
     ]
    }
   ],
   "source": [
    "print(\"Fecha de inicio de train\", train_df[\"Date\"].min())\n",
    "print(\"Fecha de fin de train\",train_df[\"Date\"].max())\n"
   ]
  },
  {
   "cell_type": "code",
   "execution_count": 38,
   "metadata": {},
   "outputs": [
    {
     "name": "stdout",
     "output_type": "stream",
     "text": [
      "Fecha de inicio de test 2012-11-02 00:00:00\n",
      "Fecha de fin de test 2013-07-26 00:00:00\n"
     ]
    }
   ],
   "source": [
    "print(\"Fecha de inicio de test\", test_df[\"Date\"].min())\n",
    "print(\"Fecha de fin de test\",test_df[\"Date\"].max())"
   ]
  },
  {
   "cell_type": "code",
   "execution_count": 39,
   "metadata": {},
   "outputs": [],
   "source": [
    "# train_data = data[ data[\"Date\"] <=  \"2012-10-26\"]\n",
    "# test_df = data[ data[\"Date\"] >  \"2012-10-26\"]\n"
   ]
  },
  {
   "cell_type": "code",
   "execution_count": 40,
   "metadata": {},
   "outputs": [],
   "source": [
    "# train_size = int(.75 * len(train_data))\n",
    "# train_df, val_df = train_data[:train_size], train_data[train_size:]"
   ]
  },
  {
   "cell_type": "markdown",
   "metadata": {},
   "source": [
    "Identifying numeric and categorical columns"
   ]
  },
  {
   "cell_type": "code",
   "execution_count": 41,
   "metadata": {},
   "outputs": [],
   "source": [
    "# train_df.info()"
   ]
  },
  {
   "cell_type": "code",
   "execution_count": 42,
   "metadata": {},
   "outputs": [],
   "source": [
    "# def num_cat_cols(data):\n",
    "#     numeric_cols = data.select_dtypes(include=['int64', 'int32','UInt32', 'float64']).columns.tolist()\n",
    "#     categorical_cols = data.select_dtypes('object').columns.tolist()\n",
    "#     return numeric_cols, categorical_cols"
   ]
  },
  {
   "cell_type": "code",
   "execution_count": 43,
   "metadata": {},
   "outputs": [],
   "source": [
    "# numeric_cols, categorical_cols  = num_cat_cols(train_df)\n",
    "# display(numeric_cols)\n",
    "# display(categorical_cols)"
   ]
  },
  {
   "cell_type": "code",
   "execution_count": 44,
   "metadata": {},
   "outputs": [
    {
     "ename": "NameError",
     "evalue": "name 'numeric_cols' is not defined",
     "output_type": "error",
     "traceback": [
      "\u001b[1;31m---------------------------------------------------------------------------\u001b[0m",
      "\u001b[1;31mNameError\u001b[0m                                 Traceback (most recent call last)",
      "Cell \u001b[1;32mIn[44], line 1\u001b[0m\n\u001b[1;32m----> 1\u001b[0m input_cols \u001b[38;5;241m=\u001b[39m \u001b[43mnumeric_cols\u001b[49m \u001b[38;5;241m+\u001b[39m categorical_cols\n\u001b[0;32m      2\u001b[0m target_col \u001b[38;5;241m=\u001b[39m [\u001b[38;5;124m'\u001b[39m\u001b[38;5;124mWeekly_Sales\u001b[39m\u001b[38;5;124m'\u001b[39m]\n",
      "\u001b[1;31mNameError\u001b[0m: name 'numeric_cols' is not defined"
     ]
    }
   ],
   "source": [
    "input_cols = numeric_cols + categorical_cols\n",
    "target_col = ['Weekly_Sales']"
   ]
  },
  {
   "cell_type": "markdown",
   "metadata": {},
   "source": [
    "Imputation, Scaling, and Encoding"
   ]
  }
 ],
 "metadata": {
  "kernelspec": {
   "display_name": "Python 3",
   "language": "python",
   "name": "python3"
  },
  "language_info": {
   "codemirror_mode": {
    "name": "ipython",
    "version": 3
   },
   "file_extension": ".py",
   "mimetype": "text/x-python",
   "name": "python",
   "nbconvert_exporter": "python",
   "pygments_lexer": "ipython3",
   "version": "3.12.1"
  }
 },
 "nbformat": 4,
 "nbformat_minor": 2
}
