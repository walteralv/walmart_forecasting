{
 "cells": [
  {
   "cell_type": "code",
   "execution_count": 1,
   "metadata": {},
   "outputs": [],
   "source": [
    "import numpy as np\n",
    "import pandas as pd \n",
    "\n",
    "import matplotlib.pyplot as plt \n",
    "import plotly.io as pio\n",
    "import plotly.express as px\n",
    "import plotly.graph_objs as go\n",
    "from tqdm import tqdm\n",
    "\n",
    "import os \n",
    "from pathlib import Path\n",
    "import zipfile"
   ]
  },
  {
   "cell_type": "code",
   "execution_count": 2,
   "metadata": {},
   "outputs": [],
   "source": [
    "zip_path = \"./walmart-recruiting-store-sales-forecasting.zip\"\n",
    "extract_dir = \"./walmart_dataset\"\n",
    "\n",
    "def extract_dataset(zip_path: str, extract_dir: str):\n",
    "    if not os.path.exists(zip_path):\n",
    "        print(f\"El archivo {zip_path} no existe.\")\n",
    "        return None\n",
    "    if not os.path.exists(extract_dir):\n",
    "        print(f\"La carpeta de destino {extract_dir} no existe. Creando la carpeta... 🫡\")\n",
    "        os.makedirs(extract_dir, exist_ok=True)\n",
    "    with zipfile.ZipFile(zip_path, \"r\") as zip_ref:\n",
    "        zip_ref.extractall(extract_dir)\n",
    "    print(f\"Archivo extraído en: {extract_dir} 🫣\")"
   ]
  },
  {
   "cell_type": "code",
   "execution_count": 3,
   "metadata": {},
   "outputs": [],
   "source": [
    "# Para los archivos zip\n",
    "def download_dataset():\n",
    "    def format(df, columna_date):\n",
    "        df[columna_date] = pd.to_datetime(df[columna_date], yearfirst=True)\n",
    "        #df.set_index(columna_date, inplace=True)\n",
    "        df.sort_values(columna_date, ascending=True, inplace=True)\n",
    "        return df\n",
    "    try:\n",
    "        zip_path = \"./walmart-recruiting-store-sales-forecasting.zip\"\n",
    "        extract_dir = \"./walmart_dataset\"\n",
    "        extract_dataset(zip_path , extract_dir)\n",
    "        zip_path = \"./walmart_dataset/features.csv.zip\"\n",
    "        extract_dir = \"./walmart_dataset\"\n",
    "        extract_dataset(zip_path , extract_dir)\n",
    "        zip_path = \"./walmart_dataset/sampleSubmission.csv.zip\"\n",
    "        extract_dir = \"./walmart_dataset\"\n",
    "        extract_dataset(zip_path , extract_dir)\n",
    "        zip_path = \"./walmart_dataset/test.csv.zip\"\n",
    "        extract_dir = \"./walmart_dataset\"\n",
    "        extract_dataset(zip_path , extract_dir)\n",
    "        zip_path = \"./walmart_dataset/train.csv.zip\"\n",
    "        extract_dir = \"./walmart_dataset\"\n",
    "        extract_dataset(zip_path , extract_dir)\n",
    "\n",
    "        #Para dataframes\n",
    "        features_df = pd.read_csv(\"./walmart_dataset/features.csv\", date_format=False)\n",
    "        stores_df = pd.read_csv(\"./walmart_dataset/stores.csv\", date_format=False)\n",
    "        test_df = pd.read_csv(\"./walmart_dataset/test.csv\", date_format=False)\n",
    "        train_df = pd.read_csv(\"./walmart_dataset/train.csv\", date_format=False)\n",
    "        print(\"dataset descargado con éxito :)\")\n",
    "        train_df = format(train_df, \"Date\")\n",
    "        test_df = format(test_df, \"Date\")\n",
    "        features_df = format(features_df, \"Date\")\n",
    "        print(\"dataset formateado :)\")\n",
    "        return features_df, stores_df, test_df, train_df\n",
    "    except Exception as e:\n",
    "        print(\"no s epudo descargar :(\")\n",
    "        return None, None, None, None"
   ]
  },
  {
   "cell_type": "code",
   "execution_count": 4,
   "metadata": {},
   "outputs": [
    {
     "name": "stdout",
     "output_type": "stream",
     "text": [
      "Archivo extraído en: ./walmart_dataset 🫣\n",
      "Archivo extraído en: ./walmart_dataset 🫣\n",
      "Archivo extraído en: ./walmart_dataset 🫣\n",
      "Archivo extraído en: ./walmart_dataset 🫣\n",
      "Archivo extraído en: ./walmart_dataset 🫣\n",
      "dataset descargado con éxito :)\n",
      "dataset formateado :)\n"
     ]
    }
   ],
   "source": [
    "features_df, stores_df, test_df, train_df = download_dataset()"
   ]
  }
 ],
 "metadata": {
  "kernelspec": {
   "display_name": "Python 3",
   "language": "python",
   "name": "python3"
  },
  "language_info": {
   "codemirror_mode": {
    "name": "ipython",
    "version": 3
   },
   "file_extension": ".py",
   "mimetype": "text/x-python",
   "name": "python",
   "nbconvert_exporter": "python",
   "pygments_lexer": "ipython3",
   "version": "3.12.1"
  }
 },
 "nbformat": 4,
 "nbformat_minor": 2
}
