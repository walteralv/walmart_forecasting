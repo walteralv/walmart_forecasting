{
 "cells": [
  {
   "cell_type": "code",
   "execution_count": 2,
   "metadata": {},
   "outputs": [],
   "source": [
    "import numpy as np\n",
    "import pandas as pd \n",
    "\n",
    "import matplotlib.pyplot as plt \n",
    "import plotly.io as pio\n",
    "import plotly.express as px\n",
    "import plotly.graph_objs as go\n",
    "from tqdm import tqdm\n",
    "\n",
    "import os \n",
    "from pathlib import Path\n",
    "import zipfile"
   ]
  },
  {
   "cell_type": "code",
   "execution_count": 3,
   "metadata": {},
   "outputs": [],
   "source": [
    "import matplotlib.pyplot as plt\n",
    "from statsmodels.graphics.tsaplots import plot_acf, plot_pacf"
   ]
  },
  {
   "cell_type": "code",
   "execution_count": 4,
   "metadata": {},
   "outputs": [],
   "source": [
    "zip_path = \"./walmart-recruiting-store-sales-forecasting.zip\"\n",
    "extract_dir = \"./walmart_dataset\"\n",
    "\n",
    "def extract_dataset(zip_path: str, extract_dir: str):\n",
    "    if not os.path.exists(zip_path):\n",
    "        print(f\"El archivo {zip_path} no existe.\")\n",
    "        return None\n",
    "    if not os.path.exists(extract_dir):\n",
    "        print(f\"La carpeta de destino {extract_dir} no existe. Creando la carpeta... 🫡\")\n",
    "        os.makedirs(extract_dir, exist_ok=True)\n",
    "    with zipfile.ZipFile(zip_path, \"r\") as zip_ref:\n",
    "        zip_ref.extractall(extract_dir)\n",
    "    print(f\"Archivo extraído en: {extract_dir} 🫣\")"
   ]
  },
  {
   "cell_type": "code",
   "execution_count": 5,
   "metadata": {},
   "outputs": [],
   "source": [
    "# Para los archivos zip\n",
    "def download_dataset():\n",
    "    def format(df, columna_date):\n",
    "        df[columna_date] = pd.to_datetime(df[columna_date], yearfirst=True)\n",
    "        #df.set_index(columna_date, inplace=True)\n",
    "        df.sort_values(columna_date, ascending=True, inplace=True)\n",
    "        return df\n",
    "    try:\n",
    "        zip_path = \"./walmart-recruiting-store-sales-forecasting.zip\"\n",
    "        extract_dir = \"./walmart_dataset\"\n",
    "        extract_dataset(zip_path , extract_dir)\n",
    "        zip_path = \"./walmart_dataset/features.csv.zip\"\n",
    "        extract_dir = \"./walmart_dataset\"\n",
    "        extract_dataset(zip_path , extract_dir)\n",
    "        zip_path = \"./walmart_dataset/sampleSubmission.csv.zip\"\n",
    "        extract_dir = \"./walmart_dataset\"\n",
    "        extract_dataset(zip_path , extract_dir)\n",
    "        zip_path = \"./walmart_dataset/test.csv.zip\"\n",
    "        extract_dir = \"./walmart_dataset\"\n",
    "        extract_dataset(zip_path , extract_dir)\n",
    "        zip_path = \"./walmart_dataset/train.csv.zip\"\n",
    "        extract_dir = \"./walmart_dataset\"\n",
    "        extract_dataset(zip_path , extract_dir)\n",
    "\n",
    "        #Para dataframes\n",
    "        features_df = pd.read_csv(\"./walmart_dataset/features.csv\", date_format=False)\n",
    "        stores_df = pd.read_csv(\"./walmart_dataset/stores.csv\", date_format=False)\n",
    "        test_df = pd.read_csv(\"./walmart_dataset/test.csv\", date_format=False)\n",
    "        train_df = pd.read_csv(\"./walmart_dataset/train.csv\", date_format=False)\n",
    "        print(\"dataset descargado con éxito :)\")\n",
    "        train_df = format(train_df, \"Date\")\n",
    "        test_df = format(test_df, \"Date\")\n",
    "        features_df = format(features_df, \"Date\")\n",
    "        test_df[\"Weekly_Sales\"] = 0\n",
    "        print(\"dataset formateado :)\")\n",
    "        return features_df, stores_df, test_df, train_df\n",
    "    except Exception as e:\n",
    "        print(\"no s epudo descargar :(\")\n",
    "        return None, None, None, None"
   ]
  },
  {
   "cell_type": "code",
   "execution_count": 6,
   "metadata": {},
   "outputs": [
    {
     "name": "stdout",
     "output_type": "stream",
     "text": [
      "Archivo extraído en: ./walmart_dataset 🫣\n",
      "Archivo extraído en: ./walmart_dataset 🫣\n",
      "Archivo extraído en: ./walmart_dataset 🫣\n",
      "Archivo extraído en: ./walmart_dataset 🫣\n",
      "Archivo extraído en: ./walmart_dataset 🫣\n",
      "dataset descargado con éxito :)\n",
      "dataset formateado :)\n"
     ]
    }
   ],
   "source": [
    "features_df, stores_df, test_df, train_df = download_dataset()"
   ]
  },
  {
   "cell_type": "code",
   "execution_count": null,
   "metadata": {},
   "outputs": [],
   "source": []
  },
  {
   "cell_type": "code",
   "execution_count": 7,
   "metadata": {},
   "outputs": [],
   "source": [
    "def features_info():\n",
    "    display(\"Información de features: (^◕.◕^) 😼\")\n",
    "    display(features_df.info())\n",
    "    display(\"Información de stores: ( •̀ ω •́ )✧ 🫡\")\n",
    "    display(stores_df.info())\n",
    "    display(\"Información de train: ヾ(•ω•`)o 🥺\")\n",
    "    display(train_df.info())\n",
    "    display(\"Información de test: ╰(*°▽°*)╯ 🫣\")\n",
    "    display(test_df.info())\n",
    "    return \"all!\""
   ]
  },
  {
   "cell_type": "code",
   "execution_count": 8,
   "metadata": {},
   "outputs": [
    {
     "data": {
      "text/plain": [
       "'Información de features: (^◕.◕^) 😼'"
      ]
     },
     "metadata": {},
     "output_type": "display_data"
    },
    {
     "name": "stdout",
     "output_type": "stream",
     "text": [
      "<class 'pandas.core.frame.DataFrame'>\n",
      "Index: 8190 entries, 0 to 8189\n",
      "Data columns (total 12 columns):\n",
      " #   Column        Non-Null Count  Dtype         \n",
      "---  ------        --------------  -----         \n",
      " 0   Store         8190 non-null   int64         \n",
      " 1   Date          8190 non-null   datetime64[ns]\n",
      " 2   Temperature   8190 non-null   float64       \n",
      " 3   Fuel_Price    8190 non-null   float64       \n",
      " 4   MarkDown1     4032 non-null   float64       \n",
      " 5   MarkDown2     2921 non-null   float64       \n",
      " 6   MarkDown3     3613 non-null   float64       \n",
      " 7   MarkDown4     3464 non-null   float64       \n",
      " 8   MarkDown5     4050 non-null   float64       \n",
      " 9   CPI           7605 non-null   float64       \n",
      " 10  Unemployment  7605 non-null   float64       \n",
      " 11  IsHoliday     8190 non-null   bool          \n",
      "dtypes: bool(1), datetime64[ns](1), float64(9), int64(1)\n",
      "memory usage: 775.8 KB\n"
     ]
    },
    {
     "data": {
      "text/plain": [
       "None"
      ]
     },
     "metadata": {},
     "output_type": "display_data"
    },
    {
     "data": {
      "text/plain": [
       "'Información de stores: ( •̀ ω •́ )✧ 🫡'"
      ]
     },
     "metadata": {},
     "output_type": "display_data"
    },
    {
     "name": "stdout",
     "output_type": "stream",
     "text": [
      "<class 'pandas.core.frame.DataFrame'>\n",
      "RangeIndex: 45 entries, 0 to 44\n",
      "Data columns (total 3 columns):\n",
      " #   Column  Non-Null Count  Dtype \n",
      "---  ------  --------------  ----- \n",
      " 0   Store   45 non-null     int64 \n",
      " 1   Type    45 non-null     object\n",
      " 2   Size    45 non-null     int64 \n",
      "dtypes: int64(2), object(1)\n",
      "memory usage: 1.2+ KB\n"
     ]
    },
    {
     "data": {
      "text/plain": [
       "None"
      ]
     },
     "metadata": {},
     "output_type": "display_data"
    },
    {
     "data": {
      "text/plain": [
       "'Información de train: ヾ(•ω•`)o 🥺'"
      ]
     },
     "metadata": {},
     "output_type": "display_data"
    },
    {
     "name": "stdout",
     "output_type": "stream",
     "text": [
      "<class 'pandas.core.frame.DataFrame'>\n",
      "Index: 421570 entries, 0 to 421569\n",
      "Data columns (total 5 columns):\n",
      " #   Column        Non-Null Count   Dtype         \n",
      "---  ------        --------------   -----         \n",
      " 0   Store         421570 non-null  int64         \n",
      " 1   Dept          421570 non-null  int64         \n",
      " 2   Date          421570 non-null  datetime64[ns]\n",
      " 3   Weekly_Sales  421570 non-null  float64       \n",
      " 4   IsHoliday     421570 non-null  bool          \n",
      "dtypes: bool(1), datetime64[ns](1), float64(1), int64(2)\n",
      "memory usage: 16.5 MB\n"
     ]
    },
    {
     "data": {
      "text/plain": [
       "None"
      ]
     },
     "metadata": {},
     "output_type": "display_data"
    },
    {
     "data": {
      "text/plain": [
       "'Información de test: ╰(*°▽°*)╯ 🫣'"
      ]
     },
     "metadata": {},
     "output_type": "display_data"
    },
    {
     "name": "stdout",
     "output_type": "stream",
     "text": [
      "<class 'pandas.core.frame.DataFrame'>\n",
      "Index: 115064 entries, 0 to 115063\n",
      "Data columns (total 5 columns):\n",
      " #   Column        Non-Null Count   Dtype         \n",
      "---  ------        --------------   -----         \n",
      " 0   Store         115064 non-null  int64         \n",
      " 1   Dept          115064 non-null  int64         \n",
      " 2   Date          115064 non-null  datetime64[ns]\n",
      " 3   IsHoliday     115064 non-null  bool          \n",
      " 4   Weekly_Sales  115064 non-null  int64         \n",
      "dtypes: bool(1), datetime64[ns](1), int64(3)\n",
      "memory usage: 4.5 MB\n"
     ]
    },
    {
     "data": {
      "text/plain": [
       "None"
      ]
     },
     "metadata": {},
     "output_type": "display_data"
    },
    {
     "data": {
      "text/plain": [
       "'all!'"
      ]
     },
     "execution_count": 8,
     "metadata": {},
     "output_type": "execute_result"
    }
   ],
   "source": [
    "features_info()"
   ]
  },
  {
   "cell_type": "code",
   "execution_count": 9,
   "metadata": {},
   "outputs": [],
   "source": [
    "def merge_data():\n",
    "    data = pd.concat([train_df, test_df])\n",
    "    data = data.merge(stores_df, how=\"left\", on=\"Store\")\n",
    "    data = data.merge(features_df, how=\"left\", on= [\"Store\", \"Date\"])\n",
    "    data.sort_values(by=[\"Store\", \"Dept\", \"Date\"], ascending=True, inplace=True)\n",
    "    return data"
   ]
  },
  {
   "cell_type": "code",
   "execution_count": 10,
   "metadata": {},
   "outputs": [],
   "source": [
    "def view_data_horizon(data_df: pd.DataFrame, store: int= 1, dept: int= 0, target: str=\"Weekly_Sales\", back_horizon: int= 52):\n",
    "    plot_df = data_df[(data_df[\"Store\"] == 1) & (data_df[\"Dept\"] == 1)].copy()\n",
    "    plot_df[f\"lag_{back_horizon}_{target}\"] = plot_df.groupby([\"Store\", \"Dept\"])[target].shift(back_horizon)\n",
    "    plot_df.set_index(\"Date\", inplace=True)\n",
    "    plot_df.sort_values(\"Date\", ascending=True, inplace=True)\n",
    "    fig = px.line(\n",
    "        plot_df, \n",
    "        y=[f\"{target}\", f\"lag_{back_horizon}_{target}\"], \n",
    "        title=f\"{target} and Lag {back_horizon} Weeks\",\n",
    "    )\n",
    "    fig.show()\n",
    "    del plot_df"
   ]
  },
  {
   "cell_type": "code",
   "execution_count": 11,
   "metadata": {},
   "outputs": [
    {
     "data": {
      "application/vnd.plotly.v1+json": {
       "config": {
        "plotlyServerURL": "https://plot.ly"
       },
       "data": [
        {
         "hovertemplate": "variable=Weekly_Sales<br>Date=%{x}<br>value=%{y}<extra></extra>",
         "legendgroup": "Weekly_Sales",
         "line": {
          "color": "#636efa",
          "dash": "solid"
         },
         "marker": {
          "symbol": "circle"
         },
         "mode": "lines",
         "name": "Weekly_Sales",
         "orientation": "v",
         "showlegend": true,
         "type": "scatter",
         "x": [
          "2010-02-05T00:00:00",
          "2010-02-12T00:00:00",
          "2010-02-19T00:00:00",
          "2010-02-26T00:00:00",
          "2010-03-05T00:00:00",
          "2010-03-12T00:00:00",
          "2010-03-19T00:00:00",
          "2010-03-26T00:00:00",
          "2010-04-02T00:00:00",
          "2010-04-09T00:00:00",
          "2010-04-16T00:00:00",
          "2010-04-23T00:00:00",
          "2010-04-30T00:00:00",
          "2010-05-07T00:00:00",
          "2010-05-14T00:00:00",
          "2010-05-21T00:00:00",
          "2010-05-28T00:00:00",
          "2010-06-04T00:00:00",
          "2010-06-11T00:00:00",
          "2010-06-18T00:00:00",
          "2010-06-25T00:00:00",
          "2010-07-02T00:00:00",
          "2010-07-09T00:00:00",
          "2010-07-16T00:00:00",
          "2010-07-23T00:00:00",
          "2010-07-30T00:00:00",
          "2010-08-06T00:00:00",
          "2010-08-13T00:00:00",
          "2010-08-20T00:00:00",
          "2010-08-27T00:00:00",
          "2010-09-03T00:00:00",
          "2010-09-10T00:00:00",
          "2010-09-17T00:00:00",
          "2010-09-24T00:00:00",
          "2010-10-01T00:00:00",
          "2010-10-08T00:00:00",
          "2010-10-15T00:00:00",
          "2010-10-22T00:00:00",
          "2010-10-29T00:00:00",
          "2010-11-05T00:00:00",
          "2010-11-12T00:00:00",
          "2010-11-19T00:00:00",
          "2010-11-26T00:00:00",
          "2010-12-03T00:00:00",
          "2010-12-10T00:00:00",
          "2010-12-17T00:00:00",
          "2010-12-24T00:00:00",
          "2010-12-31T00:00:00",
          "2011-01-07T00:00:00",
          "2011-01-14T00:00:00",
          "2011-01-21T00:00:00",
          "2011-01-28T00:00:00",
          "2011-02-04T00:00:00",
          "2011-02-11T00:00:00",
          "2011-02-18T00:00:00",
          "2011-02-25T00:00:00",
          "2011-03-04T00:00:00",
          "2011-03-11T00:00:00",
          "2011-03-18T00:00:00",
          "2011-03-25T00:00:00",
          "2011-04-01T00:00:00",
          "2011-04-08T00:00:00",
          "2011-04-15T00:00:00",
          "2011-04-22T00:00:00",
          "2011-04-29T00:00:00",
          "2011-05-06T00:00:00",
          "2011-05-13T00:00:00",
          "2011-05-20T00:00:00",
          "2011-05-27T00:00:00",
          "2011-06-03T00:00:00",
          "2011-06-10T00:00:00",
          "2011-06-17T00:00:00",
          "2011-06-24T00:00:00",
          "2011-07-01T00:00:00",
          "2011-07-08T00:00:00",
          "2011-07-15T00:00:00",
          "2011-07-22T00:00:00",
          "2011-07-29T00:00:00",
          "2011-08-05T00:00:00",
          "2011-08-12T00:00:00",
          "2011-08-19T00:00:00",
          "2011-08-26T00:00:00",
          "2011-09-02T00:00:00",
          "2011-09-09T00:00:00",
          "2011-09-16T00:00:00",
          "2011-09-23T00:00:00",
          "2011-09-30T00:00:00",
          "2011-10-07T00:00:00",
          "2011-10-14T00:00:00",
          "2011-10-21T00:00:00",
          "2011-10-28T00:00:00",
          "2011-11-04T00:00:00",
          "2011-11-11T00:00:00",
          "2011-11-18T00:00:00",
          "2011-11-25T00:00:00",
          "2011-12-02T00:00:00",
          "2011-12-09T00:00:00",
          "2011-12-16T00:00:00",
          "2011-12-23T00:00:00",
          "2011-12-30T00:00:00",
          "2012-01-06T00:00:00",
          "2012-01-13T00:00:00",
          "2012-01-20T00:00:00",
          "2012-01-27T00:00:00",
          "2012-02-03T00:00:00",
          "2012-02-10T00:00:00",
          "2012-02-17T00:00:00",
          "2012-02-24T00:00:00",
          "2012-03-02T00:00:00",
          "2012-03-09T00:00:00",
          "2012-03-16T00:00:00",
          "2012-03-23T00:00:00",
          "2012-03-30T00:00:00",
          "2012-04-06T00:00:00",
          "2012-04-13T00:00:00",
          "2012-04-20T00:00:00",
          "2012-04-27T00:00:00",
          "2012-05-04T00:00:00",
          "2012-05-11T00:00:00",
          "2012-05-18T00:00:00",
          "2012-05-25T00:00:00",
          "2012-06-01T00:00:00",
          "2012-06-08T00:00:00",
          "2012-06-15T00:00:00",
          "2012-06-22T00:00:00",
          "2012-06-29T00:00:00",
          "2012-07-06T00:00:00",
          "2012-07-13T00:00:00",
          "2012-07-20T00:00:00",
          "2012-07-27T00:00:00",
          "2012-08-03T00:00:00",
          "2012-08-10T00:00:00",
          "2012-08-17T00:00:00",
          "2012-08-24T00:00:00",
          "2012-08-31T00:00:00",
          "2012-09-07T00:00:00",
          "2012-09-14T00:00:00",
          "2012-09-21T00:00:00",
          "2012-09-28T00:00:00",
          "2012-10-05T00:00:00",
          "2012-10-12T00:00:00",
          "2012-10-19T00:00:00",
          "2012-10-26T00:00:00"
         ],
         "xaxis": "x",
         "y": [
          24924.5,
          46039.49,
          41595.55,
          19403.54,
          21827.9,
          21043.39,
          22136.64,
          26229.21,
          57258.43,
          42960.91,
          17596.96,
          16145.35,
          16555.11,
          17413.94,
          18926.74,
          14773.04,
          15580.43,
          17558.09,
          16637.62,
          16216.27,
          16328.72,
          16333.14,
          17688.76,
          17150.84,
          15360.45,
          15381.82,
          17508.41,
          15536.4,
          15740.13,
          15793.87,
          16241.78,
          18194.74,
          19354.23,
          18122.52,
          20094.19,
          23388.03,
          26978.34,
          25543.04,
          38640.93,
          34238.88,
          19549.39,
          19552.84,
          18820.29,
          22517.56,
          31497.65,
          44912.86,
          55931.23,
          19124.58,
          15984.24,
          17359.7,
          17341.47,
          18461.18,
          21665.76,
          37887.17,
          46845.87,
          19363.83,
          20327.61,
          21280.4,
          20334.23,
          20881.1,
          20398.09,
          23873.79,
          28762.37,
          50510.31,
          41512.39,
          20138.19,
          17235.15,
          15136.78,
          15741.6,
          16434.15,
          15883.52,
          14978.09,
          15682.81,
          15363.5,
          16148.87,
          15654.85,
          15766.6,
          15922.41,
          15295.55,
          14539.79,
          14689.24,
          14537.37,
          15277.27,
          17746.68,
          18535.48,
          17859.3,
          18337.68,
          20797.58,
          23077.55,
          23351.8,
          31579.9,
          39886.06,
          18689.54,
          19050.66,
          20911.25,
          25293.49,
          33305.92,
          45773.03,
          46788.75,
          23350.88,
          16567.69,
          16894.4,
          18365.1,
          18378.16,
          23510.49,
          36988.49,
          54060.1,
          20124.22,
          20113.03,
          21140.07,
          22366.88,
          22107.7,
          28952.86,
          57592.12,
          34684.21,
          16976.19,
          16347.6,
          17147.44,
          18164.2,
          18517.79,
          16963.55,
          16065.49,
          17666,
          17558.82,
          16633.41,
          15722.82,
          17823.37,
          16566.18,
          16348.06,
          15731.18,
          16628.31,
          16119.92,
          17330.7,
          16286.4,
          16680.24,
          18322.37,
          19616.22,
          19251.5,
          18947.81,
          21904.47,
          22764.01,
          24185.27,
          27390.81
         ],
         "yaxis": "y"
        },
        {
         "hovertemplate": "variable=lag_52_Weekly_Sales<br>Date=%{x}<br>value=%{y}<extra></extra>",
         "legendgroup": "lag_52_Weekly_Sales",
         "line": {
          "color": "#EF553B",
          "dash": "solid"
         },
         "marker": {
          "symbol": "circle"
         },
         "mode": "lines",
         "name": "lag_52_Weekly_Sales",
         "orientation": "v",
         "showlegend": true,
         "type": "scatter",
         "x": [
          "2010-02-05T00:00:00",
          "2010-02-12T00:00:00",
          "2010-02-19T00:00:00",
          "2010-02-26T00:00:00",
          "2010-03-05T00:00:00",
          "2010-03-12T00:00:00",
          "2010-03-19T00:00:00",
          "2010-03-26T00:00:00",
          "2010-04-02T00:00:00",
          "2010-04-09T00:00:00",
          "2010-04-16T00:00:00",
          "2010-04-23T00:00:00",
          "2010-04-30T00:00:00",
          "2010-05-07T00:00:00",
          "2010-05-14T00:00:00",
          "2010-05-21T00:00:00",
          "2010-05-28T00:00:00",
          "2010-06-04T00:00:00",
          "2010-06-11T00:00:00",
          "2010-06-18T00:00:00",
          "2010-06-25T00:00:00",
          "2010-07-02T00:00:00",
          "2010-07-09T00:00:00",
          "2010-07-16T00:00:00",
          "2010-07-23T00:00:00",
          "2010-07-30T00:00:00",
          "2010-08-06T00:00:00",
          "2010-08-13T00:00:00",
          "2010-08-20T00:00:00",
          "2010-08-27T00:00:00",
          "2010-09-03T00:00:00",
          "2010-09-10T00:00:00",
          "2010-09-17T00:00:00",
          "2010-09-24T00:00:00",
          "2010-10-01T00:00:00",
          "2010-10-08T00:00:00",
          "2010-10-15T00:00:00",
          "2010-10-22T00:00:00",
          "2010-10-29T00:00:00",
          "2010-11-05T00:00:00",
          "2010-11-12T00:00:00",
          "2010-11-19T00:00:00",
          "2010-11-26T00:00:00",
          "2010-12-03T00:00:00",
          "2010-12-10T00:00:00",
          "2010-12-17T00:00:00",
          "2010-12-24T00:00:00",
          "2010-12-31T00:00:00",
          "2011-01-07T00:00:00",
          "2011-01-14T00:00:00",
          "2011-01-21T00:00:00",
          "2011-01-28T00:00:00",
          "2011-02-04T00:00:00",
          "2011-02-11T00:00:00",
          "2011-02-18T00:00:00",
          "2011-02-25T00:00:00",
          "2011-03-04T00:00:00",
          "2011-03-11T00:00:00",
          "2011-03-18T00:00:00",
          "2011-03-25T00:00:00",
          "2011-04-01T00:00:00",
          "2011-04-08T00:00:00",
          "2011-04-15T00:00:00",
          "2011-04-22T00:00:00",
          "2011-04-29T00:00:00",
          "2011-05-06T00:00:00",
          "2011-05-13T00:00:00",
          "2011-05-20T00:00:00",
          "2011-05-27T00:00:00",
          "2011-06-03T00:00:00",
          "2011-06-10T00:00:00",
          "2011-06-17T00:00:00",
          "2011-06-24T00:00:00",
          "2011-07-01T00:00:00",
          "2011-07-08T00:00:00",
          "2011-07-15T00:00:00",
          "2011-07-22T00:00:00",
          "2011-07-29T00:00:00",
          "2011-08-05T00:00:00",
          "2011-08-12T00:00:00",
          "2011-08-19T00:00:00",
          "2011-08-26T00:00:00",
          "2011-09-02T00:00:00",
          "2011-09-09T00:00:00",
          "2011-09-16T00:00:00",
          "2011-09-23T00:00:00",
          "2011-09-30T00:00:00",
          "2011-10-07T00:00:00",
          "2011-10-14T00:00:00",
          "2011-10-21T00:00:00",
          "2011-10-28T00:00:00",
          "2011-11-04T00:00:00",
          "2011-11-11T00:00:00",
          "2011-11-18T00:00:00",
          "2011-11-25T00:00:00",
          "2011-12-02T00:00:00",
          "2011-12-09T00:00:00",
          "2011-12-16T00:00:00",
          "2011-12-23T00:00:00",
          "2011-12-30T00:00:00",
          "2012-01-06T00:00:00",
          "2012-01-13T00:00:00",
          "2012-01-20T00:00:00",
          "2012-01-27T00:00:00",
          "2012-02-03T00:00:00",
          "2012-02-10T00:00:00",
          "2012-02-17T00:00:00",
          "2012-02-24T00:00:00",
          "2012-03-02T00:00:00",
          "2012-03-09T00:00:00",
          "2012-03-16T00:00:00",
          "2012-03-23T00:00:00",
          "2012-03-30T00:00:00",
          "2012-04-06T00:00:00",
          "2012-04-13T00:00:00",
          "2012-04-20T00:00:00",
          "2012-04-27T00:00:00",
          "2012-05-04T00:00:00",
          "2012-05-11T00:00:00",
          "2012-05-18T00:00:00",
          "2012-05-25T00:00:00",
          "2012-06-01T00:00:00",
          "2012-06-08T00:00:00",
          "2012-06-15T00:00:00",
          "2012-06-22T00:00:00",
          "2012-06-29T00:00:00",
          "2012-07-06T00:00:00",
          "2012-07-13T00:00:00",
          "2012-07-20T00:00:00",
          "2012-07-27T00:00:00",
          "2012-08-03T00:00:00",
          "2012-08-10T00:00:00",
          "2012-08-17T00:00:00",
          "2012-08-24T00:00:00",
          "2012-08-31T00:00:00",
          "2012-09-07T00:00:00",
          "2012-09-14T00:00:00",
          "2012-09-21T00:00:00",
          "2012-09-28T00:00:00",
          "2012-10-05T00:00:00",
          "2012-10-12T00:00:00",
          "2012-10-19T00:00:00",
          "2012-10-26T00:00:00"
         ],
         "xaxis": "x",
         "y": [
          null,
          null,
          null,
          null,
          null,
          null,
          null,
          null,
          null,
          null,
          null,
          null,
          null,
          null,
          null,
          null,
          null,
          null,
          null,
          null,
          null,
          null,
          null,
          null,
          null,
          null,
          null,
          null,
          null,
          null,
          null,
          null,
          null,
          null,
          null,
          null,
          null,
          null,
          null,
          null,
          null,
          null,
          null,
          null,
          null,
          null,
          null,
          null,
          null,
          null,
          null,
          null,
          24924.5,
          46039.49,
          41595.55,
          19403.54,
          21827.9,
          21043.39,
          22136.64,
          26229.21,
          57258.43,
          42960.91,
          17596.96,
          16145.35,
          16555.11,
          17413.94,
          18926.74,
          14773.04,
          15580.43,
          17558.09,
          16637.62,
          16216.27,
          16328.72,
          16333.14,
          17688.76,
          17150.84,
          15360.45,
          15381.82,
          17508.41,
          15536.4,
          15740.13,
          15793.87,
          16241.78,
          18194.74,
          19354.23,
          18122.52,
          20094.19,
          23388.03,
          26978.34,
          25543.04,
          38640.93,
          34238.88,
          19549.39,
          19552.84,
          18820.29,
          22517.56,
          31497.65,
          44912.86,
          55931.23,
          19124.58,
          15984.24,
          17359.7,
          17341.47,
          18461.18,
          21665.76,
          37887.17,
          46845.87,
          19363.83,
          20327.61,
          21280.4,
          20334.23,
          20881.1,
          20398.09,
          23873.79,
          28762.37,
          50510.31,
          41512.39,
          20138.19,
          17235.15,
          15136.78,
          15741.6,
          16434.15,
          15883.52,
          14978.09,
          15682.81,
          15363.5,
          16148.87,
          15654.85,
          15766.6,
          15922.41,
          15295.55,
          14539.79,
          14689.24,
          14537.37,
          15277.27,
          17746.68,
          18535.48,
          17859.3,
          18337.68,
          20797.58,
          23077.55,
          23351.8,
          31579.9
         ],
         "yaxis": "y"
        }
       ],
       "layout": {
        "legend": {
         "title": {
          "text": "variable"
         },
         "tracegroupgap": 0
        },
        "template": {
         "data": {
          "bar": [
           {
            "error_x": {
             "color": "#2a3f5f"
            },
            "error_y": {
             "color": "#2a3f5f"
            },
            "marker": {
             "line": {
              "color": "#E5ECF6",
              "width": 0.5
             },
             "pattern": {
              "fillmode": "overlay",
              "size": 10,
              "solidity": 0.2
             }
            },
            "type": "bar"
           }
          ],
          "barpolar": [
           {
            "marker": {
             "line": {
              "color": "#E5ECF6",
              "width": 0.5
             },
             "pattern": {
              "fillmode": "overlay",
              "size": 10,
              "solidity": 0.2
             }
            },
            "type": "barpolar"
           }
          ],
          "carpet": [
           {
            "aaxis": {
             "endlinecolor": "#2a3f5f",
             "gridcolor": "white",
             "linecolor": "white",
             "minorgridcolor": "white",
             "startlinecolor": "#2a3f5f"
            },
            "baxis": {
             "endlinecolor": "#2a3f5f",
             "gridcolor": "white",
             "linecolor": "white",
             "minorgridcolor": "white",
             "startlinecolor": "#2a3f5f"
            },
            "type": "carpet"
           }
          ],
          "choropleth": [
           {
            "colorbar": {
             "outlinewidth": 0,
             "ticks": ""
            },
            "type": "choropleth"
           }
          ],
          "contour": [
           {
            "colorbar": {
             "outlinewidth": 0,
             "ticks": ""
            },
            "colorscale": [
             [
              0,
              "#0d0887"
             ],
             [
              0.1111111111111111,
              "#46039f"
             ],
             [
              0.2222222222222222,
              "#7201a8"
             ],
             [
              0.3333333333333333,
              "#9c179e"
             ],
             [
              0.4444444444444444,
              "#bd3786"
             ],
             [
              0.5555555555555556,
              "#d8576b"
             ],
             [
              0.6666666666666666,
              "#ed7953"
             ],
             [
              0.7777777777777778,
              "#fb9f3a"
             ],
             [
              0.8888888888888888,
              "#fdca26"
             ],
             [
              1,
              "#f0f921"
             ]
            ],
            "type": "contour"
           }
          ],
          "contourcarpet": [
           {
            "colorbar": {
             "outlinewidth": 0,
             "ticks": ""
            },
            "type": "contourcarpet"
           }
          ],
          "heatmap": [
           {
            "colorbar": {
             "outlinewidth": 0,
             "ticks": ""
            },
            "colorscale": [
             [
              0,
              "#0d0887"
             ],
             [
              0.1111111111111111,
              "#46039f"
             ],
             [
              0.2222222222222222,
              "#7201a8"
             ],
             [
              0.3333333333333333,
              "#9c179e"
             ],
             [
              0.4444444444444444,
              "#bd3786"
             ],
             [
              0.5555555555555556,
              "#d8576b"
             ],
             [
              0.6666666666666666,
              "#ed7953"
             ],
             [
              0.7777777777777778,
              "#fb9f3a"
             ],
             [
              0.8888888888888888,
              "#fdca26"
             ],
             [
              1,
              "#f0f921"
             ]
            ],
            "type": "heatmap"
           }
          ],
          "heatmapgl": [
           {
            "colorbar": {
             "outlinewidth": 0,
             "ticks": ""
            },
            "colorscale": [
             [
              0,
              "#0d0887"
             ],
             [
              0.1111111111111111,
              "#46039f"
             ],
             [
              0.2222222222222222,
              "#7201a8"
             ],
             [
              0.3333333333333333,
              "#9c179e"
             ],
             [
              0.4444444444444444,
              "#bd3786"
             ],
             [
              0.5555555555555556,
              "#d8576b"
             ],
             [
              0.6666666666666666,
              "#ed7953"
             ],
             [
              0.7777777777777778,
              "#fb9f3a"
             ],
             [
              0.8888888888888888,
              "#fdca26"
             ],
             [
              1,
              "#f0f921"
             ]
            ],
            "type": "heatmapgl"
           }
          ],
          "histogram": [
           {
            "marker": {
             "pattern": {
              "fillmode": "overlay",
              "size": 10,
              "solidity": 0.2
             }
            },
            "type": "histogram"
           }
          ],
          "histogram2d": [
           {
            "colorbar": {
             "outlinewidth": 0,
             "ticks": ""
            },
            "colorscale": [
             [
              0,
              "#0d0887"
             ],
             [
              0.1111111111111111,
              "#46039f"
             ],
             [
              0.2222222222222222,
              "#7201a8"
             ],
             [
              0.3333333333333333,
              "#9c179e"
             ],
             [
              0.4444444444444444,
              "#bd3786"
             ],
             [
              0.5555555555555556,
              "#d8576b"
             ],
             [
              0.6666666666666666,
              "#ed7953"
             ],
             [
              0.7777777777777778,
              "#fb9f3a"
             ],
             [
              0.8888888888888888,
              "#fdca26"
             ],
             [
              1,
              "#f0f921"
             ]
            ],
            "type": "histogram2d"
           }
          ],
          "histogram2dcontour": [
           {
            "colorbar": {
             "outlinewidth": 0,
             "ticks": ""
            },
            "colorscale": [
             [
              0,
              "#0d0887"
             ],
             [
              0.1111111111111111,
              "#46039f"
             ],
             [
              0.2222222222222222,
              "#7201a8"
             ],
             [
              0.3333333333333333,
              "#9c179e"
             ],
             [
              0.4444444444444444,
              "#bd3786"
             ],
             [
              0.5555555555555556,
              "#d8576b"
             ],
             [
              0.6666666666666666,
              "#ed7953"
             ],
             [
              0.7777777777777778,
              "#fb9f3a"
             ],
             [
              0.8888888888888888,
              "#fdca26"
             ],
             [
              1,
              "#f0f921"
             ]
            ],
            "type": "histogram2dcontour"
           }
          ],
          "mesh3d": [
           {
            "colorbar": {
             "outlinewidth": 0,
             "ticks": ""
            },
            "type": "mesh3d"
           }
          ],
          "parcoords": [
           {
            "line": {
             "colorbar": {
              "outlinewidth": 0,
              "ticks": ""
             }
            },
            "type": "parcoords"
           }
          ],
          "pie": [
           {
            "automargin": true,
            "type": "pie"
           }
          ],
          "scatter": [
           {
            "fillpattern": {
             "fillmode": "overlay",
             "size": 10,
             "solidity": 0.2
            },
            "type": "scatter"
           }
          ],
          "scatter3d": [
           {
            "line": {
             "colorbar": {
              "outlinewidth": 0,
              "ticks": ""
             }
            },
            "marker": {
             "colorbar": {
              "outlinewidth": 0,
              "ticks": ""
             }
            },
            "type": "scatter3d"
           }
          ],
          "scattercarpet": [
           {
            "marker": {
             "colorbar": {
              "outlinewidth": 0,
              "ticks": ""
             }
            },
            "type": "scattercarpet"
           }
          ],
          "scattergeo": [
           {
            "marker": {
             "colorbar": {
              "outlinewidth": 0,
              "ticks": ""
             }
            },
            "type": "scattergeo"
           }
          ],
          "scattergl": [
           {
            "marker": {
             "colorbar": {
              "outlinewidth": 0,
              "ticks": ""
             }
            },
            "type": "scattergl"
           }
          ],
          "scattermapbox": [
           {
            "marker": {
             "colorbar": {
              "outlinewidth": 0,
              "ticks": ""
             }
            },
            "type": "scattermapbox"
           }
          ],
          "scatterpolar": [
           {
            "marker": {
             "colorbar": {
              "outlinewidth": 0,
              "ticks": ""
             }
            },
            "type": "scatterpolar"
           }
          ],
          "scatterpolargl": [
           {
            "marker": {
             "colorbar": {
              "outlinewidth": 0,
              "ticks": ""
             }
            },
            "type": "scatterpolargl"
           }
          ],
          "scatterternary": [
           {
            "marker": {
             "colorbar": {
              "outlinewidth": 0,
              "ticks": ""
             }
            },
            "type": "scatterternary"
           }
          ],
          "surface": [
           {
            "colorbar": {
             "outlinewidth": 0,
             "ticks": ""
            },
            "colorscale": [
             [
              0,
              "#0d0887"
             ],
             [
              0.1111111111111111,
              "#46039f"
             ],
             [
              0.2222222222222222,
              "#7201a8"
             ],
             [
              0.3333333333333333,
              "#9c179e"
             ],
             [
              0.4444444444444444,
              "#bd3786"
             ],
             [
              0.5555555555555556,
              "#d8576b"
             ],
             [
              0.6666666666666666,
              "#ed7953"
             ],
             [
              0.7777777777777778,
              "#fb9f3a"
             ],
             [
              0.8888888888888888,
              "#fdca26"
             ],
             [
              1,
              "#f0f921"
             ]
            ],
            "type": "surface"
           }
          ],
          "table": [
           {
            "cells": {
             "fill": {
              "color": "#EBF0F8"
             },
             "line": {
              "color": "white"
             }
            },
            "header": {
             "fill": {
              "color": "#C8D4E3"
             },
             "line": {
              "color": "white"
             }
            },
            "type": "table"
           }
          ]
         },
         "layout": {
          "annotationdefaults": {
           "arrowcolor": "#2a3f5f",
           "arrowhead": 0,
           "arrowwidth": 1
          },
          "autotypenumbers": "strict",
          "coloraxis": {
           "colorbar": {
            "outlinewidth": 0,
            "ticks": ""
           }
          },
          "colorscale": {
           "diverging": [
            [
             0,
             "#8e0152"
            ],
            [
             0.1,
             "#c51b7d"
            ],
            [
             0.2,
             "#de77ae"
            ],
            [
             0.3,
             "#f1b6da"
            ],
            [
             0.4,
             "#fde0ef"
            ],
            [
             0.5,
             "#f7f7f7"
            ],
            [
             0.6,
             "#e6f5d0"
            ],
            [
             0.7,
             "#b8e186"
            ],
            [
             0.8,
             "#7fbc41"
            ],
            [
             0.9,
             "#4d9221"
            ],
            [
             1,
             "#276419"
            ]
           ],
           "sequential": [
            [
             0,
             "#0d0887"
            ],
            [
             0.1111111111111111,
             "#46039f"
            ],
            [
             0.2222222222222222,
             "#7201a8"
            ],
            [
             0.3333333333333333,
             "#9c179e"
            ],
            [
             0.4444444444444444,
             "#bd3786"
            ],
            [
             0.5555555555555556,
             "#d8576b"
            ],
            [
             0.6666666666666666,
             "#ed7953"
            ],
            [
             0.7777777777777778,
             "#fb9f3a"
            ],
            [
             0.8888888888888888,
             "#fdca26"
            ],
            [
             1,
             "#f0f921"
            ]
           ],
           "sequentialminus": [
            [
             0,
             "#0d0887"
            ],
            [
             0.1111111111111111,
             "#46039f"
            ],
            [
             0.2222222222222222,
             "#7201a8"
            ],
            [
             0.3333333333333333,
             "#9c179e"
            ],
            [
             0.4444444444444444,
             "#bd3786"
            ],
            [
             0.5555555555555556,
             "#d8576b"
            ],
            [
             0.6666666666666666,
             "#ed7953"
            ],
            [
             0.7777777777777778,
             "#fb9f3a"
            ],
            [
             0.8888888888888888,
             "#fdca26"
            ],
            [
             1,
             "#f0f921"
            ]
           ]
          },
          "colorway": [
           "#636efa",
           "#EF553B",
           "#00cc96",
           "#ab63fa",
           "#FFA15A",
           "#19d3f3",
           "#FF6692",
           "#B6E880",
           "#FF97FF",
           "#FECB52"
          ],
          "font": {
           "color": "#2a3f5f"
          },
          "geo": {
           "bgcolor": "white",
           "lakecolor": "white",
           "landcolor": "#E5ECF6",
           "showlakes": true,
           "showland": true,
           "subunitcolor": "white"
          },
          "hoverlabel": {
           "align": "left"
          },
          "hovermode": "closest",
          "mapbox": {
           "style": "light"
          },
          "paper_bgcolor": "white",
          "plot_bgcolor": "#E5ECF6",
          "polar": {
           "angularaxis": {
            "gridcolor": "white",
            "linecolor": "white",
            "ticks": ""
           },
           "bgcolor": "#E5ECF6",
           "radialaxis": {
            "gridcolor": "white",
            "linecolor": "white",
            "ticks": ""
           }
          },
          "scene": {
           "xaxis": {
            "backgroundcolor": "#E5ECF6",
            "gridcolor": "white",
            "gridwidth": 2,
            "linecolor": "white",
            "showbackground": true,
            "ticks": "",
            "zerolinecolor": "white"
           },
           "yaxis": {
            "backgroundcolor": "#E5ECF6",
            "gridcolor": "white",
            "gridwidth": 2,
            "linecolor": "white",
            "showbackground": true,
            "ticks": "",
            "zerolinecolor": "white"
           },
           "zaxis": {
            "backgroundcolor": "#E5ECF6",
            "gridcolor": "white",
            "gridwidth": 2,
            "linecolor": "white",
            "showbackground": true,
            "ticks": "",
            "zerolinecolor": "white"
           }
          },
          "shapedefaults": {
           "line": {
            "color": "#2a3f5f"
           }
          },
          "ternary": {
           "aaxis": {
            "gridcolor": "white",
            "linecolor": "white",
            "ticks": ""
           },
           "baxis": {
            "gridcolor": "white",
            "linecolor": "white",
            "ticks": ""
           },
           "bgcolor": "#E5ECF6",
           "caxis": {
            "gridcolor": "white",
            "linecolor": "white",
            "ticks": ""
           }
          },
          "title": {
           "x": 0.05
          },
          "xaxis": {
           "automargin": true,
           "gridcolor": "white",
           "linecolor": "white",
           "ticks": "",
           "title": {
            "standoff": 15
           },
           "zerolinecolor": "white",
           "zerolinewidth": 2
          },
          "yaxis": {
           "automargin": true,
           "gridcolor": "white",
           "linecolor": "white",
           "ticks": "",
           "title": {
            "standoff": 15
           },
           "zerolinecolor": "white",
           "zerolinewidth": 2
          }
         }
        },
        "title": {
         "text": "Weekly_Sales and Lag 52 Weeks"
        },
        "xaxis": {
         "anchor": "y",
         "domain": [
          0,
          1
         ],
         "title": {
          "text": "Date"
         }
        },
        "yaxis": {
         "anchor": "x",
         "domain": [
          0,
          1
         ],
         "title": {
          "text": "value"
         }
        }
       }
      }
     },
     "metadata": {},
     "output_type": "display_data"
    }
   ],
   "source": [
    "view_data_horizon(train_df, target=\"Weekly_Sales\")"
   ]
  },
  {
   "cell_type": "code",
   "execution_count": 12,
   "metadata": {},
   "outputs": [
    {
     "data": {
      "text/html": [
       "<div>\n",
       "<style scoped>\n",
       "    .dataframe tbody tr th:only-of-type {\n",
       "        vertical-align: middle;\n",
       "    }\n",
       "\n",
       "    .dataframe tbody tr th {\n",
       "        vertical-align: top;\n",
       "    }\n",
       "\n",
       "    .dataframe thead th {\n",
       "        text-align: right;\n",
       "    }\n",
       "</style>\n",
       "<table border=\"1\" class=\"dataframe\">\n",
       "  <thead>\n",
       "    <tr style=\"text-align: right;\">\n",
       "      <th></th>\n",
       "      <th>Store</th>\n",
       "      <th>Dept</th>\n",
       "      <th>Date</th>\n",
       "      <th>Weekly_Sales</th>\n",
       "      <th>IsHoliday_x</th>\n",
       "      <th>Type</th>\n",
       "      <th>Size</th>\n",
       "      <th>Temperature</th>\n",
       "      <th>Fuel_Price</th>\n",
       "      <th>MarkDown1</th>\n",
       "      <th>MarkDown2</th>\n",
       "      <th>MarkDown3</th>\n",
       "      <th>MarkDown4</th>\n",
       "      <th>MarkDown5</th>\n",
       "      <th>CPI</th>\n",
       "      <th>Unemployment</th>\n",
       "      <th>IsHoliday_y</th>\n",
       "    </tr>\n",
       "  </thead>\n",
       "  <tbody>\n",
       "    <tr>\n",
       "      <th>0</th>\n",
       "      <td>1</td>\n",
       "      <td>1</td>\n",
       "      <td>2010-02-05</td>\n",
       "      <td>24924.50</td>\n",
       "      <td>False</td>\n",
       "      <td>A</td>\n",
       "      <td>151315</td>\n",
       "      <td>42.31</td>\n",
       "      <td>2.572</td>\n",
       "      <td>NaN</td>\n",
       "      <td>NaN</td>\n",
       "      <td>NaN</td>\n",
       "      <td>NaN</td>\n",
       "      <td>NaN</td>\n",
       "      <td>211.096358</td>\n",
       "      <td>8.106</td>\n",
       "      <td>False</td>\n",
       "    </tr>\n",
       "    <tr>\n",
       "      <th>5747</th>\n",
       "      <td>1</td>\n",
       "      <td>1</td>\n",
       "      <td>2010-02-12</td>\n",
       "      <td>46039.49</td>\n",
       "      <td>True</td>\n",
       "      <td>A</td>\n",
       "      <td>151315</td>\n",
       "      <td>38.51</td>\n",
       "      <td>2.548</td>\n",
       "      <td>NaN</td>\n",
       "      <td>NaN</td>\n",
       "      <td>NaN</td>\n",
       "      <td>NaN</td>\n",
       "      <td>NaN</td>\n",
       "      <td>211.242170</td>\n",
       "      <td>8.106</td>\n",
       "      <td>True</td>\n",
       "    </tr>\n",
       "    <tr>\n",
       "      <th>6829</th>\n",
       "      <td>1</td>\n",
       "      <td>1</td>\n",
       "      <td>2010-02-19</td>\n",
       "      <td>41595.55</td>\n",
       "      <td>False</td>\n",
       "      <td>A</td>\n",
       "      <td>151315</td>\n",
       "      <td>39.93</td>\n",
       "      <td>2.514</td>\n",
       "      <td>NaN</td>\n",
       "      <td>NaN</td>\n",
       "      <td>NaN</td>\n",
       "      <td>NaN</td>\n",
       "      <td>NaN</td>\n",
       "      <td>211.289143</td>\n",
       "      <td>8.106</td>\n",
       "      <td>False</td>\n",
       "    </tr>\n",
       "    <tr>\n",
       "      <th>11698</th>\n",
       "      <td>1</td>\n",
       "      <td>1</td>\n",
       "      <td>2010-02-26</td>\n",
       "      <td>19403.54</td>\n",
       "      <td>False</td>\n",
       "      <td>A</td>\n",
       "      <td>151315</td>\n",
       "      <td>46.63</td>\n",
       "      <td>2.561</td>\n",
       "      <td>NaN</td>\n",
       "      <td>NaN</td>\n",
       "      <td>NaN</td>\n",
       "      <td>NaN</td>\n",
       "      <td>NaN</td>\n",
       "      <td>211.319643</td>\n",
       "      <td>8.106</td>\n",
       "      <td>False</td>\n",
       "    </tr>\n",
       "    <tr>\n",
       "      <th>12681</th>\n",
       "      <td>1</td>\n",
       "      <td>1</td>\n",
       "      <td>2010-03-05</td>\n",
       "      <td>21827.90</td>\n",
       "      <td>False</td>\n",
       "      <td>A</td>\n",
       "      <td>151315</td>\n",
       "      <td>46.50</td>\n",
       "      <td>2.625</td>\n",
       "      <td>NaN</td>\n",
       "      <td>NaN</td>\n",
       "      <td>NaN</td>\n",
       "      <td>NaN</td>\n",
       "      <td>NaN</td>\n",
       "      <td>211.350143</td>\n",
       "      <td>8.106</td>\n",
       "      <td>False</td>\n",
       "    </tr>\n",
       "    <tr>\n",
       "      <th>...</th>\n",
       "      <td>...</td>\n",
       "      <td>...</td>\n",
       "      <td>...</td>\n",
       "      <td>...</td>\n",
       "      <td>...</td>\n",
       "      <td>...</td>\n",
       "      <td>...</td>\n",
       "      <td>...</td>\n",
       "      <td>...</td>\n",
       "      <td>...</td>\n",
       "      <td>...</td>\n",
       "      <td>...</td>\n",
       "      <td>...</td>\n",
       "      <td>...</td>\n",
       "      <td>...</td>\n",
       "      <td>...</td>\n",
       "      <td>...</td>\n",
       "    </tr>\n",
       "    <tr>\n",
       "      <th>523896</th>\n",
       "      <td>45</td>\n",
       "      <td>98</td>\n",
       "      <td>2013-06-28</td>\n",
       "      <td>0.00</td>\n",
       "      <td>False</td>\n",
       "      <td>B</td>\n",
       "      <td>118221</td>\n",
       "      <td>76.05</td>\n",
       "      <td>3.639</td>\n",
       "      <td>4842.29</td>\n",
       "      <td>975.03</td>\n",
       "      <td>3.00</td>\n",
       "      <td>2449.97</td>\n",
       "      <td>3169.69</td>\n",
       "      <td>NaN</td>\n",
       "      <td>NaN</td>\n",
       "      <td>False</td>\n",
       "    </tr>\n",
       "    <tr>\n",
       "      <th>525567</th>\n",
       "      <td>45</td>\n",
       "      <td>98</td>\n",
       "      <td>2013-07-05</td>\n",
       "      <td>0.00</td>\n",
       "      <td>False</td>\n",
       "      <td>B</td>\n",
       "      <td>118221</td>\n",
       "      <td>77.50</td>\n",
       "      <td>3.614</td>\n",
       "      <td>9090.48</td>\n",
       "      <td>2268.58</td>\n",
       "      <td>582.74</td>\n",
       "      <td>5797.47</td>\n",
       "      <td>1514.93</td>\n",
       "      <td>NaN</td>\n",
       "      <td>NaN</td>\n",
       "      <td>False</td>\n",
       "    </tr>\n",
       "    <tr>\n",
       "      <th>527978</th>\n",
       "      <td>45</td>\n",
       "      <td>98</td>\n",
       "      <td>2013-07-12</td>\n",
       "      <td>0.00</td>\n",
       "      <td>False</td>\n",
       "      <td>B</td>\n",
       "      <td>118221</td>\n",
       "      <td>79.37</td>\n",
       "      <td>3.614</td>\n",
       "      <td>3789.94</td>\n",
       "      <td>1827.31</td>\n",
       "      <td>85.72</td>\n",
       "      <td>744.84</td>\n",
       "      <td>2150.36</td>\n",
       "      <td>NaN</td>\n",
       "      <td>NaN</td>\n",
       "      <td>False</td>\n",
       "    </tr>\n",
       "    <tr>\n",
       "      <th>532235</th>\n",
       "      <td>45</td>\n",
       "      <td>98</td>\n",
       "      <td>2013-07-19</td>\n",
       "      <td>0.00</td>\n",
       "      <td>False</td>\n",
       "      <td>B</td>\n",
       "      <td>118221</td>\n",
       "      <td>82.84</td>\n",
       "      <td>3.737</td>\n",
       "      <td>2961.49</td>\n",
       "      <td>1047.07</td>\n",
       "      <td>204.19</td>\n",
       "      <td>363.00</td>\n",
       "      <td>1059.46</td>\n",
       "      <td>NaN</td>\n",
       "      <td>NaN</td>\n",
       "      <td>False</td>\n",
       "    </tr>\n",
       "    <tr>\n",
       "      <th>536633</th>\n",
       "      <td>45</td>\n",
       "      <td>98</td>\n",
       "      <td>2013-07-26</td>\n",
       "      <td>0.00</td>\n",
       "      <td>False</td>\n",
       "      <td>B</td>\n",
       "      <td>118221</td>\n",
       "      <td>76.06</td>\n",
       "      <td>3.804</td>\n",
       "      <td>212.02</td>\n",
       "      <td>851.73</td>\n",
       "      <td>2.06</td>\n",
       "      <td>10.88</td>\n",
       "      <td>1864.57</td>\n",
       "      <td>NaN</td>\n",
       "      <td>NaN</td>\n",
       "      <td>False</td>\n",
       "    </tr>\n",
       "  </tbody>\n",
       "</table>\n",
       "<p>536634 rows × 17 columns</p>\n",
       "</div>"
      ],
      "text/plain": [
       "        Store  Dept       Date  Weekly_Sales  IsHoliday_x Type    Size  \\\n",
       "0           1     1 2010-02-05      24924.50        False    A  151315   \n",
       "5747        1     1 2010-02-12      46039.49         True    A  151315   \n",
       "6829        1     1 2010-02-19      41595.55        False    A  151315   \n",
       "11698       1     1 2010-02-26      19403.54        False    A  151315   \n",
       "12681       1     1 2010-03-05      21827.90        False    A  151315   \n",
       "...       ...   ...        ...           ...          ...  ...     ...   \n",
       "523896     45    98 2013-06-28          0.00        False    B  118221   \n",
       "525567     45    98 2013-07-05          0.00        False    B  118221   \n",
       "527978     45    98 2013-07-12          0.00        False    B  118221   \n",
       "532235     45    98 2013-07-19          0.00        False    B  118221   \n",
       "536633     45    98 2013-07-26          0.00        False    B  118221   \n",
       "\n",
       "        Temperature  Fuel_Price  MarkDown1  MarkDown2  MarkDown3  MarkDown4  \\\n",
       "0             42.31       2.572        NaN        NaN        NaN        NaN   \n",
       "5747          38.51       2.548        NaN        NaN        NaN        NaN   \n",
       "6829          39.93       2.514        NaN        NaN        NaN        NaN   \n",
       "11698         46.63       2.561        NaN        NaN        NaN        NaN   \n",
       "12681         46.50       2.625        NaN        NaN        NaN        NaN   \n",
       "...             ...         ...        ...        ...        ...        ...   \n",
       "523896        76.05       3.639    4842.29     975.03       3.00    2449.97   \n",
       "525567        77.50       3.614    9090.48    2268.58     582.74    5797.47   \n",
       "527978        79.37       3.614    3789.94    1827.31      85.72     744.84   \n",
       "532235        82.84       3.737    2961.49    1047.07     204.19     363.00   \n",
       "536633        76.06       3.804     212.02     851.73       2.06      10.88   \n",
       "\n",
       "        MarkDown5         CPI  Unemployment  IsHoliday_y  \n",
       "0             NaN  211.096358         8.106        False  \n",
       "5747          NaN  211.242170         8.106         True  \n",
       "6829          NaN  211.289143         8.106        False  \n",
       "11698         NaN  211.319643         8.106        False  \n",
       "12681         NaN  211.350143         8.106        False  \n",
       "...           ...         ...           ...          ...  \n",
       "523896    3169.69         NaN           NaN        False  \n",
       "525567    1514.93         NaN           NaN        False  \n",
       "527978    2150.36         NaN           NaN        False  \n",
       "532235    1059.46         NaN           NaN        False  \n",
       "536633    1864.57         NaN           NaN        False  \n",
       "\n",
       "[536634 rows x 17 columns]"
      ]
     },
     "execution_count": 12,
     "metadata": {},
     "output_type": "execute_result"
    }
   ],
   "source": [
    "data = merge_data()\n",
    "data"
   ]
  },
  {
   "cell_type": "code",
   "execution_count": 13,
   "metadata": {},
   "outputs": [
    {
     "data": {
      "application/vnd.plotly.v1+json": {
       "config": {
        "plotlyServerURL": "https://plot.ly"
       },
       "data": [
        {
         "hovertemplate": "variable=Unemployment<br>Date=%{x}<br>value=%{y}<extra></extra>",
         "legendgroup": "Unemployment",
         "line": {
          "color": "#636efa",
          "dash": "solid"
         },
         "marker": {
          "symbol": "circle"
         },
         "mode": "lines",
         "name": "Unemployment",
         "orientation": "v",
         "showlegend": true,
         "type": "scatter",
         "x": [
          "2010-02-05T00:00:00",
          "2010-02-12T00:00:00",
          "2010-02-19T00:00:00",
          "2010-02-26T00:00:00",
          "2010-03-05T00:00:00",
          "2010-03-12T00:00:00",
          "2010-03-19T00:00:00",
          "2010-03-26T00:00:00",
          "2010-04-02T00:00:00",
          "2010-04-09T00:00:00",
          "2010-04-16T00:00:00",
          "2010-04-23T00:00:00",
          "2010-04-30T00:00:00",
          "2010-05-07T00:00:00",
          "2010-05-14T00:00:00",
          "2010-05-21T00:00:00",
          "2010-05-28T00:00:00",
          "2010-06-04T00:00:00",
          "2010-06-11T00:00:00",
          "2010-06-18T00:00:00",
          "2010-06-25T00:00:00",
          "2010-07-02T00:00:00",
          "2010-07-09T00:00:00",
          "2010-07-16T00:00:00",
          "2010-07-23T00:00:00",
          "2010-07-30T00:00:00",
          "2010-08-06T00:00:00",
          "2010-08-13T00:00:00",
          "2010-08-20T00:00:00",
          "2010-08-27T00:00:00",
          "2010-09-03T00:00:00",
          "2010-09-10T00:00:00",
          "2010-09-17T00:00:00",
          "2010-09-24T00:00:00",
          "2010-10-01T00:00:00",
          "2010-10-08T00:00:00",
          "2010-10-15T00:00:00",
          "2010-10-22T00:00:00",
          "2010-10-29T00:00:00",
          "2010-11-05T00:00:00",
          "2010-11-12T00:00:00",
          "2010-11-19T00:00:00",
          "2010-11-26T00:00:00",
          "2010-12-03T00:00:00",
          "2010-12-10T00:00:00",
          "2010-12-17T00:00:00",
          "2010-12-24T00:00:00",
          "2010-12-31T00:00:00",
          "2011-01-07T00:00:00",
          "2011-01-14T00:00:00",
          "2011-01-21T00:00:00",
          "2011-01-28T00:00:00",
          "2011-02-04T00:00:00",
          "2011-02-11T00:00:00",
          "2011-02-18T00:00:00",
          "2011-02-25T00:00:00",
          "2011-03-04T00:00:00",
          "2011-03-11T00:00:00",
          "2011-03-18T00:00:00",
          "2011-03-25T00:00:00",
          "2011-04-01T00:00:00",
          "2011-04-08T00:00:00",
          "2011-04-15T00:00:00",
          "2011-04-22T00:00:00",
          "2011-04-29T00:00:00",
          "2011-05-06T00:00:00",
          "2011-05-13T00:00:00",
          "2011-05-20T00:00:00",
          "2011-05-27T00:00:00",
          "2011-06-03T00:00:00",
          "2011-06-10T00:00:00",
          "2011-06-17T00:00:00",
          "2011-06-24T00:00:00",
          "2011-07-01T00:00:00",
          "2011-07-08T00:00:00",
          "2011-07-15T00:00:00",
          "2011-07-22T00:00:00",
          "2011-07-29T00:00:00",
          "2011-08-05T00:00:00",
          "2011-08-12T00:00:00",
          "2011-08-19T00:00:00",
          "2011-08-26T00:00:00",
          "2011-09-02T00:00:00",
          "2011-09-09T00:00:00",
          "2011-09-16T00:00:00",
          "2011-09-23T00:00:00",
          "2011-09-30T00:00:00",
          "2011-10-07T00:00:00",
          "2011-10-14T00:00:00",
          "2011-10-21T00:00:00",
          "2011-10-28T00:00:00",
          "2011-11-04T00:00:00",
          "2011-11-11T00:00:00",
          "2011-11-18T00:00:00",
          "2011-11-25T00:00:00",
          "2011-12-02T00:00:00",
          "2011-12-09T00:00:00",
          "2011-12-16T00:00:00",
          "2011-12-23T00:00:00",
          "2011-12-30T00:00:00",
          "2012-01-06T00:00:00",
          "2012-01-13T00:00:00",
          "2012-01-20T00:00:00",
          "2012-01-27T00:00:00",
          "2012-02-03T00:00:00",
          "2012-02-10T00:00:00",
          "2012-02-17T00:00:00",
          "2012-02-24T00:00:00",
          "2012-03-02T00:00:00",
          "2012-03-09T00:00:00",
          "2012-03-16T00:00:00",
          "2012-03-23T00:00:00",
          "2012-03-30T00:00:00",
          "2012-04-06T00:00:00",
          "2012-04-13T00:00:00",
          "2012-04-20T00:00:00",
          "2012-04-27T00:00:00",
          "2012-05-04T00:00:00",
          "2012-05-11T00:00:00",
          "2012-05-18T00:00:00",
          "2012-05-25T00:00:00",
          "2012-06-01T00:00:00",
          "2012-06-08T00:00:00",
          "2012-06-15T00:00:00",
          "2012-06-22T00:00:00",
          "2012-06-29T00:00:00",
          "2012-07-06T00:00:00",
          "2012-07-13T00:00:00",
          "2012-07-20T00:00:00",
          "2012-07-27T00:00:00",
          "2012-08-03T00:00:00",
          "2012-08-10T00:00:00",
          "2012-08-17T00:00:00",
          "2012-08-24T00:00:00",
          "2012-08-31T00:00:00",
          "2012-09-07T00:00:00",
          "2012-09-14T00:00:00",
          "2012-09-21T00:00:00",
          "2012-09-28T00:00:00",
          "2012-10-05T00:00:00",
          "2012-10-12T00:00:00",
          "2012-10-19T00:00:00",
          "2012-10-26T00:00:00",
          "2012-11-02T00:00:00",
          "2012-11-09T00:00:00",
          "2012-11-16T00:00:00",
          "2012-11-23T00:00:00",
          "2012-11-30T00:00:00",
          "2012-12-07T00:00:00",
          "2012-12-14T00:00:00",
          "2012-12-21T00:00:00",
          "2012-12-28T00:00:00",
          "2013-01-04T00:00:00",
          "2013-01-11T00:00:00",
          "2013-01-18T00:00:00",
          "2013-01-25T00:00:00",
          "2013-02-01T00:00:00",
          "2013-02-08T00:00:00",
          "2013-02-15T00:00:00",
          "2013-02-22T00:00:00",
          "2013-03-01T00:00:00",
          "2013-03-08T00:00:00",
          "2013-03-15T00:00:00",
          "2013-03-22T00:00:00",
          "2013-03-29T00:00:00",
          "2013-04-05T00:00:00",
          "2013-04-12T00:00:00",
          "2013-04-19T00:00:00",
          "2013-04-26T00:00:00",
          "2013-05-03T00:00:00",
          "2013-05-10T00:00:00",
          "2013-05-17T00:00:00",
          "2013-05-24T00:00:00",
          "2013-05-31T00:00:00",
          "2013-06-07T00:00:00",
          "2013-06-14T00:00:00",
          "2013-06-21T00:00:00",
          "2013-06-28T00:00:00",
          "2013-07-05T00:00:00",
          "2013-07-12T00:00:00",
          "2013-07-19T00:00:00",
          "2013-07-26T00:00:00"
         ],
         "xaxis": "x",
         "y": [
          8.106,
          8.106,
          8.106,
          8.106,
          8.106,
          8.106,
          8.106,
          8.106,
          7.808,
          7.808,
          7.808,
          7.808,
          7.808,
          7.808,
          7.808,
          7.808,
          7.808,
          7.808,
          7.808,
          7.808,
          7.808,
          7.787,
          7.787,
          7.787,
          7.787,
          7.787,
          7.787,
          7.787,
          7.787,
          7.787,
          7.787,
          7.787,
          7.787,
          7.787,
          7.838,
          7.838,
          7.838,
          7.838,
          7.838,
          7.838,
          7.838,
          7.838,
          7.838,
          7.838,
          7.838,
          7.838,
          7.838,
          7.838,
          7.742,
          7.742,
          7.742,
          7.742,
          7.742,
          7.742,
          7.742,
          7.742,
          7.742,
          7.742,
          7.742,
          7.742,
          7.682,
          7.682,
          7.682,
          7.682,
          7.682,
          7.682,
          7.682,
          7.682,
          7.682,
          7.682,
          7.682,
          7.682,
          7.682,
          7.962,
          7.962,
          7.962,
          7.962,
          7.962,
          7.962,
          7.962,
          7.962,
          7.962,
          7.962,
          7.962,
          7.962,
          7.962,
          7.962,
          7.866,
          7.866,
          7.866,
          7.866,
          7.866,
          7.866,
          7.866,
          7.866,
          7.866,
          7.866,
          7.866,
          7.866,
          7.866,
          7.348,
          7.348,
          7.348,
          7.348,
          7.348,
          7.348,
          7.348,
          7.348,
          7.348,
          7.348,
          7.348,
          7.348,
          7.348,
          7.143,
          7.143,
          7.143,
          7.143,
          7.143,
          7.143,
          7.143,
          7.143,
          7.143,
          7.143,
          7.143,
          7.143,
          7.143,
          6.908,
          6.908,
          6.908,
          6.908,
          6.908,
          6.908,
          6.908,
          6.908,
          6.908,
          6.908,
          6.908,
          6.908,
          6.908,
          6.573,
          6.573,
          6.573,
          6.573,
          6.573,
          6.573,
          6.573,
          6.573,
          6.573,
          6.573,
          6.573,
          6.573,
          6.573,
          6.525,
          6.525,
          6.525,
          6.525,
          6.525,
          6.525,
          6.525,
          6.525,
          6.525,
          6.525,
          6.525,
          6.525,
          6.525,
          6.314,
          6.314,
          6.314,
          6.314,
          null,
          null,
          null,
          null,
          null,
          null,
          null,
          null,
          null,
          null,
          null,
          null,
          null
         ],
         "yaxis": "y"
        },
        {
         "hovertemplate": "variable=lag_52_Unemployment<br>Date=%{x}<br>value=%{y}<extra></extra>",
         "legendgroup": "lag_52_Unemployment",
         "line": {
          "color": "#EF553B",
          "dash": "solid"
         },
         "marker": {
          "symbol": "circle"
         },
         "mode": "lines",
         "name": "lag_52_Unemployment",
         "orientation": "v",
         "showlegend": true,
         "type": "scatter",
         "x": [
          "2010-02-05T00:00:00",
          "2010-02-12T00:00:00",
          "2010-02-19T00:00:00",
          "2010-02-26T00:00:00",
          "2010-03-05T00:00:00",
          "2010-03-12T00:00:00",
          "2010-03-19T00:00:00",
          "2010-03-26T00:00:00",
          "2010-04-02T00:00:00",
          "2010-04-09T00:00:00",
          "2010-04-16T00:00:00",
          "2010-04-23T00:00:00",
          "2010-04-30T00:00:00",
          "2010-05-07T00:00:00",
          "2010-05-14T00:00:00",
          "2010-05-21T00:00:00",
          "2010-05-28T00:00:00",
          "2010-06-04T00:00:00",
          "2010-06-11T00:00:00",
          "2010-06-18T00:00:00",
          "2010-06-25T00:00:00",
          "2010-07-02T00:00:00",
          "2010-07-09T00:00:00",
          "2010-07-16T00:00:00",
          "2010-07-23T00:00:00",
          "2010-07-30T00:00:00",
          "2010-08-06T00:00:00",
          "2010-08-13T00:00:00",
          "2010-08-20T00:00:00",
          "2010-08-27T00:00:00",
          "2010-09-03T00:00:00",
          "2010-09-10T00:00:00",
          "2010-09-17T00:00:00",
          "2010-09-24T00:00:00",
          "2010-10-01T00:00:00",
          "2010-10-08T00:00:00",
          "2010-10-15T00:00:00",
          "2010-10-22T00:00:00",
          "2010-10-29T00:00:00",
          "2010-11-05T00:00:00",
          "2010-11-12T00:00:00",
          "2010-11-19T00:00:00",
          "2010-11-26T00:00:00",
          "2010-12-03T00:00:00",
          "2010-12-10T00:00:00",
          "2010-12-17T00:00:00",
          "2010-12-24T00:00:00",
          "2010-12-31T00:00:00",
          "2011-01-07T00:00:00",
          "2011-01-14T00:00:00",
          "2011-01-21T00:00:00",
          "2011-01-28T00:00:00",
          "2011-02-04T00:00:00",
          "2011-02-11T00:00:00",
          "2011-02-18T00:00:00",
          "2011-02-25T00:00:00",
          "2011-03-04T00:00:00",
          "2011-03-11T00:00:00",
          "2011-03-18T00:00:00",
          "2011-03-25T00:00:00",
          "2011-04-01T00:00:00",
          "2011-04-08T00:00:00",
          "2011-04-15T00:00:00",
          "2011-04-22T00:00:00",
          "2011-04-29T00:00:00",
          "2011-05-06T00:00:00",
          "2011-05-13T00:00:00",
          "2011-05-20T00:00:00",
          "2011-05-27T00:00:00",
          "2011-06-03T00:00:00",
          "2011-06-10T00:00:00",
          "2011-06-17T00:00:00",
          "2011-06-24T00:00:00",
          "2011-07-01T00:00:00",
          "2011-07-08T00:00:00",
          "2011-07-15T00:00:00",
          "2011-07-22T00:00:00",
          "2011-07-29T00:00:00",
          "2011-08-05T00:00:00",
          "2011-08-12T00:00:00",
          "2011-08-19T00:00:00",
          "2011-08-26T00:00:00",
          "2011-09-02T00:00:00",
          "2011-09-09T00:00:00",
          "2011-09-16T00:00:00",
          "2011-09-23T00:00:00",
          "2011-09-30T00:00:00",
          "2011-10-07T00:00:00",
          "2011-10-14T00:00:00",
          "2011-10-21T00:00:00",
          "2011-10-28T00:00:00",
          "2011-11-04T00:00:00",
          "2011-11-11T00:00:00",
          "2011-11-18T00:00:00",
          "2011-11-25T00:00:00",
          "2011-12-02T00:00:00",
          "2011-12-09T00:00:00",
          "2011-12-16T00:00:00",
          "2011-12-23T00:00:00",
          "2011-12-30T00:00:00",
          "2012-01-06T00:00:00",
          "2012-01-13T00:00:00",
          "2012-01-20T00:00:00",
          "2012-01-27T00:00:00",
          "2012-02-03T00:00:00",
          "2012-02-10T00:00:00",
          "2012-02-17T00:00:00",
          "2012-02-24T00:00:00",
          "2012-03-02T00:00:00",
          "2012-03-09T00:00:00",
          "2012-03-16T00:00:00",
          "2012-03-23T00:00:00",
          "2012-03-30T00:00:00",
          "2012-04-06T00:00:00",
          "2012-04-13T00:00:00",
          "2012-04-20T00:00:00",
          "2012-04-27T00:00:00",
          "2012-05-04T00:00:00",
          "2012-05-11T00:00:00",
          "2012-05-18T00:00:00",
          "2012-05-25T00:00:00",
          "2012-06-01T00:00:00",
          "2012-06-08T00:00:00",
          "2012-06-15T00:00:00",
          "2012-06-22T00:00:00",
          "2012-06-29T00:00:00",
          "2012-07-06T00:00:00",
          "2012-07-13T00:00:00",
          "2012-07-20T00:00:00",
          "2012-07-27T00:00:00",
          "2012-08-03T00:00:00",
          "2012-08-10T00:00:00",
          "2012-08-17T00:00:00",
          "2012-08-24T00:00:00",
          "2012-08-31T00:00:00",
          "2012-09-07T00:00:00",
          "2012-09-14T00:00:00",
          "2012-09-21T00:00:00",
          "2012-09-28T00:00:00",
          "2012-10-05T00:00:00",
          "2012-10-12T00:00:00",
          "2012-10-19T00:00:00",
          "2012-10-26T00:00:00",
          "2012-11-02T00:00:00",
          "2012-11-09T00:00:00",
          "2012-11-16T00:00:00",
          "2012-11-23T00:00:00",
          "2012-11-30T00:00:00",
          "2012-12-07T00:00:00",
          "2012-12-14T00:00:00",
          "2012-12-21T00:00:00",
          "2012-12-28T00:00:00",
          "2013-01-04T00:00:00",
          "2013-01-11T00:00:00",
          "2013-01-18T00:00:00",
          "2013-01-25T00:00:00",
          "2013-02-01T00:00:00",
          "2013-02-08T00:00:00",
          "2013-02-15T00:00:00",
          "2013-02-22T00:00:00",
          "2013-03-01T00:00:00",
          "2013-03-08T00:00:00",
          "2013-03-15T00:00:00",
          "2013-03-22T00:00:00",
          "2013-03-29T00:00:00",
          "2013-04-05T00:00:00",
          "2013-04-12T00:00:00",
          "2013-04-19T00:00:00",
          "2013-04-26T00:00:00",
          "2013-05-03T00:00:00",
          "2013-05-10T00:00:00",
          "2013-05-17T00:00:00",
          "2013-05-24T00:00:00",
          "2013-05-31T00:00:00",
          "2013-06-07T00:00:00",
          "2013-06-14T00:00:00",
          "2013-06-21T00:00:00",
          "2013-06-28T00:00:00",
          "2013-07-05T00:00:00",
          "2013-07-12T00:00:00",
          "2013-07-19T00:00:00",
          "2013-07-26T00:00:00"
         ],
         "xaxis": "x",
         "y": [
          null,
          null,
          null,
          null,
          null,
          null,
          null,
          null,
          null,
          null,
          null,
          null,
          null,
          null,
          null,
          null,
          null,
          null,
          null,
          null,
          null,
          null,
          null,
          null,
          null,
          null,
          null,
          null,
          null,
          null,
          null,
          null,
          null,
          null,
          null,
          null,
          null,
          null,
          null,
          null,
          null,
          null,
          null,
          null,
          null,
          null,
          null,
          null,
          null,
          null,
          null,
          null,
          8.106,
          8.106,
          8.106,
          8.106,
          8.106,
          8.106,
          8.106,
          8.106,
          7.808,
          7.808,
          7.808,
          7.808,
          7.808,
          7.808,
          7.808,
          7.808,
          7.808,
          7.808,
          7.808,
          7.808,
          7.808,
          7.787,
          7.787,
          7.787,
          7.787,
          7.787,
          7.787,
          7.787,
          7.787,
          7.787,
          7.787,
          7.787,
          7.787,
          7.787,
          7.838,
          7.838,
          7.838,
          7.838,
          7.838,
          7.838,
          7.838,
          7.838,
          7.838,
          7.838,
          7.838,
          7.838,
          7.838,
          7.838,
          7.742,
          7.742,
          7.742,
          7.742,
          7.742,
          7.742,
          7.742,
          7.742,
          7.742,
          7.742,
          7.742,
          7.742,
          7.682,
          7.682,
          7.682,
          7.682,
          7.682,
          7.682,
          7.682,
          7.682,
          7.682,
          7.682,
          7.682,
          7.682,
          7.682,
          7.962,
          7.962,
          7.962,
          7.962,
          7.962,
          7.962,
          7.962,
          7.962,
          7.962,
          7.962,
          7.962,
          7.962,
          7.962,
          7.962,
          7.866,
          7.866,
          7.866,
          7.866,
          7.866,
          7.866,
          7.866,
          7.866,
          7.866,
          7.866,
          7.866,
          7.866,
          7.866,
          7.348,
          7.348,
          7.348,
          7.348,
          7.348,
          7.348,
          7.348,
          7.348,
          7.348,
          7.348,
          7.348,
          7.348,
          7.348,
          7.143,
          7.143,
          7.143,
          7.143,
          7.143,
          7.143,
          7.143,
          7.143,
          7.143,
          7.143,
          7.143,
          7.143,
          7.143,
          6.908,
          6.908,
          6.908,
          6.908
         ],
         "yaxis": "y"
        }
       ],
       "layout": {
        "legend": {
         "title": {
          "text": "variable"
         },
         "tracegroupgap": 0
        },
        "template": {
         "data": {
          "bar": [
           {
            "error_x": {
             "color": "#2a3f5f"
            },
            "error_y": {
             "color": "#2a3f5f"
            },
            "marker": {
             "line": {
              "color": "#E5ECF6",
              "width": 0.5
             },
             "pattern": {
              "fillmode": "overlay",
              "size": 10,
              "solidity": 0.2
             }
            },
            "type": "bar"
           }
          ],
          "barpolar": [
           {
            "marker": {
             "line": {
              "color": "#E5ECF6",
              "width": 0.5
             },
             "pattern": {
              "fillmode": "overlay",
              "size": 10,
              "solidity": 0.2
             }
            },
            "type": "barpolar"
           }
          ],
          "carpet": [
           {
            "aaxis": {
             "endlinecolor": "#2a3f5f",
             "gridcolor": "white",
             "linecolor": "white",
             "minorgridcolor": "white",
             "startlinecolor": "#2a3f5f"
            },
            "baxis": {
             "endlinecolor": "#2a3f5f",
             "gridcolor": "white",
             "linecolor": "white",
             "minorgridcolor": "white",
             "startlinecolor": "#2a3f5f"
            },
            "type": "carpet"
           }
          ],
          "choropleth": [
           {
            "colorbar": {
             "outlinewidth": 0,
             "ticks": ""
            },
            "type": "choropleth"
           }
          ],
          "contour": [
           {
            "colorbar": {
             "outlinewidth": 0,
             "ticks": ""
            },
            "colorscale": [
             [
              0,
              "#0d0887"
             ],
             [
              0.1111111111111111,
              "#46039f"
             ],
             [
              0.2222222222222222,
              "#7201a8"
             ],
             [
              0.3333333333333333,
              "#9c179e"
             ],
             [
              0.4444444444444444,
              "#bd3786"
             ],
             [
              0.5555555555555556,
              "#d8576b"
             ],
             [
              0.6666666666666666,
              "#ed7953"
             ],
             [
              0.7777777777777778,
              "#fb9f3a"
             ],
             [
              0.8888888888888888,
              "#fdca26"
             ],
             [
              1,
              "#f0f921"
             ]
            ],
            "type": "contour"
           }
          ],
          "contourcarpet": [
           {
            "colorbar": {
             "outlinewidth": 0,
             "ticks": ""
            },
            "type": "contourcarpet"
           }
          ],
          "heatmap": [
           {
            "colorbar": {
             "outlinewidth": 0,
             "ticks": ""
            },
            "colorscale": [
             [
              0,
              "#0d0887"
             ],
             [
              0.1111111111111111,
              "#46039f"
             ],
             [
              0.2222222222222222,
              "#7201a8"
             ],
             [
              0.3333333333333333,
              "#9c179e"
             ],
             [
              0.4444444444444444,
              "#bd3786"
             ],
             [
              0.5555555555555556,
              "#d8576b"
             ],
             [
              0.6666666666666666,
              "#ed7953"
             ],
             [
              0.7777777777777778,
              "#fb9f3a"
             ],
             [
              0.8888888888888888,
              "#fdca26"
             ],
             [
              1,
              "#f0f921"
             ]
            ],
            "type": "heatmap"
           }
          ],
          "heatmapgl": [
           {
            "colorbar": {
             "outlinewidth": 0,
             "ticks": ""
            },
            "colorscale": [
             [
              0,
              "#0d0887"
             ],
             [
              0.1111111111111111,
              "#46039f"
             ],
             [
              0.2222222222222222,
              "#7201a8"
             ],
             [
              0.3333333333333333,
              "#9c179e"
             ],
             [
              0.4444444444444444,
              "#bd3786"
             ],
             [
              0.5555555555555556,
              "#d8576b"
             ],
             [
              0.6666666666666666,
              "#ed7953"
             ],
             [
              0.7777777777777778,
              "#fb9f3a"
             ],
             [
              0.8888888888888888,
              "#fdca26"
             ],
             [
              1,
              "#f0f921"
             ]
            ],
            "type": "heatmapgl"
           }
          ],
          "histogram": [
           {
            "marker": {
             "pattern": {
              "fillmode": "overlay",
              "size": 10,
              "solidity": 0.2
             }
            },
            "type": "histogram"
           }
          ],
          "histogram2d": [
           {
            "colorbar": {
             "outlinewidth": 0,
             "ticks": ""
            },
            "colorscale": [
             [
              0,
              "#0d0887"
             ],
             [
              0.1111111111111111,
              "#46039f"
             ],
             [
              0.2222222222222222,
              "#7201a8"
             ],
             [
              0.3333333333333333,
              "#9c179e"
             ],
             [
              0.4444444444444444,
              "#bd3786"
             ],
             [
              0.5555555555555556,
              "#d8576b"
             ],
             [
              0.6666666666666666,
              "#ed7953"
             ],
             [
              0.7777777777777778,
              "#fb9f3a"
             ],
             [
              0.8888888888888888,
              "#fdca26"
             ],
             [
              1,
              "#f0f921"
             ]
            ],
            "type": "histogram2d"
           }
          ],
          "histogram2dcontour": [
           {
            "colorbar": {
             "outlinewidth": 0,
             "ticks": ""
            },
            "colorscale": [
             [
              0,
              "#0d0887"
             ],
             [
              0.1111111111111111,
              "#46039f"
             ],
             [
              0.2222222222222222,
              "#7201a8"
             ],
             [
              0.3333333333333333,
              "#9c179e"
             ],
             [
              0.4444444444444444,
              "#bd3786"
             ],
             [
              0.5555555555555556,
              "#d8576b"
             ],
             [
              0.6666666666666666,
              "#ed7953"
             ],
             [
              0.7777777777777778,
              "#fb9f3a"
             ],
             [
              0.8888888888888888,
              "#fdca26"
             ],
             [
              1,
              "#f0f921"
             ]
            ],
            "type": "histogram2dcontour"
           }
          ],
          "mesh3d": [
           {
            "colorbar": {
             "outlinewidth": 0,
             "ticks": ""
            },
            "type": "mesh3d"
           }
          ],
          "parcoords": [
           {
            "line": {
             "colorbar": {
              "outlinewidth": 0,
              "ticks": ""
             }
            },
            "type": "parcoords"
           }
          ],
          "pie": [
           {
            "automargin": true,
            "type": "pie"
           }
          ],
          "scatter": [
           {
            "fillpattern": {
             "fillmode": "overlay",
             "size": 10,
             "solidity": 0.2
            },
            "type": "scatter"
           }
          ],
          "scatter3d": [
           {
            "line": {
             "colorbar": {
              "outlinewidth": 0,
              "ticks": ""
             }
            },
            "marker": {
             "colorbar": {
              "outlinewidth": 0,
              "ticks": ""
             }
            },
            "type": "scatter3d"
           }
          ],
          "scattercarpet": [
           {
            "marker": {
             "colorbar": {
              "outlinewidth": 0,
              "ticks": ""
             }
            },
            "type": "scattercarpet"
           }
          ],
          "scattergeo": [
           {
            "marker": {
             "colorbar": {
              "outlinewidth": 0,
              "ticks": ""
             }
            },
            "type": "scattergeo"
           }
          ],
          "scattergl": [
           {
            "marker": {
             "colorbar": {
              "outlinewidth": 0,
              "ticks": ""
             }
            },
            "type": "scattergl"
           }
          ],
          "scattermapbox": [
           {
            "marker": {
             "colorbar": {
              "outlinewidth": 0,
              "ticks": ""
             }
            },
            "type": "scattermapbox"
           }
          ],
          "scatterpolar": [
           {
            "marker": {
             "colorbar": {
              "outlinewidth": 0,
              "ticks": ""
             }
            },
            "type": "scatterpolar"
           }
          ],
          "scatterpolargl": [
           {
            "marker": {
             "colorbar": {
              "outlinewidth": 0,
              "ticks": ""
             }
            },
            "type": "scatterpolargl"
           }
          ],
          "scatterternary": [
           {
            "marker": {
             "colorbar": {
              "outlinewidth": 0,
              "ticks": ""
             }
            },
            "type": "scatterternary"
           }
          ],
          "surface": [
           {
            "colorbar": {
             "outlinewidth": 0,
             "ticks": ""
            },
            "colorscale": [
             [
              0,
              "#0d0887"
             ],
             [
              0.1111111111111111,
              "#46039f"
             ],
             [
              0.2222222222222222,
              "#7201a8"
             ],
             [
              0.3333333333333333,
              "#9c179e"
             ],
             [
              0.4444444444444444,
              "#bd3786"
             ],
             [
              0.5555555555555556,
              "#d8576b"
             ],
             [
              0.6666666666666666,
              "#ed7953"
             ],
             [
              0.7777777777777778,
              "#fb9f3a"
             ],
             [
              0.8888888888888888,
              "#fdca26"
             ],
             [
              1,
              "#f0f921"
             ]
            ],
            "type": "surface"
           }
          ],
          "table": [
           {
            "cells": {
             "fill": {
              "color": "#EBF0F8"
             },
             "line": {
              "color": "white"
             }
            },
            "header": {
             "fill": {
              "color": "#C8D4E3"
             },
             "line": {
              "color": "white"
             }
            },
            "type": "table"
           }
          ]
         },
         "layout": {
          "annotationdefaults": {
           "arrowcolor": "#2a3f5f",
           "arrowhead": 0,
           "arrowwidth": 1
          },
          "autotypenumbers": "strict",
          "coloraxis": {
           "colorbar": {
            "outlinewidth": 0,
            "ticks": ""
           }
          },
          "colorscale": {
           "diverging": [
            [
             0,
             "#8e0152"
            ],
            [
             0.1,
             "#c51b7d"
            ],
            [
             0.2,
             "#de77ae"
            ],
            [
             0.3,
             "#f1b6da"
            ],
            [
             0.4,
             "#fde0ef"
            ],
            [
             0.5,
             "#f7f7f7"
            ],
            [
             0.6,
             "#e6f5d0"
            ],
            [
             0.7,
             "#b8e186"
            ],
            [
             0.8,
             "#7fbc41"
            ],
            [
             0.9,
             "#4d9221"
            ],
            [
             1,
             "#276419"
            ]
           ],
           "sequential": [
            [
             0,
             "#0d0887"
            ],
            [
             0.1111111111111111,
             "#46039f"
            ],
            [
             0.2222222222222222,
             "#7201a8"
            ],
            [
             0.3333333333333333,
             "#9c179e"
            ],
            [
             0.4444444444444444,
             "#bd3786"
            ],
            [
             0.5555555555555556,
             "#d8576b"
            ],
            [
             0.6666666666666666,
             "#ed7953"
            ],
            [
             0.7777777777777778,
             "#fb9f3a"
            ],
            [
             0.8888888888888888,
             "#fdca26"
            ],
            [
             1,
             "#f0f921"
            ]
           ],
           "sequentialminus": [
            [
             0,
             "#0d0887"
            ],
            [
             0.1111111111111111,
             "#46039f"
            ],
            [
             0.2222222222222222,
             "#7201a8"
            ],
            [
             0.3333333333333333,
             "#9c179e"
            ],
            [
             0.4444444444444444,
             "#bd3786"
            ],
            [
             0.5555555555555556,
             "#d8576b"
            ],
            [
             0.6666666666666666,
             "#ed7953"
            ],
            [
             0.7777777777777778,
             "#fb9f3a"
            ],
            [
             0.8888888888888888,
             "#fdca26"
            ],
            [
             1,
             "#f0f921"
            ]
           ]
          },
          "colorway": [
           "#636efa",
           "#EF553B",
           "#00cc96",
           "#ab63fa",
           "#FFA15A",
           "#19d3f3",
           "#FF6692",
           "#B6E880",
           "#FF97FF",
           "#FECB52"
          ],
          "font": {
           "color": "#2a3f5f"
          },
          "geo": {
           "bgcolor": "white",
           "lakecolor": "white",
           "landcolor": "#E5ECF6",
           "showlakes": true,
           "showland": true,
           "subunitcolor": "white"
          },
          "hoverlabel": {
           "align": "left"
          },
          "hovermode": "closest",
          "mapbox": {
           "style": "light"
          },
          "paper_bgcolor": "white",
          "plot_bgcolor": "#E5ECF6",
          "polar": {
           "angularaxis": {
            "gridcolor": "white",
            "linecolor": "white",
            "ticks": ""
           },
           "bgcolor": "#E5ECF6",
           "radialaxis": {
            "gridcolor": "white",
            "linecolor": "white",
            "ticks": ""
           }
          },
          "scene": {
           "xaxis": {
            "backgroundcolor": "#E5ECF6",
            "gridcolor": "white",
            "gridwidth": 2,
            "linecolor": "white",
            "showbackground": true,
            "ticks": "",
            "zerolinecolor": "white"
           },
           "yaxis": {
            "backgroundcolor": "#E5ECF6",
            "gridcolor": "white",
            "gridwidth": 2,
            "linecolor": "white",
            "showbackground": true,
            "ticks": "",
            "zerolinecolor": "white"
           },
           "zaxis": {
            "backgroundcolor": "#E5ECF6",
            "gridcolor": "white",
            "gridwidth": 2,
            "linecolor": "white",
            "showbackground": true,
            "ticks": "",
            "zerolinecolor": "white"
           }
          },
          "shapedefaults": {
           "line": {
            "color": "#2a3f5f"
           }
          },
          "ternary": {
           "aaxis": {
            "gridcolor": "white",
            "linecolor": "white",
            "ticks": ""
           },
           "baxis": {
            "gridcolor": "white",
            "linecolor": "white",
            "ticks": ""
           },
           "bgcolor": "#E5ECF6",
           "caxis": {
            "gridcolor": "white",
            "linecolor": "white",
            "ticks": ""
           }
          },
          "title": {
           "x": 0.05
          },
          "xaxis": {
           "automargin": true,
           "gridcolor": "white",
           "linecolor": "white",
           "ticks": "",
           "title": {
            "standoff": 15
           },
           "zerolinecolor": "white",
           "zerolinewidth": 2
          },
          "yaxis": {
           "automargin": true,
           "gridcolor": "white",
           "linecolor": "white",
           "ticks": "",
           "title": {
            "standoff": 15
           },
           "zerolinecolor": "white",
           "zerolinewidth": 2
          }
         }
        },
        "title": {
         "text": "Unemployment and Lag 52 Weeks"
        },
        "xaxis": {
         "anchor": "y",
         "domain": [
          0,
          1
         ],
         "title": {
          "text": "Date"
         }
        },
        "yaxis": {
         "anchor": "x",
         "domain": [
          0,
          1
         ],
         "title": {
          "text": "value"
         }
        }
       }
      }
     },
     "metadata": {},
     "output_type": "display_data"
    }
   ],
   "source": [
    "view_data_horizon(data, target=\"Unemployment\")"
   ]
  },
  {
   "cell_type": "code",
   "execution_count": 14,
   "metadata": {},
   "outputs": [
    {
     "data": {
      "application/vnd.plotly.v1+json": {
       "config": {
        "plotlyServerURL": "https://plot.ly"
       },
       "data": [
        {
         "hovertemplate": "variable=CPI<br>Date=%{x}<br>value=%{y}<extra></extra>",
         "legendgroup": "CPI",
         "line": {
          "color": "#636efa",
          "dash": "solid"
         },
         "marker": {
          "symbol": "circle"
         },
         "mode": "lines",
         "name": "CPI",
         "orientation": "v",
         "showlegend": true,
         "type": "scatter",
         "x": [
          "2010-02-05T00:00:00",
          "2010-02-12T00:00:00",
          "2010-02-19T00:00:00",
          "2010-02-26T00:00:00",
          "2010-03-05T00:00:00",
          "2010-03-12T00:00:00",
          "2010-03-19T00:00:00",
          "2010-03-26T00:00:00",
          "2010-04-02T00:00:00",
          "2010-04-09T00:00:00",
          "2010-04-16T00:00:00",
          "2010-04-23T00:00:00",
          "2010-04-30T00:00:00",
          "2010-05-07T00:00:00",
          "2010-05-14T00:00:00",
          "2010-05-21T00:00:00",
          "2010-05-28T00:00:00",
          "2010-06-04T00:00:00",
          "2010-06-11T00:00:00",
          "2010-06-18T00:00:00",
          "2010-06-25T00:00:00",
          "2010-07-02T00:00:00",
          "2010-07-09T00:00:00",
          "2010-07-16T00:00:00",
          "2010-07-23T00:00:00",
          "2010-07-30T00:00:00",
          "2010-08-06T00:00:00",
          "2010-08-13T00:00:00",
          "2010-08-20T00:00:00",
          "2010-08-27T00:00:00",
          "2010-09-03T00:00:00",
          "2010-09-10T00:00:00",
          "2010-09-17T00:00:00",
          "2010-09-24T00:00:00",
          "2010-10-01T00:00:00",
          "2010-10-08T00:00:00",
          "2010-10-15T00:00:00",
          "2010-10-22T00:00:00",
          "2010-10-29T00:00:00",
          "2010-11-05T00:00:00",
          "2010-11-12T00:00:00",
          "2010-11-19T00:00:00",
          "2010-11-26T00:00:00",
          "2010-12-03T00:00:00",
          "2010-12-10T00:00:00",
          "2010-12-17T00:00:00",
          "2010-12-24T00:00:00",
          "2010-12-31T00:00:00",
          "2011-01-07T00:00:00",
          "2011-01-14T00:00:00",
          "2011-01-21T00:00:00",
          "2011-01-28T00:00:00",
          "2011-02-04T00:00:00",
          "2011-02-11T00:00:00",
          "2011-02-18T00:00:00",
          "2011-02-25T00:00:00",
          "2011-03-04T00:00:00",
          "2011-03-11T00:00:00",
          "2011-03-18T00:00:00",
          "2011-03-25T00:00:00",
          "2011-04-01T00:00:00",
          "2011-04-08T00:00:00",
          "2011-04-15T00:00:00",
          "2011-04-22T00:00:00",
          "2011-04-29T00:00:00",
          "2011-05-06T00:00:00",
          "2011-05-13T00:00:00",
          "2011-05-20T00:00:00",
          "2011-05-27T00:00:00",
          "2011-06-03T00:00:00",
          "2011-06-10T00:00:00",
          "2011-06-17T00:00:00",
          "2011-06-24T00:00:00",
          "2011-07-01T00:00:00",
          "2011-07-08T00:00:00",
          "2011-07-15T00:00:00",
          "2011-07-22T00:00:00",
          "2011-07-29T00:00:00",
          "2011-08-05T00:00:00",
          "2011-08-12T00:00:00",
          "2011-08-19T00:00:00",
          "2011-08-26T00:00:00",
          "2011-09-02T00:00:00",
          "2011-09-09T00:00:00",
          "2011-09-16T00:00:00",
          "2011-09-23T00:00:00",
          "2011-09-30T00:00:00",
          "2011-10-07T00:00:00",
          "2011-10-14T00:00:00",
          "2011-10-21T00:00:00",
          "2011-10-28T00:00:00",
          "2011-11-04T00:00:00",
          "2011-11-11T00:00:00",
          "2011-11-18T00:00:00",
          "2011-11-25T00:00:00",
          "2011-12-02T00:00:00",
          "2011-12-09T00:00:00",
          "2011-12-16T00:00:00",
          "2011-12-23T00:00:00",
          "2011-12-30T00:00:00",
          "2012-01-06T00:00:00",
          "2012-01-13T00:00:00",
          "2012-01-20T00:00:00",
          "2012-01-27T00:00:00",
          "2012-02-03T00:00:00",
          "2012-02-10T00:00:00",
          "2012-02-17T00:00:00",
          "2012-02-24T00:00:00",
          "2012-03-02T00:00:00",
          "2012-03-09T00:00:00",
          "2012-03-16T00:00:00",
          "2012-03-23T00:00:00",
          "2012-03-30T00:00:00",
          "2012-04-06T00:00:00",
          "2012-04-13T00:00:00",
          "2012-04-20T00:00:00",
          "2012-04-27T00:00:00",
          "2012-05-04T00:00:00",
          "2012-05-11T00:00:00",
          "2012-05-18T00:00:00",
          "2012-05-25T00:00:00",
          "2012-06-01T00:00:00",
          "2012-06-08T00:00:00",
          "2012-06-15T00:00:00",
          "2012-06-22T00:00:00",
          "2012-06-29T00:00:00",
          "2012-07-06T00:00:00",
          "2012-07-13T00:00:00",
          "2012-07-20T00:00:00",
          "2012-07-27T00:00:00",
          "2012-08-03T00:00:00",
          "2012-08-10T00:00:00",
          "2012-08-17T00:00:00",
          "2012-08-24T00:00:00",
          "2012-08-31T00:00:00",
          "2012-09-07T00:00:00",
          "2012-09-14T00:00:00",
          "2012-09-21T00:00:00",
          "2012-09-28T00:00:00",
          "2012-10-05T00:00:00",
          "2012-10-12T00:00:00",
          "2012-10-19T00:00:00",
          "2012-10-26T00:00:00",
          "2012-11-02T00:00:00",
          "2012-11-09T00:00:00",
          "2012-11-16T00:00:00",
          "2012-11-23T00:00:00",
          "2012-11-30T00:00:00",
          "2012-12-07T00:00:00",
          "2012-12-14T00:00:00",
          "2012-12-21T00:00:00",
          "2012-12-28T00:00:00",
          "2013-01-04T00:00:00",
          "2013-01-11T00:00:00",
          "2013-01-18T00:00:00",
          "2013-01-25T00:00:00",
          "2013-02-01T00:00:00",
          "2013-02-08T00:00:00",
          "2013-02-15T00:00:00",
          "2013-02-22T00:00:00",
          "2013-03-01T00:00:00",
          "2013-03-08T00:00:00",
          "2013-03-15T00:00:00",
          "2013-03-22T00:00:00",
          "2013-03-29T00:00:00",
          "2013-04-05T00:00:00",
          "2013-04-12T00:00:00",
          "2013-04-19T00:00:00",
          "2013-04-26T00:00:00",
          "2013-05-03T00:00:00",
          "2013-05-10T00:00:00",
          "2013-05-17T00:00:00",
          "2013-05-24T00:00:00",
          "2013-05-31T00:00:00",
          "2013-06-07T00:00:00",
          "2013-06-14T00:00:00",
          "2013-06-21T00:00:00",
          "2013-06-28T00:00:00",
          "2013-07-05T00:00:00",
          "2013-07-12T00:00:00",
          "2013-07-19T00:00:00",
          "2013-07-26T00:00:00"
         ],
         "xaxis": "x",
         "y": [
          211.0963582,
          211.2421698,
          211.2891429,
          211.3196429,
          211.3501429,
          211.3806429,
          211.215635,
          211.0180424,
          210.8204499,
          210.6228574,
          210.4887,
          210.4391228,
          210.3895456,
          210.3399684,
          210.3374261,
          210.6170934,
          210.8967606,
          211.1764278,
          211.4560951,
          211.4537719,
          211.3386526,
          211.2235333,
          211.108414,
          211.1003854,
          211.2351443,
          211.3699032,
          211.5046621,
          211.6394211,
          211.6033633,
          211.5673056,
          211.5312479,
          211.4951902,
          211.5224596,
          211.5972246,
          211.6719895,
          211.7467544,
          211.8137436,
          211.8612937,
          211.9088438,
          211.9563939,
          212.003944,
          211.8896737,
          211.7484333,
          211.607193,
          211.4659526,
          211.4053124,
          211.4051222,
          211.4049321,
          211.4047419,
          211.4574109,
          211.8272343,
          212.1970577,
          212.5668812,
          212.9367046,
          213.2478853,
          213.535609,
          213.8233327,
          214.1110564,
          214.3627114,
          214.5999389,
          214.8371664,
          215.0743939,
          215.2918561,
          215.4599053,
          215.6279544,
          215.7960035,
          215.9640526,
          215.7339202,
          215.5037878,
          215.2736553,
          215.0435229,
          214.9980596,
          215.0910982,
          215.1841368,
          215.2771754,
          215.3611087,
          215.4222784,
          215.4834482,
          215.544618,
          215.6057878,
          215.6693107,
          215.7332258,
          215.7971409,
          215.861056,
          216.0410526,
          216.3758246,
          216.7105965,
          217.0453684,
          217.3552733,
          217.5159762,
          217.6766791,
          217.837382,
          217.9980849,
          218.2205088,
          218.4676211,
          218.7147333,
          218.9618456,
          219.1794533,
          219.3577216,
          219.5359898,
          219.7142581,
          219.8925263,
          219.9856893,
          220.0788523,
          220.1720153,
          220.2651783,
          220.4257586,
          220.636902,
          220.8480454,
          221.0591887,
          221.2118132,
          221.2864126,
          221.3610119,
          221.4356112,
          221.5102105,
          221.5640737,
          221.6179368,
          221.6718,
          221.7256632,
          221.742674,
          221.744944,
          221.7472139,
          221.7494839,
          221.7626421,
          221.8030211,
          221.8434,
          221.8837789,
          221.9241579,
          221.9327267,
          221.9412954,
          221.9498642,
          221.9584329,
          222.0384109,
          222.1719457,
          222.3054805,
          222.4390153,
          222.5820193,
          222.7818386,
          222.9816579,
          223.1814772,
          223.3812965,
          223.4257233,
          223.4442513,
          223.4627793,
          223.4813073,
          223.5129105,
          223.5619474,
          223.6109842,
          223.6600211,
          223.7192767,
          223.8398455,
          223.9604143,
          224.080983,
          224.2015518,
          224.2358132,
          224.2355518,
          224.2352903,
          224.2350289,
          224.2760526,
          224.4202895,
          224.5645263,
          224.7087632,
          224.8356808,
          224.9193005,
          225.0029202,
          225.0865399,
          225.1701596,
          225.1701596,
          225.1701596,
          null,
          null,
          null,
          null,
          null,
          null,
          null,
          null,
          null,
          null,
          null,
          null,
          null
         ],
         "yaxis": "y"
        },
        {
         "hovertemplate": "variable=lag_52_CPI<br>Date=%{x}<br>value=%{y}<extra></extra>",
         "legendgroup": "lag_52_CPI",
         "line": {
          "color": "#EF553B",
          "dash": "solid"
         },
         "marker": {
          "symbol": "circle"
         },
         "mode": "lines",
         "name": "lag_52_CPI",
         "orientation": "v",
         "showlegend": true,
         "type": "scatter",
         "x": [
          "2010-02-05T00:00:00",
          "2010-02-12T00:00:00",
          "2010-02-19T00:00:00",
          "2010-02-26T00:00:00",
          "2010-03-05T00:00:00",
          "2010-03-12T00:00:00",
          "2010-03-19T00:00:00",
          "2010-03-26T00:00:00",
          "2010-04-02T00:00:00",
          "2010-04-09T00:00:00",
          "2010-04-16T00:00:00",
          "2010-04-23T00:00:00",
          "2010-04-30T00:00:00",
          "2010-05-07T00:00:00",
          "2010-05-14T00:00:00",
          "2010-05-21T00:00:00",
          "2010-05-28T00:00:00",
          "2010-06-04T00:00:00",
          "2010-06-11T00:00:00",
          "2010-06-18T00:00:00",
          "2010-06-25T00:00:00",
          "2010-07-02T00:00:00",
          "2010-07-09T00:00:00",
          "2010-07-16T00:00:00",
          "2010-07-23T00:00:00",
          "2010-07-30T00:00:00",
          "2010-08-06T00:00:00",
          "2010-08-13T00:00:00",
          "2010-08-20T00:00:00",
          "2010-08-27T00:00:00",
          "2010-09-03T00:00:00",
          "2010-09-10T00:00:00",
          "2010-09-17T00:00:00",
          "2010-09-24T00:00:00",
          "2010-10-01T00:00:00",
          "2010-10-08T00:00:00",
          "2010-10-15T00:00:00",
          "2010-10-22T00:00:00",
          "2010-10-29T00:00:00",
          "2010-11-05T00:00:00",
          "2010-11-12T00:00:00",
          "2010-11-19T00:00:00",
          "2010-11-26T00:00:00",
          "2010-12-03T00:00:00",
          "2010-12-10T00:00:00",
          "2010-12-17T00:00:00",
          "2010-12-24T00:00:00",
          "2010-12-31T00:00:00",
          "2011-01-07T00:00:00",
          "2011-01-14T00:00:00",
          "2011-01-21T00:00:00",
          "2011-01-28T00:00:00",
          "2011-02-04T00:00:00",
          "2011-02-11T00:00:00",
          "2011-02-18T00:00:00",
          "2011-02-25T00:00:00",
          "2011-03-04T00:00:00",
          "2011-03-11T00:00:00",
          "2011-03-18T00:00:00",
          "2011-03-25T00:00:00",
          "2011-04-01T00:00:00",
          "2011-04-08T00:00:00",
          "2011-04-15T00:00:00",
          "2011-04-22T00:00:00",
          "2011-04-29T00:00:00",
          "2011-05-06T00:00:00",
          "2011-05-13T00:00:00",
          "2011-05-20T00:00:00",
          "2011-05-27T00:00:00",
          "2011-06-03T00:00:00",
          "2011-06-10T00:00:00",
          "2011-06-17T00:00:00",
          "2011-06-24T00:00:00",
          "2011-07-01T00:00:00",
          "2011-07-08T00:00:00",
          "2011-07-15T00:00:00",
          "2011-07-22T00:00:00",
          "2011-07-29T00:00:00",
          "2011-08-05T00:00:00",
          "2011-08-12T00:00:00",
          "2011-08-19T00:00:00",
          "2011-08-26T00:00:00",
          "2011-09-02T00:00:00",
          "2011-09-09T00:00:00",
          "2011-09-16T00:00:00",
          "2011-09-23T00:00:00",
          "2011-09-30T00:00:00",
          "2011-10-07T00:00:00",
          "2011-10-14T00:00:00",
          "2011-10-21T00:00:00",
          "2011-10-28T00:00:00",
          "2011-11-04T00:00:00",
          "2011-11-11T00:00:00",
          "2011-11-18T00:00:00",
          "2011-11-25T00:00:00",
          "2011-12-02T00:00:00",
          "2011-12-09T00:00:00",
          "2011-12-16T00:00:00",
          "2011-12-23T00:00:00",
          "2011-12-30T00:00:00",
          "2012-01-06T00:00:00",
          "2012-01-13T00:00:00",
          "2012-01-20T00:00:00",
          "2012-01-27T00:00:00",
          "2012-02-03T00:00:00",
          "2012-02-10T00:00:00",
          "2012-02-17T00:00:00",
          "2012-02-24T00:00:00",
          "2012-03-02T00:00:00",
          "2012-03-09T00:00:00",
          "2012-03-16T00:00:00",
          "2012-03-23T00:00:00",
          "2012-03-30T00:00:00",
          "2012-04-06T00:00:00",
          "2012-04-13T00:00:00",
          "2012-04-20T00:00:00",
          "2012-04-27T00:00:00",
          "2012-05-04T00:00:00",
          "2012-05-11T00:00:00",
          "2012-05-18T00:00:00",
          "2012-05-25T00:00:00",
          "2012-06-01T00:00:00",
          "2012-06-08T00:00:00",
          "2012-06-15T00:00:00",
          "2012-06-22T00:00:00",
          "2012-06-29T00:00:00",
          "2012-07-06T00:00:00",
          "2012-07-13T00:00:00",
          "2012-07-20T00:00:00",
          "2012-07-27T00:00:00",
          "2012-08-03T00:00:00",
          "2012-08-10T00:00:00",
          "2012-08-17T00:00:00",
          "2012-08-24T00:00:00",
          "2012-08-31T00:00:00",
          "2012-09-07T00:00:00",
          "2012-09-14T00:00:00",
          "2012-09-21T00:00:00",
          "2012-09-28T00:00:00",
          "2012-10-05T00:00:00",
          "2012-10-12T00:00:00",
          "2012-10-19T00:00:00",
          "2012-10-26T00:00:00",
          "2012-11-02T00:00:00",
          "2012-11-09T00:00:00",
          "2012-11-16T00:00:00",
          "2012-11-23T00:00:00",
          "2012-11-30T00:00:00",
          "2012-12-07T00:00:00",
          "2012-12-14T00:00:00",
          "2012-12-21T00:00:00",
          "2012-12-28T00:00:00",
          "2013-01-04T00:00:00",
          "2013-01-11T00:00:00",
          "2013-01-18T00:00:00",
          "2013-01-25T00:00:00",
          "2013-02-01T00:00:00",
          "2013-02-08T00:00:00",
          "2013-02-15T00:00:00",
          "2013-02-22T00:00:00",
          "2013-03-01T00:00:00",
          "2013-03-08T00:00:00",
          "2013-03-15T00:00:00",
          "2013-03-22T00:00:00",
          "2013-03-29T00:00:00",
          "2013-04-05T00:00:00",
          "2013-04-12T00:00:00",
          "2013-04-19T00:00:00",
          "2013-04-26T00:00:00",
          "2013-05-03T00:00:00",
          "2013-05-10T00:00:00",
          "2013-05-17T00:00:00",
          "2013-05-24T00:00:00",
          "2013-05-31T00:00:00",
          "2013-06-07T00:00:00",
          "2013-06-14T00:00:00",
          "2013-06-21T00:00:00",
          "2013-06-28T00:00:00",
          "2013-07-05T00:00:00",
          "2013-07-12T00:00:00",
          "2013-07-19T00:00:00",
          "2013-07-26T00:00:00"
         ],
         "xaxis": "x",
         "y": [
          null,
          null,
          null,
          null,
          null,
          null,
          null,
          null,
          null,
          null,
          null,
          null,
          null,
          null,
          null,
          null,
          null,
          null,
          null,
          null,
          null,
          null,
          null,
          null,
          null,
          null,
          null,
          null,
          null,
          null,
          null,
          null,
          null,
          null,
          null,
          null,
          null,
          null,
          null,
          null,
          null,
          null,
          null,
          null,
          null,
          null,
          null,
          null,
          null,
          null,
          null,
          null,
          211.0963582,
          211.2421698,
          211.2891429,
          211.3196429,
          211.3501429,
          211.3806429,
          211.215635,
          211.0180424,
          210.8204499,
          210.6228574,
          210.4887,
          210.4391228,
          210.3895456,
          210.3399684,
          210.3374261,
          210.6170934,
          210.8967606,
          211.1764278,
          211.4560951,
          211.4537719,
          211.3386526,
          211.2235333,
          211.108414,
          211.1003854,
          211.2351443,
          211.3699032,
          211.5046621,
          211.6394211,
          211.6033633,
          211.5673056,
          211.5312479,
          211.4951902,
          211.5224596,
          211.5972246,
          211.6719895,
          211.7467544,
          211.8137436,
          211.8612937,
          211.9088438,
          211.9563939,
          212.003944,
          211.8896737,
          211.7484333,
          211.607193,
          211.4659526,
          211.4053124,
          211.4051222,
          211.4049321,
          211.4047419,
          211.4574109,
          211.8272343,
          212.1970577,
          212.5668812,
          212.9367046,
          213.2478853,
          213.535609,
          213.8233327,
          214.1110564,
          214.3627114,
          214.5999389,
          214.8371664,
          215.0743939,
          215.2918561,
          215.4599053,
          215.6279544,
          215.7960035,
          215.9640526,
          215.7339202,
          215.5037878,
          215.2736553,
          215.0435229,
          214.9980596,
          215.0910982,
          215.1841368,
          215.2771754,
          215.3611087,
          215.4222784,
          215.4834482,
          215.544618,
          215.6057878,
          215.6693107,
          215.7332258,
          215.7971409,
          215.861056,
          216.0410526,
          216.3758246,
          216.7105965,
          217.0453684,
          217.3552733,
          217.5159762,
          217.6766791,
          217.837382,
          217.9980849,
          218.2205088,
          218.4676211,
          218.7147333,
          218.9618456,
          219.1794533,
          219.3577216,
          219.5359898,
          219.7142581,
          219.8925263,
          219.9856893,
          220.0788523,
          220.1720153,
          220.2651783,
          220.4257586,
          220.636902,
          220.8480454,
          221.0591887,
          221.2118132,
          221.2864126,
          221.3610119,
          221.4356112,
          221.5102105,
          221.5640737,
          221.6179368,
          221.6718,
          221.7256632,
          221.742674,
          221.744944,
          221.7472139,
          221.7494839,
          221.7626421,
          221.8030211,
          221.8434,
          221.8837789,
          221.9241579,
          221.9327267,
          221.9412954
         ],
         "yaxis": "y"
        }
       ],
       "layout": {
        "legend": {
         "title": {
          "text": "variable"
         },
         "tracegroupgap": 0
        },
        "template": {
         "data": {
          "bar": [
           {
            "error_x": {
             "color": "#2a3f5f"
            },
            "error_y": {
             "color": "#2a3f5f"
            },
            "marker": {
             "line": {
              "color": "#E5ECF6",
              "width": 0.5
             },
             "pattern": {
              "fillmode": "overlay",
              "size": 10,
              "solidity": 0.2
             }
            },
            "type": "bar"
           }
          ],
          "barpolar": [
           {
            "marker": {
             "line": {
              "color": "#E5ECF6",
              "width": 0.5
             },
             "pattern": {
              "fillmode": "overlay",
              "size": 10,
              "solidity": 0.2
             }
            },
            "type": "barpolar"
           }
          ],
          "carpet": [
           {
            "aaxis": {
             "endlinecolor": "#2a3f5f",
             "gridcolor": "white",
             "linecolor": "white",
             "minorgridcolor": "white",
             "startlinecolor": "#2a3f5f"
            },
            "baxis": {
             "endlinecolor": "#2a3f5f",
             "gridcolor": "white",
             "linecolor": "white",
             "minorgridcolor": "white",
             "startlinecolor": "#2a3f5f"
            },
            "type": "carpet"
           }
          ],
          "choropleth": [
           {
            "colorbar": {
             "outlinewidth": 0,
             "ticks": ""
            },
            "type": "choropleth"
           }
          ],
          "contour": [
           {
            "colorbar": {
             "outlinewidth": 0,
             "ticks": ""
            },
            "colorscale": [
             [
              0,
              "#0d0887"
             ],
             [
              0.1111111111111111,
              "#46039f"
             ],
             [
              0.2222222222222222,
              "#7201a8"
             ],
             [
              0.3333333333333333,
              "#9c179e"
             ],
             [
              0.4444444444444444,
              "#bd3786"
             ],
             [
              0.5555555555555556,
              "#d8576b"
             ],
             [
              0.6666666666666666,
              "#ed7953"
             ],
             [
              0.7777777777777778,
              "#fb9f3a"
             ],
             [
              0.8888888888888888,
              "#fdca26"
             ],
             [
              1,
              "#f0f921"
             ]
            ],
            "type": "contour"
           }
          ],
          "contourcarpet": [
           {
            "colorbar": {
             "outlinewidth": 0,
             "ticks": ""
            },
            "type": "contourcarpet"
           }
          ],
          "heatmap": [
           {
            "colorbar": {
             "outlinewidth": 0,
             "ticks": ""
            },
            "colorscale": [
             [
              0,
              "#0d0887"
             ],
             [
              0.1111111111111111,
              "#46039f"
             ],
             [
              0.2222222222222222,
              "#7201a8"
             ],
             [
              0.3333333333333333,
              "#9c179e"
             ],
             [
              0.4444444444444444,
              "#bd3786"
             ],
             [
              0.5555555555555556,
              "#d8576b"
             ],
             [
              0.6666666666666666,
              "#ed7953"
             ],
             [
              0.7777777777777778,
              "#fb9f3a"
             ],
             [
              0.8888888888888888,
              "#fdca26"
             ],
             [
              1,
              "#f0f921"
             ]
            ],
            "type": "heatmap"
           }
          ],
          "heatmapgl": [
           {
            "colorbar": {
             "outlinewidth": 0,
             "ticks": ""
            },
            "colorscale": [
             [
              0,
              "#0d0887"
             ],
             [
              0.1111111111111111,
              "#46039f"
             ],
             [
              0.2222222222222222,
              "#7201a8"
             ],
             [
              0.3333333333333333,
              "#9c179e"
             ],
             [
              0.4444444444444444,
              "#bd3786"
             ],
             [
              0.5555555555555556,
              "#d8576b"
             ],
             [
              0.6666666666666666,
              "#ed7953"
             ],
             [
              0.7777777777777778,
              "#fb9f3a"
             ],
             [
              0.8888888888888888,
              "#fdca26"
             ],
             [
              1,
              "#f0f921"
             ]
            ],
            "type": "heatmapgl"
           }
          ],
          "histogram": [
           {
            "marker": {
             "pattern": {
              "fillmode": "overlay",
              "size": 10,
              "solidity": 0.2
             }
            },
            "type": "histogram"
           }
          ],
          "histogram2d": [
           {
            "colorbar": {
             "outlinewidth": 0,
             "ticks": ""
            },
            "colorscale": [
             [
              0,
              "#0d0887"
             ],
             [
              0.1111111111111111,
              "#46039f"
             ],
             [
              0.2222222222222222,
              "#7201a8"
             ],
             [
              0.3333333333333333,
              "#9c179e"
             ],
             [
              0.4444444444444444,
              "#bd3786"
             ],
             [
              0.5555555555555556,
              "#d8576b"
             ],
             [
              0.6666666666666666,
              "#ed7953"
             ],
             [
              0.7777777777777778,
              "#fb9f3a"
             ],
             [
              0.8888888888888888,
              "#fdca26"
             ],
             [
              1,
              "#f0f921"
             ]
            ],
            "type": "histogram2d"
           }
          ],
          "histogram2dcontour": [
           {
            "colorbar": {
             "outlinewidth": 0,
             "ticks": ""
            },
            "colorscale": [
             [
              0,
              "#0d0887"
             ],
             [
              0.1111111111111111,
              "#46039f"
             ],
             [
              0.2222222222222222,
              "#7201a8"
             ],
             [
              0.3333333333333333,
              "#9c179e"
             ],
             [
              0.4444444444444444,
              "#bd3786"
             ],
             [
              0.5555555555555556,
              "#d8576b"
             ],
             [
              0.6666666666666666,
              "#ed7953"
             ],
             [
              0.7777777777777778,
              "#fb9f3a"
             ],
             [
              0.8888888888888888,
              "#fdca26"
             ],
             [
              1,
              "#f0f921"
             ]
            ],
            "type": "histogram2dcontour"
           }
          ],
          "mesh3d": [
           {
            "colorbar": {
             "outlinewidth": 0,
             "ticks": ""
            },
            "type": "mesh3d"
           }
          ],
          "parcoords": [
           {
            "line": {
             "colorbar": {
              "outlinewidth": 0,
              "ticks": ""
             }
            },
            "type": "parcoords"
           }
          ],
          "pie": [
           {
            "automargin": true,
            "type": "pie"
           }
          ],
          "scatter": [
           {
            "fillpattern": {
             "fillmode": "overlay",
             "size": 10,
             "solidity": 0.2
            },
            "type": "scatter"
           }
          ],
          "scatter3d": [
           {
            "line": {
             "colorbar": {
              "outlinewidth": 0,
              "ticks": ""
             }
            },
            "marker": {
             "colorbar": {
              "outlinewidth": 0,
              "ticks": ""
             }
            },
            "type": "scatter3d"
           }
          ],
          "scattercarpet": [
           {
            "marker": {
             "colorbar": {
              "outlinewidth": 0,
              "ticks": ""
             }
            },
            "type": "scattercarpet"
           }
          ],
          "scattergeo": [
           {
            "marker": {
             "colorbar": {
              "outlinewidth": 0,
              "ticks": ""
             }
            },
            "type": "scattergeo"
           }
          ],
          "scattergl": [
           {
            "marker": {
             "colorbar": {
              "outlinewidth": 0,
              "ticks": ""
             }
            },
            "type": "scattergl"
           }
          ],
          "scattermapbox": [
           {
            "marker": {
             "colorbar": {
              "outlinewidth": 0,
              "ticks": ""
             }
            },
            "type": "scattermapbox"
           }
          ],
          "scatterpolar": [
           {
            "marker": {
             "colorbar": {
              "outlinewidth": 0,
              "ticks": ""
             }
            },
            "type": "scatterpolar"
           }
          ],
          "scatterpolargl": [
           {
            "marker": {
             "colorbar": {
              "outlinewidth": 0,
              "ticks": ""
             }
            },
            "type": "scatterpolargl"
           }
          ],
          "scatterternary": [
           {
            "marker": {
             "colorbar": {
              "outlinewidth": 0,
              "ticks": ""
             }
            },
            "type": "scatterternary"
           }
          ],
          "surface": [
           {
            "colorbar": {
             "outlinewidth": 0,
             "ticks": ""
            },
            "colorscale": [
             [
              0,
              "#0d0887"
             ],
             [
              0.1111111111111111,
              "#46039f"
             ],
             [
              0.2222222222222222,
              "#7201a8"
             ],
             [
              0.3333333333333333,
              "#9c179e"
             ],
             [
              0.4444444444444444,
              "#bd3786"
             ],
             [
              0.5555555555555556,
              "#d8576b"
             ],
             [
              0.6666666666666666,
              "#ed7953"
             ],
             [
              0.7777777777777778,
              "#fb9f3a"
             ],
             [
              0.8888888888888888,
              "#fdca26"
             ],
             [
              1,
              "#f0f921"
             ]
            ],
            "type": "surface"
           }
          ],
          "table": [
           {
            "cells": {
             "fill": {
              "color": "#EBF0F8"
             },
             "line": {
              "color": "white"
             }
            },
            "header": {
             "fill": {
              "color": "#C8D4E3"
             },
             "line": {
              "color": "white"
             }
            },
            "type": "table"
           }
          ]
         },
         "layout": {
          "annotationdefaults": {
           "arrowcolor": "#2a3f5f",
           "arrowhead": 0,
           "arrowwidth": 1
          },
          "autotypenumbers": "strict",
          "coloraxis": {
           "colorbar": {
            "outlinewidth": 0,
            "ticks": ""
           }
          },
          "colorscale": {
           "diverging": [
            [
             0,
             "#8e0152"
            ],
            [
             0.1,
             "#c51b7d"
            ],
            [
             0.2,
             "#de77ae"
            ],
            [
             0.3,
             "#f1b6da"
            ],
            [
             0.4,
             "#fde0ef"
            ],
            [
             0.5,
             "#f7f7f7"
            ],
            [
             0.6,
             "#e6f5d0"
            ],
            [
             0.7,
             "#b8e186"
            ],
            [
             0.8,
             "#7fbc41"
            ],
            [
             0.9,
             "#4d9221"
            ],
            [
             1,
             "#276419"
            ]
           ],
           "sequential": [
            [
             0,
             "#0d0887"
            ],
            [
             0.1111111111111111,
             "#46039f"
            ],
            [
             0.2222222222222222,
             "#7201a8"
            ],
            [
             0.3333333333333333,
             "#9c179e"
            ],
            [
             0.4444444444444444,
             "#bd3786"
            ],
            [
             0.5555555555555556,
             "#d8576b"
            ],
            [
             0.6666666666666666,
             "#ed7953"
            ],
            [
             0.7777777777777778,
             "#fb9f3a"
            ],
            [
             0.8888888888888888,
             "#fdca26"
            ],
            [
             1,
             "#f0f921"
            ]
           ],
           "sequentialminus": [
            [
             0,
             "#0d0887"
            ],
            [
             0.1111111111111111,
             "#46039f"
            ],
            [
             0.2222222222222222,
             "#7201a8"
            ],
            [
             0.3333333333333333,
             "#9c179e"
            ],
            [
             0.4444444444444444,
             "#bd3786"
            ],
            [
             0.5555555555555556,
             "#d8576b"
            ],
            [
             0.6666666666666666,
             "#ed7953"
            ],
            [
             0.7777777777777778,
             "#fb9f3a"
            ],
            [
             0.8888888888888888,
             "#fdca26"
            ],
            [
             1,
             "#f0f921"
            ]
           ]
          },
          "colorway": [
           "#636efa",
           "#EF553B",
           "#00cc96",
           "#ab63fa",
           "#FFA15A",
           "#19d3f3",
           "#FF6692",
           "#B6E880",
           "#FF97FF",
           "#FECB52"
          ],
          "font": {
           "color": "#2a3f5f"
          },
          "geo": {
           "bgcolor": "white",
           "lakecolor": "white",
           "landcolor": "#E5ECF6",
           "showlakes": true,
           "showland": true,
           "subunitcolor": "white"
          },
          "hoverlabel": {
           "align": "left"
          },
          "hovermode": "closest",
          "mapbox": {
           "style": "light"
          },
          "paper_bgcolor": "white",
          "plot_bgcolor": "#E5ECF6",
          "polar": {
           "angularaxis": {
            "gridcolor": "white",
            "linecolor": "white",
            "ticks": ""
           },
           "bgcolor": "#E5ECF6",
           "radialaxis": {
            "gridcolor": "white",
            "linecolor": "white",
            "ticks": ""
           }
          },
          "scene": {
           "xaxis": {
            "backgroundcolor": "#E5ECF6",
            "gridcolor": "white",
            "gridwidth": 2,
            "linecolor": "white",
            "showbackground": true,
            "ticks": "",
            "zerolinecolor": "white"
           },
           "yaxis": {
            "backgroundcolor": "#E5ECF6",
            "gridcolor": "white",
            "gridwidth": 2,
            "linecolor": "white",
            "showbackground": true,
            "ticks": "",
            "zerolinecolor": "white"
           },
           "zaxis": {
            "backgroundcolor": "#E5ECF6",
            "gridcolor": "white",
            "gridwidth": 2,
            "linecolor": "white",
            "showbackground": true,
            "ticks": "",
            "zerolinecolor": "white"
           }
          },
          "shapedefaults": {
           "line": {
            "color": "#2a3f5f"
           }
          },
          "ternary": {
           "aaxis": {
            "gridcolor": "white",
            "linecolor": "white",
            "ticks": ""
           },
           "baxis": {
            "gridcolor": "white",
            "linecolor": "white",
            "ticks": ""
           },
           "bgcolor": "#E5ECF6",
           "caxis": {
            "gridcolor": "white",
            "linecolor": "white",
            "ticks": ""
           }
          },
          "title": {
           "x": 0.05
          },
          "xaxis": {
           "automargin": true,
           "gridcolor": "white",
           "linecolor": "white",
           "ticks": "",
           "title": {
            "standoff": 15
           },
           "zerolinecolor": "white",
           "zerolinewidth": 2
          },
          "yaxis": {
           "automargin": true,
           "gridcolor": "white",
           "linecolor": "white",
           "ticks": "",
           "title": {
            "standoff": 15
           },
           "zerolinecolor": "white",
           "zerolinewidth": 2
          }
         }
        },
        "title": {
         "text": "CPI and Lag 52 Weeks"
        },
        "xaxis": {
         "anchor": "y",
         "domain": [
          0,
          1
         ],
         "title": {
          "text": "Date"
         }
        },
        "yaxis": {
         "anchor": "x",
         "domain": [
          0,
          1
         ],
         "title": {
          "text": "value"
         }
        }
       }
      }
     },
     "metadata": {},
     "output_type": "display_data"
    }
   ],
   "source": [
    "view_data_horizon(data, target=\"CPI\")"
   ]
  },
  {
   "cell_type": "code",
   "execution_count": 15,
   "metadata": {},
   "outputs": [
    {
     "data": {
      "application/vnd.plotly.v1+json": {
       "config": {
        "plotlyServerURL": "https://plot.ly"
       },
       "data": [
        {
         "hovertemplate": "variable=Fuel_Price<br>Date=%{x}<br>value=%{y}<extra></extra>",
         "legendgroup": "Fuel_Price",
         "line": {
          "color": "#636efa",
          "dash": "solid"
         },
         "marker": {
          "symbol": "circle"
         },
         "mode": "lines",
         "name": "Fuel_Price",
         "orientation": "v",
         "showlegend": true,
         "type": "scatter",
         "x": [
          "2010-02-05T00:00:00",
          "2010-02-12T00:00:00",
          "2010-02-19T00:00:00",
          "2010-02-26T00:00:00",
          "2010-03-05T00:00:00",
          "2010-03-12T00:00:00",
          "2010-03-19T00:00:00",
          "2010-03-26T00:00:00",
          "2010-04-02T00:00:00",
          "2010-04-09T00:00:00",
          "2010-04-16T00:00:00",
          "2010-04-23T00:00:00",
          "2010-04-30T00:00:00",
          "2010-05-07T00:00:00",
          "2010-05-14T00:00:00",
          "2010-05-21T00:00:00",
          "2010-05-28T00:00:00",
          "2010-06-04T00:00:00",
          "2010-06-11T00:00:00",
          "2010-06-18T00:00:00",
          "2010-06-25T00:00:00",
          "2010-07-02T00:00:00",
          "2010-07-09T00:00:00",
          "2010-07-16T00:00:00",
          "2010-07-23T00:00:00",
          "2010-07-30T00:00:00",
          "2010-08-06T00:00:00",
          "2010-08-13T00:00:00",
          "2010-08-20T00:00:00",
          "2010-08-27T00:00:00",
          "2010-09-03T00:00:00",
          "2010-09-10T00:00:00",
          "2010-09-17T00:00:00",
          "2010-09-24T00:00:00",
          "2010-10-01T00:00:00",
          "2010-10-08T00:00:00",
          "2010-10-15T00:00:00",
          "2010-10-22T00:00:00",
          "2010-10-29T00:00:00",
          "2010-11-05T00:00:00",
          "2010-11-12T00:00:00",
          "2010-11-19T00:00:00",
          "2010-11-26T00:00:00",
          "2010-12-03T00:00:00",
          "2010-12-10T00:00:00",
          "2010-12-17T00:00:00",
          "2010-12-24T00:00:00",
          "2010-12-31T00:00:00",
          "2011-01-07T00:00:00",
          "2011-01-14T00:00:00",
          "2011-01-21T00:00:00",
          "2011-01-28T00:00:00",
          "2011-02-04T00:00:00",
          "2011-02-11T00:00:00",
          "2011-02-18T00:00:00",
          "2011-02-25T00:00:00",
          "2011-03-04T00:00:00",
          "2011-03-11T00:00:00",
          "2011-03-18T00:00:00",
          "2011-03-25T00:00:00",
          "2011-04-01T00:00:00",
          "2011-04-08T00:00:00",
          "2011-04-15T00:00:00",
          "2011-04-22T00:00:00",
          "2011-04-29T00:00:00",
          "2011-05-06T00:00:00",
          "2011-05-13T00:00:00",
          "2011-05-20T00:00:00",
          "2011-05-27T00:00:00",
          "2011-06-03T00:00:00",
          "2011-06-10T00:00:00",
          "2011-06-17T00:00:00",
          "2011-06-24T00:00:00",
          "2011-07-01T00:00:00",
          "2011-07-08T00:00:00",
          "2011-07-15T00:00:00",
          "2011-07-22T00:00:00",
          "2011-07-29T00:00:00",
          "2011-08-05T00:00:00",
          "2011-08-12T00:00:00",
          "2011-08-19T00:00:00",
          "2011-08-26T00:00:00",
          "2011-09-02T00:00:00",
          "2011-09-09T00:00:00",
          "2011-09-16T00:00:00",
          "2011-09-23T00:00:00",
          "2011-09-30T00:00:00",
          "2011-10-07T00:00:00",
          "2011-10-14T00:00:00",
          "2011-10-21T00:00:00",
          "2011-10-28T00:00:00",
          "2011-11-04T00:00:00",
          "2011-11-11T00:00:00",
          "2011-11-18T00:00:00",
          "2011-11-25T00:00:00",
          "2011-12-02T00:00:00",
          "2011-12-09T00:00:00",
          "2011-12-16T00:00:00",
          "2011-12-23T00:00:00",
          "2011-12-30T00:00:00",
          "2012-01-06T00:00:00",
          "2012-01-13T00:00:00",
          "2012-01-20T00:00:00",
          "2012-01-27T00:00:00",
          "2012-02-03T00:00:00",
          "2012-02-10T00:00:00",
          "2012-02-17T00:00:00",
          "2012-02-24T00:00:00",
          "2012-03-02T00:00:00",
          "2012-03-09T00:00:00",
          "2012-03-16T00:00:00",
          "2012-03-23T00:00:00",
          "2012-03-30T00:00:00",
          "2012-04-06T00:00:00",
          "2012-04-13T00:00:00",
          "2012-04-20T00:00:00",
          "2012-04-27T00:00:00",
          "2012-05-04T00:00:00",
          "2012-05-11T00:00:00",
          "2012-05-18T00:00:00",
          "2012-05-25T00:00:00",
          "2012-06-01T00:00:00",
          "2012-06-08T00:00:00",
          "2012-06-15T00:00:00",
          "2012-06-22T00:00:00",
          "2012-06-29T00:00:00",
          "2012-07-06T00:00:00",
          "2012-07-13T00:00:00",
          "2012-07-20T00:00:00",
          "2012-07-27T00:00:00",
          "2012-08-03T00:00:00",
          "2012-08-10T00:00:00",
          "2012-08-17T00:00:00",
          "2012-08-24T00:00:00",
          "2012-08-31T00:00:00",
          "2012-09-07T00:00:00",
          "2012-09-14T00:00:00",
          "2012-09-21T00:00:00",
          "2012-09-28T00:00:00",
          "2012-10-05T00:00:00",
          "2012-10-12T00:00:00",
          "2012-10-19T00:00:00",
          "2012-10-26T00:00:00",
          "2012-11-02T00:00:00",
          "2012-11-09T00:00:00",
          "2012-11-16T00:00:00",
          "2012-11-23T00:00:00",
          "2012-11-30T00:00:00",
          "2012-12-07T00:00:00",
          "2012-12-14T00:00:00",
          "2012-12-21T00:00:00",
          "2012-12-28T00:00:00",
          "2013-01-04T00:00:00",
          "2013-01-11T00:00:00",
          "2013-01-18T00:00:00",
          "2013-01-25T00:00:00",
          "2013-02-01T00:00:00",
          "2013-02-08T00:00:00",
          "2013-02-15T00:00:00",
          "2013-02-22T00:00:00",
          "2013-03-01T00:00:00",
          "2013-03-08T00:00:00",
          "2013-03-15T00:00:00",
          "2013-03-22T00:00:00",
          "2013-03-29T00:00:00",
          "2013-04-05T00:00:00",
          "2013-04-12T00:00:00",
          "2013-04-19T00:00:00",
          "2013-04-26T00:00:00",
          "2013-05-03T00:00:00",
          "2013-05-10T00:00:00",
          "2013-05-17T00:00:00",
          "2013-05-24T00:00:00",
          "2013-05-31T00:00:00",
          "2013-06-07T00:00:00",
          "2013-06-14T00:00:00",
          "2013-06-21T00:00:00",
          "2013-06-28T00:00:00",
          "2013-07-05T00:00:00",
          "2013-07-12T00:00:00",
          "2013-07-19T00:00:00",
          "2013-07-26T00:00:00"
         ],
         "xaxis": "x",
         "y": [
          2.572,
          2.548,
          2.514,
          2.561,
          2.625,
          2.667,
          2.72,
          2.732,
          2.719,
          2.77,
          2.808,
          2.795,
          2.78,
          2.835,
          2.854,
          2.826,
          2.759,
          2.705,
          2.668,
          2.637,
          2.653,
          2.669,
          2.642,
          2.623,
          2.608,
          2.64,
          2.627,
          2.692,
          2.664,
          2.619,
          2.577,
          2.565,
          2.582,
          2.624,
          2.603,
          2.633,
          2.72,
          2.725,
          2.716,
          2.689,
          2.728,
          2.771,
          2.735,
          2.708,
          2.843,
          2.869,
          2.886,
          2.943,
          2.976,
          2.983,
          3.016,
          3.01,
          2.989,
          3.022,
          3.045,
          3.065,
          3.288,
          3.459,
          3.488,
          3.473,
          3.524,
          3.622,
          3.743,
          3.807,
          3.81,
          3.906,
          3.899,
          3.907,
          3.786,
          3.699,
          3.648,
          3.637,
          3.594,
          3.524,
          3.48,
          3.575,
          3.651,
          3.682,
          3.684,
          3.638,
          3.554,
          3.523,
          3.533,
          3.546,
          3.526,
          3.467,
          3.355,
          3.285,
          3.274,
          3.353,
          3.372,
          3.332,
          3.297,
          3.308,
          3.236,
          3.172,
          3.158,
          3.159,
          3.112,
          3.129,
          3.157,
          3.261,
          3.268,
          3.29,
          3.36,
          3.409,
          3.51,
          3.555,
          3.63,
          3.669,
          3.734,
          3.787,
          3.845,
          3.891,
          3.891,
          3.877,
          3.814,
          3.749,
          3.688,
          3.63,
          3.561,
          3.501,
          3.452,
          3.393,
          3.346,
          3.286,
          3.227,
          3.256,
          3.311,
          3.407,
          3.417,
          3.494,
          3.571,
          3.62,
          3.638,
          3.73,
          3.717,
          3.721,
          3.666,
          3.617,
          3.601,
          3.594,
          3.506,
          3.386,
          3.314,
          3.252,
          3.211,
          3.207,
          3.198,
          3.168,
          3.098,
          3.108,
          3.161,
          3.243,
          3.237,
          3.227,
          3.244,
          3.417,
          3.475,
          3.597,
          3.711,
          3.658,
          3.622,
          3.611,
          3.606,
          3.583,
          3.529,
          3.451,
          3.417,
          3.386,
          3.392,
          3.454,
          3.494,
          3.466,
          3.439,
          3.431,
          3.479,
          3.495,
          3.422,
          3.4,
          3.556,
          3.62
         ],
         "yaxis": "y"
        },
        {
         "hovertemplate": "variable=lag_52_Fuel_Price<br>Date=%{x}<br>value=%{y}<extra></extra>",
         "legendgroup": "lag_52_Fuel_Price",
         "line": {
          "color": "#EF553B",
          "dash": "solid"
         },
         "marker": {
          "symbol": "circle"
         },
         "mode": "lines",
         "name": "lag_52_Fuel_Price",
         "orientation": "v",
         "showlegend": true,
         "type": "scatter",
         "x": [
          "2010-02-05T00:00:00",
          "2010-02-12T00:00:00",
          "2010-02-19T00:00:00",
          "2010-02-26T00:00:00",
          "2010-03-05T00:00:00",
          "2010-03-12T00:00:00",
          "2010-03-19T00:00:00",
          "2010-03-26T00:00:00",
          "2010-04-02T00:00:00",
          "2010-04-09T00:00:00",
          "2010-04-16T00:00:00",
          "2010-04-23T00:00:00",
          "2010-04-30T00:00:00",
          "2010-05-07T00:00:00",
          "2010-05-14T00:00:00",
          "2010-05-21T00:00:00",
          "2010-05-28T00:00:00",
          "2010-06-04T00:00:00",
          "2010-06-11T00:00:00",
          "2010-06-18T00:00:00",
          "2010-06-25T00:00:00",
          "2010-07-02T00:00:00",
          "2010-07-09T00:00:00",
          "2010-07-16T00:00:00",
          "2010-07-23T00:00:00",
          "2010-07-30T00:00:00",
          "2010-08-06T00:00:00",
          "2010-08-13T00:00:00",
          "2010-08-20T00:00:00",
          "2010-08-27T00:00:00",
          "2010-09-03T00:00:00",
          "2010-09-10T00:00:00",
          "2010-09-17T00:00:00",
          "2010-09-24T00:00:00",
          "2010-10-01T00:00:00",
          "2010-10-08T00:00:00",
          "2010-10-15T00:00:00",
          "2010-10-22T00:00:00",
          "2010-10-29T00:00:00",
          "2010-11-05T00:00:00",
          "2010-11-12T00:00:00",
          "2010-11-19T00:00:00",
          "2010-11-26T00:00:00",
          "2010-12-03T00:00:00",
          "2010-12-10T00:00:00",
          "2010-12-17T00:00:00",
          "2010-12-24T00:00:00",
          "2010-12-31T00:00:00",
          "2011-01-07T00:00:00",
          "2011-01-14T00:00:00",
          "2011-01-21T00:00:00",
          "2011-01-28T00:00:00",
          "2011-02-04T00:00:00",
          "2011-02-11T00:00:00",
          "2011-02-18T00:00:00",
          "2011-02-25T00:00:00",
          "2011-03-04T00:00:00",
          "2011-03-11T00:00:00",
          "2011-03-18T00:00:00",
          "2011-03-25T00:00:00",
          "2011-04-01T00:00:00",
          "2011-04-08T00:00:00",
          "2011-04-15T00:00:00",
          "2011-04-22T00:00:00",
          "2011-04-29T00:00:00",
          "2011-05-06T00:00:00",
          "2011-05-13T00:00:00",
          "2011-05-20T00:00:00",
          "2011-05-27T00:00:00",
          "2011-06-03T00:00:00",
          "2011-06-10T00:00:00",
          "2011-06-17T00:00:00",
          "2011-06-24T00:00:00",
          "2011-07-01T00:00:00",
          "2011-07-08T00:00:00",
          "2011-07-15T00:00:00",
          "2011-07-22T00:00:00",
          "2011-07-29T00:00:00",
          "2011-08-05T00:00:00",
          "2011-08-12T00:00:00",
          "2011-08-19T00:00:00",
          "2011-08-26T00:00:00",
          "2011-09-02T00:00:00",
          "2011-09-09T00:00:00",
          "2011-09-16T00:00:00",
          "2011-09-23T00:00:00",
          "2011-09-30T00:00:00",
          "2011-10-07T00:00:00",
          "2011-10-14T00:00:00",
          "2011-10-21T00:00:00",
          "2011-10-28T00:00:00",
          "2011-11-04T00:00:00",
          "2011-11-11T00:00:00",
          "2011-11-18T00:00:00",
          "2011-11-25T00:00:00",
          "2011-12-02T00:00:00",
          "2011-12-09T00:00:00",
          "2011-12-16T00:00:00",
          "2011-12-23T00:00:00",
          "2011-12-30T00:00:00",
          "2012-01-06T00:00:00",
          "2012-01-13T00:00:00",
          "2012-01-20T00:00:00",
          "2012-01-27T00:00:00",
          "2012-02-03T00:00:00",
          "2012-02-10T00:00:00",
          "2012-02-17T00:00:00",
          "2012-02-24T00:00:00",
          "2012-03-02T00:00:00",
          "2012-03-09T00:00:00",
          "2012-03-16T00:00:00",
          "2012-03-23T00:00:00",
          "2012-03-30T00:00:00",
          "2012-04-06T00:00:00",
          "2012-04-13T00:00:00",
          "2012-04-20T00:00:00",
          "2012-04-27T00:00:00",
          "2012-05-04T00:00:00",
          "2012-05-11T00:00:00",
          "2012-05-18T00:00:00",
          "2012-05-25T00:00:00",
          "2012-06-01T00:00:00",
          "2012-06-08T00:00:00",
          "2012-06-15T00:00:00",
          "2012-06-22T00:00:00",
          "2012-06-29T00:00:00",
          "2012-07-06T00:00:00",
          "2012-07-13T00:00:00",
          "2012-07-20T00:00:00",
          "2012-07-27T00:00:00",
          "2012-08-03T00:00:00",
          "2012-08-10T00:00:00",
          "2012-08-17T00:00:00",
          "2012-08-24T00:00:00",
          "2012-08-31T00:00:00",
          "2012-09-07T00:00:00",
          "2012-09-14T00:00:00",
          "2012-09-21T00:00:00",
          "2012-09-28T00:00:00",
          "2012-10-05T00:00:00",
          "2012-10-12T00:00:00",
          "2012-10-19T00:00:00",
          "2012-10-26T00:00:00",
          "2012-11-02T00:00:00",
          "2012-11-09T00:00:00",
          "2012-11-16T00:00:00",
          "2012-11-23T00:00:00",
          "2012-11-30T00:00:00",
          "2012-12-07T00:00:00",
          "2012-12-14T00:00:00",
          "2012-12-21T00:00:00",
          "2012-12-28T00:00:00",
          "2013-01-04T00:00:00",
          "2013-01-11T00:00:00",
          "2013-01-18T00:00:00",
          "2013-01-25T00:00:00",
          "2013-02-01T00:00:00",
          "2013-02-08T00:00:00",
          "2013-02-15T00:00:00",
          "2013-02-22T00:00:00",
          "2013-03-01T00:00:00",
          "2013-03-08T00:00:00",
          "2013-03-15T00:00:00",
          "2013-03-22T00:00:00",
          "2013-03-29T00:00:00",
          "2013-04-05T00:00:00",
          "2013-04-12T00:00:00",
          "2013-04-19T00:00:00",
          "2013-04-26T00:00:00",
          "2013-05-03T00:00:00",
          "2013-05-10T00:00:00",
          "2013-05-17T00:00:00",
          "2013-05-24T00:00:00",
          "2013-05-31T00:00:00",
          "2013-06-07T00:00:00",
          "2013-06-14T00:00:00",
          "2013-06-21T00:00:00",
          "2013-06-28T00:00:00",
          "2013-07-05T00:00:00",
          "2013-07-12T00:00:00",
          "2013-07-19T00:00:00",
          "2013-07-26T00:00:00"
         ],
         "xaxis": "x",
         "y": [
          null,
          null,
          null,
          null,
          null,
          null,
          null,
          null,
          null,
          null,
          null,
          null,
          null,
          null,
          null,
          null,
          null,
          null,
          null,
          null,
          null,
          null,
          null,
          null,
          null,
          null,
          null,
          null,
          null,
          null,
          null,
          null,
          null,
          null,
          null,
          null,
          null,
          null,
          null,
          null,
          null,
          null,
          null,
          null,
          null,
          null,
          null,
          null,
          null,
          null,
          null,
          null,
          2.572,
          2.548,
          2.514,
          2.561,
          2.625,
          2.667,
          2.72,
          2.732,
          2.719,
          2.77,
          2.808,
          2.795,
          2.78,
          2.835,
          2.854,
          2.826,
          2.759,
          2.705,
          2.668,
          2.637,
          2.653,
          2.669,
          2.642,
          2.623,
          2.608,
          2.64,
          2.627,
          2.692,
          2.664,
          2.619,
          2.577,
          2.565,
          2.582,
          2.624,
          2.603,
          2.633,
          2.72,
          2.725,
          2.716,
          2.689,
          2.728,
          2.771,
          2.735,
          2.708,
          2.843,
          2.869,
          2.886,
          2.943,
          2.976,
          2.983,
          3.016,
          3.01,
          2.989,
          3.022,
          3.045,
          3.065,
          3.288,
          3.459,
          3.488,
          3.473,
          3.524,
          3.622,
          3.743,
          3.807,
          3.81,
          3.906,
          3.899,
          3.907,
          3.786,
          3.699,
          3.648,
          3.637,
          3.594,
          3.524,
          3.48,
          3.575,
          3.651,
          3.682,
          3.684,
          3.638,
          3.554,
          3.523,
          3.533,
          3.546,
          3.526,
          3.467,
          3.355,
          3.285,
          3.274,
          3.353,
          3.372,
          3.332,
          3.297,
          3.308,
          3.236,
          3.172,
          3.158,
          3.159,
          3.112,
          3.129,
          3.157,
          3.261,
          3.268,
          3.29,
          3.36,
          3.409,
          3.51,
          3.555,
          3.63,
          3.669,
          3.734,
          3.787,
          3.845,
          3.891,
          3.891,
          3.877,
          3.814,
          3.749,
          3.688,
          3.63,
          3.561,
          3.501,
          3.452,
          3.393,
          3.346,
          3.286,
          3.227,
          3.256,
          3.311,
          3.407
         ],
         "yaxis": "y"
        }
       ],
       "layout": {
        "legend": {
         "title": {
          "text": "variable"
         },
         "tracegroupgap": 0
        },
        "template": {
         "data": {
          "bar": [
           {
            "error_x": {
             "color": "#2a3f5f"
            },
            "error_y": {
             "color": "#2a3f5f"
            },
            "marker": {
             "line": {
              "color": "#E5ECF6",
              "width": 0.5
             },
             "pattern": {
              "fillmode": "overlay",
              "size": 10,
              "solidity": 0.2
             }
            },
            "type": "bar"
           }
          ],
          "barpolar": [
           {
            "marker": {
             "line": {
              "color": "#E5ECF6",
              "width": 0.5
             },
             "pattern": {
              "fillmode": "overlay",
              "size": 10,
              "solidity": 0.2
             }
            },
            "type": "barpolar"
           }
          ],
          "carpet": [
           {
            "aaxis": {
             "endlinecolor": "#2a3f5f",
             "gridcolor": "white",
             "linecolor": "white",
             "minorgridcolor": "white",
             "startlinecolor": "#2a3f5f"
            },
            "baxis": {
             "endlinecolor": "#2a3f5f",
             "gridcolor": "white",
             "linecolor": "white",
             "minorgridcolor": "white",
             "startlinecolor": "#2a3f5f"
            },
            "type": "carpet"
           }
          ],
          "choropleth": [
           {
            "colorbar": {
             "outlinewidth": 0,
             "ticks": ""
            },
            "type": "choropleth"
           }
          ],
          "contour": [
           {
            "colorbar": {
             "outlinewidth": 0,
             "ticks": ""
            },
            "colorscale": [
             [
              0,
              "#0d0887"
             ],
             [
              0.1111111111111111,
              "#46039f"
             ],
             [
              0.2222222222222222,
              "#7201a8"
             ],
             [
              0.3333333333333333,
              "#9c179e"
             ],
             [
              0.4444444444444444,
              "#bd3786"
             ],
             [
              0.5555555555555556,
              "#d8576b"
             ],
             [
              0.6666666666666666,
              "#ed7953"
             ],
             [
              0.7777777777777778,
              "#fb9f3a"
             ],
             [
              0.8888888888888888,
              "#fdca26"
             ],
             [
              1,
              "#f0f921"
             ]
            ],
            "type": "contour"
           }
          ],
          "contourcarpet": [
           {
            "colorbar": {
             "outlinewidth": 0,
             "ticks": ""
            },
            "type": "contourcarpet"
           }
          ],
          "heatmap": [
           {
            "colorbar": {
             "outlinewidth": 0,
             "ticks": ""
            },
            "colorscale": [
             [
              0,
              "#0d0887"
             ],
             [
              0.1111111111111111,
              "#46039f"
             ],
             [
              0.2222222222222222,
              "#7201a8"
             ],
             [
              0.3333333333333333,
              "#9c179e"
             ],
             [
              0.4444444444444444,
              "#bd3786"
             ],
             [
              0.5555555555555556,
              "#d8576b"
             ],
             [
              0.6666666666666666,
              "#ed7953"
             ],
             [
              0.7777777777777778,
              "#fb9f3a"
             ],
             [
              0.8888888888888888,
              "#fdca26"
             ],
             [
              1,
              "#f0f921"
             ]
            ],
            "type": "heatmap"
           }
          ],
          "heatmapgl": [
           {
            "colorbar": {
             "outlinewidth": 0,
             "ticks": ""
            },
            "colorscale": [
             [
              0,
              "#0d0887"
             ],
             [
              0.1111111111111111,
              "#46039f"
             ],
             [
              0.2222222222222222,
              "#7201a8"
             ],
             [
              0.3333333333333333,
              "#9c179e"
             ],
             [
              0.4444444444444444,
              "#bd3786"
             ],
             [
              0.5555555555555556,
              "#d8576b"
             ],
             [
              0.6666666666666666,
              "#ed7953"
             ],
             [
              0.7777777777777778,
              "#fb9f3a"
             ],
             [
              0.8888888888888888,
              "#fdca26"
             ],
             [
              1,
              "#f0f921"
             ]
            ],
            "type": "heatmapgl"
           }
          ],
          "histogram": [
           {
            "marker": {
             "pattern": {
              "fillmode": "overlay",
              "size": 10,
              "solidity": 0.2
             }
            },
            "type": "histogram"
           }
          ],
          "histogram2d": [
           {
            "colorbar": {
             "outlinewidth": 0,
             "ticks": ""
            },
            "colorscale": [
             [
              0,
              "#0d0887"
             ],
             [
              0.1111111111111111,
              "#46039f"
             ],
             [
              0.2222222222222222,
              "#7201a8"
             ],
             [
              0.3333333333333333,
              "#9c179e"
             ],
             [
              0.4444444444444444,
              "#bd3786"
             ],
             [
              0.5555555555555556,
              "#d8576b"
             ],
             [
              0.6666666666666666,
              "#ed7953"
             ],
             [
              0.7777777777777778,
              "#fb9f3a"
             ],
             [
              0.8888888888888888,
              "#fdca26"
             ],
             [
              1,
              "#f0f921"
             ]
            ],
            "type": "histogram2d"
           }
          ],
          "histogram2dcontour": [
           {
            "colorbar": {
             "outlinewidth": 0,
             "ticks": ""
            },
            "colorscale": [
             [
              0,
              "#0d0887"
             ],
             [
              0.1111111111111111,
              "#46039f"
             ],
             [
              0.2222222222222222,
              "#7201a8"
             ],
             [
              0.3333333333333333,
              "#9c179e"
             ],
             [
              0.4444444444444444,
              "#bd3786"
             ],
             [
              0.5555555555555556,
              "#d8576b"
             ],
             [
              0.6666666666666666,
              "#ed7953"
             ],
             [
              0.7777777777777778,
              "#fb9f3a"
             ],
             [
              0.8888888888888888,
              "#fdca26"
             ],
             [
              1,
              "#f0f921"
             ]
            ],
            "type": "histogram2dcontour"
           }
          ],
          "mesh3d": [
           {
            "colorbar": {
             "outlinewidth": 0,
             "ticks": ""
            },
            "type": "mesh3d"
           }
          ],
          "parcoords": [
           {
            "line": {
             "colorbar": {
              "outlinewidth": 0,
              "ticks": ""
             }
            },
            "type": "parcoords"
           }
          ],
          "pie": [
           {
            "automargin": true,
            "type": "pie"
           }
          ],
          "scatter": [
           {
            "fillpattern": {
             "fillmode": "overlay",
             "size": 10,
             "solidity": 0.2
            },
            "type": "scatter"
           }
          ],
          "scatter3d": [
           {
            "line": {
             "colorbar": {
              "outlinewidth": 0,
              "ticks": ""
             }
            },
            "marker": {
             "colorbar": {
              "outlinewidth": 0,
              "ticks": ""
             }
            },
            "type": "scatter3d"
           }
          ],
          "scattercarpet": [
           {
            "marker": {
             "colorbar": {
              "outlinewidth": 0,
              "ticks": ""
             }
            },
            "type": "scattercarpet"
           }
          ],
          "scattergeo": [
           {
            "marker": {
             "colorbar": {
              "outlinewidth": 0,
              "ticks": ""
             }
            },
            "type": "scattergeo"
           }
          ],
          "scattergl": [
           {
            "marker": {
             "colorbar": {
              "outlinewidth": 0,
              "ticks": ""
             }
            },
            "type": "scattergl"
           }
          ],
          "scattermapbox": [
           {
            "marker": {
             "colorbar": {
              "outlinewidth": 0,
              "ticks": ""
             }
            },
            "type": "scattermapbox"
           }
          ],
          "scatterpolar": [
           {
            "marker": {
             "colorbar": {
              "outlinewidth": 0,
              "ticks": ""
             }
            },
            "type": "scatterpolar"
           }
          ],
          "scatterpolargl": [
           {
            "marker": {
             "colorbar": {
              "outlinewidth": 0,
              "ticks": ""
             }
            },
            "type": "scatterpolargl"
           }
          ],
          "scatterternary": [
           {
            "marker": {
             "colorbar": {
              "outlinewidth": 0,
              "ticks": ""
             }
            },
            "type": "scatterternary"
           }
          ],
          "surface": [
           {
            "colorbar": {
             "outlinewidth": 0,
             "ticks": ""
            },
            "colorscale": [
             [
              0,
              "#0d0887"
             ],
             [
              0.1111111111111111,
              "#46039f"
             ],
             [
              0.2222222222222222,
              "#7201a8"
             ],
             [
              0.3333333333333333,
              "#9c179e"
             ],
             [
              0.4444444444444444,
              "#bd3786"
             ],
             [
              0.5555555555555556,
              "#d8576b"
             ],
             [
              0.6666666666666666,
              "#ed7953"
             ],
             [
              0.7777777777777778,
              "#fb9f3a"
             ],
             [
              0.8888888888888888,
              "#fdca26"
             ],
             [
              1,
              "#f0f921"
             ]
            ],
            "type": "surface"
           }
          ],
          "table": [
           {
            "cells": {
             "fill": {
              "color": "#EBF0F8"
             },
             "line": {
              "color": "white"
             }
            },
            "header": {
             "fill": {
              "color": "#C8D4E3"
             },
             "line": {
              "color": "white"
             }
            },
            "type": "table"
           }
          ]
         },
         "layout": {
          "annotationdefaults": {
           "arrowcolor": "#2a3f5f",
           "arrowhead": 0,
           "arrowwidth": 1
          },
          "autotypenumbers": "strict",
          "coloraxis": {
           "colorbar": {
            "outlinewidth": 0,
            "ticks": ""
           }
          },
          "colorscale": {
           "diverging": [
            [
             0,
             "#8e0152"
            ],
            [
             0.1,
             "#c51b7d"
            ],
            [
             0.2,
             "#de77ae"
            ],
            [
             0.3,
             "#f1b6da"
            ],
            [
             0.4,
             "#fde0ef"
            ],
            [
             0.5,
             "#f7f7f7"
            ],
            [
             0.6,
             "#e6f5d0"
            ],
            [
             0.7,
             "#b8e186"
            ],
            [
             0.8,
             "#7fbc41"
            ],
            [
             0.9,
             "#4d9221"
            ],
            [
             1,
             "#276419"
            ]
           ],
           "sequential": [
            [
             0,
             "#0d0887"
            ],
            [
             0.1111111111111111,
             "#46039f"
            ],
            [
             0.2222222222222222,
             "#7201a8"
            ],
            [
             0.3333333333333333,
             "#9c179e"
            ],
            [
             0.4444444444444444,
             "#bd3786"
            ],
            [
             0.5555555555555556,
             "#d8576b"
            ],
            [
             0.6666666666666666,
             "#ed7953"
            ],
            [
             0.7777777777777778,
             "#fb9f3a"
            ],
            [
             0.8888888888888888,
             "#fdca26"
            ],
            [
             1,
             "#f0f921"
            ]
           ],
           "sequentialminus": [
            [
             0,
             "#0d0887"
            ],
            [
             0.1111111111111111,
             "#46039f"
            ],
            [
             0.2222222222222222,
             "#7201a8"
            ],
            [
             0.3333333333333333,
             "#9c179e"
            ],
            [
             0.4444444444444444,
             "#bd3786"
            ],
            [
             0.5555555555555556,
             "#d8576b"
            ],
            [
             0.6666666666666666,
             "#ed7953"
            ],
            [
             0.7777777777777778,
             "#fb9f3a"
            ],
            [
             0.8888888888888888,
             "#fdca26"
            ],
            [
             1,
             "#f0f921"
            ]
           ]
          },
          "colorway": [
           "#636efa",
           "#EF553B",
           "#00cc96",
           "#ab63fa",
           "#FFA15A",
           "#19d3f3",
           "#FF6692",
           "#B6E880",
           "#FF97FF",
           "#FECB52"
          ],
          "font": {
           "color": "#2a3f5f"
          },
          "geo": {
           "bgcolor": "white",
           "lakecolor": "white",
           "landcolor": "#E5ECF6",
           "showlakes": true,
           "showland": true,
           "subunitcolor": "white"
          },
          "hoverlabel": {
           "align": "left"
          },
          "hovermode": "closest",
          "mapbox": {
           "style": "light"
          },
          "paper_bgcolor": "white",
          "plot_bgcolor": "#E5ECF6",
          "polar": {
           "angularaxis": {
            "gridcolor": "white",
            "linecolor": "white",
            "ticks": ""
           },
           "bgcolor": "#E5ECF6",
           "radialaxis": {
            "gridcolor": "white",
            "linecolor": "white",
            "ticks": ""
           }
          },
          "scene": {
           "xaxis": {
            "backgroundcolor": "#E5ECF6",
            "gridcolor": "white",
            "gridwidth": 2,
            "linecolor": "white",
            "showbackground": true,
            "ticks": "",
            "zerolinecolor": "white"
           },
           "yaxis": {
            "backgroundcolor": "#E5ECF6",
            "gridcolor": "white",
            "gridwidth": 2,
            "linecolor": "white",
            "showbackground": true,
            "ticks": "",
            "zerolinecolor": "white"
           },
           "zaxis": {
            "backgroundcolor": "#E5ECF6",
            "gridcolor": "white",
            "gridwidth": 2,
            "linecolor": "white",
            "showbackground": true,
            "ticks": "",
            "zerolinecolor": "white"
           }
          },
          "shapedefaults": {
           "line": {
            "color": "#2a3f5f"
           }
          },
          "ternary": {
           "aaxis": {
            "gridcolor": "white",
            "linecolor": "white",
            "ticks": ""
           },
           "baxis": {
            "gridcolor": "white",
            "linecolor": "white",
            "ticks": ""
           },
           "bgcolor": "#E5ECF6",
           "caxis": {
            "gridcolor": "white",
            "linecolor": "white",
            "ticks": ""
           }
          },
          "title": {
           "x": 0.05
          },
          "xaxis": {
           "automargin": true,
           "gridcolor": "white",
           "linecolor": "white",
           "ticks": "",
           "title": {
            "standoff": 15
           },
           "zerolinecolor": "white",
           "zerolinewidth": 2
          },
          "yaxis": {
           "automargin": true,
           "gridcolor": "white",
           "linecolor": "white",
           "ticks": "",
           "title": {
            "standoff": 15
           },
           "zerolinecolor": "white",
           "zerolinewidth": 2
          }
         }
        },
        "title": {
         "text": "Fuel_Price and Lag 52 Weeks"
        },
        "xaxis": {
         "anchor": "y",
         "domain": [
          0,
          1
         ],
         "title": {
          "text": "Date"
         }
        },
        "yaxis": {
         "anchor": "x",
         "domain": [
          0,
          1
         ],
         "title": {
          "text": "value"
         }
        }
       }
      }
     },
     "metadata": {},
     "output_type": "display_data"
    }
   ],
   "source": [
    "view_data_horizon(data, target=\"Fuel_Price\", back_horizon=52)"
   ]
  },
  {
   "cell_type": "code",
   "execution_count": 16,
   "metadata": {},
   "outputs": [
    {
     "data": {
      "application/vnd.plotly.v1+json": {
       "config": {
        "plotlyServerURL": "https://plot.ly"
       },
       "data": [
        {
         "hovertemplate": "variable=Weekly_Sales<br>Date=%{x}<br>value=%{y}<extra></extra>",
         "legendgroup": "Weekly_Sales",
         "line": {
          "color": "#636efa",
          "dash": "solid"
         },
         "marker": {
          "symbol": "circle"
         },
         "mode": "lines",
         "name": "Weekly_Sales",
         "orientation": "v",
         "showlegend": true,
         "type": "scatter",
         "x": [
          "2010-02-05T00:00:00",
          "2010-02-12T00:00:00",
          "2010-02-19T00:00:00",
          "2010-02-26T00:00:00",
          "2010-03-05T00:00:00",
          "2010-03-12T00:00:00",
          "2010-03-19T00:00:00",
          "2010-03-26T00:00:00",
          "2010-04-02T00:00:00",
          "2010-04-09T00:00:00",
          "2010-04-16T00:00:00",
          "2010-04-23T00:00:00",
          "2010-04-30T00:00:00",
          "2010-05-07T00:00:00",
          "2010-05-14T00:00:00",
          "2010-05-21T00:00:00",
          "2010-05-28T00:00:00",
          "2010-06-04T00:00:00",
          "2010-06-11T00:00:00",
          "2010-06-18T00:00:00",
          "2010-06-25T00:00:00",
          "2010-07-02T00:00:00",
          "2010-07-09T00:00:00",
          "2010-07-16T00:00:00",
          "2010-07-23T00:00:00",
          "2010-07-30T00:00:00",
          "2010-08-06T00:00:00",
          "2010-08-13T00:00:00",
          "2010-08-20T00:00:00",
          "2010-08-27T00:00:00",
          "2010-09-03T00:00:00",
          "2010-09-10T00:00:00",
          "2010-09-17T00:00:00",
          "2010-09-24T00:00:00",
          "2010-10-01T00:00:00",
          "2010-10-08T00:00:00",
          "2010-10-15T00:00:00",
          "2010-10-22T00:00:00",
          "2010-10-29T00:00:00",
          "2010-11-05T00:00:00",
          "2010-11-12T00:00:00",
          "2010-11-19T00:00:00",
          "2010-11-26T00:00:00",
          "2010-12-03T00:00:00",
          "2010-12-10T00:00:00",
          "2010-12-17T00:00:00",
          "2010-12-24T00:00:00",
          "2010-12-31T00:00:00",
          "2011-01-07T00:00:00",
          "2011-01-14T00:00:00",
          "2011-01-21T00:00:00",
          "2011-01-28T00:00:00",
          "2011-02-04T00:00:00",
          "2011-02-11T00:00:00",
          "2011-02-18T00:00:00",
          "2011-02-25T00:00:00",
          "2011-03-04T00:00:00",
          "2011-03-11T00:00:00",
          "2011-03-18T00:00:00",
          "2011-03-25T00:00:00",
          "2011-04-01T00:00:00",
          "2011-04-08T00:00:00",
          "2011-04-15T00:00:00",
          "2011-04-22T00:00:00",
          "2011-04-29T00:00:00",
          "2011-05-06T00:00:00",
          "2011-05-13T00:00:00",
          "2011-05-20T00:00:00",
          "2011-05-27T00:00:00",
          "2011-06-03T00:00:00",
          "2011-06-10T00:00:00",
          "2011-06-17T00:00:00",
          "2011-06-24T00:00:00",
          "2011-07-01T00:00:00",
          "2011-07-08T00:00:00",
          "2011-07-15T00:00:00",
          "2011-07-22T00:00:00",
          "2011-07-29T00:00:00",
          "2011-08-05T00:00:00",
          "2011-08-12T00:00:00",
          "2011-08-19T00:00:00",
          "2011-08-26T00:00:00",
          "2011-09-02T00:00:00",
          "2011-09-09T00:00:00",
          "2011-09-16T00:00:00",
          "2011-09-23T00:00:00",
          "2011-09-30T00:00:00",
          "2011-10-07T00:00:00",
          "2011-10-14T00:00:00",
          "2011-10-21T00:00:00",
          "2011-10-28T00:00:00",
          "2011-11-04T00:00:00",
          "2011-11-11T00:00:00",
          "2011-11-18T00:00:00",
          "2011-11-25T00:00:00",
          "2011-12-02T00:00:00",
          "2011-12-09T00:00:00",
          "2011-12-16T00:00:00",
          "2011-12-23T00:00:00",
          "2011-12-30T00:00:00",
          "2012-01-06T00:00:00",
          "2012-01-13T00:00:00",
          "2012-01-20T00:00:00",
          "2012-01-27T00:00:00",
          "2012-02-03T00:00:00",
          "2012-02-10T00:00:00",
          "2012-02-17T00:00:00",
          "2012-02-24T00:00:00",
          "2012-03-02T00:00:00",
          "2012-03-09T00:00:00",
          "2012-03-16T00:00:00",
          "2012-03-23T00:00:00",
          "2012-03-30T00:00:00",
          "2012-04-06T00:00:00",
          "2012-04-13T00:00:00",
          "2012-04-20T00:00:00",
          "2012-04-27T00:00:00",
          "2012-05-04T00:00:00",
          "2012-05-11T00:00:00",
          "2012-05-18T00:00:00",
          "2012-05-25T00:00:00",
          "2012-06-01T00:00:00",
          "2012-06-08T00:00:00",
          "2012-06-15T00:00:00",
          "2012-06-22T00:00:00",
          "2012-06-29T00:00:00",
          "2012-07-06T00:00:00",
          "2012-07-13T00:00:00",
          "2012-07-20T00:00:00",
          "2012-07-27T00:00:00",
          "2012-08-03T00:00:00",
          "2012-08-10T00:00:00",
          "2012-08-17T00:00:00",
          "2012-08-24T00:00:00",
          "2012-08-31T00:00:00",
          "2012-09-07T00:00:00",
          "2012-09-14T00:00:00",
          "2012-09-21T00:00:00",
          "2012-09-28T00:00:00",
          "2012-10-05T00:00:00",
          "2012-10-12T00:00:00",
          "2012-10-19T00:00:00",
          "2012-10-26T00:00:00",
          "2012-11-02T00:00:00",
          "2012-11-09T00:00:00",
          "2012-11-16T00:00:00",
          "2012-11-23T00:00:00",
          "2012-11-30T00:00:00",
          "2012-12-07T00:00:00",
          "2012-12-14T00:00:00",
          "2012-12-21T00:00:00",
          "2012-12-28T00:00:00",
          "2013-01-04T00:00:00",
          "2013-01-11T00:00:00",
          "2013-01-18T00:00:00",
          "2013-01-25T00:00:00",
          "2013-02-01T00:00:00",
          "2013-02-08T00:00:00",
          "2013-02-15T00:00:00",
          "2013-02-22T00:00:00",
          "2013-03-01T00:00:00",
          "2013-03-08T00:00:00",
          "2013-03-15T00:00:00",
          "2013-03-22T00:00:00",
          "2013-03-29T00:00:00",
          "2013-04-05T00:00:00",
          "2013-04-12T00:00:00",
          "2013-04-19T00:00:00",
          "2013-04-26T00:00:00",
          "2013-05-03T00:00:00",
          "2013-05-10T00:00:00",
          "2013-05-17T00:00:00",
          "2013-05-24T00:00:00",
          "2013-05-31T00:00:00",
          "2013-06-07T00:00:00",
          "2013-06-14T00:00:00",
          "2013-06-21T00:00:00",
          "2013-06-28T00:00:00",
          "2013-07-05T00:00:00",
          "2013-07-12T00:00:00",
          "2013-07-19T00:00:00",
          "2013-07-26T00:00:00"
         ],
         "xaxis": "x",
         "y": [
          24924.5,
          46039.49,
          41595.55,
          19403.54,
          21827.9,
          21043.39,
          22136.64,
          26229.21,
          57258.43,
          42960.91,
          17596.96,
          16145.35,
          16555.11,
          17413.94,
          18926.74,
          14773.04,
          15580.43,
          17558.09,
          16637.62,
          16216.27,
          16328.72,
          16333.14,
          17688.76,
          17150.84,
          15360.45,
          15381.82,
          17508.41,
          15536.4,
          15740.13,
          15793.87,
          16241.78,
          18194.74,
          19354.23,
          18122.52,
          20094.19,
          23388.03,
          26978.34,
          25543.04,
          38640.93,
          34238.88,
          19549.39,
          19552.84,
          18820.29,
          22517.56,
          31497.65,
          44912.86,
          55931.23,
          19124.58,
          15984.24,
          17359.7,
          17341.47,
          18461.18,
          21665.76,
          37887.17,
          46845.87,
          19363.83,
          20327.61,
          21280.4,
          20334.23,
          20881.1,
          20398.09,
          23873.79,
          28762.37,
          50510.31,
          41512.39,
          20138.19,
          17235.15,
          15136.78,
          15741.6,
          16434.15,
          15883.52,
          14978.09,
          15682.81,
          15363.5,
          16148.87,
          15654.85,
          15766.6,
          15922.41,
          15295.55,
          14539.79,
          14689.24,
          14537.37,
          15277.27,
          17746.68,
          18535.48,
          17859.3,
          18337.68,
          20797.58,
          23077.55,
          23351.8,
          31579.9,
          39886.06,
          18689.54,
          19050.66,
          20911.25,
          25293.49,
          33305.92,
          45773.03,
          46788.75,
          23350.88,
          16567.69,
          16894.4,
          18365.1,
          18378.16,
          23510.49,
          36988.49,
          54060.1,
          20124.22,
          20113.03,
          21140.07,
          22366.88,
          22107.7,
          28952.86,
          57592.12,
          34684.21,
          16976.19,
          16347.6,
          17147.44,
          18164.2,
          18517.79,
          16963.55,
          16065.49,
          17666,
          17558.82,
          16633.41,
          15722.82,
          17823.37,
          16566.18,
          16348.06,
          15731.18,
          16628.31,
          16119.92,
          17330.7,
          16286.4,
          16680.24,
          18322.37,
          19616.22,
          19251.5,
          18947.81,
          21904.47,
          22764.01,
          24185.27,
          27390.81,
          0,
          0,
          0,
          0,
          0,
          0,
          0,
          0,
          0,
          0,
          0,
          0,
          0,
          0,
          0,
          0,
          0,
          0,
          0,
          0,
          0,
          0,
          0,
          0,
          0,
          0,
          0,
          0,
          0,
          0,
          0,
          0,
          0,
          0,
          0,
          0,
          0,
          0,
          0
         ],
         "yaxis": "y"
        },
        {
         "hovertemplate": "variable=lag_52_Weekly_Sales<br>Date=%{x}<br>value=%{y}<extra></extra>",
         "legendgroup": "lag_52_Weekly_Sales",
         "line": {
          "color": "#EF553B",
          "dash": "solid"
         },
         "marker": {
          "symbol": "circle"
         },
         "mode": "lines",
         "name": "lag_52_Weekly_Sales",
         "orientation": "v",
         "showlegend": true,
         "type": "scatter",
         "x": [
          "2010-02-05T00:00:00",
          "2010-02-12T00:00:00",
          "2010-02-19T00:00:00",
          "2010-02-26T00:00:00",
          "2010-03-05T00:00:00",
          "2010-03-12T00:00:00",
          "2010-03-19T00:00:00",
          "2010-03-26T00:00:00",
          "2010-04-02T00:00:00",
          "2010-04-09T00:00:00",
          "2010-04-16T00:00:00",
          "2010-04-23T00:00:00",
          "2010-04-30T00:00:00",
          "2010-05-07T00:00:00",
          "2010-05-14T00:00:00",
          "2010-05-21T00:00:00",
          "2010-05-28T00:00:00",
          "2010-06-04T00:00:00",
          "2010-06-11T00:00:00",
          "2010-06-18T00:00:00",
          "2010-06-25T00:00:00",
          "2010-07-02T00:00:00",
          "2010-07-09T00:00:00",
          "2010-07-16T00:00:00",
          "2010-07-23T00:00:00",
          "2010-07-30T00:00:00",
          "2010-08-06T00:00:00",
          "2010-08-13T00:00:00",
          "2010-08-20T00:00:00",
          "2010-08-27T00:00:00",
          "2010-09-03T00:00:00",
          "2010-09-10T00:00:00",
          "2010-09-17T00:00:00",
          "2010-09-24T00:00:00",
          "2010-10-01T00:00:00",
          "2010-10-08T00:00:00",
          "2010-10-15T00:00:00",
          "2010-10-22T00:00:00",
          "2010-10-29T00:00:00",
          "2010-11-05T00:00:00",
          "2010-11-12T00:00:00",
          "2010-11-19T00:00:00",
          "2010-11-26T00:00:00",
          "2010-12-03T00:00:00",
          "2010-12-10T00:00:00",
          "2010-12-17T00:00:00",
          "2010-12-24T00:00:00",
          "2010-12-31T00:00:00",
          "2011-01-07T00:00:00",
          "2011-01-14T00:00:00",
          "2011-01-21T00:00:00",
          "2011-01-28T00:00:00",
          "2011-02-04T00:00:00",
          "2011-02-11T00:00:00",
          "2011-02-18T00:00:00",
          "2011-02-25T00:00:00",
          "2011-03-04T00:00:00",
          "2011-03-11T00:00:00",
          "2011-03-18T00:00:00",
          "2011-03-25T00:00:00",
          "2011-04-01T00:00:00",
          "2011-04-08T00:00:00",
          "2011-04-15T00:00:00",
          "2011-04-22T00:00:00",
          "2011-04-29T00:00:00",
          "2011-05-06T00:00:00",
          "2011-05-13T00:00:00",
          "2011-05-20T00:00:00",
          "2011-05-27T00:00:00",
          "2011-06-03T00:00:00",
          "2011-06-10T00:00:00",
          "2011-06-17T00:00:00",
          "2011-06-24T00:00:00",
          "2011-07-01T00:00:00",
          "2011-07-08T00:00:00",
          "2011-07-15T00:00:00",
          "2011-07-22T00:00:00",
          "2011-07-29T00:00:00",
          "2011-08-05T00:00:00",
          "2011-08-12T00:00:00",
          "2011-08-19T00:00:00",
          "2011-08-26T00:00:00",
          "2011-09-02T00:00:00",
          "2011-09-09T00:00:00",
          "2011-09-16T00:00:00",
          "2011-09-23T00:00:00",
          "2011-09-30T00:00:00",
          "2011-10-07T00:00:00",
          "2011-10-14T00:00:00",
          "2011-10-21T00:00:00",
          "2011-10-28T00:00:00",
          "2011-11-04T00:00:00",
          "2011-11-11T00:00:00",
          "2011-11-18T00:00:00",
          "2011-11-25T00:00:00",
          "2011-12-02T00:00:00",
          "2011-12-09T00:00:00",
          "2011-12-16T00:00:00",
          "2011-12-23T00:00:00",
          "2011-12-30T00:00:00",
          "2012-01-06T00:00:00",
          "2012-01-13T00:00:00",
          "2012-01-20T00:00:00",
          "2012-01-27T00:00:00",
          "2012-02-03T00:00:00",
          "2012-02-10T00:00:00",
          "2012-02-17T00:00:00",
          "2012-02-24T00:00:00",
          "2012-03-02T00:00:00",
          "2012-03-09T00:00:00",
          "2012-03-16T00:00:00",
          "2012-03-23T00:00:00",
          "2012-03-30T00:00:00",
          "2012-04-06T00:00:00",
          "2012-04-13T00:00:00",
          "2012-04-20T00:00:00",
          "2012-04-27T00:00:00",
          "2012-05-04T00:00:00",
          "2012-05-11T00:00:00",
          "2012-05-18T00:00:00",
          "2012-05-25T00:00:00",
          "2012-06-01T00:00:00",
          "2012-06-08T00:00:00",
          "2012-06-15T00:00:00",
          "2012-06-22T00:00:00",
          "2012-06-29T00:00:00",
          "2012-07-06T00:00:00",
          "2012-07-13T00:00:00",
          "2012-07-20T00:00:00",
          "2012-07-27T00:00:00",
          "2012-08-03T00:00:00",
          "2012-08-10T00:00:00",
          "2012-08-17T00:00:00",
          "2012-08-24T00:00:00",
          "2012-08-31T00:00:00",
          "2012-09-07T00:00:00",
          "2012-09-14T00:00:00",
          "2012-09-21T00:00:00",
          "2012-09-28T00:00:00",
          "2012-10-05T00:00:00",
          "2012-10-12T00:00:00",
          "2012-10-19T00:00:00",
          "2012-10-26T00:00:00",
          "2012-11-02T00:00:00",
          "2012-11-09T00:00:00",
          "2012-11-16T00:00:00",
          "2012-11-23T00:00:00",
          "2012-11-30T00:00:00",
          "2012-12-07T00:00:00",
          "2012-12-14T00:00:00",
          "2012-12-21T00:00:00",
          "2012-12-28T00:00:00",
          "2013-01-04T00:00:00",
          "2013-01-11T00:00:00",
          "2013-01-18T00:00:00",
          "2013-01-25T00:00:00",
          "2013-02-01T00:00:00",
          "2013-02-08T00:00:00",
          "2013-02-15T00:00:00",
          "2013-02-22T00:00:00",
          "2013-03-01T00:00:00",
          "2013-03-08T00:00:00",
          "2013-03-15T00:00:00",
          "2013-03-22T00:00:00",
          "2013-03-29T00:00:00",
          "2013-04-05T00:00:00",
          "2013-04-12T00:00:00",
          "2013-04-19T00:00:00",
          "2013-04-26T00:00:00",
          "2013-05-03T00:00:00",
          "2013-05-10T00:00:00",
          "2013-05-17T00:00:00",
          "2013-05-24T00:00:00",
          "2013-05-31T00:00:00",
          "2013-06-07T00:00:00",
          "2013-06-14T00:00:00",
          "2013-06-21T00:00:00",
          "2013-06-28T00:00:00",
          "2013-07-05T00:00:00",
          "2013-07-12T00:00:00",
          "2013-07-19T00:00:00",
          "2013-07-26T00:00:00"
         ],
         "xaxis": "x",
         "y": [
          null,
          null,
          null,
          null,
          null,
          null,
          null,
          null,
          null,
          null,
          null,
          null,
          null,
          null,
          null,
          null,
          null,
          null,
          null,
          null,
          null,
          null,
          null,
          null,
          null,
          null,
          null,
          null,
          null,
          null,
          null,
          null,
          null,
          null,
          null,
          null,
          null,
          null,
          null,
          null,
          null,
          null,
          null,
          null,
          null,
          null,
          null,
          null,
          null,
          null,
          null,
          null,
          24924.5,
          46039.49,
          41595.55,
          19403.54,
          21827.9,
          21043.39,
          22136.64,
          26229.21,
          57258.43,
          42960.91,
          17596.96,
          16145.35,
          16555.11,
          17413.94,
          18926.74,
          14773.04,
          15580.43,
          17558.09,
          16637.62,
          16216.27,
          16328.72,
          16333.14,
          17688.76,
          17150.84,
          15360.45,
          15381.82,
          17508.41,
          15536.4,
          15740.13,
          15793.87,
          16241.78,
          18194.74,
          19354.23,
          18122.52,
          20094.19,
          23388.03,
          26978.34,
          25543.04,
          38640.93,
          34238.88,
          19549.39,
          19552.84,
          18820.29,
          22517.56,
          31497.65,
          44912.86,
          55931.23,
          19124.58,
          15984.24,
          17359.7,
          17341.47,
          18461.18,
          21665.76,
          37887.17,
          46845.87,
          19363.83,
          20327.61,
          21280.4,
          20334.23,
          20881.1,
          20398.09,
          23873.79,
          28762.37,
          50510.31,
          41512.39,
          20138.19,
          17235.15,
          15136.78,
          15741.6,
          16434.15,
          15883.52,
          14978.09,
          15682.81,
          15363.5,
          16148.87,
          15654.85,
          15766.6,
          15922.41,
          15295.55,
          14539.79,
          14689.24,
          14537.37,
          15277.27,
          17746.68,
          18535.48,
          17859.3,
          18337.68,
          20797.58,
          23077.55,
          23351.8,
          31579.9,
          39886.06,
          18689.54,
          19050.66,
          20911.25,
          25293.49,
          33305.92,
          45773.03,
          46788.75,
          23350.88,
          16567.69,
          16894.4,
          18365.1,
          18378.16,
          23510.49,
          36988.49,
          54060.1,
          20124.22,
          20113.03,
          21140.07,
          22366.88,
          22107.7,
          28952.86,
          57592.12,
          34684.21,
          16976.19,
          16347.6,
          17147.44,
          18164.2,
          18517.79,
          16963.55,
          16065.49,
          17666,
          17558.82,
          16633.41,
          15722.82,
          17823.37,
          16566.18,
          16348.06,
          15731.18
         ],
         "yaxis": "y"
        }
       ],
       "layout": {
        "legend": {
         "title": {
          "text": "variable"
         },
         "tracegroupgap": 0
        },
        "template": {
         "data": {
          "bar": [
           {
            "error_x": {
             "color": "#2a3f5f"
            },
            "error_y": {
             "color": "#2a3f5f"
            },
            "marker": {
             "line": {
              "color": "#E5ECF6",
              "width": 0.5
             },
             "pattern": {
              "fillmode": "overlay",
              "size": 10,
              "solidity": 0.2
             }
            },
            "type": "bar"
           }
          ],
          "barpolar": [
           {
            "marker": {
             "line": {
              "color": "#E5ECF6",
              "width": 0.5
             },
             "pattern": {
              "fillmode": "overlay",
              "size": 10,
              "solidity": 0.2
             }
            },
            "type": "barpolar"
           }
          ],
          "carpet": [
           {
            "aaxis": {
             "endlinecolor": "#2a3f5f",
             "gridcolor": "white",
             "linecolor": "white",
             "minorgridcolor": "white",
             "startlinecolor": "#2a3f5f"
            },
            "baxis": {
             "endlinecolor": "#2a3f5f",
             "gridcolor": "white",
             "linecolor": "white",
             "minorgridcolor": "white",
             "startlinecolor": "#2a3f5f"
            },
            "type": "carpet"
           }
          ],
          "choropleth": [
           {
            "colorbar": {
             "outlinewidth": 0,
             "ticks": ""
            },
            "type": "choropleth"
           }
          ],
          "contour": [
           {
            "colorbar": {
             "outlinewidth": 0,
             "ticks": ""
            },
            "colorscale": [
             [
              0,
              "#0d0887"
             ],
             [
              0.1111111111111111,
              "#46039f"
             ],
             [
              0.2222222222222222,
              "#7201a8"
             ],
             [
              0.3333333333333333,
              "#9c179e"
             ],
             [
              0.4444444444444444,
              "#bd3786"
             ],
             [
              0.5555555555555556,
              "#d8576b"
             ],
             [
              0.6666666666666666,
              "#ed7953"
             ],
             [
              0.7777777777777778,
              "#fb9f3a"
             ],
             [
              0.8888888888888888,
              "#fdca26"
             ],
             [
              1,
              "#f0f921"
             ]
            ],
            "type": "contour"
           }
          ],
          "contourcarpet": [
           {
            "colorbar": {
             "outlinewidth": 0,
             "ticks": ""
            },
            "type": "contourcarpet"
           }
          ],
          "heatmap": [
           {
            "colorbar": {
             "outlinewidth": 0,
             "ticks": ""
            },
            "colorscale": [
             [
              0,
              "#0d0887"
             ],
             [
              0.1111111111111111,
              "#46039f"
             ],
             [
              0.2222222222222222,
              "#7201a8"
             ],
             [
              0.3333333333333333,
              "#9c179e"
             ],
             [
              0.4444444444444444,
              "#bd3786"
             ],
             [
              0.5555555555555556,
              "#d8576b"
             ],
             [
              0.6666666666666666,
              "#ed7953"
             ],
             [
              0.7777777777777778,
              "#fb9f3a"
             ],
             [
              0.8888888888888888,
              "#fdca26"
             ],
             [
              1,
              "#f0f921"
             ]
            ],
            "type": "heatmap"
           }
          ],
          "heatmapgl": [
           {
            "colorbar": {
             "outlinewidth": 0,
             "ticks": ""
            },
            "colorscale": [
             [
              0,
              "#0d0887"
             ],
             [
              0.1111111111111111,
              "#46039f"
             ],
             [
              0.2222222222222222,
              "#7201a8"
             ],
             [
              0.3333333333333333,
              "#9c179e"
             ],
             [
              0.4444444444444444,
              "#bd3786"
             ],
             [
              0.5555555555555556,
              "#d8576b"
             ],
             [
              0.6666666666666666,
              "#ed7953"
             ],
             [
              0.7777777777777778,
              "#fb9f3a"
             ],
             [
              0.8888888888888888,
              "#fdca26"
             ],
             [
              1,
              "#f0f921"
             ]
            ],
            "type": "heatmapgl"
           }
          ],
          "histogram": [
           {
            "marker": {
             "pattern": {
              "fillmode": "overlay",
              "size": 10,
              "solidity": 0.2
             }
            },
            "type": "histogram"
           }
          ],
          "histogram2d": [
           {
            "colorbar": {
             "outlinewidth": 0,
             "ticks": ""
            },
            "colorscale": [
             [
              0,
              "#0d0887"
             ],
             [
              0.1111111111111111,
              "#46039f"
             ],
             [
              0.2222222222222222,
              "#7201a8"
             ],
             [
              0.3333333333333333,
              "#9c179e"
             ],
             [
              0.4444444444444444,
              "#bd3786"
             ],
             [
              0.5555555555555556,
              "#d8576b"
             ],
             [
              0.6666666666666666,
              "#ed7953"
             ],
             [
              0.7777777777777778,
              "#fb9f3a"
             ],
             [
              0.8888888888888888,
              "#fdca26"
             ],
             [
              1,
              "#f0f921"
             ]
            ],
            "type": "histogram2d"
           }
          ],
          "histogram2dcontour": [
           {
            "colorbar": {
             "outlinewidth": 0,
             "ticks": ""
            },
            "colorscale": [
             [
              0,
              "#0d0887"
             ],
             [
              0.1111111111111111,
              "#46039f"
             ],
             [
              0.2222222222222222,
              "#7201a8"
             ],
             [
              0.3333333333333333,
              "#9c179e"
             ],
             [
              0.4444444444444444,
              "#bd3786"
             ],
             [
              0.5555555555555556,
              "#d8576b"
             ],
             [
              0.6666666666666666,
              "#ed7953"
             ],
             [
              0.7777777777777778,
              "#fb9f3a"
             ],
             [
              0.8888888888888888,
              "#fdca26"
             ],
             [
              1,
              "#f0f921"
             ]
            ],
            "type": "histogram2dcontour"
           }
          ],
          "mesh3d": [
           {
            "colorbar": {
             "outlinewidth": 0,
             "ticks": ""
            },
            "type": "mesh3d"
           }
          ],
          "parcoords": [
           {
            "line": {
             "colorbar": {
              "outlinewidth": 0,
              "ticks": ""
             }
            },
            "type": "parcoords"
           }
          ],
          "pie": [
           {
            "automargin": true,
            "type": "pie"
           }
          ],
          "scatter": [
           {
            "fillpattern": {
             "fillmode": "overlay",
             "size": 10,
             "solidity": 0.2
            },
            "type": "scatter"
           }
          ],
          "scatter3d": [
           {
            "line": {
             "colorbar": {
              "outlinewidth": 0,
              "ticks": ""
             }
            },
            "marker": {
             "colorbar": {
              "outlinewidth": 0,
              "ticks": ""
             }
            },
            "type": "scatter3d"
           }
          ],
          "scattercarpet": [
           {
            "marker": {
             "colorbar": {
              "outlinewidth": 0,
              "ticks": ""
             }
            },
            "type": "scattercarpet"
           }
          ],
          "scattergeo": [
           {
            "marker": {
             "colorbar": {
              "outlinewidth": 0,
              "ticks": ""
             }
            },
            "type": "scattergeo"
           }
          ],
          "scattergl": [
           {
            "marker": {
             "colorbar": {
              "outlinewidth": 0,
              "ticks": ""
             }
            },
            "type": "scattergl"
           }
          ],
          "scattermapbox": [
           {
            "marker": {
             "colorbar": {
              "outlinewidth": 0,
              "ticks": ""
             }
            },
            "type": "scattermapbox"
           }
          ],
          "scatterpolar": [
           {
            "marker": {
             "colorbar": {
              "outlinewidth": 0,
              "ticks": ""
             }
            },
            "type": "scatterpolar"
           }
          ],
          "scatterpolargl": [
           {
            "marker": {
             "colorbar": {
              "outlinewidth": 0,
              "ticks": ""
             }
            },
            "type": "scatterpolargl"
           }
          ],
          "scatterternary": [
           {
            "marker": {
             "colorbar": {
              "outlinewidth": 0,
              "ticks": ""
             }
            },
            "type": "scatterternary"
           }
          ],
          "surface": [
           {
            "colorbar": {
             "outlinewidth": 0,
             "ticks": ""
            },
            "colorscale": [
             [
              0,
              "#0d0887"
             ],
             [
              0.1111111111111111,
              "#46039f"
             ],
             [
              0.2222222222222222,
              "#7201a8"
             ],
             [
              0.3333333333333333,
              "#9c179e"
             ],
             [
              0.4444444444444444,
              "#bd3786"
             ],
             [
              0.5555555555555556,
              "#d8576b"
             ],
             [
              0.6666666666666666,
              "#ed7953"
             ],
             [
              0.7777777777777778,
              "#fb9f3a"
             ],
             [
              0.8888888888888888,
              "#fdca26"
             ],
             [
              1,
              "#f0f921"
             ]
            ],
            "type": "surface"
           }
          ],
          "table": [
           {
            "cells": {
             "fill": {
              "color": "#EBF0F8"
             },
             "line": {
              "color": "white"
             }
            },
            "header": {
             "fill": {
              "color": "#C8D4E3"
             },
             "line": {
              "color": "white"
             }
            },
            "type": "table"
           }
          ]
         },
         "layout": {
          "annotationdefaults": {
           "arrowcolor": "#2a3f5f",
           "arrowhead": 0,
           "arrowwidth": 1
          },
          "autotypenumbers": "strict",
          "coloraxis": {
           "colorbar": {
            "outlinewidth": 0,
            "ticks": ""
           }
          },
          "colorscale": {
           "diverging": [
            [
             0,
             "#8e0152"
            ],
            [
             0.1,
             "#c51b7d"
            ],
            [
             0.2,
             "#de77ae"
            ],
            [
             0.3,
             "#f1b6da"
            ],
            [
             0.4,
             "#fde0ef"
            ],
            [
             0.5,
             "#f7f7f7"
            ],
            [
             0.6,
             "#e6f5d0"
            ],
            [
             0.7,
             "#b8e186"
            ],
            [
             0.8,
             "#7fbc41"
            ],
            [
             0.9,
             "#4d9221"
            ],
            [
             1,
             "#276419"
            ]
           ],
           "sequential": [
            [
             0,
             "#0d0887"
            ],
            [
             0.1111111111111111,
             "#46039f"
            ],
            [
             0.2222222222222222,
             "#7201a8"
            ],
            [
             0.3333333333333333,
             "#9c179e"
            ],
            [
             0.4444444444444444,
             "#bd3786"
            ],
            [
             0.5555555555555556,
             "#d8576b"
            ],
            [
             0.6666666666666666,
             "#ed7953"
            ],
            [
             0.7777777777777778,
             "#fb9f3a"
            ],
            [
             0.8888888888888888,
             "#fdca26"
            ],
            [
             1,
             "#f0f921"
            ]
           ],
           "sequentialminus": [
            [
             0,
             "#0d0887"
            ],
            [
             0.1111111111111111,
             "#46039f"
            ],
            [
             0.2222222222222222,
             "#7201a8"
            ],
            [
             0.3333333333333333,
             "#9c179e"
            ],
            [
             0.4444444444444444,
             "#bd3786"
            ],
            [
             0.5555555555555556,
             "#d8576b"
            ],
            [
             0.6666666666666666,
             "#ed7953"
            ],
            [
             0.7777777777777778,
             "#fb9f3a"
            ],
            [
             0.8888888888888888,
             "#fdca26"
            ],
            [
             1,
             "#f0f921"
            ]
           ]
          },
          "colorway": [
           "#636efa",
           "#EF553B",
           "#00cc96",
           "#ab63fa",
           "#FFA15A",
           "#19d3f3",
           "#FF6692",
           "#B6E880",
           "#FF97FF",
           "#FECB52"
          ],
          "font": {
           "color": "#2a3f5f"
          },
          "geo": {
           "bgcolor": "white",
           "lakecolor": "white",
           "landcolor": "#E5ECF6",
           "showlakes": true,
           "showland": true,
           "subunitcolor": "white"
          },
          "hoverlabel": {
           "align": "left"
          },
          "hovermode": "closest",
          "mapbox": {
           "style": "light"
          },
          "paper_bgcolor": "white",
          "plot_bgcolor": "#E5ECF6",
          "polar": {
           "angularaxis": {
            "gridcolor": "white",
            "linecolor": "white",
            "ticks": ""
           },
           "bgcolor": "#E5ECF6",
           "radialaxis": {
            "gridcolor": "white",
            "linecolor": "white",
            "ticks": ""
           }
          },
          "scene": {
           "xaxis": {
            "backgroundcolor": "#E5ECF6",
            "gridcolor": "white",
            "gridwidth": 2,
            "linecolor": "white",
            "showbackground": true,
            "ticks": "",
            "zerolinecolor": "white"
           },
           "yaxis": {
            "backgroundcolor": "#E5ECF6",
            "gridcolor": "white",
            "gridwidth": 2,
            "linecolor": "white",
            "showbackground": true,
            "ticks": "",
            "zerolinecolor": "white"
           },
           "zaxis": {
            "backgroundcolor": "#E5ECF6",
            "gridcolor": "white",
            "gridwidth": 2,
            "linecolor": "white",
            "showbackground": true,
            "ticks": "",
            "zerolinecolor": "white"
           }
          },
          "shapedefaults": {
           "line": {
            "color": "#2a3f5f"
           }
          },
          "ternary": {
           "aaxis": {
            "gridcolor": "white",
            "linecolor": "white",
            "ticks": ""
           },
           "baxis": {
            "gridcolor": "white",
            "linecolor": "white",
            "ticks": ""
           },
           "bgcolor": "#E5ECF6",
           "caxis": {
            "gridcolor": "white",
            "linecolor": "white",
            "ticks": ""
           }
          },
          "title": {
           "x": 0.05
          },
          "xaxis": {
           "automargin": true,
           "gridcolor": "white",
           "linecolor": "white",
           "ticks": "",
           "title": {
            "standoff": 15
           },
           "zerolinecolor": "white",
           "zerolinewidth": 2
          },
          "yaxis": {
           "automargin": true,
           "gridcolor": "white",
           "linecolor": "white",
           "ticks": "",
           "title": {
            "standoff": 15
           },
           "zerolinecolor": "white",
           "zerolinewidth": 2
          }
         }
        },
        "title": {
         "text": "Weekly_Sales and Lag 52 Weeks"
        },
        "xaxis": {
         "anchor": "y",
         "domain": [
          0,
          1
         ],
         "title": {
          "text": "Date"
         }
        },
        "yaxis": {
         "anchor": "x",
         "domain": [
          0,
          1
         ],
         "title": {
          "text": "value"
         }
        }
       }
      }
     },
     "metadata": {},
     "output_type": "display_data"
    }
   ],
   "source": [
    "view_data_horizon(data, target=\"Weekly_Sales\", back_horizon=52)"
   ]
  },
  {
   "cell_type": "code",
   "execution_count": 17,
   "metadata": {},
   "outputs": [
    {
     "data": {
      "application/vnd.plotly.v1+json": {
       "config": {
        "plotlyServerURL": "https://plot.ly"
       },
       "data": [
        {
         "hovertemplate": "variable=Temperature<br>Date=%{x}<br>value=%{y}<extra></extra>",
         "legendgroup": "Temperature",
         "line": {
          "color": "#636efa",
          "dash": "solid"
         },
         "marker": {
          "symbol": "circle"
         },
         "mode": "lines",
         "name": "Temperature",
         "orientation": "v",
         "showlegend": true,
         "type": "scatter",
         "x": [
          "2010-02-05T00:00:00",
          "2010-02-12T00:00:00",
          "2010-02-19T00:00:00",
          "2010-02-26T00:00:00",
          "2010-03-05T00:00:00",
          "2010-03-12T00:00:00",
          "2010-03-19T00:00:00",
          "2010-03-26T00:00:00",
          "2010-04-02T00:00:00",
          "2010-04-09T00:00:00",
          "2010-04-16T00:00:00",
          "2010-04-23T00:00:00",
          "2010-04-30T00:00:00",
          "2010-05-07T00:00:00",
          "2010-05-14T00:00:00",
          "2010-05-21T00:00:00",
          "2010-05-28T00:00:00",
          "2010-06-04T00:00:00",
          "2010-06-11T00:00:00",
          "2010-06-18T00:00:00",
          "2010-06-25T00:00:00",
          "2010-07-02T00:00:00",
          "2010-07-09T00:00:00",
          "2010-07-16T00:00:00",
          "2010-07-23T00:00:00",
          "2010-07-30T00:00:00",
          "2010-08-06T00:00:00",
          "2010-08-13T00:00:00",
          "2010-08-20T00:00:00",
          "2010-08-27T00:00:00",
          "2010-09-03T00:00:00",
          "2010-09-10T00:00:00",
          "2010-09-17T00:00:00",
          "2010-09-24T00:00:00",
          "2010-10-01T00:00:00",
          "2010-10-08T00:00:00",
          "2010-10-15T00:00:00",
          "2010-10-22T00:00:00",
          "2010-10-29T00:00:00",
          "2010-11-05T00:00:00",
          "2010-11-12T00:00:00",
          "2010-11-19T00:00:00",
          "2010-11-26T00:00:00",
          "2010-12-03T00:00:00",
          "2010-12-10T00:00:00",
          "2010-12-17T00:00:00",
          "2010-12-24T00:00:00",
          "2010-12-31T00:00:00",
          "2011-01-07T00:00:00",
          "2011-01-14T00:00:00",
          "2011-01-21T00:00:00",
          "2011-01-28T00:00:00",
          "2011-02-04T00:00:00",
          "2011-02-11T00:00:00",
          "2011-02-18T00:00:00",
          "2011-02-25T00:00:00",
          "2011-03-04T00:00:00",
          "2011-03-11T00:00:00",
          "2011-03-18T00:00:00",
          "2011-03-25T00:00:00",
          "2011-04-01T00:00:00",
          "2011-04-08T00:00:00",
          "2011-04-15T00:00:00",
          "2011-04-22T00:00:00",
          "2011-04-29T00:00:00",
          "2011-05-06T00:00:00",
          "2011-05-13T00:00:00",
          "2011-05-20T00:00:00",
          "2011-05-27T00:00:00",
          "2011-06-03T00:00:00",
          "2011-06-10T00:00:00",
          "2011-06-17T00:00:00",
          "2011-06-24T00:00:00",
          "2011-07-01T00:00:00",
          "2011-07-08T00:00:00",
          "2011-07-15T00:00:00",
          "2011-07-22T00:00:00",
          "2011-07-29T00:00:00",
          "2011-08-05T00:00:00",
          "2011-08-12T00:00:00",
          "2011-08-19T00:00:00",
          "2011-08-26T00:00:00",
          "2011-09-02T00:00:00",
          "2011-09-09T00:00:00",
          "2011-09-16T00:00:00",
          "2011-09-23T00:00:00",
          "2011-09-30T00:00:00",
          "2011-10-07T00:00:00",
          "2011-10-14T00:00:00",
          "2011-10-21T00:00:00",
          "2011-10-28T00:00:00",
          "2011-11-04T00:00:00",
          "2011-11-11T00:00:00",
          "2011-11-18T00:00:00",
          "2011-11-25T00:00:00",
          "2011-12-02T00:00:00",
          "2011-12-09T00:00:00",
          "2011-12-16T00:00:00",
          "2011-12-23T00:00:00",
          "2011-12-30T00:00:00",
          "2012-01-06T00:00:00",
          "2012-01-13T00:00:00",
          "2012-01-20T00:00:00",
          "2012-01-27T00:00:00",
          "2012-02-03T00:00:00",
          "2012-02-10T00:00:00",
          "2012-02-17T00:00:00",
          "2012-02-24T00:00:00",
          "2012-03-02T00:00:00",
          "2012-03-09T00:00:00",
          "2012-03-16T00:00:00",
          "2012-03-23T00:00:00",
          "2012-03-30T00:00:00",
          "2012-04-06T00:00:00",
          "2012-04-13T00:00:00",
          "2012-04-20T00:00:00",
          "2012-04-27T00:00:00",
          "2012-05-04T00:00:00",
          "2012-05-11T00:00:00",
          "2012-05-18T00:00:00",
          "2012-05-25T00:00:00",
          "2012-06-01T00:00:00",
          "2012-06-08T00:00:00",
          "2012-06-15T00:00:00",
          "2012-06-22T00:00:00",
          "2012-06-29T00:00:00",
          "2012-07-06T00:00:00",
          "2012-07-13T00:00:00",
          "2012-07-20T00:00:00",
          "2012-07-27T00:00:00",
          "2012-08-03T00:00:00",
          "2012-08-10T00:00:00",
          "2012-08-17T00:00:00",
          "2012-08-24T00:00:00",
          "2012-08-31T00:00:00",
          "2012-09-07T00:00:00",
          "2012-09-14T00:00:00",
          "2012-09-21T00:00:00",
          "2012-09-28T00:00:00",
          "2012-10-05T00:00:00",
          "2012-10-12T00:00:00",
          "2012-10-19T00:00:00",
          "2012-10-26T00:00:00",
          "2012-11-02T00:00:00",
          "2012-11-09T00:00:00",
          "2012-11-16T00:00:00",
          "2012-11-23T00:00:00",
          "2012-11-30T00:00:00",
          "2012-12-07T00:00:00",
          "2012-12-14T00:00:00",
          "2012-12-21T00:00:00",
          "2012-12-28T00:00:00",
          "2013-01-04T00:00:00",
          "2013-01-11T00:00:00",
          "2013-01-18T00:00:00",
          "2013-01-25T00:00:00",
          "2013-02-01T00:00:00",
          "2013-02-08T00:00:00",
          "2013-02-15T00:00:00",
          "2013-02-22T00:00:00",
          "2013-03-01T00:00:00",
          "2013-03-08T00:00:00",
          "2013-03-15T00:00:00",
          "2013-03-22T00:00:00",
          "2013-03-29T00:00:00",
          "2013-04-05T00:00:00",
          "2013-04-12T00:00:00",
          "2013-04-19T00:00:00",
          "2013-04-26T00:00:00",
          "2013-05-03T00:00:00",
          "2013-05-10T00:00:00",
          "2013-05-17T00:00:00",
          "2013-05-24T00:00:00",
          "2013-05-31T00:00:00",
          "2013-06-07T00:00:00",
          "2013-06-14T00:00:00",
          "2013-06-21T00:00:00",
          "2013-06-28T00:00:00",
          "2013-07-05T00:00:00",
          "2013-07-12T00:00:00",
          "2013-07-19T00:00:00",
          "2013-07-26T00:00:00"
         ],
         "xaxis": "x",
         "y": [
          42.31,
          38.51,
          39.93,
          46.63,
          46.5,
          57.79,
          54.58,
          51.45,
          62.27,
          65.86,
          66.32,
          64.84,
          67.41,
          72.55,
          74.78,
          76.44,
          80.44,
          80.69,
          80.43,
          84.11,
          84.34,
          80.91,
          80.48,
          83.15,
          83.36,
          81.84,
          87.16,
          87,
          86.65,
          85.22,
          81.21,
          78.69,
          82.11,
          80.94,
          71.89,
          63.93,
          67.18,
          69.86,
          69.64,
          58.74,
          59.61,
          51.41,
          64.52,
          49.27,
          46.33,
          49.84,
          52.33,
          48.43,
          48.27,
          35.4,
          44.04,
          43.83,
          42.27,
          36.39,
          57.36,
          62.9,
          59.58,
          53.56,
          62.76,
          69.97,
          59.17,
          67.84,
          71.27,
          72.99,
          72.03,
          64.61,
          75.64,
          67.63,
          77.72,
          83,
          83.13,
          86.41,
          83.58,
          85.55,
          85.83,
          88.54,
          85.77,
          86.83,
          91.65,
          90.76,
          89.94,
          87.96,
          87.83,
          76,
          79.94,
          75.8,
          79.69,
          69.31,
          71.74,
          63.71,
          66.57,
          54.98,
          59.11,
          62.25,
          60.14,
          48.91,
          43.93,
          51.63,
          47.96,
          44.55,
          49.01,
          48.53,
          54.11,
          54.26,
          56.55,
          48.02,
          45.32,
          57.25,
          60.96,
          58.76,
          64.74,
          65.93,
          67.61,
          70.43,
          69.07,
          66.76,
          67.23,
          75.55,
          73.77,
          70.33,
          77.22,
          77.95,
          78.3,
          79.35,
          78.39,
          84.88,
          81.57,
          77.12,
          80.42,
          82.66,
          86.11,
          85.05,
          84.85,
          77.66,
          80.49,
          83.96,
          74.97,
          69.87,
          76.08,
          68.55,
          62.99,
          67.97,
          69.16,
          55.32,
          61.24,
          52.92,
          56.23,
          52.34,
          64.12,
          48.89,
          56.02,
          44.79,
          41.73,
          50.32,
          42.92,
          53.37,
          56.46,
          56.67,
          49.66,
          50.25,
          48.01,
          50.81,
          55.33,
          63.42,
          51,
          58.59,
          62.72,
          67.1,
          59.23,
          66.66,
          63.9,
          69.53,
          77.19,
          78.02,
          76.44,
          79.86,
          81.35,
          83.94,
          79.85,
          83.12,
          79.26,
          81.54
         ],
         "yaxis": "y"
        },
        {
         "hovertemplate": "variable=lag_52_Temperature<br>Date=%{x}<br>value=%{y}<extra></extra>",
         "legendgroup": "lag_52_Temperature",
         "line": {
          "color": "#EF553B",
          "dash": "solid"
         },
         "marker": {
          "symbol": "circle"
         },
         "mode": "lines",
         "name": "lag_52_Temperature",
         "orientation": "v",
         "showlegend": true,
         "type": "scatter",
         "x": [
          "2010-02-05T00:00:00",
          "2010-02-12T00:00:00",
          "2010-02-19T00:00:00",
          "2010-02-26T00:00:00",
          "2010-03-05T00:00:00",
          "2010-03-12T00:00:00",
          "2010-03-19T00:00:00",
          "2010-03-26T00:00:00",
          "2010-04-02T00:00:00",
          "2010-04-09T00:00:00",
          "2010-04-16T00:00:00",
          "2010-04-23T00:00:00",
          "2010-04-30T00:00:00",
          "2010-05-07T00:00:00",
          "2010-05-14T00:00:00",
          "2010-05-21T00:00:00",
          "2010-05-28T00:00:00",
          "2010-06-04T00:00:00",
          "2010-06-11T00:00:00",
          "2010-06-18T00:00:00",
          "2010-06-25T00:00:00",
          "2010-07-02T00:00:00",
          "2010-07-09T00:00:00",
          "2010-07-16T00:00:00",
          "2010-07-23T00:00:00",
          "2010-07-30T00:00:00",
          "2010-08-06T00:00:00",
          "2010-08-13T00:00:00",
          "2010-08-20T00:00:00",
          "2010-08-27T00:00:00",
          "2010-09-03T00:00:00",
          "2010-09-10T00:00:00",
          "2010-09-17T00:00:00",
          "2010-09-24T00:00:00",
          "2010-10-01T00:00:00",
          "2010-10-08T00:00:00",
          "2010-10-15T00:00:00",
          "2010-10-22T00:00:00",
          "2010-10-29T00:00:00",
          "2010-11-05T00:00:00",
          "2010-11-12T00:00:00",
          "2010-11-19T00:00:00",
          "2010-11-26T00:00:00",
          "2010-12-03T00:00:00",
          "2010-12-10T00:00:00",
          "2010-12-17T00:00:00",
          "2010-12-24T00:00:00",
          "2010-12-31T00:00:00",
          "2011-01-07T00:00:00",
          "2011-01-14T00:00:00",
          "2011-01-21T00:00:00",
          "2011-01-28T00:00:00",
          "2011-02-04T00:00:00",
          "2011-02-11T00:00:00",
          "2011-02-18T00:00:00",
          "2011-02-25T00:00:00",
          "2011-03-04T00:00:00",
          "2011-03-11T00:00:00",
          "2011-03-18T00:00:00",
          "2011-03-25T00:00:00",
          "2011-04-01T00:00:00",
          "2011-04-08T00:00:00",
          "2011-04-15T00:00:00",
          "2011-04-22T00:00:00",
          "2011-04-29T00:00:00",
          "2011-05-06T00:00:00",
          "2011-05-13T00:00:00",
          "2011-05-20T00:00:00",
          "2011-05-27T00:00:00",
          "2011-06-03T00:00:00",
          "2011-06-10T00:00:00",
          "2011-06-17T00:00:00",
          "2011-06-24T00:00:00",
          "2011-07-01T00:00:00",
          "2011-07-08T00:00:00",
          "2011-07-15T00:00:00",
          "2011-07-22T00:00:00",
          "2011-07-29T00:00:00",
          "2011-08-05T00:00:00",
          "2011-08-12T00:00:00",
          "2011-08-19T00:00:00",
          "2011-08-26T00:00:00",
          "2011-09-02T00:00:00",
          "2011-09-09T00:00:00",
          "2011-09-16T00:00:00",
          "2011-09-23T00:00:00",
          "2011-09-30T00:00:00",
          "2011-10-07T00:00:00",
          "2011-10-14T00:00:00",
          "2011-10-21T00:00:00",
          "2011-10-28T00:00:00",
          "2011-11-04T00:00:00",
          "2011-11-11T00:00:00",
          "2011-11-18T00:00:00",
          "2011-11-25T00:00:00",
          "2011-12-02T00:00:00",
          "2011-12-09T00:00:00",
          "2011-12-16T00:00:00",
          "2011-12-23T00:00:00",
          "2011-12-30T00:00:00",
          "2012-01-06T00:00:00",
          "2012-01-13T00:00:00",
          "2012-01-20T00:00:00",
          "2012-01-27T00:00:00",
          "2012-02-03T00:00:00",
          "2012-02-10T00:00:00",
          "2012-02-17T00:00:00",
          "2012-02-24T00:00:00",
          "2012-03-02T00:00:00",
          "2012-03-09T00:00:00",
          "2012-03-16T00:00:00",
          "2012-03-23T00:00:00",
          "2012-03-30T00:00:00",
          "2012-04-06T00:00:00",
          "2012-04-13T00:00:00",
          "2012-04-20T00:00:00",
          "2012-04-27T00:00:00",
          "2012-05-04T00:00:00",
          "2012-05-11T00:00:00",
          "2012-05-18T00:00:00",
          "2012-05-25T00:00:00",
          "2012-06-01T00:00:00",
          "2012-06-08T00:00:00",
          "2012-06-15T00:00:00",
          "2012-06-22T00:00:00",
          "2012-06-29T00:00:00",
          "2012-07-06T00:00:00",
          "2012-07-13T00:00:00",
          "2012-07-20T00:00:00",
          "2012-07-27T00:00:00",
          "2012-08-03T00:00:00",
          "2012-08-10T00:00:00",
          "2012-08-17T00:00:00",
          "2012-08-24T00:00:00",
          "2012-08-31T00:00:00",
          "2012-09-07T00:00:00",
          "2012-09-14T00:00:00",
          "2012-09-21T00:00:00",
          "2012-09-28T00:00:00",
          "2012-10-05T00:00:00",
          "2012-10-12T00:00:00",
          "2012-10-19T00:00:00",
          "2012-10-26T00:00:00",
          "2012-11-02T00:00:00",
          "2012-11-09T00:00:00",
          "2012-11-16T00:00:00",
          "2012-11-23T00:00:00",
          "2012-11-30T00:00:00",
          "2012-12-07T00:00:00",
          "2012-12-14T00:00:00",
          "2012-12-21T00:00:00",
          "2012-12-28T00:00:00",
          "2013-01-04T00:00:00",
          "2013-01-11T00:00:00",
          "2013-01-18T00:00:00",
          "2013-01-25T00:00:00",
          "2013-02-01T00:00:00",
          "2013-02-08T00:00:00",
          "2013-02-15T00:00:00",
          "2013-02-22T00:00:00",
          "2013-03-01T00:00:00",
          "2013-03-08T00:00:00",
          "2013-03-15T00:00:00",
          "2013-03-22T00:00:00",
          "2013-03-29T00:00:00",
          "2013-04-05T00:00:00",
          "2013-04-12T00:00:00",
          "2013-04-19T00:00:00",
          "2013-04-26T00:00:00",
          "2013-05-03T00:00:00",
          "2013-05-10T00:00:00",
          "2013-05-17T00:00:00",
          "2013-05-24T00:00:00",
          "2013-05-31T00:00:00",
          "2013-06-07T00:00:00",
          "2013-06-14T00:00:00",
          "2013-06-21T00:00:00",
          "2013-06-28T00:00:00",
          "2013-07-05T00:00:00",
          "2013-07-12T00:00:00",
          "2013-07-19T00:00:00",
          "2013-07-26T00:00:00"
         ],
         "xaxis": "x",
         "y": [
          null,
          null,
          null,
          null,
          null,
          null,
          null,
          null,
          null,
          null,
          null,
          null,
          null,
          null,
          null,
          null,
          null,
          null,
          null,
          null,
          null,
          null,
          null,
          null,
          null,
          null,
          null,
          null,
          null,
          null,
          null,
          null,
          null,
          null,
          null,
          null,
          null,
          null,
          null,
          null,
          null,
          null,
          null,
          null,
          null,
          null,
          null,
          null,
          null,
          null,
          null,
          null,
          42.31,
          38.51,
          39.93,
          46.63,
          46.5,
          57.79,
          54.58,
          51.45,
          62.27,
          65.86,
          66.32,
          64.84,
          67.41,
          72.55,
          74.78,
          76.44,
          80.44,
          80.69,
          80.43,
          84.11,
          84.34,
          80.91,
          80.48,
          83.15,
          83.36,
          81.84,
          87.16,
          87,
          86.65,
          85.22,
          81.21,
          78.69,
          82.11,
          80.94,
          71.89,
          63.93,
          67.18,
          69.86,
          69.64,
          58.74,
          59.61,
          51.41,
          64.52,
          49.27,
          46.33,
          49.84,
          52.33,
          48.43,
          48.27,
          35.4,
          44.04,
          43.83,
          42.27,
          36.39,
          57.36,
          62.9,
          59.58,
          53.56,
          62.76,
          69.97,
          59.17,
          67.84,
          71.27,
          72.99,
          72.03,
          64.61,
          75.64,
          67.63,
          77.72,
          83,
          83.13,
          86.41,
          83.58,
          85.55,
          85.83,
          88.54,
          85.77,
          86.83,
          91.65,
          90.76,
          89.94,
          87.96,
          87.83,
          76,
          79.94,
          75.8,
          79.69,
          69.31,
          71.74,
          63.71,
          66.57,
          54.98,
          59.11,
          62.25,
          60.14,
          48.91,
          43.93,
          51.63,
          47.96,
          44.55,
          49.01,
          48.53,
          54.11,
          54.26,
          56.55,
          48.02,
          45.32,
          57.25,
          60.96,
          58.76,
          64.74,
          65.93,
          67.61,
          70.43,
          69.07,
          66.76,
          67.23,
          75.55,
          73.77,
          70.33,
          77.22,
          77.95,
          78.3,
          79.35,
          78.39,
          84.88,
          81.57,
          77.12,
          80.42,
          82.66
         ],
         "yaxis": "y"
        }
       ],
       "layout": {
        "legend": {
         "title": {
          "text": "variable"
         },
         "tracegroupgap": 0
        },
        "template": {
         "data": {
          "bar": [
           {
            "error_x": {
             "color": "#2a3f5f"
            },
            "error_y": {
             "color": "#2a3f5f"
            },
            "marker": {
             "line": {
              "color": "#E5ECF6",
              "width": 0.5
             },
             "pattern": {
              "fillmode": "overlay",
              "size": 10,
              "solidity": 0.2
             }
            },
            "type": "bar"
           }
          ],
          "barpolar": [
           {
            "marker": {
             "line": {
              "color": "#E5ECF6",
              "width": 0.5
             },
             "pattern": {
              "fillmode": "overlay",
              "size": 10,
              "solidity": 0.2
             }
            },
            "type": "barpolar"
           }
          ],
          "carpet": [
           {
            "aaxis": {
             "endlinecolor": "#2a3f5f",
             "gridcolor": "white",
             "linecolor": "white",
             "minorgridcolor": "white",
             "startlinecolor": "#2a3f5f"
            },
            "baxis": {
             "endlinecolor": "#2a3f5f",
             "gridcolor": "white",
             "linecolor": "white",
             "minorgridcolor": "white",
             "startlinecolor": "#2a3f5f"
            },
            "type": "carpet"
           }
          ],
          "choropleth": [
           {
            "colorbar": {
             "outlinewidth": 0,
             "ticks": ""
            },
            "type": "choropleth"
           }
          ],
          "contour": [
           {
            "colorbar": {
             "outlinewidth": 0,
             "ticks": ""
            },
            "colorscale": [
             [
              0,
              "#0d0887"
             ],
             [
              0.1111111111111111,
              "#46039f"
             ],
             [
              0.2222222222222222,
              "#7201a8"
             ],
             [
              0.3333333333333333,
              "#9c179e"
             ],
             [
              0.4444444444444444,
              "#bd3786"
             ],
             [
              0.5555555555555556,
              "#d8576b"
             ],
             [
              0.6666666666666666,
              "#ed7953"
             ],
             [
              0.7777777777777778,
              "#fb9f3a"
             ],
             [
              0.8888888888888888,
              "#fdca26"
             ],
             [
              1,
              "#f0f921"
             ]
            ],
            "type": "contour"
           }
          ],
          "contourcarpet": [
           {
            "colorbar": {
             "outlinewidth": 0,
             "ticks": ""
            },
            "type": "contourcarpet"
           }
          ],
          "heatmap": [
           {
            "colorbar": {
             "outlinewidth": 0,
             "ticks": ""
            },
            "colorscale": [
             [
              0,
              "#0d0887"
             ],
             [
              0.1111111111111111,
              "#46039f"
             ],
             [
              0.2222222222222222,
              "#7201a8"
             ],
             [
              0.3333333333333333,
              "#9c179e"
             ],
             [
              0.4444444444444444,
              "#bd3786"
             ],
             [
              0.5555555555555556,
              "#d8576b"
             ],
             [
              0.6666666666666666,
              "#ed7953"
             ],
             [
              0.7777777777777778,
              "#fb9f3a"
             ],
             [
              0.8888888888888888,
              "#fdca26"
             ],
             [
              1,
              "#f0f921"
             ]
            ],
            "type": "heatmap"
           }
          ],
          "heatmapgl": [
           {
            "colorbar": {
             "outlinewidth": 0,
             "ticks": ""
            },
            "colorscale": [
             [
              0,
              "#0d0887"
             ],
             [
              0.1111111111111111,
              "#46039f"
             ],
             [
              0.2222222222222222,
              "#7201a8"
             ],
             [
              0.3333333333333333,
              "#9c179e"
             ],
             [
              0.4444444444444444,
              "#bd3786"
             ],
             [
              0.5555555555555556,
              "#d8576b"
             ],
             [
              0.6666666666666666,
              "#ed7953"
             ],
             [
              0.7777777777777778,
              "#fb9f3a"
             ],
             [
              0.8888888888888888,
              "#fdca26"
             ],
             [
              1,
              "#f0f921"
             ]
            ],
            "type": "heatmapgl"
           }
          ],
          "histogram": [
           {
            "marker": {
             "pattern": {
              "fillmode": "overlay",
              "size": 10,
              "solidity": 0.2
             }
            },
            "type": "histogram"
           }
          ],
          "histogram2d": [
           {
            "colorbar": {
             "outlinewidth": 0,
             "ticks": ""
            },
            "colorscale": [
             [
              0,
              "#0d0887"
             ],
             [
              0.1111111111111111,
              "#46039f"
             ],
             [
              0.2222222222222222,
              "#7201a8"
             ],
             [
              0.3333333333333333,
              "#9c179e"
             ],
             [
              0.4444444444444444,
              "#bd3786"
             ],
             [
              0.5555555555555556,
              "#d8576b"
             ],
             [
              0.6666666666666666,
              "#ed7953"
             ],
             [
              0.7777777777777778,
              "#fb9f3a"
             ],
             [
              0.8888888888888888,
              "#fdca26"
             ],
             [
              1,
              "#f0f921"
             ]
            ],
            "type": "histogram2d"
           }
          ],
          "histogram2dcontour": [
           {
            "colorbar": {
             "outlinewidth": 0,
             "ticks": ""
            },
            "colorscale": [
             [
              0,
              "#0d0887"
             ],
             [
              0.1111111111111111,
              "#46039f"
             ],
             [
              0.2222222222222222,
              "#7201a8"
             ],
             [
              0.3333333333333333,
              "#9c179e"
             ],
             [
              0.4444444444444444,
              "#bd3786"
             ],
             [
              0.5555555555555556,
              "#d8576b"
             ],
             [
              0.6666666666666666,
              "#ed7953"
             ],
             [
              0.7777777777777778,
              "#fb9f3a"
             ],
             [
              0.8888888888888888,
              "#fdca26"
             ],
             [
              1,
              "#f0f921"
             ]
            ],
            "type": "histogram2dcontour"
           }
          ],
          "mesh3d": [
           {
            "colorbar": {
             "outlinewidth": 0,
             "ticks": ""
            },
            "type": "mesh3d"
           }
          ],
          "parcoords": [
           {
            "line": {
             "colorbar": {
              "outlinewidth": 0,
              "ticks": ""
             }
            },
            "type": "parcoords"
           }
          ],
          "pie": [
           {
            "automargin": true,
            "type": "pie"
           }
          ],
          "scatter": [
           {
            "fillpattern": {
             "fillmode": "overlay",
             "size": 10,
             "solidity": 0.2
            },
            "type": "scatter"
           }
          ],
          "scatter3d": [
           {
            "line": {
             "colorbar": {
              "outlinewidth": 0,
              "ticks": ""
             }
            },
            "marker": {
             "colorbar": {
              "outlinewidth": 0,
              "ticks": ""
             }
            },
            "type": "scatter3d"
           }
          ],
          "scattercarpet": [
           {
            "marker": {
             "colorbar": {
              "outlinewidth": 0,
              "ticks": ""
             }
            },
            "type": "scattercarpet"
           }
          ],
          "scattergeo": [
           {
            "marker": {
             "colorbar": {
              "outlinewidth": 0,
              "ticks": ""
             }
            },
            "type": "scattergeo"
           }
          ],
          "scattergl": [
           {
            "marker": {
             "colorbar": {
              "outlinewidth": 0,
              "ticks": ""
             }
            },
            "type": "scattergl"
           }
          ],
          "scattermapbox": [
           {
            "marker": {
             "colorbar": {
              "outlinewidth": 0,
              "ticks": ""
             }
            },
            "type": "scattermapbox"
           }
          ],
          "scatterpolar": [
           {
            "marker": {
             "colorbar": {
              "outlinewidth": 0,
              "ticks": ""
             }
            },
            "type": "scatterpolar"
           }
          ],
          "scatterpolargl": [
           {
            "marker": {
             "colorbar": {
              "outlinewidth": 0,
              "ticks": ""
             }
            },
            "type": "scatterpolargl"
           }
          ],
          "scatterternary": [
           {
            "marker": {
             "colorbar": {
              "outlinewidth": 0,
              "ticks": ""
             }
            },
            "type": "scatterternary"
           }
          ],
          "surface": [
           {
            "colorbar": {
             "outlinewidth": 0,
             "ticks": ""
            },
            "colorscale": [
             [
              0,
              "#0d0887"
             ],
             [
              0.1111111111111111,
              "#46039f"
             ],
             [
              0.2222222222222222,
              "#7201a8"
             ],
             [
              0.3333333333333333,
              "#9c179e"
             ],
             [
              0.4444444444444444,
              "#bd3786"
             ],
             [
              0.5555555555555556,
              "#d8576b"
             ],
             [
              0.6666666666666666,
              "#ed7953"
             ],
             [
              0.7777777777777778,
              "#fb9f3a"
             ],
             [
              0.8888888888888888,
              "#fdca26"
             ],
             [
              1,
              "#f0f921"
             ]
            ],
            "type": "surface"
           }
          ],
          "table": [
           {
            "cells": {
             "fill": {
              "color": "#EBF0F8"
             },
             "line": {
              "color": "white"
             }
            },
            "header": {
             "fill": {
              "color": "#C8D4E3"
             },
             "line": {
              "color": "white"
             }
            },
            "type": "table"
           }
          ]
         },
         "layout": {
          "annotationdefaults": {
           "arrowcolor": "#2a3f5f",
           "arrowhead": 0,
           "arrowwidth": 1
          },
          "autotypenumbers": "strict",
          "coloraxis": {
           "colorbar": {
            "outlinewidth": 0,
            "ticks": ""
           }
          },
          "colorscale": {
           "diverging": [
            [
             0,
             "#8e0152"
            ],
            [
             0.1,
             "#c51b7d"
            ],
            [
             0.2,
             "#de77ae"
            ],
            [
             0.3,
             "#f1b6da"
            ],
            [
             0.4,
             "#fde0ef"
            ],
            [
             0.5,
             "#f7f7f7"
            ],
            [
             0.6,
             "#e6f5d0"
            ],
            [
             0.7,
             "#b8e186"
            ],
            [
             0.8,
             "#7fbc41"
            ],
            [
             0.9,
             "#4d9221"
            ],
            [
             1,
             "#276419"
            ]
           ],
           "sequential": [
            [
             0,
             "#0d0887"
            ],
            [
             0.1111111111111111,
             "#46039f"
            ],
            [
             0.2222222222222222,
             "#7201a8"
            ],
            [
             0.3333333333333333,
             "#9c179e"
            ],
            [
             0.4444444444444444,
             "#bd3786"
            ],
            [
             0.5555555555555556,
             "#d8576b"
            ],
            [
             0.6666666666666666,
             "#ed7953"
            ],
            [
             0.7777777777777778,
             "#fb9f3a"
            ],
            [
             0.8888888888888888,
             "#fdca26"
            ],
            [
             1,
             "#f0f921"
            ]
           ],
           "sequentialminus": [
            [
             0,
             "#0d0887"
            ],
            [
             0.1111111111111111,
             "#46039f"
            ],
            [
             0.2222222222222222,
             "#7201a8"
            ],
            [
             0.3333333333333333,
             "#9c179e"
            ],
            [
             0.4444444444444444,
             "#bd3786"
            ],
            [
             0.5555555555555556,
             "#d8576b"
            ],
            [
             0.6666666666666666,
             "#ed7953"
            ],
            [
             0.7777777777777778,
             "#fb9f3a"
            ],
            [
             0.8888888888888888,
             "#fdca26"
            ],
            [
             1,
             "#f0f921"
            ]
           ]
          },
          "colorway": [
           "#636efa",
           "#EF553B",
           "#00cc96",
           "#ab63fa",
           "#FFA15A",
           "#19d3f3",
           "#FF6692",
           "#B6E880",
           "#FF97FF",
           "#FECB52"
          ],
          "font": {
           "color": "#2a3f5f"
          },
          "geo": {
           "bgcolor": "white",
           "lakecolor": "white",
           "landcolor": "#E5ECF6",
           "showlakes": true,
           "showland": true,
           "subunitcolor": "white"
          },
          "hoverlabel": {
           "align": "left"
          },
          "hovermode": "closest",
          "mapbox": {
           "style": "light"
          },
          "paper_bgcolor": "white",
          "plot_bgcolor": "#E5ECF6",
          "polar": {
           "angularaxis": {
            "gridcolor": "white",
            "linecolor": "white",
            "ticks": ""
           },
           "bgcolor": "#E5ECF6",
           "radialaxis": {
            "gridcolor": "white",
            "linecolor": "white",
            "ticks": ""
           }
          },
          "scene": {
           "xaxis": {
            "backgroundcolor": "#E5ECF6",
            "gridcolor": "white",
            "gridwidth": 2,
            "linecolor": "white",
            "showbackground": true,
            "ticks": "",
            "zerolinecolor": "white"
           },
           "yaxis": {
            "backgroundcolor": "#E5ECF6",
            "gridcolor": "white",
            "gridwidth": 2,
            "linecolor": "white",
            "showbackground": true,
            "ticks": "",
            "zerolinecolor": "white"
           },
           "zaxis": {
            "backgroundcolor": "#E5ECF6",
            "gridcolor": "white",
            "gridwidth": 2,
            "linecolor": "white",
            "showbackground": true,
            "ticks": "",
            "zerolinecolor": "white"
           }
          },
          "shapedefaults": {
           "line": {
            "color": "#2a3f5f"
           }
          },
          "ternary": {
           "aaxis": {
            "gridcolor": "white",
            "linecolor": "white",
            "ticks": ""
           },
           "baxis": {
            "gridcolor": "white",
            "linecolor": "white",
            "ticks": ""
           },
           "bgcolor": "#E5ECF6",
           "caxis": {
            "gridcolor": "white",
            "linecolor": "white",
            "ticks": ""
           }
          },
          "title": {
           "x": 0.05
          },
          "xaxis": {
           "automargin": true,
           "gridcolor": "white",
           "linecolor": "white",
           "ticks": "",
           "title": {
            "standoff": 15
           },
           "zerolinecolor": "white",
           "zerolinewidth": 2
          },
          "yaxis": {
           "automargin": true,
           "gridcolor": "white",
           "linecolor": "white",
           "ticks": "",
           "title": {
            "standoff": 15
           },
           "zerolinecolor": "white",
           "zerolinewidth": 2
          }
         }
        },
        "title": {
         "text": "Temperature and Lag 52 Weeks"
        },
        "xaxis": {
         "anchor": "y",
         "domain": [
          0,
          1
         ],
         "title": {
          "text": "Date"
         }
        },
        "yaxis": {
         "anchor": "x",
         "domain": [
          0,
          1
         ],
         "title": {
          "text": "value"
         }
        }
       }
      }
     },
     "metadata": {},
     "output_type": "display_data"
    }
   ],
   "source": [
    "view_data_horizon(data, target=\"Temperature\", back_horizon=52)"
   ]
  },
  {
   "cell_type": "code",
   "execution_count": 18,
   "metadata": {},
   "outputs": [],
   "source": [
    "\n",
    "def add_memory_feature(\n",
    "        data_df: pd.DataFrame,\n",
    "        target: str= \"Weekly_Sales\",\n",
    "        columns_id: list[str]= [\"Store\", \"Dept\", \"Date\"],\n",
    "        back_horizon: int= 52,\n",
    "        lags: list[int]= [1,2,3],\n",
    "        aggregation_windows: list[int]= [3,4,5]\n",
    "    ) -> pd.DataFrame:\n",
    "    data = data_df[columns_id + [target,]].copy()\n",
    "    data.sort_values(by=columns_id, ascending=True, inplace=True)\n",
    "    lags = [0, ] + lags\n",
    "    for lag in tqdm(lags, desc=\"Adding memory variable 😸\"):\n",
    "        memory = back_horizon + lag \n",
    "        data[f\"lag_{lag}_{target}\"] = data.groupby([\"Store\", \"Dept\"])[target].shift(memory)\n",
    "        for w in tqdm(aggregation_windows,desc=\"Adding window aggregation 🫡\"):\n",
    "            data[f\"l_{lag}_w_{w}_sum_{target}\"] = data.groupby([\"Store\", \"Dept\"])[target].shift(memory).rolling(window=w).sum()\n",
    "            data[f\"l_{lag}_w_{w}_mean_{target}\"] = data.groupby([\"Store\", \"Dept\"])[target].shift(memory).rolling(window=w).mean()\n",
    "            data[f\"l_{lag}_w_{w}_median_{target}\"] = data.groupby([\"Store\", \"Dept\"])[target].shift(memory).rolling(window=w).median()\n",
    "            data[f\"l_{lag}_w_{w}_std_{target}\"] = data.groupby([\"Store\", \"Dept\"])[target].shift(memory).rolling(window=w).std()\n",
    "            data[f\"l_{lag}_w_{w}_max_{target}\"] = data.groupby([\"Store\", \"Dept\"])[target].shift(memory).rolling(window=w).max()\n",
    "            data[f\"l_{lag}_w_{w}_min_{target}\"] = data.groupby([\"Store\", \"Dept\"])[target].shift(memory).rolling(window=w).min()\n",
    "    data.sort_values(by=columns_id, ascending=True, inplace=True)\n",
    "    return data"
   ]
  },
  {
   "cell_type": "code",
   "execution_count": 19,
   "metadata": {},
   "outputs": [],
   "source": [
    "# data_df[\"weekday_name\"] = data_df.index.day_name()\n",
    "# data_df[\"week_day\"] = data_df.index.weekday\n",
    "# data_df[\"day\"] = data_df.index.day\n",
    "# data_df[\"iso_week\"] = data_df.index.isocalendar().week \n",
    "# data_df[\"hour\"] = data_df.index.hour\n",
    "# data_df[\"month\"] = data_df.index.month\n",
    "# data_df[\"month_name\"] = data_df.index.month_name()\n",
    "# data_df[\"year\"] = data_df.index.year"
   ]
  },
  {
   "cell_type": "code",
   "execution_count": 20,
   "metadata": {},
   "outputs": [],
   "source": [
    "def add_calendar_features(\n",
    "        data_df: pd.DataFrame,  \n",
    "        columns_id: list[str]= [\"Store\", \"Dept\", \"Date\"],\n",
    "        back_horizon: int = 52\n",
    "    ) -> pd.DataFrame:\n",
    "    data = data_df[columns_id ].copy()\n",
    "    data[\"month\"] = data[\"Date\"].dt.month \n",
    "    data[\"week\"] = data[\"Date\"].dt.isocalendar().week \n",
    "    data.sort_values(by=columns_id, ascending=True, inplace=True)\n",
    "    return data    "
   ]
  },
  {
   "cell_type": "code",
   "execution_count": 21,
   "metadata": {},
   "outputs": [
    {
     "data": {
      "text/html": [
       "<div>\n",
       "<style scoped>\n",
       "    .dataframe tbody tr th:only-of-type {\n",
       "        vertical-align: middle;\n",
       "    }\n",
       "\n",
       "    .dataframe tbody tr th {\n",
       "        vertical-align: top;\n",
       "    }\n",
       "\n",
       "    .dataframe thead th {\n",
       "        text-align: right;\n",
       "    }\n",
       "</style>\n",
       "<table border=\"1\" class=\"dataframe\">\n",
       "  <thead>\n",
       "    <tr style=\"text-align: right;\">\n",
       "      <th></th>\n",
       "      <th>Store</th>\n",
       "      <th>Dept</th>\n",
       "      <th>Date</th>\n",
       "      <th>month</th>\n",
       "      <th>week</th>\n",
       "    </tr>\n",
       "  </thead>\n",
       "  <tbody>\n",
       "    <tr>\n",
       "      <th>0</th>\n",
       "      <td>1</td>\n",
       "      <td>1</td>\n",
       "      <td>2010-02-05</td>\n",
       "      <td>2</td>\n",
       "      <td>5</td>\n",
       "    </tr>\n",
       "    <tr>\n",
       "      <th>5747</th>\n",
       "      <td>1</td>\n",
       "      <td>1</td>\n",
       "      <td>2010-02-12</td>\n",
       "      <td>2</td>\n",
       "      <td>6</td>\n",
       "    </tr>\n",
       "    <tr>\n",
       "      <th>6829</th>\n",
       "      <td>1</td>\n",
       "      <td>1</td>\n",
       "      <td>2010-02-19</td>\n",
       "      <td>2</td>\n",
       "      <td>7</td>\n",
       "    </tr>\n",
       "    <tr>\n",
       "      <th>11698</th>\n",
       "      <td>1</td>\n",
       "      <td>1</td>\n",
       "      <td>2010-02-26</td>\n",
       "      <td>2</td>\n",
       "      <td>8</td>\n",
       "    </tr>\n",
       "    <tr>\n",
       "      <th>12681</th>\n",
       "      <td>1</td>\n",
       "      <td>1</td>\n",
       "      <td>2010-03-05</td>\n",
       "      <td>3</td>\n",
       "      <td>9</td>\n",
       "    </tr>\n",
       "    <tr>\n",
       "      <th>...</th>\n",
       "      <td>...</td>\n",
       "      <td>...</td>\n",
       "      <td>...</td>\n",
       "      <td>...</td>\n",
       "      <td>...</td>\n",
       "    </tr>\n",
       "    <tr>\n",
       "      <th>523896</th>\n",
       "      <td>45</td>\n",
       "      <td>98</td>\n",
       "      <td>2013-06-28</td>\n",
       "      <td>6</td>\n",
       "      <td>26</td>\n",
       "    </tr>\n",
       "    <tr>\n",
       "      <th>525567</th>\n",
       "      <td>45</td>\n",
       "      <td>98</td>\n",
       "      <td>2013-07-05</td>\n",
       "      <td>7</td>\n",
       "      <td>27</td>\n",
       "    </tr>\n",
       "    <tr>\n",
       "      <th>527978</th>\n",
       "      <td>45</td>\n",
       "      <td>98</td>\n",
       "      <td>2013-07-12</td>\n",
       "      <td>7</td>\n",
       "      <td>28</td>\n",
       "    </tr>\n",
       "    <tr>\n",
       "      <th>532235</th>\n",
       "      <td>45</td>\n",
       "      <td>98</td>\n",
       "      <td>2013-07-19</td>\n",
       "      <td>7</td>\n",
       "      <td>29</td>\n",
       "    </tr>\n",
       "    <tr>\n",
       "      <th>536633</th>\n",
       "      <td>45</td>\n",
       "      <td>98</td>\n",
       "      <td>2013-07-26</td>\n",
       "      <td>7</td>\n",
       "      <td>30</td>\n",
       "    </tr>\n",
       "  </tbody>\n",
       "</table>\n",
       "<p>536634 rows × 5 columns</p>\n",
       "</div>"
      ],
      "text/plain": [
       "        Store  Dept       Date  month  week\n",
       "0           1     1 2010-02-05      2     5\n",
       "5747        1     1 2010-02-12      2     6\n",
       "6829        1     1 2010-02-19      2     7\n",
       "11698       1     1 2010-02-26      2     8\n",
       "12681       1     1 2010-03-05      3     9\n",
       "...       ...   ...        ...    ...   ...\n",
       "523896     45    98 2013-06-28      6    26\n",
       "525567     45    98 2013-07-05      7    27\n",
       "527978     45    98 2013-07-12      7    28\n",
       "532235     45    98 2013-07-19      7    29\n",
       "536633     45    98 2013-07-26      7    30\n",
       "\n",
       "[536634 rows x 5 columns]"
      ]
     },
     "execution_count": 21,
     "metadata": {},
     "output_type": "execute_result"
    }
   ],
   "source": [
    "add_calendar_features(data)"
   ]
  },
  {
   "cell_type": "code",
   "execution_count": 22,
   "metadata": {},
   "outputs": [],
   "source": [
    "def add_fuel_feature(\n",
    "        data_df: pd.DataFrame,\n",
    "        target: str= \"Fuel_Price\",\n",
    "        columns_id: list[str]= [\"Store\", \"Dept\", \"Date\"],\n",
    "        back_horizon: int= 52,\n",
    "        lags: list[int]= [1,2,3],\n",
    "        aggregation_windows: list[int]= [3,4,5]\n",
    "    ) -> pd.DataFrame:\n",
    "    pass\n",
    "    data = data_df[columns_id + [target,]].copy()\n",
    "    lags = [0, ] + lags\n",
    "    for lag in lags:\n",
    "        memory = back_horizon + lag\n",
    "        data[f\"lag_{lag}_{target}\"] = data.groupby([\"Store\", \"Dept\"])[target].shift(memory)\n",
    "        for w in aggregation_windows:\n",
    "            pass\n",
    "    return data  "
   ]
  },
  {
   "cell_type": "code",
   "execution_count": 23,
   "metadata": {},
   "outputs": [
    {
     "name": "stdout",
     "output_type": "stream",
     "text": [
      "<class 'pandas.core.frame.DataFrame'>\n",
      "Index: 536634 entries, 0 to 536633\n",
      "Data columns (total 17 columns):\n",
      " #   Column        Non-Null Count   Dtype         \n",
      "---  ------        --------------   -----         \n",
      " 0   Store         536634 non-null  int64         \n",
      " 1   Dept          536634 non-null  int64         \n",
      " 2   Date          536634 non-null  datetime64[ns]\n",
      " 3   Weekly_Sales  536634 non-null  float64       \n",
      " 4   IsHoliday_x   536634 non-null  bool          \n",
      " 5   Type          536634 non-null  object        \n",
      " 6   Size          536634 non-null  int64         \n",
      " 7   Temperature   536634 non-null  float64       \n",
      " 8   Fuel_Price    536634 non-null  float64       \n",
      " 9   MarkDown1     265596 non-null  float64       \n",
      " 10  MarkDown2     197685 non-null  float64       \n",
      " 11  MarkDown3     242326 non-null  float64       \n",
      " 12  MarkDown4     237143 non-null  float64       \n",
      " 13  MarkDown5     266496 non-null  float64       \n",
      " 14  CPI           498472 non-null  float64       \n",
      " 15  Unemployment  498472 non-null  float64       \n",
      " 16  IsHoliday_y   536634 non-null  bool          \n",
      "dtypes: bool(2), datetime64[ns](1), float64(10), int64(3), object(1)\n",
      "memory usage: 66.5+ MB\n"
     ]
    }
   ],
   "source": [
    "data.info()"
   ]
  },
  {
   "cell_type": "code",
   "execution_count": 24,
   "metadata": {},
   "outputs": [
    {
     "name": "stderr",
     "output_type": "stream",
     "text": [
      "Adding window aggregation 🫡: 100%|██████████| 3/3 [00:00<00:00,  3.29it/s]\n",
      "Adding window aggregation 🫡: 100%|██████████| 3/3 [00:00<00:00,  3.32it/s]\n",
      "Adding window aggregation 🫡: 100%|██████████| 3/3 [00:00<00:00,  3.26it/s]\n",
      "Adding window aggregation 🫡: 100%|██████████| 3/3 [00:00<00:00,  3.22it/s]\n",
      "Adding memory variable 😸: 100%|██████████| 4/4 [00:03<00:00,  1.06it/s]\n"
     ]
    },
    {
     "data": {
      "text/html": [
       "<div>\n",
       "<style scoped>\n",
       "    .dataframe tbody tr th:only-of-type {\n",
       "        vertical-align: middle;\n",
       "    }\n",
       "\n",
       "    .dataframe tbody tr th {\n",
       "        vertical-align: top;\n",
       "    }\n",
       "\n",
       "    .dataframe thead th {\n",
       "        text-align: right;\n",
       "    }\n",
       "</style>\n",
       "<table border=\"1\" class=\"dataframe\">\n",
       "  <thead>\n",
       "    <tr style=\"text-align: right;\">\n",
       "      <th></th>\n",
       "      <th>Store</th>\n",
       "      <th>Dept</th>\n",
       "      <th>Date</th>\n",
       "      <th>Weekly_Sales</th>\n",
       "      <th>lag_0_Weekly_Sales</th>\n",
       "      <th>l_0_w_3_sum_Weekly_Sales</th>\n",
       "      <th>l_0_w_3_mean_Weekly_Sales</th>\n",
       "      <th>l_0_w_3_median_Weekly_Sales</th>\n",
       "      <th>l_0_w_3_std_Weekly_Sales</th>\n",
       "      <th>l_0_w_3_max_Weekly_Sales</th>\n",
       "      <th>...</th>\n",
       "      <th>l_3_w_4_median_Weekly_Sales</th>\n",
       "      <th>l_3_w_4_std_Weekly_Sales</th>\n",
       "      <th>l_3_w_4_max_Weekly_Sales</th>\n",
       "      <th>l_3_w_4_min_Weekly_Sales</th>\n",
       "      <th>l_3_w_5_sum_Weekly_Sales</th>\n",
       "      <th>l_3_w_5_mean_Weekly_Sales</th>\n",
       "      <th>l_3_w_5_median_Weekly_Sales</th>\n",
       "      <th>l_3_w_5_std_Weekly_Sales</th>\n",
       "      <th>l_3_w_5_max_Weekly_Sales</th>\n",
       "      <th>l_3_w_5_min_Weekly_Sales</th>\n",
       "    </tr>\n",
       "  </thead>\n",
       "  <tbody>\n",
       "    <tr>\n",
       "      <th>0</th>\n",
       "      <td>1</td>\n",
       "      <td>1</td>\n",
       "      <td>2010-02-05</td>\n",
       "      <td>24924.50</td>\n",
       "      <td>NaN</td>\n",
       "      <td>NaN</td>\n",
       "      <td>NaN</td>\n",
       "      <td>NaN</td>\n",
       "      <td>NaN</td>\n",
       "      <td>NaN</td>\n",
       "      <td>...</td>\n",
       "      <td>NaN</td>\n",
       "      <td>NaN</td>\n",
       "      <td>NaN</td>\n",
       "      <td>NaN</td>\n",
       "      <td>NaN</td>\n",
       "      <td>NaN</td>\n",
       "      <td>NaN</td>\n",
       "      <td>NaN</td>\n",
       "      <td>NaN</td>\n",
       "      <td>NaN</td>\n",
       "    </tr>\n",
       "    <tr>\n",
       "      <th>5747</th>\n",
       "      <td>1</td>\n",
       "      <td>1</td>\n",
       "      <td>2010-02-12</td>\n",
       "      <td>46039.49</td>\n",
       "      <td>NaN</td>\n",
       "      <td>NaN</td>\n",
       "      <td>NaN</td>\n",
       "      <td>NaN</td>\n",
       "      <td>NaN</td>\n",
       "      <td>NaN</td>\n",
       "      <td>...</td>\n",
       "      <td>NaN</td>\n",
       "      <td>NaN</td>\n",
       "      <td>NaN</td>\n",
       "      <td>NaN</td>\n",
       "      <td>NaN</td>\n",
       "      <td>NaN</td>\n",
       "      <td>NaN</td>\n",
       "      <td>NaN</td>\n",
       "      <td>NaN</td>\n",
       "      <td>NaN</td>\n",
       "    </tr>\n",
       "    <tr>\n",
       "      <th>6829</th>\n",
       "      <td>1</td>\n",
       "      <td>1</td>\n",
       "      <td>2010-02-19</td>\n",
       "      <td>41595.55</td>\n",
       "      <td>NaN</td>\n",
       "      <td>NaN</td>\n",
       "      <td>NaN</td>\n",
       "      <td>NaN</td>\n",
       "      <td>NaN</td>\n",
       "      <td>NaN</td>\n",
       "      <td>...</td>\n",
       "      <td>NaN</td>\n",
       "      <td>NaN</td>\n",
       "      <td>NaN</td>\n",
       "      <td>NaN</td>\n",
       "      <td>NaN</td>\n",
       "      <td>NaN</td>\n",
       "      <td>NaN</td>\n",
       "      <td>NaN</td>\n",
       "      <td>NaN</td>\n",
       "      <td>NaN</td>\n",
       "    </tr>\n",
       "    <tr>\n",
       "      <th>11698</th>\n",
       "      <td>1</td>\n",
       "      <td>1</td>\n",
       "      <td>2010-02-26</td>\n",
       "      <td>19403.54</td>\n",
       "      <td>NaN</td>\n",
       "      <td>NaN</td>\n",
       "      <td>NaN</td>\n",
       "      <td>NaN</td>\n",
       "      <td>NaN</td>\n",
       "      <td>NaN</td>\n",
       "      <td>...</td>\n",
       "      <td>NaN</td>\n",
       "      <td>NaN</td>\n",
       "      <td>NaN</td>\n",
       "      <td>NaN</td>\n",
       "      <td>NaN</td>\n",
       "      <td>NaN</td>\n",
       "      <td>NaN</td>\n",
       "      <td>NaN</td>\n",
       "      <td>NaN</td>\n",
       "      <td>NaN</td>\n",
       "    </tr>\n",
       "    <tr>\n",
       "      <th>12681</th>\n",
       "      <td>1</td>\n",
       "      <td>1</td>\n",
       "      <td>2010-03-05</td>\n",
       "      <td>21827.90</td>\n",
       "      <td>NaN</td>\n",
       "      <td>NaN</td>\n",
       "      <td>NaN</td>\n",
       "      <td>NaN</td>\n",
       "      <td>NaN</td>\n",
       "      <td>NaN</td>\n",
       "      <td>...</td>\n",
       "      <td>NaN</td>\n",
       "      <td>NaN</td>\n",
       "      <td>NaN</td>\n",
       "      <td>NaN</td>\n",
       "      <td>NaN</td>\n",
       "      <td>NaN</td>\n",
       "      <td>NaN</td>\n",
       "      <td>NaN</td>\n",
       "      <td>NaN</td>\n",
       "      <td>NaN</td>\n",
       "    </tr>\n",
       "    <tr>\n",
       "      <th>...</th>\n",
       "      <td>...</td>\n",
       "      <td>...</td>\n",
       "      <td>...</td>\n",
       "      <td>...</td>\n",
       "      <td>...</td>\n",
       "      <td>...</td>\n",
       "      <td>...</td>\n",
       "      <td>...</td>\n",
       "      <td>...</td>\n",
       "      <td>...</td>\n",
       "      <td>...</td>\n",
       "      <td>...</td>\n",
       "      <td>...</td>\n",
       "      <td>...</td>\n",
       "      <td>...</td>\n",
       "      <td>...</td>\n",
       "      <td>...</td>\n",
       "      <td>...</td>\n",
       "      <td>...</td>\n",
       "      <td>...</td>\n",
       "      <td>...</td>\n",
       "    </tr>\n",
       "    <tr>\n",
       "      <th>523896</th>\n",
       "      <td>45</td>\n",
       "      <td>98</td>\n",
       "      <td>2013-06-28</td>\n",
       "      <td>0.00</td>\n",
       "      <td>690.52</td>\n",
       "      <td>2169.49</td>\n",
       "      <td>723.163333</td>\n",
       "      <td>690.52</td>\n",
       "      <td>120.235680</td>\n",
       "      <td>856.35</td>\n",
       "      <td>...</td>\n",
       "      <td>770.690</td>\n",
       "      <td>70.249079</td>\n",
       "      <td>874.64</td>\n",
       "      <td>713.50</td>\n",
       "      <td>4023.12</td>\n",
       "      <td>804.624</td>\n",
       "      <td>795.94</td>\n",
       "      <td>78.582297</td>\n",
       "      <td>893.60</td>\n",
       "      <td>713.50</td>\n",
       "    </tr>\n",
       "    <tr>\n",
       "      <th>525567</th>\n",
       "      <td>45</td>\n",
       "      <td>98</td>\n",
       "      <td>2013-07-05</td>\n",
       "      <td>0.00</td>\n",
       "      <td>659.65</td>\n",
       "      <td>1972.79</td>\n",
       "      <td>657.596667</td>\n",
       "      <td>659.65</td>\n",
       "      <td>33.996539</td>\n",
       "      <td>690.52</td>\n",
       "      <td>...</td>\n",
       "      <td>826.145</td>\n",
       "      <td>72.655671</td>\n",
       "      <td>874.64</td>\n",
       "      <td>713.50</td>\n",
       "      <td>3985.87</td>\n",
       "      <td>797.174</td>\n",
       "      <td>795.94</td>\n",
       "      <td>69.249635</td>\n",
       "      <td>874.64</td>\n",
       "      <td>713.50</td>\n",
       "    </tr>\n",
       "    <tr>\n",
       "      <th>527978</th>\n",
       "      <td>45</td>\n",
       "      <td>98</td>\n",
       "      <td>2013-07-12</td>\n",
       "      <td>0.00</td>\n",
       "      <td>695.21</td>\n",
       "      <td>2045.38</td>\n",
       "      <td>681.793333</td>\n",
       "      <td>690.52</td>\n",
       "      <td>19.319535</td>\n",
       "      <td>695.21</td>\n",
       "      <td>...</td>\n",
       "      <td>784.925</td>\n",
       "      <td>120.107491</td>\n",
       "      <td>874.64</td>\n",
       "      <td>622.62</td>\n",
       "      <td>3863.05</td>\n",
       "      <td>772.610</td>\n",
       "      <td>795.94</td>\n",
       "      <td>104.830565</td>\n",
       "      <td>874.64</td>\n",
       "      <td>622.62</td>\n",
       "    </tr>\n",
       "    <tr>\n",
       "      <th>532235</th>\n",
       "      <td>45</td>\n",
       "      <td>98</td>\n",
       "      <td>2013-07-19</td>\n",
       "      <td>0.00</td>\n",
       "      <td>845.30</td>\n",
       "      <td>2200.16</td>\n",
       "      <td>733.386667</td>\n",
       "      <td>695.21</td>\n",
       "      <td>98.537171</td>\n",
       "      <td>845.30</td>\n",
       "      <td>...</td>\n",
       "      <td>702.010</td>\n",
       "      <td>98.290848</td>\n",
       "      <td>856.35</td>\n",
       "      <td>622.62</td>\n",
       "      <td>3757.63</td>\n",
       "      <td>751.526</td>\n",
       "      <td>713.50</td>\n",
       "      <td>109.464142</td>\n",
       "      <td>874.64</td>\n",
       "      <td>622.62</td>\n",
       "    </tr>\n",
       "    <tr>\n",
       "      <th>536633</th>\n",
       "      <td>45</td>\n",
       "      <td>98</td>\n",
       "      <td>2013-07-26</td>\n",
       "      <td>0.00</td>\n",
       "      <td>657.63</td>\n",
       "      <td>2198.14</td>\n",
       "      <td>732.713333</td>\n",
       "      <td>695.21</td>\n",
       "      <td>99.296940</td>\n",
       "      <td>845.30</td>\n",
       "      <td>...</td>\n",
       "      <td>675.085</td>\n",
       "      <td>103.180578</td>\n",
       "      <td>856.35</td>\n",
       "      <td>622.62</td>\n",
       "      <td>3542.64</td>\n",
       "      <td>708.528</td>\n",
       "      <td>690.52</td>\n",
       "      <td>89.400218</td>\n",
       "      <td>856.35</td>\n",
       "      <td>622.62</td>\n",
       "    </tr>\n",
       "  </tbody>\n",
       "</table>\n",
       "<p>536634 rows × 80 columns</p>\n",
       "</div>"
      ],
      "text/plain": [
       "        Store  Dept       Date  Weekly_Sales  lag_0_Weekly_Sales  \\\n",
       "0           1     1 2010-02-05      24924.50                 NaN   \n",
       "5747        1     1 2010-02-12      46039.49                 NaN   \n",
       "6829        1     1 2010-02-19      41595.55                 NaN   \n",
       "11698       1     1 2010-02-26      19403.54                 NaN   \n",
       "12681       1     1 2010-03-05      21827.90                 NaN   \n",
       "...       ...   ...        ...           ...                 ...   \n",
       "523896     45    98 2013-06-28          0.00              690.52   \n",
       "525567     45    98 2013-07-05          0.00              659.65   \n",
       "527978     45    98 2013-07-12          0.00              695.21   \n",
       "532235     45    98 2013-07-19          0.00              845.30   \n",
       "536633     45    98 2013-07-26          0.00              657.63   \n",
       "\n",
       "        l_0_w_3_sum_Weekly_Sales  l_0_w_3_mean_Weekly_Sales  \\\n",
       "0                            NaN                        NaN   \n",
       "5747                         NaN                        NaN   \n",
       "6829                         NaN                        NaN   \n",
       "11698                        NaN                        NaN   \n",
       "12681                        NaN                        NaN   \n",
       "...                          ...                        ...   \n",
       "523896                   2169.49                 723.163333   \n",
       "525567                   1972.79                 657.596667   \n",
       "527978                   2045.38                 681.793333   \n",
       "532235                   2200.16                 733.386667   \n",
       "536633                   2198.14                 732.713333   \n",
       "\n",
       "        l_0_w_3_median_Weekly_Sales  l_0_w_3_std_Weekly_Sales  \\\n",
       "0                               NaN                       NaN   \n",
       "5747                            NaN                       NaN   \n",
       "6829                            NaN                       NaN   \n",
       "11698                           NaN                       NaN   \n",
       "12681                           NaN                       NaN   \n",
       "...                             ...                       ...   \n",
       "523896                       690.52                120.235680   \n",
       "525567                       659.65                 33.996539   \n",
       "527978                       690.52                 19.319535   \n",
       "532235                       695.21                 98.537171   \n",
       "536633                       695.21                 99.296940   \n",
       "\n",
       "        l_0_w_3_max_Weekly_Sales  ...  l_3_w_4_median_Weekly_Sales  \\\n",
       "0                            NaN  ...                          NaN   \n",
       "5747                         NaN  ...                          NaN   \n",
       "6829                         NaN  ...                          NaN   \n",
       "11698                        NaN  ...                          NaN   \n",
       "12681                        NaN  ...                          NaN   \n",
       "...                          ...  ...                          ...   \n",
       "523896                    856.35  ...                      770.690   \n",
       "525567                    690.52  ...                      826.145   \n",
       "527978                    695.21  ...                      784.925   \n",
       "532235                    845.30  ...                      702.010   \n",
       "536633                    845.30  ...                      675.085   \n",
       "\n",
       "        l_3_w_4_std_Weekly_Sales  l_3_w_4_max_Weekly_Sales  \\\n",
       "0                            NaN                       NaN   \n",
       "5747                         NaN                       NaN   \n",
       "6829                         NaN                       NaN   \n",
       "11698                        NaN                       NaN   \n",
       "12681                        NaN                       NaN   \n",
       "...                          ...                       ...   \n",
       "523896                 70.249079                    874.64   \n",
       "525567                 72.655671                    874.64   \n",
       "527978                120.107491                    874.64   \n",
       "532235                 98.290848                    856.35   \n",
       "536633                103.180578                    856.35   \n",
       "\n",
       "        l_3_w_4_min_Weekly_Sales  l_3_w_5_sum_Weekly_Sales  \\\n",
       "0                            NaN                       NaN   \n",
       "5747                         NaN                       NaN   \n",
       "6829                         NaN                       NaN   \n",
       "11698                        NaN                       NaN   \n",
       "12681                        NaN                       NaN   \n",
       "...                          ...                       ...   \n",
       "523896                    713.50                   4023.12   \n",
       "525567                    713.50                   3985.87   \n",
       "527978                    622.62                   3863.05   \n",
       "532235                    622.62                   3757.63   \n",
       "536633                    622.62                   3542.64   \n",
       "\n",
       "        l_3_w_5_mean_Weekly_Sales  l_3_w_5_median_Weekly_Sales  \\\n",
       "0                             NaN                          NaN   \n",
       "5747                          NaN                          NaN   \n",
       "6829                          NaN                          NaN   \n",
       "11698                         NaN                          NaN   \n",
       "12681                         NaN                          NaN   \n",
       "...                           ...                          ...   \n",
       "523896                    804.624                       795.94   \n",
       "525567                    797.174                       795.94   \n",
       "527978                    772.610                       795.94   \n",
       "532235                    751.526                       713.50   \n",
       "536633                    708.528                       690.52   \n",
       "\n",
       "        l_3_w_5_std_Weekly_Sales  l_3_w_5_max_Weekly_Sales  \\\n",
       "0                            NaN                       NaN   \n",
       "5747                         NaN                       NaN   \n",
       "6829                         NaN                       NaN   \n",
       "11698                        NaN                       NaN   \n",
       "12681                        NaN                       NaN   \n",
       "...                          ...                       ...   \n",
       "523896                 78.582297                    893.60   \n",
       "525567                 69.249635                    874.64   \n",
       "527978                104.830565                    874.64   \n",
       "532235                109.464142                    874.64   \n",
       "536633                 89.400218                    856.35   \n",
       "\n",
       "        l_3_w_5_min_Weekly_Sales  \n",
       "0                            NaN  \n",
       "5747                         NaN  \n",
       "6829                         NaN  \n",
       "11698                        NaN  \n",
       "12681                        NaN  \n",
       "...                          ...  \n",
       "523896                    713.50  \n",
       "525567                    713.50  \n",
       "527978                    622.62  \n",
       "532235                    622.62  \n",
       "536633                    622.62  \n",
       "\n",
       "[536634 rows x 80 columns]"
      ]
     },
     "execution_count": 24,
     "metadata": {},
     "output_type": "execute_result"
    }
   ],
   "source": [
    "add_memory_feature(data)"
   ]
  }
 ],
 "metadata": {
  "kernelspec": {
   "display_name": "Python 3",
   "language": "python",
   "name": "python3"
  },
  "language_info": {
   "codemirror_mode": {
    "name": "ipython",
    "version": 3
   },
   "file_extension": ".py",
   "mimetype": "text/x-python",
   "name": "python",
   "nbconvert_exporter": "python",
   "pygments_lexer": "ipython3",
   "version": "3.12.1"
  }
 },
 "nbformat": 4,
 "nbformat_minor": 2
}
